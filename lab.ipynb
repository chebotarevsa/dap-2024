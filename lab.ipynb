{
  "cells": [
    {
      "cell_type": "markdown",
      "metadata": {
        "id": "view-in-github",
        "colab_type": "text"
      },
      "source": [
        "<a href=\"https://colab.research.google.com/github/pnmrVAA/dap-2024/blob/main/lab.ipynb\" target=\"_parent\"><img src=\"https://colab.research.google.com/assets/colab-badge.svg\" alt=\"Open In Colab\"/></a>"
      ]
    },
    {
      "cell_type": "markdown",
      "metadata": {
        "id": "qQvfD-M40xIt"
      },
      "source": [
        "# Лабораторная работа №3. NumPy"
      ]
    },
    {
      "cell_type": "markdown",
      "metadata": {
        "id": "voRxsv8E1pEn"
      },
      "source": [
        "## Задание"
      ]
    },
    {
      "cell_type": "markdown",
      "metadata": {
        "id": "Q8FFEA2R08uS"
      },
      "source": [
        "Выполните следующие задания:\n",
        "\n",
        "1. Откройте в файл в Google Colab (используйте собственный форк репозитория).\n",
        "2. Решите задачи.\n",
        "3. Сохраните результат в ваш репозиторий github в директорию ./les03\n",
        "4. Создайте pull request в репозиторий https://github.com/chebotarevsa/dap-2024. Название pull request должно иметь формат \"<Номер лабораторной работы>  <Номер группы> <ФИО>\"\n",
        "5. Сдайте работу в системе \"Пегас\", в отчет укажите ссылку на pull request"
      ]
    },
    {
      "cell_type": "code",
      "execution_count": null,
      "metadata": {
        "colab": {
          "base_uri": "https://localhost:8080/",
          "height": 35
        },
        "id": "3ftbuMN45IlN",
        "outputId": "a202a579-7cba-405d-995b-9387cd4738a1"
      },
      "outputs": [
        {
          "data": {
            "text/plain": [
              "'2.1.0'"
            ]
          },
          "execution_count": 1,
          "metadata": {},
          "output_type": "execute_result"
        }
      ],
      "source": [
        "import numpy as np\n",
        "np.version.version"
      ]
    },
    {
      "cell_type": "markdown",
      "metadata": {
        "id": "6iPL4gTu2ECp"
      },
      "source": [
        "1. Создать массив 10x10 со случайными значениями, найти минимум и максимум (низкая)"
      ]
    },
    {
      "cell_type": "code",
      "execution_count": null,
      "metadata": {
        "id": "v-AutHvo2T-D",
        "colab": {
          "base_uri": "https://localhost:8080/"
        },
        "outputId": "b655e713-2599-436b-e544-0fdb8bdbdac6"
      },
      "outputs": [
        {
          "output_type": "stream",
          "name": "stdout",
          "text": [
            "[[ 6 32 47 10  9 28 31 35 21 27]\n",
            " [13  8 32 37  3 41 46 43 12 31]\n",
            " [11 44 18 19 32 47 27 34  8 32]\n",
            " [ 8 23 40 16  7  7 32 28  9 19]\n",
            " [21 49 49 15 11  1  6 13  9 43]\n",
            " [19 32 20 22 43  2 22 10 33 46]\n",
            " [ 2 15 49 41  4 14 11 28 29  2]\n",
            " [41 31 33  4  3 15 17 48 42 19]\n",
            " [28 18 13 28 36 10 46 14 25 25]\n",
            " [27 37 49 18 46 40 25 15 24 47]]\n",
            "49\n",
            "1\n"
          ]
        }
      ],
      "source": [
        "x=np.random.randint(1, 50, (10, 10))\n",
        "print(x)\n",
        "print(np.max(x))\n",
        "print(np.min(x))"
      ]
    },
    {
      "cell_type": "markdown",
      "metadata": {
        "id": "cwxKoGik2Xfd"
      },
      "source": [
        "2. Создать 8x8 матрицу и заполнить её единицами и нулями в шахматном порядке"
      ]
    },
    {
      "cell_type": "code",
      "execution_count": null,
      "metadata": {
        "id": "zACAjKWC2lBy",
        "colab": {
          "base_uri": "https://localhost:8080/"
        },
        "outputId": "4a4c6252-aa78-4649-ef4a-e0aafae06b42"
      },
      "outputs": [
        {
          "output_type": "stream",
          "name": "stdout",
          "text": [
            "[[1. 0. 1. 0. 1. 0. 1. 0.]\n",
            " [0. 1. 0. 1. 0. 1. 0. 1.]\n",
            " [1. 0. 1. 0. 1. 0. 1. 0.]\n",
            " [0. 1. 0. 1. 0. 1. 0. 1.]\n",
            " [1. 0. 1. 0. 1. 0. 1. 0.]\n",
            " [0. 1. 0. 1. 0. 1. 0. 1.]\n",
            " [1. 0. 1. 0. 1. 0. 1. 0.]\n",
            " [0. 1. 0. 1. 0. 1. 0. 1.]]\n"
          ]
        }
      ],
      "source": [
        "\n",
        "x=np.zeros((8,8))\n",
        "x[0::2, 0::2] = 1\n",
        "x[1::2, 1::2] = 1\n",
        "print(x)"
      ]
    },
    {
      "cell_type": "markdown",
      "metadata": {
        "id": "YvNFm7Io2tSA"
      },
      "source": [
        "3. Дан массив из 11 элементов, поменять знак у элементов, значения которых между 3 и 8"
      ]
    },
    {
      "cell_type": "code",
      "execution_count": null,
      "metadata": {
        "id": "cczoe3OY27fA",
        "colab": {
          "base_uri": "https://localhost:8080/"
        },
        "outputId": "7b7b84f5-0fe4-4357-8a1b-949e9b6364f8"
      },
      "outputs": [
        {
          "output_type": "stream",
          "name": "stdout",
          "text": [
            "[ 0  1  2 -3 -4 -5 -6 -7  8  9 10]\n"
          ]
        }
      ],
      "source": [
        "z = np.arange(11)\n",
        "z[3:8]*=-1\n",
        "print(z)"
      ]
    },
    {
      "cell_type": "markdown",
      "metadata": {
        "id": "tInYHRPf2-jQ"
      },
      "source": [
        "4. Найти среднее заначение строки матрицы и вычесть его из каждого елемента строки"
      ]
    },
    {
      "cell_type": "code",
      "execution_count": null,
      "metadata": {
        "id": "Zbv_WG9w3km1",
        "colab": {
          "base_uri": "https://localhost:8080/"
        },
        "outputId": "d2fbcddd-9723-4dfc-b5fa-8b6e2d283575"
      },
      "outputs": [
        {
          "output_type": "stream",
          "name": "stdout",
          "text": [
            "[[0.68369559 0.80936315 0.18882796 0.10695344 0.35758452 0.40654241\n",
            "  0.96587218 0.77580562 0.51036479 0.61715649]\n",
            " [0.8953714  0.4679031  0.16950474 0.50940574 0.9944275  0.2208408\n",
            "  0.64298987 0.42589431 0.24757149 0.76611593]\n",
            " [0.56914125 0.64089488 0.13476756 0.70217237 0.51566504 0.38501374\n",
            "  0.76960962 0.175582   0.33013726 0.66696119]\n",
            " [0.41220229 0.57467843 0.24746057 0.41686464 0.79125319 0.80955888\n",
            "  0.61523838 0.49220459 0.40015095 0.28205244]\n",
            " [0.93762861 0.62842476 0.99069662 0.19961785 0.43946889 0.91998785\n",
            "  0.95134522 0.56720447 0.1727079  0.83881314]]\n",
            "0.5467939123175828\n",
            "[[ 0.13690167  0.26256924 -0.35796595 -0.43984047 -0.18920939 -0.1402515\n",
            "   0.41907827  0.2290117  -0.03642913  0.07036258]\n",
            " [ 0.34857749 -0.07889081 -0.37728917 -0.03738817  0.44763359 -0.32595312\n",
            "   0.09619596 -0.1208996  -0.29922242  0.21932202]\n",
            " [ 0.02234734  0.09410097 -0.41202635  0.15537846 -0.03112887 -0.16178017\n",
            "   0.22281571 -0.37121191 -0.21665665  0.12016727]\n",
            " [-0.13459162  0.02788452 -0.29933334 -0.12992927  0.24445928  0.26276497\n",
            "   0.06844446 -0.05458932 -0.14664296 -0.26474147]\n",
            " [ 0.3908347   0.08163085  0.4439027  -0.34717606 -0.10732502  0.37319394\n",
            "   0.40455131  0.02041056 -0.37408601  0.29201922]]\n"
          ]
        }
      ],
      "source": [
        "z = np.random.rand(5, 10)\n",
        "print(z)\n",
        "sr=np.mean(z)\n",
        "print(sr)\n",
        "z=z-sr\n",
        "print(z)"
      ]
    },
    {
      "cell_type": "markdown",
      "metadata": {
        "id": "OStor4mW3lpJ"
      },
      "source": [
        "5. Поменяйте 1 и 2 строки матрицы"
      ]
    },
    {
      "cell_type": "code",
      "execution_count": null,
      "metadata": {
        "id": "5vfeHqyF3qKd",
        "colab": {
          "base_uri": "https://localhost:8080/"
        },
        "outputId": "7171be3c-ff47-438d-bfac-260581abb07b"
      },
      "outputs": [
        {
          "output_type": "stream",
          "name": "stdout",
          "text": [
            "[[ 5  6  7  8  9]\n",
            " [ 0  1  2  3  4]\n",
            " [10 11 12 13 14]\n",
            " [15 16 17 18 19]\n",
            " [20 21 22 23 24]]\n"
          ]
        }
      ],
      "source": [
        "z = np.arange(25).reshape(5,5)\n",
        "z[[0,1]]=z[[1,0]]\n",
        "print(z)"
      ]
    },
    {
      "cell_type": "markdown",
      "metadata": {
        "id": "IPQ9xIIk3qml"
      },
      "source": [
        "6. Дан массив 10x2 подеставлющий собой точки в декартовой системе координат, преобразовать в полярную"
      ]
    },
    {
      "cell_type": "code",
      "execution_count": null,
      "metadata": {
        "id": "zGHBaX8b30Uv",
        "colab": {
          "base_uri": "https://localhost:8080/"
        },
        "outputId": "4fef15b9-5e69-4496-ecdf-dd58e86538d1"
      },
      "outputs": [
        {
          "output_type": "stream",
          "name": "stdout",
          "text": [
            "[[0.39292262 0.0659882 ]\n",
            " [0.1485879  0.47315971]\n",
            " [0.93874356 0.81622254]\n",
            " [0.14465017 0.83709992]\n",
            " [0.70656281 0.27886276]\n",
            " [0.15104929 0.02958152]\n",
            " [0.92741356 0.25102206]\n",
            " [0.81317666 0.27191497]\n",
            " [0.99388148 0.85641474]\n",
            " [0.50432864 0.99820783]]\n",
            "[0.39842519 0.49594201 1.24396894 0.84950571 0.75960216 0.15391866\n",
            " 0.96078509 0.85743456 1.31196288 1.11837661]\n",
            "[0.16638926 1.26651519 0.71569736 1.39968689 0.37590755 0.19339258\n",
            " 0.26433523 0.32269774 0.71123996 1.1029702 ]\n"
          ]
        }
      ],
      "source": [
        "z = np.random.random((10,2))\n",
        "print(z)\n",
        "x,y = z[:,0], z[:,1]\n",
        "a = np.hypot(x, y)\n",
        "b = np.arctan2(y,x)\n",
        "print(a)\n",
        "print(b)"
      ]
    },
    {
      "cell_type": "markdown",
      "metadata": {
        "id": "10gbuTgE4AOH"
      },
      "source": [
        "7. Заменить максимальный элемент массива на ноль"
      ]
    },
    {
      "cell_type": "code",
      "execution_count": null,
      "metadata": {
        "id": "gqwuO2T_5Aqd",
        "colab": {
          "base_uri": "https://localhost:8080/"
        },
        "outputId": "9b4afe41-a997-4d3d-8148-80709de791ce"
      },
      "outputs": [
        {
          "output_type": "stream",
          "name": "stdout",
          "text": [
            "[0.89523672 0.46303758 0.04632821 0.63727741 0.40306484 0.43232381\n",
            " 0.78696936 0.47252383 0.64231223 0.02977329]\n",
            "[0.         0.46303758 0.04632821 0.63727741 0.40306484 0.43232381\n",
            " 0.78696936 0.47252383 0.64231223 0.02977329]\n"
          ]
        }
      ],
      "source": [
        "z = np.random.random(10)\n",
        "maxim=np.argmax(z)\n",
        "print(z)\n",
        "z[maxim]=0\n",
        "print(z)"
      ]
    },
    {
      "cell_type": "markdown",
      "metadata": {
        "id": "88m_eWXM6nZY"
      },
      "source": [
        "8. Дан массив, добавить 1 к каждому элементу с индексом, заданным в другом массиве. Добавление производиться только 1 раз"
      ]
    },
    {
      "cell_type": "code",
      "execution_count": 6,
      "metadata": {
        "id": "-5yj9k126pfh",
        "colab": {
          "base_uri": "https://localhost:8080/"
        },
        "outputId": "4bf54eab-c43a-4fb9-8137-3e45431ac21f"
      },
      "outputs": [
        {
          "output_type": "stream",
          "name": "stdout",
          "text": [
            "[1. 1. 1. 1. 1. 1. 1. 1. 1. 1.]\n",
            "[6 0 1 3 6 8 7 2 9 7 3 9 6 6 3 0 2 9 4 9]\n",
            "[3. 2. 3. 4. 2. 1. 5. 3. 2. 5.]\n"
          ]
        }
      ],
      "source": [
        "import numpy as np\n",
        "z = np.ones(10)\n",
        "i = np.random.randint(0,len(z),20)\n",
        "print(z)\n",
        "print(i)\n",
        "z += np.bincount(i, minlength=len(z))\n",
        "print(z)"
      ]
    },
    {
      "cell_type": "markdown",
      "metadata": {
        "id": "0HByAVK77JCG"
      },
      "source": [
        "9. Дан вектор [1, 2, 3, 4, 5], построить новый вектор с тремя нулями между каждым значением"
      ]
    },
    {
      "cell_type": "code",
      "execution_count": null,
      "metadata": {
        "id": "2AiZt-J47dqq",
        "colab": {
          "base_uri": "https://localhost:8080/"
        },
        "outputId": "a3a0867c-4c31-453a-ec65-247c23e2bd04"
      },
      "outputs": [
        {
          "output_type": "stream",
          "name": "stdout",
          "text": [
            "[1 2 3 4 5]\n",
            "[1. 0. 0. 0. 2. 0. 0. 0. 3. 0. 0. 0. 4. 0. 0. 0. 5.]\n"
          ]
        }
      ],
      "source": [
        "z = np.array([1,2,3,4,5])\n",
        "lens = 5 + (5 - 1) * 3\n",
        "z1 = np.zeros(lens)\n",
        "z1[::4] = z\n",
        "print(z)\n",
        "print(z1)"
      ]
    },
    {
      "cell_type": "markdown",
      "metadata": {
        "id": "i0uK-dO08AKP"
      },
      "source": [
        "10. Найти ближайшее к заданному значению число в заданном массиве"
      ]
    },
    {
      "cell_type": "code",
      "execution_count": null,
      "metadata": {
        "id": "sE0DlZO_-4Cb",
        "colab": {
          "base_uri": "https://localhost:8080/"
        },
        "outputId": "b914e7fc-5e03-45ce-89c4-60fea83fe6a5"
      },
      "outputs": [
        {
          "output_type": "stream",
          "name": "stdout",
          "text": [
            "[ 0  1  2  3  4  5  6  7  8  9 10 11 12 13 14 15 16 17 18 19 20 21 22 23\n",
            " 24 25 26 27 28 29 30 31 32 33 34 35 36 37 38 39 40 41 42 43 44 45 46 47\n",
            " 48 49 50 51 52 53 54 55 56 57 58 59 60 61 62 63 64 65 66 67 68 69 70 71\n",
            " 72 73 74 75 76 77 78 79 80 81 82 83 84 85 86 87 88 89 90 91 92 93 94 95\n",
            " 96 97 98 99]\n",
            "32.93279896602199\n",
            "33\n"
          ]
        }
      ],
      "source": [
        "z = np.arange(100) # Число\n",
        "v = np.random.uniform(0,100) # Массив\n",
        "print(z)\n",
        "print(v)\n",
        "x=z[np.abs(z-v).argmin()]\n",
        "print(x)"
      ]
    },
    {
      "cell_type": "markdown",
      "metadata": {
        "id": "0zUpsgh8uCfQ"
      },
      "source": [
        "## Вопросы\n",
        "\n",
        "\n"
      ]
    },
    {
      "cell_type": "markdown",
      "metadata": {
        "id": "RQEMkoq5vc3k"
      },
      "source": [
        "**1**. Какой тип (dtype) будут иметь элементы массива?\n",
        "``` python\n",
        "np.array([1, 4, 2, 5, 3])\n",
        "np.array([1., 4, 2, 5, 3])\n",
        "np.array([1, 4, 2, 5, 3], dtype='float128')\n",
        "np.array([1., 4, 2, 5, 3], dtype='complex128')\n",
        "np.array([1, 4, 2, 5, 3], dtype ='float64')\n",
        "np.array([1, 4, 2, 5, 3], dtype =int64)\n",
        "np.array([1, 4, 2, 5, 3], dtype='bool')\n",
        "np.array([1, 4, 2, 5, 3], dtype='str')\n",
        "np.array([1, 4, 2, 5, '3'])\n",
        "np.array([1, -4, 2, 0, 1j])\n",
        "```"
      ]
    },
    {
      "cell_type": "markdown",
      "source": [
        "\n",
        "\n",
        "*   dtype: int64;\n",
        "*   dtype: float64. присутствует число с плавающей запятой (1.), поэтому все числа будут приведены к этому типу;\n",
        "*  dtype: float128. Явно указанный тип массива – float128;\n",
        "*  dtype: complex128.Явно указанный тип массива - complex128;\n",
        "*  dtype: float64. Явно указанный тип массива – float64;\n",
        "*  dtype: int64. Явно указанный тип массива - int64;\n",
        "*  dtype: bool. Все целые числа будут преобразованы в логические значения;\n",
        "*  dtype: str. Все целые числа будут преобразованы в строки\n",
        "*  dtype: str. Поскольку в массиве присутствует строковое значение;\n",
        "*  dtype: complex128. Поскольку в массиве присутствует комплексное число;\n",
        "\n"
      ],
      "metadata": {
        "id": "cTV8pSbuYj4d"
      }
    },
    {
      "cell_type": "markdown",
      "metadata": {
        "id": "SlJfe4Bgvd16"
      },
      "source": [
        "**2**. Что будет выведено в консоль и почему?\n",
        "``` python\n",
        "np.array([1, 4, 2, 5, 3], dtype='str')[1] + '1'\n",
        "np.array([1, -4, 2, 0, 3], dtype='bool')[3] or np.array([1, -4, 2, 0, 3])[1]\n",
        "np.array([1, -4, 2, 0, 3], dtype='bool')[3] and np.array([1, -4, 2, 0, 3])[1]\n",
        "np.array([1, -4, 2, 0, True], dtype='int64')[-1]\n",
        "np.array([1, -4, 2, 0, 1j], dtype='int64')[1]\n",
        "np.array([1, -4, 2, 0, 1j], dtype='str')[-1]\n",
        "np.array([1, 4, 2, 5, '3'])[-1] * 3\n",
        "```"
      ]
    },
    {
      "cell_type": "markdown",
      "source": [
        "\n",
        "\n",
        "*   Вывод: 41. Берется массив строковых значений, к 1ому элементу добавляется строка со значением '1';\n",
        "*   Вывод: True. Третий элемент первого массива = 0 = True, первый элемент второго массива = -4 = False. True or False = True;\n",
        "*   Вывод: False. Третий элемент первого массива = 0 = True. Первый элемент второго массива = -4 = False. True and False = False\n",
        "*   Вывод: 1. -1 элемент массива = True. Значение True принимает 1;\n",
        "*   Вывод: ошибка. Комплексное число не может быть преобразовано в int64;\n",
        "*   Вывод: 1j. Комплексное число преобразуется в строку;\n",
        "*   Вывод: 333. Умножение строки - ее повторение n количество раз;\n",
        "\n",
        "\n",
        "\n",
        "\n"
      ],
      "metadata": {
        "id": "ANVcaf_RZod-"
      }
    },
    {
      "cell_type": "markdown",
      "metadata": {
        "id": "X50PESx7xVAc"
      },
      "source": [
        "**3**. Каков результат операции?\n",
        "\n",
        "``` python\n",
        "np.ones((3, 5), dtype=float)\n",
        "np.full((3, 5), 3.14)\n",
        "np.linspace(0, 1, 5)\n",
        "np.diag((1,3,5))\n",
        "np.smile((1,3,5))\n",
        "np.random.random((3, 3))\n",
        "np.eye(3)\n",
        "np.empty(3)\n",
        "```\n",
        "\n"
      ]
    },
    {
      "cell_type": "markdown",
      "source": [
        "\n",
        "\n",
        "*   Результат: массив формы (3, 5), заполненный единицами;\n",
        "*   Результат: массив формы (3, 5), заполненный значением 3.14.;\n",
        "*   Результат:\n",
        "\n",
        "```\n",
        "array([0. , 0.25, 0.5 , 0.75, 1. ])\n",
        "```\n",
        "\n",
        "\n",
        "*   Результат:\n",
        "\n",
        "```\n",
        "array([[1, 0, 0],\n",
        "          [0, 3, 0],\n",
        "          [0, 0, 5]])\n",
        "```\n",
        "\n",
        "*   Результат: ошибка, функции не существует;\n",
        "*   Результат: массив формы (3, 3) с случайными числами;\n",
        "*   Результат: создает единичную матрицу размером 3x3, где элементы на главной диагонали равны единице, а остальные — нулю\n",
        "*   Результат: создает массив формы (3,) с неинициализированными значениями\n",
        "\n"
      ],
      "metadata": {
        "id": "HwNvReoZbQYn"
      }
    },
    {
      "cell_type": "markdown",
      "metadata": {
        "id": "D6Bt-8cfAWrA"
      },
      "source": [
        "**4**. Дан двумерный массив X, что будет выведено в консоль?\n",
        "\n",
        "``` python\n",
        "X = np.array([[3, 5, 2, 4],\n",
        "      [7, 6, 8, 8],\n",
        "      [1, 6, 7, 7]])\n",
        "```\n",
        "\n",
        "``` python\n",
        "X[0,0]\n",
        "X[-1,-1]\n",
        "X[0:1,-1]\n",
        "X[0:2,-1]\n",
        "X[0:2,0:2]\n",
        "X[1,1:3]\n",
        "X[1,:]\n",
        "X[1,:]\n",
        "X[:,:]\n",
        "X[:]\n",
        "X[::2,::2]\n",
        "X[0:3:2,0:3:2]\n",
        "X[::-1,::-1]\n",
        "```"
      ]
    },
    {
      "cell_type": "markdown",
      "source": [
        "\n",
        "\n",
        "*   3;\n",
        "*   7;\n",
        "*   array([4]) - срез первой строки и последнего элемента в столбце;\n",
        "*   array([4, 8]) - срез первых двух строк и их последних элементов;\n",
        "*   \n",
        "\n",
        "```\n",
        "array([[3, 5],\n",
        "          [7, 6]])\n",
        "```\n",
        "\n",
        "*   array([6, 8])\n",
        "*   array([7, 6, 8, 8])\n",
        "*   array([7, 6, 8, 8])\n",
        "*   \n",
        "\n",
        "```\n",
        "array([[3, 5, 2, 4],\n",
        "          [7, 6, 8, 8],\n",
        "          [1, 6, 7, 7]])\n",
        "```\n",
        "*   элементы с интервалом 2 по обеим осям:\n",
        "\n",
        "\n",
        "```\n",
        " array([[3, 2],\n",
        "           [1, 7]])\n",
        "```\n",
        "*   \n",
        "\n",
        "```\n",
        " array([[3, 2],\n",
        "           [1, 7]])\n",
        "```\n",
        "\n",
        "\n",
        "*   Реверс строк и столбцов, поэтому массив будет перевернут:\n",
        "\n",
        "\n",
        "```\n",
        "    array([[7, 6, 1],\n",
        "           [8, 6, 7],\n",
        "           [4, 2, 5]])\n",
        "```\n",
        "\n",
        "\n",
        "\n"
      ],
      "metadata": {
        "id": "HDgT4jIicxu3"
      }
    },
    {
      "cell_type": "markdown",
      "metadata": {
        "id": "9TycnuvS1pEz"
      },
      "source": [
        "**5**. Дан двумерный массив grid, в чем различее между операциями?\n",
        "\n",
        "\n",
        "``` python\n",
        "grid = np.arange(16).reshape((4, 4))\n",
        "```\n",
        "\n",
        "``` python\n",
        "np.split(grid, [2])\n",
        "np.split(grid, [2], axis=1)\n",
        "```\n"
      ]
    },
    {
      "cell_type": "markdown",
      "source": [
        "Первая операция  разбивает массив по строкам (ось 0).Вторая операция с параметром axis=1 разбивает массив по столбцам (ось 1):\n",
        "\n",
        "\n",
        "```\n",
        "  [array([[0, 1, 2, 3],\n",
        "           [4, 5, 6, 7]]),\n",
        "    array([[ 8,  9, 10, 11],\n",
        "           [12, 13, 14, 15]])]\n",
        "           \n",
        "    [array([[0, 1],\n",
        "           [4, 5],\n",
        "           [8, 9],\n",
        "           [12, 13]]),\n",
        "    array([[ 2, 3],\n",
        "           [ 6, 7],\n",
        "           [10, 11],\n",
        "           [14, 15]])].\n",
        "```\n",
        "\n"
      ],
      "metadata": {
        "id": "eOJAEfZ7fCNZ"
      }
    },
    {
      "cell_type": "markdown",
      "metadata": {
        "id": "kjKRXgT51pEz"
      },
      "source": [
        "**6**. В чем различие между операциями?\n",
        "\n",
        "``` python\n",
        "    [1, 2, 3] + [3, 2, 1]\n",
        "    np.array([1, 2, 3]) + np.array([3, 2, 1])\n",
        "```"
      ]
    },
    {
      "cell_type": "markdown",
      "source": [
        "При работе NumPy массивами производится поэлементное сложение, после чего создается новый массив, состоящий из суммы соответствующих элементов. При работе с обычными списками создается новый список с элементами, указанными при сложении:\n",
        "\n",
        "\n",
        "```\n",
        "[1, 2, 3, 3, 2, 1]\n",
        "array([4, 4, 4])\n",
        "```\n",
        "\n"
      ],
      "metadata": {
        "id": "LJg3UAU-f8zx"
      }
    },
    {
      "cell_type": "markdown",
      "metadata": {
        "id": "b-25-SVu1pEz"
      },
      "source": [
        "**7**. Как в CodeLab измерить время выполнения кода?"
      ]
    },
    {
      "cell_type": "markdown",
      "source": [
        "Использование модуля time.\n",
        "\n",
        "\n",
        "```\n",
        "import time\n",
        "\n",
        "start_time = time.time()\n",
        ".....\n",
        "end_time = time.time()\n",
        "print(end_time - start_time)\n",
        "```\n",
        "\n"
      ],
      "metadata": {
        "id": "S-wbjS9Lgdoq"
      }
    },
    {
      "cell_type": "markdown",
      "metadata": {
        "id": "fz_uZNjn1pEz"
      },
      "source": [
        "**8**. Дан массив X, каковы результаты операций?\n",
        "\n",
        "```python\n",
        "X = np.array([[3, 5, 2, 4],\n",
        "      [7, 6, 8, 8],\n",
        "      [1, 6, 7, 7]])\n",
        "\n",
        "np.sum(M)\n",
        "np.sum(M, axis=1)\n",
        "np.sum(M, axis=0)\n",
        "np.sum(M, axis=2)\n",
        "np.sum(M, 1)\n",
        "sum(M)\n",
        "sum(M,1)\n",
        "```"
      ]
    },
    {
      "cell_type": "markdown",
      "source": [
        "\n",
        "\n",
        "*   63;\n",
        "*   Сумма элементов по строкам: [14,29,21];\n",
        "*   Сумма элементов по столбцам: [11,17,17,19];\n",
        "*   Ошибка, т.к массив 3х4;\n",
        "*   [14,29,21];\n",
        "*   array([3,5,2,4]);\n",
        "*   array([3,5,2,4]);\n",
        "\n",
        "\n",
        "\n"
      ],
      "metadata": {
        "id": "aA9tY2AqgwBS"
      }
    },
    {
      "cell_type": "markdown",
      "metadata": {
        "id": "ZMhn18uc1pEz"
      },
      "source": [
        "**9**. Дан массив X, что будет выведено в консоль?\n",
        "\n",
        "```python\n",
        "X = np.array([1,2,3,4])\n",
        "\n",
        "X > 3\n",
        "X < 3\n",
        "X[X < 3]\n",
        "X[X > 3]\n",
        "X[X != 3]\n",
        "```"
      ]
    },
    {
      "cell_type": "markdown",
      "source": [
        "\n",
        "\n",
        "*   [False, False, False, True];\n",
        "*   [True, True, False, False];\n",
        "*   [1, 2];\n",
        "*   [4];\n",
        "*   [1,2,4];\n",
        "\n"
      ],
      "metadata": {
        "id": "4xZ259A6h_k7"
      }
    },
    {
      "cell_type": "markdown",
      "metadata": {
        "id": "-35Mf1we1pE0"
      },
      "source": [
        "**10**.  В чем преимущество массивов NumPy по сравнению с обычными списками.  Чем обусловлено это преимущество?"
      ]
    },
    {
      "cell_type": "markdown",
      "source": [
        "На уровне реализации массив фактически содержит один указатель на непрерывный блок данных. Список в языке Python же содержит указатель на блок указателей, каждый из которых, в свою очередь, указывает на целый объект языка Python, например, целое число. Преимущество такого списка состоит в его гибкости: раз каждый элемент списка — полномасштабная структура, содержащая как данные, так и информацию о типе, список можно заполнить данными любого требуемого типа. Массивам с фиксированным типом из библиотеки NumPy недостает этой гибкости, но они гораздо эффективнее хранят данные и работают с ними."
      ],
      "metadata": {
        "id": "8hchCt3Ciugj"
      }
    }
  ],
  "metadata": {
    "colab": {
      "provenance": [],
      "include_colab_link": true
    },
    "kernelspec": {
      "display_name": "Python 3",
      "name": "python3"
    },
    "language_info": {
      "codemirror_mode": {
        "name": "ipython",
        "version": 3
      },
      "file_extension": ".py",
      "mimetype": "text/x-python",
      "name": "python",
      "nbconvert_exporter": "python",
      "pygments_lexer": "ipython3",
      "version": "3.12.2"
    }
  },
  "nbformat": 4,
  "nbformat_minor": 0
}