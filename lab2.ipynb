{
  "cells": [
    {
      "cell_type": "markdown",
      "metadata": {
        "id": "view-in-github",
        "colab_type": "text"
      },
      "source": [
        "<a href=\"https://colab.research.google.com/github/Linkabli/dap-2024/blob/main/lab2.ipynb\" target=\"_parent\"><img src=\"https://colab.research.google.com/assets/colab-badge.svg\" alt=\"Open In Colab\"/></a>"
      ]
    },
    {
      "cell_type": "markdown",
      "metadata": {
        "id": "R-wIefW1baUm"
      },
      "source": [
        "# Лабораторная работа №2. Основы Python"
      ]
    },
    {
      "cell_type": "markdown",
      "metadata": {
        "id": "mIvzJp61baUo"
      },
      "source": [
        "## Задание"
      ]
    },
    {
      "cell_type": "markdown",
      "metadata": {
        "id": "Q2N52UxdbaUo"
      },
      "source": [
        "Выполните следующие задания:\n",
        "\n",
        "1. Откройте в файл в Google Colab (используйте собственный форк репозитория).\n",
        "2. Решите задачи.\n",
        "3. Сохраните результат в ваш репозиторий github в директорию ./les02\n",
        "4. Создайте pull request в репозиторий https://github.com/chebotarevsa/dap-2024. Название pull request должно иметь формат \"<Номер лабораторной работы>  <Номер группы> <ФИО>\"\n",
        "5. Сдайте работу в системе \"Пегас\", в отчет укажите ссылку на pull request"
      ]
    },
    {
      "cell_type": "markdown",
      "metadata": {
        "id": "3sgVz3CMbaUp"
      },
      "source": [
        "Задача №1. https://leetcode.com/problems/two-sum/"
      ]
    },
    {
      "cell_type": "code",
      "execution_count": null,
      "metadata": {
        "id": "cX2HJp94baUp"
      },
      "outputs": [],
      "source": [
        "class Solution1(object):\n",
        "    def twoSum(self, nums, target):\n",
        "        \"\"\"\n",
        "        :type nums: List[int]\n",
        "        :type target: int\n",
        "        :rtype: List[int]\n",
        "        \"\"\"\n",
        "        # Ваше решение"
      ]
    },
    {
      "cell_type": "code",
      "source": [
        "#Решение\n",
        "class Solution:\n",
        "    def twoSum(self, nums, target):\n",
        "        num_map = {}\n",
        "\n",
        "        for i, num in enumerate(nums):\n",
        "            complement = target - num\n",
        "            if complement in num_map:\n",
        "                return [num_map[complement], i]\n",
        "            num_map[num] = i\n",
        "\n",
        "solution = Solution()\n",
        "nums = [2, 7, 11, 15]\n",
        "target = 9\n",
        "print(solution.twoSum(nums, target))"
      ],
      "metadata": {
        "colab": {
          "base_uri": "https://localhost:8080/"
        },
        "id": "NXFBxl6zef-m",
        "outputId": "6afd76fc-f4c2-41df-bdb2-f49d285b44be"
      },
      "execution_count": 2,
      "outputs": [
        {
          "output_type": "stream",
          "name": "stdout",
          "text": [
            "[0, 1]\n"
          ]
        }
      ]
    },
    {
      "cell_type": "markdown",
      "metadata": {
        "id": "-wV3AVdwbaUq"
      },
      "source": [
        "Задача №2. https://leetcode.com/problems/palindrome-number/description/"
      ]
    },
    {
      "cell_type": "code",
      "execution_count": null,
      "metadata": {
        "id": "y3vbmXKibaUq"
      },
      "outputs": [],
      "source": [
        "class Solution2(object):\n",
        "    def isPalindrome(self, x):\n",
        "        \"\"\"\n",
        "        :type x: int\n",
        "        :rtype: bool\n",
        "        \"\"\"\n",
        "\n",
        "        # Ваше решение\n",
        ""
      ]
    },
    {
      "cell_type": "code",
      "source": [
        "#Решение\n",
        "class Solution:\n",
        "    def isPalindrome(self, x):\n",
        "        if x < 0:\n",
        "            return False\n",
        "        return str(x) == str(x)[::-1]"
      ],
      "metadata": {
        "id": "GdKZTWTdfj4z"
      },
      "execution_count": 3,
      "outputs": []
    },
    {
      "cell_type": "markdown",
      "metadata": {
        "id": "1Wx6EqGzbaUq"
      },
      "source": [
        "Задача №3. https://leetcode.com/problems/roman-to-integer/description/"
      ]
    },
    {
      "cell_type": "code",
      "execution_count": null,
      "metadata": {
        "id": "eu9E6EeubaUq"
      },
      "outputs": [],
      "source": [
        "class Solution3(object):\n",
        "    def romanToInt(self, s):\n",
        "        \"\"\"\n",
        "        :type s: str\n",
        "        :rtype: int\n",
        "        \"\"\"\n",
        "\n",
        "        # Ваше решение"
      ]
    },
    {
      "cell_type": "code",
      "source": [
        "#Решение\n",
        "class Solution(object):\n",
        "    def romanToInt(self, s):\n",
        "        roman_values = {\n",
        "            'I': 1, 'V': 5, 'X': 10, 'L': 50,\n",
        "            'C': 100, 'D': 500, 'M': 1000\n",
        "        }\n",
        "        total = 0\n",
        "        prev_value = 0\n",
        "        for char in reversed(s):\n",
        "            current_value = roman_values[char]\n",
        "            if current_value < prev_value:\n",
        "                total -= current_value\n",
        "            else:\n",
        "                total += current_value\n",
        "            prev_value = current_value\n",
        "\n",
        "        return total\n",
        "solution = Solution()\n",
        "print(solution.romanToInt('II'))\n",
        "print(solution.romanToInt('XII'))\n",
        "print(solution.romanToInt('XXVII'))"
      ],
      "metadata": {
        "id": "9IigDbqli3n6"
      },
      "execution_count": null,
      "outputs": []
    },
    {
      "cell_type": "markdown",
      "metadata": {
        "id": "i9nMCskXbaUr"
      },
      "source": [
        "Задача №4. https://leetcode.com/problems/longest-common-prefix/description/"
      ]
    },
    {
      "cell_type": "code",
      "execution_count": null,
      "metadata": {
        "id": "CYwRN2CpbaUr"
      },
      "outputs": [],
      "source": [
        "class Solution4(object):\n",
        "    def longestCommonPrefix(self, strs):\n",
        "        \"\"\"\n",
        "        :type strs: List[str]\n",
        "        :rtype: str\n",
        "        \"\"\"\n",
        "        # Ваше решение\n",
        ""
      ]
    },
    {
      "cell_type": "code",
      "source": [
        "#Решение\n",
        "class Solution(object):\n",
        "    def longestCommonPrefix(self, strs):\n",
        "        \"\"\"\n",
        "        :type strs: List[str]\n",
        "        :rtype: str\n",
        "        \"\"\"\n",
        "        if not strs:\n",
        "            return \"\"\n",
        "        prefix = strs[0]\n",
        "        for s in strs[1:]:\n",
        "            while not s.startswith(prefix):\n",
        "                prefix = prefix[:-1]\n",
        "                if not prefix:\n",
        "                    return \"\"\n",
        "\n",
        "        return prefix\n",
        "\n",
        "solution = Solution()\n",
        "print(solution.longestCommonPrefix([\"flower\", \"flow\", \"flight\"]))\n",
        "print(solution.longestCommonPrefix([\"dog\", \"racecar\", \"car\"]))"
      ],
      "metadata": {
        "id": "VIduoy6kjeZE"
      },
      "execution_count": null,
      "outputs": []
    },
    {
      "cell_type": "markdown",
      "metadata": {
        "id": "64qVm7QCbaUr"
      },
      "source": [
        "Задача №5. https://leetcode.com/problems/merge-two-sorted-lists/description/"
      ]
    },
    {
      "cell_type": "code",
      "execution_count": null,
      "metadata": {
        "id": "XQipP4_2baUr"
      },
      "outputs": [],
      "source": [
        "class Solution5(object):\n",
        "    def mergeTwoLists(self, list1, list2):\n",
        "        \"\"\"\n",
        "        :type list1: Optional[ListNode]\n",
        "        :type list2: Optional[ListNode]\n",
        "        :rtype: Optional[ListNode]\n",
        "        \"\"\"\n",
        "\n",
        "        # Ваше решение\n",
        ""
      ]
    },
    {
      "cell_type": "code",
      "source": [
        "#Решение\n",
        "class ListNode:\n",
        "    def __init__(self, val=0, next=None):\n",
        "        self.val = val\n",
        "        self.next = next\n",
        "\n",
        "class Solution:\n",
        "    def mergeTwoLists(self, list1, list2):\n",
        "        dummy = ListNode()\n",
        "        current = dummy\n",
        "        while list1 and list2:\n",
        "            if list1.val < list2.val:\n",
        "                current.next = list1\n",
        "                list1 = list1.next\n",
        "            else:\n",
        "                current.next = list2\n",
        "                list2 = list2.next\n",
        "            current = current.next\n",
        "        if list1:\n",
        "            current.next = list1\n",
        "        elif list2:\n",
        "            current.next = list2\n",
        "        return dummy.next"
      ],
      "metadata": {
        "id": "XBjkHcitkP5M"
      },
      "execution_count": null,
      "outputs": []
    },
    {
      "cell_type": "markdown",
      "metadata": {
        "id": "z2XQIdoPbaUs"
      },
      "source": [
        "Задача №6. https://leetcode.com/problems/longest-substring-without-repeating-characters/description/"
      ]
    },
    {
      "cell_type": "code",
      "execution_count": null,
      "metadata": {
        "id": "RNjtCGNbbaUs"
      },
      "outputs": [],
      "source": [
        "class Solution(object):\n",
        "    def lengthOfLongestSubstring(self, s):\n",
        "        \"\"\"\n",
        "        :type s: str\n",
        "        :rtype: int\n",
        "        \"\"\"\n",
        "\n",
        "        # Ваше решение"
      ]
    },
    {
      "cell_type": "code",
      "source": [
        "#Решение\n",
        "class Solution(object):\n",
        "    def lengthOfLongestSubstring(self, s):\n",
        "        max_length = 0\n",
        "        for i in range(len(s)):\n",
        "            substring = \"\"\n",
        "            for j in range(i, len(s)):\n",
        "                if s[j] not in substring:\n",
        "                    substring += s[j]\n",
        "                    max_length = max(max_length, len(substring))\n",
        "                else:\n",
        "                    break\n",
        "        return max_length\n",
        "solution = Solution()\n",
        "print(solution.lengthOfLongestSubstring(\"abcabcbb\"))\n",
        "print(solution.lengthOfLongestSubstring(\"bbbbb\"))\n",
        "print(solution.lengthOfLongestSubstring(\"pwwkew\"))"
      ],
      "metadata": {
        "id": "wknVEvY2n_EX"
      },
      "execution_count": null,
      "outputs": []
    },
    {
      "cell_type": "markdown",
      "metadata": {
        "id": "UB_vEwdDbaUs"
      },
      "source": [
        "## Вопросы\n",
        "\n",
        "1. Что такое динамическая типизация и чем она отличается от статической?\n",
        "2. Чем отличается цикл for в Python от цикла for в С++?\n",
        "3. Для чего предназначены операторы continue и break?\n",
        "4. Как определить функцию в python? Может ли функция возвращать несколько значений?\n",
        "5. Что такое лямбда функции и для чего они предназначены?\n",
        "6. Может ли тело функции содержать определение другой функции?\n",
        "7. Как определить класс в python? Для чего нужна переменная self?\n",
        "8. Как определить приватный метод? Можно ли вызвать приватный метод за пределами класса?\n",
        "9. Как определить статический метод класса? Для чего может понадобиться статический метод?\n",
        "10. Чем staticmethod отличается от classmethod?\n",
        "11. Как определить собственный класс исключений Python? Как выбросить и перехватить исключение?\n",
        "12. Что такое картеж, для чего он используется?\n"
      ]
    },
    {
      "cell_type": "markdown",
      "source": [
        "1. Динамическая типизация означает, что тип переменной определяется во время\n",
        "выполнения программы, а не во время компиляции. В Python переменные могут изменять свой тип в процессе выполнения программы, что отличает динамическую типизацию от статической, где типы переменных определяются на этапе компиляции и не могут изменяться во время выполнения.\n",
        "\n",
        "2. Цикл for в Python и в C++: В Python цикл for используется для итерации по любому итерируемому объекту (список, кортеж, строка и т.д.), применяя к каждому элементу указанные операции. В C++ цикл for более похож на foreach в Python и используется для итерации по элементам массива или другой коллекции данных с указанием индексов.\n",
        "3. Операторы continue и break используются для управления выполнением циклов:\n",
        "break прерывает выполнение цикла полностью.\n",
        "continue пропускает оставшуюся часть текущей итерации цикла и переходит к следующей итерации.\n",
        "Определение функции в Python:\n",
        "\n",
        "4. Функцию определяют с помощью ключевого слова def, за которым следует имя функции и скобки с параметрами. Да, функция в Python может возвращать несколько значений с помощью конструкции return значение1, значение2, ....\n",
        "5. Лямбда-функции: Лямбда-функции (или анонимные функции) создаются с помощью ключевого слова lambda и предназначены для создания простых функций, которые можно использовать в одном месте без необходимости объявления отдельной функции.\n",
        "Определение функции в теле другой функции:\n",
        "\n",
        "6. Да, в Python функция может быть определена внутри другой функции. Такие функции называются вложенными функциями.\n",
        "7. Определение класса в Python: Класс определяется с помощью ключевого слова class, за которым следует имя класса и двоеточие. Переменная self в Python используется для ссылки на экземпляр класса в методах этого класса.\n",
        "8. Приватные методы в Python определяются с помощью префикса __ (двойное подчеркивание). Приватный метод можно вызвать за пределами класса, но это не рекомендуется и не считается хорошей практикой.\n",
        "9. Статические методы определяются с помощью декоратора @staticmethod и не требуют доступа к экземпляру класса. Они используются для группировки функциональности, которая не связана непосредственно с экземпляром класса.\n",
        "10. staticmethod не имеет доступа к классу или экземпляру класса и ведет себя как обычная функция.\n",
        "classmethod имеет доступ к классу через первый аргумент cls и может изменять состояние класса.\n",
        "11. Для определения собственного класса исключений в Python нужно создать класс, который наследуется от встроенного класса Exception.\n",
        "12. Кортеж в Python является неизменяемым последовательным типом данных, который используется для хранения коллекции элементов. Он часто используется для группировки данных, когда эти данные не должны изменяться."
      ],
      "metadata": {
        "id": "v_NS9pfhpl_T"
      }
    }
  ],
  "metadata": {
    "language_info": {
      "name": "python"
    },
    "colab": {
      "provenance": [],
      "include_colab_link": true
    },
    "kernelspec": {
      "name": "python3",
      "display_name": "Python 3"
    }
  },
  "nbformat": 4,
  "nbformat_minor": 0
}