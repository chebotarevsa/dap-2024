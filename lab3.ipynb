{
  "cells": [
    {
      "cell_type": "markdown",
      "metadata": {
        "id": "view-in-github",
        "colab_type": "text"
      },
      "source": [
        "<a href=\"https://colab.research.google.com/github/Linkabli/dap-2024/blob/main/lab3.ipynb\" target=\"_parent\"><img src=\"https://colab.research.google.com/assets/colab-badge.svg\" alt=\"Open In Colab\"/></a>"
      ]
    },
    {
      "cell_type": "markdown",
      "metadata": {
        "id": "qQvfD-M40xIt"
      },
      "source": [
        "# Лабораторная работа №3. NumPy"
      ]
    },
    {
      "cell_type": "markdown",
      "metadata": {
        "id": "OF-BFrgrsHRD"
      },
      "source": [
        "## Задание"
      ]
    },
    {
      "cell_type": "markdown",
      "metadata": {
        "id": "Q8FFEA2R08uS"
      },
      "source": [
        "Выполните следующие задания:\n",
        "\n",
        "1. Откройте в файл в Google Colab (используйте собственный форк репозитория).\n",
        "2. Решите задачи.\n",
        "3. Сохраните результат в ваш репозиторий github в директорию ./les03\n",
        "4. Создайте pull request в репозиторий https://github.com/chebotarevsa/dap-2024. Название pull request должно иметь формат \"<Номер лабораторной работы>  <Номер группы> <ФИО>\"\n",
        "5. Сдайте работу в системе \"Пегас\", в отчет укажите ссылку на pull request"
      ]
    },
    {
      "cell_type": "code",
      "execution_count": null,
      "metadata": {
        "colab": {
          "base_uri": "https://localhost:8080/",
          "height": 35
        },
        "id": "3ftbuMN45IlN",
        "outputId": "a202a579-7cba-405d-995b-9387cd4738a1"
      },
      "outputs": [
        {
          "data": {
            "text/plain": [
              "'2.1.0'"
            ]
          },
          "execution_count": 1,
          "metadata": {},
          "output_type": "execute_result"
        }
      ],
      "source": [
        "import numpy as np\n",
        "np.version.version"
      ]
    },
    {
      "cell_type": "markdown",
      "metadata": {
        "id": "6iPL4gTu2ECp"
      },
      "source": [
        "1. Создать массив 10x10 со случайными значениями, найти минимум и максимум (низкая)"
      ]
    },
    {
      "cell_type": "code",
      "execution_count": null,
      "metadata": {
        "id": "v-AutHvo2T-D",
        "colab": {
          "base_uri": "https://localhost:8080/"
        },
        "outputId": "66635132-6f0e-4202-bf01-3c6adeb5c179"
      },
      "outputs": [
        {
          "output_type": "stream",
          "name": "stdout",
          "text": [
            "Массив 10x10:\n",
            "[[16 85 11 68 65  8 84 74 77 71]\n",
            " [27 13 47 91  5 37 84  1 86 45]\n",
            " [37 24 31 40 51 90 81 72  0 24]\n",
            " [17 68 27  6 44 10 20 37  6 59]\n",
            " [44 93 97 18 61 94 64  4 41 21]\n",
            " [19 93 39 45 82  4 29 97  0 29]\n",
            " [70 18 32  2 24 83  4 42 46 96]\n",
            " [32 98 47 14 73 97 48 67 38 90]\n",
            " [63 80 20 31 74 58 55 31 48 16]\n",
            " [40 96  4 79 64 24 79 53 78 48]]\n",
            "Минимум: 0\n",
            "Максимум: 98\n"
          ]
        }
      ],
      "source": [
        "import numpy as np\n",
        "array = np.random.randint(0, 100, size=(10, 10))\n",
        "minimum = np.min(array)\n",
        "maximum = np.max(array)\n",
        "print(\"Массив 10x10:\")\n",
        "print(array)\n",
        "print(f\"Минимум: {minimum}\")\n",
        "print(f\"Максимум: {maximum}\")"
      ]
    },
    {
      "cell_type": "markdown",
      "metadata": {
        "id": "cwxKoGik2Xfd"
      },
      "source": [
        "2. Создать 8x8 матрицу и заполнить её единицами и нулями в шахматном порядке"
      ]
    },
    {
      "cell_type": "code",
      "execution_count": null,
      "metadata": {
        "id": "zACAjKWC2lBy",
        "colab": {
          "base_uri": "https://localhost:8080/"
        },
        "outputId": "354119ed-fe6f-4217-d17a-ebc1b899ac46"
      },
      "outputs": [
        {
          "output_type": "stream",
          "name": "stdout",
          "text": [
            "8x8 матрица в шахматном порядке:\n",
            "[[1 0 1 0 1 0 1 0]\n",
            " [0 1 0 1 0 1 0 1]\n",
            " [1 0 1 0 1 0 1 0]\n",
            " [0 1 0 1 0 1 0 1]\n",
            " [1 0 1 0 1 0 1 0]\n",
            " [0 1 0 1 0 1 0 1]\n",
            " [1 0 1 0 1 0 1 0]\n",
            " [0 1 0 1 0 1 0 1]]\n"
          ]
        }
      ],
      "source": [
        "import numpy as np\n",
        "matrix = np.zeros((8, 8), dtype=int)\n",
        "for i in range(8):\n",
        "    for j in range(8):\n",
        "        if (i + j) % 2 == 0:\n",
        "            matrix[i, j] = 1\n",
        "print(\"8x8 матрица в шахматном порядке:\")\n",
        "print(matrix)"
      ]
    },
    {
      "cell_type": "markdown",
      "metadata": {
        "id": "YvNFm7Io2tSA"
      },
      "source": [
        "3. Дан массив из 11 элементов, поменять знак у элементов, значения которых между 3 и 8"
      ]
    },
    {
      "cell_type": "code",
      "execution_count": null,
      "metadata": {
        "id": "cczoe3OY27fA",
        "colab": {
          "base_uri": "https://localhost:8080/"
        },
        "outputId": "dc293c3f-f238-4fd8-9c0b-b7048838c2ca"
      },
      "outputs": [
        {
          "output_type": "stream",
          "name": "stdout",
          "text": [
            "[ 0  1  2  3 -4 -5 -6 -7  8  9 10]\n"
          ]
        }
      ],
      "source": [
        "import numpy as np\n",
        "z = np.arange(11)\n",
        "z[(z > 3) & (z < 8)] *= -1\n",
        "print(z)"
      ]
    },
    {
      "cell_type": "markdown",
      "metadata": {
        "id": "tInYHRPf2-jQ"
      },
      "source": [
        "4. Найти среднее заначение строки матрицы и вычесть его из каждого елемента строки"
      ]
    },
    {
      "cell_type": "code",
      "execution_count": null,
      "metadata": {
        "id": "Zbv_WG9w3km1",
        "colab": {
          "base_uri": "https://localhost:8080/"
        },
        "outputId": "6e6759f5-3c16-42a9-90d6-a1ea5381bc1e"
      },
      "outputs": [
        {
          "output_type": "stream",
          "name": "stdout",
          "text": [
            "Исходная матрица z:\n",
            "[[0.1038213  0.90392238 0.73679539 0.19701769 0.71230088 0.2888992\n",
            "  0.79325602 0.83581083 0.30859368 0.32383054]\n",
            " [0.05643312 0.42504648 0.96635718 0.75739255 0.5387011  0.48164344\n",
            "  0.13556215 0.8344429  0.15533322 0.61627959]\n",
            " [0.20692247 0.9011636  0.16290527 0.8077508  0.90701631 0.77821676\n",
            "  0.1417396  0.52415583 0.44178    0.17745306]\n",
            " [0.7987466  0.98872375 0.62183385 0.15893885 0.69415538 0.25812609\n",
            "  0.10111843 0.33641332 0.4573969  0.28057297]\n",
            " [0.6823537  0.22463348 0.0791118  0.26754613 0.21073195 0.26324102\n",
            "  0.41570355 0.04449349 0.90924038 0.05269057]]\n",
            "\n",
            "Матрица после вычитания среднего значения из каждой строки:\n",
            "[[-0.41660349  0.38349759  0.2163706  -0.3234071   0.19187609 -0.23152559\n",
            "   0.27283123  0.31538604 -0.21183111 -0.19659425]\n",
            " [-0.44028605 -0.07167269  0.46963801  0.26067337  0.04198193 -0.01507573\n",
            "  -0.36115702  0.33772372 -0.34138595  0.11956042]\n",
            " [-0.2979879   0.39625323 -0.3420051   0.30284043  0.40210594  0.27330639\n",
            "  -0.36317077  0.01924546 -0.06313037 -0.32745731]\n",
            " [ 0.32914399  0.51912114  0.15223123 -0.31066376  0.22455277 -0.21147652\n",
            "  -0.36848418 -0.1331893  -0.01220571 -0.18902965]\n",
            " [ 0.3673791  -0.09034113 -0.23586281 -0.04742848 -0.10424266 -0.05173359\n",
            "   0.10072894 -0.27048112  0.59426577 -0.26228404]]\n"
          ]
        }
      ],
      "source": [
        "import numpy as np\n",
        "z = np.random.rand(5, 10)\n",
        "print(\"Исходная матрица z:\")\n",
        "print(z)\n",
        "mean_values = np.mean(z, axis=1)\n",
        "z_centered = z - mean_values[:, np.newaxis]\n",
        "print(\"\\nМатрица после вычитания среднего значения из каждой строки:\")\n",
        "print(z_centered)"
      ]
    },
    {
      "cell_type": "markdown",
      "metadata": {
        "id": "OStor4mW3lpJ"
      },
      "source": [
        "5. Поменяйте 1 и 2 строки матрицы"
      ]
    },
    {
      "cell_type": "code",
      "execution_count": null,
      "metadata": {
        "id": "5vfeHqyF3qKd",
        "colab": {
          "base_uri": "https://localhost:8080/"
        },
        "outputId": "66fb7a56-81e0-4b83-ff30-9c9d0b668940"
      },
      "outputs": [
        {
          "output_type": "stream",
          "name": "stdout",
          "text": [
            "Исходная матрица z:\n",
            "[[ 0  1  2  3  4]\n",
            " [ 5  6  7  8  9]\n",
            " [10 11 12 13 14]\n",
            " [15 16 17 18 19]\n",
            " [20 21 22 23 24]]\n",
            "\n",
            "Матрица после замены 1 и 2 строк:\n",
            "[[ 5  6  7  8  9]\n",
            " [ 0  1  2  3  4]\n",
            " [10 11 12 13 14]\n",
            " [15 16 17 18 19]\n",
            " [20 21 22 23 24]]\n"
          ]
        }
      ],
      "source": [
        "import numpy as np\n",
        "z = np.arange(25).reshape(5, 5)\n",
        "print(\"Исходная матрица z:\")\n",
        "print(z)\n",
        "z[[0, 1]] = z[[1, 0]]\n",
        "print(\"\\nМатрица после замены 1 и 2 строк:\")\n",
        "print(z)"
      ]
    },
    {
      "cell_type": "markdown",
      "metadata": {
        "id": "IPQ9xIIk3qml"
      },
      "source": [
        "6. Дан массив 10x2 подеставлющий собой точки в декартовой системе координат, преобразовать в полярную"
      ]
    },
    {
      "cell_type": "code",
      "execution_count": null,
      "metadata": {
        "id": "zGHBaX8b30Uv",
        "colab": {
          "base_uri": "https://localhost:8080/"
        },
        "outputId": "228bc3a4-cb9b-47c8-b515-1e90d8ee6eee"
      },
      "outputs": [
        {
          "output_type": "stream",
          "name": "stdout",
          "text": [
            "Исходные декартовы координаты (x, y):\n",
            "[[0.12749807 0.80863496]\n",
            " [0.41792753 0.54987919]\n",
            " [0.09224834 0.57131374]\n",
            " [0.4590134  0.65777152]\n",
            " [0.95286402 0.72222698]\n",
            " [0.24267479 0.70936615]\n",
            " [0.91530036 0.89967516]\n",
            " [0.95948551 0.254876  ]\n",
            " [0.23924876 0.67425665]\n",
            " [0.04501152 0.88727701]]\n",
            "\n",
            "Полярные координаты (r, θ):\n",
            "[[0.81862461 1.41441301]\n",
            " [0.69067398 0.92090357]\n",
            " [0.57871335 1.41071097]\n",
            " [0.80209517 0.96152751]\n",
            " [1.19564278 0.64857219]\n",
            " [0.74972754 1.24117583]\n",
            " [1.28342906 0.77678933]\n",
            " [0.9927609  0.25964196]\n",
            " [0.71544532 1.22982212]\n",
            " [0.88841799 1.52010982]]\n"
          ]
        }
      ],
      "source": [
        "import numpy as np\n",
        "z = np.random.random((10, 2))\n",
        "print(\"Исходные декартовы координаты (x, y):\")\n",
        "print(z)\n",
        "x = z[:, 0]\n",
        "y = z[:, 1]\n",
        "r = np.sqrt(x**2 + y**2)\n",
        "theta = np.arctan2(y, x)\n",
        "polar_coordinates = np.column_stack((r, theta))\n",
        "print(\"\\nПолярные координаты (r, θ):\")\n",
        "print(polar_coordinates)"
      ]
    },
    {
      "cell_type": "markdown",
      "metadata": {
        "id": "10gbuTgE4AOH"
      },
      "source": [
        "7. Заменить максимальный элемент массива на ноль"
      ]
    },
    {
      "cell_type": "code",
      "execution_count": null,
      "metadata": {
        "id": "gqwuO2T_5Aqd",
        "colab": {
          "base_uri": "https://localhost:8080/"
        },
        "outputId": "b2b8a5b2-0f95-4655-cce4-3de3e5e3a40c"
      },
      "outputs": [
        {
          "output_type": "stream",
          "name": "stdout",
          "text": [
            "Исходный массив z:\n",
            "[0.97574339 0.87492617 0.1384516  0.46826946 0.79080477 0.96578903\n",
            " 0.19172649 0.29004732 0.09989528 0.10924947]\n",
            "\n",
            "Массив после замены максимального элемента на 0:\n",
            "[0.         0.87492617 0.1384516  0.46826946 0.79080477 0.96578903\n",
            " 0.19172649 0.29004732 0.09989528 0.10924947]\n"
          ]
        }
      ],
      "source": [
        "import numpy as np\n",
        "z = np.random.random(10)\n",
        "print(\"Исходный массив z:\")\n",
        "print(z)\n",
        "max_index = np.argmax(z)\n",
        "z[max_index] = 0\n",
        "print(\"\\nМассив после замены максимального элемента на 0:\")\n",
        "print(z)"
      ]
    },
    {
      "cell_type": "markdown",
      "metadata": {
        "id": "88m_eWXM6nZY"
      },
      "source": [
        "8. Дан массив, добавить 1 к каждому элементу с индексом, заданным в другом массиве. Добавление производиться только 1 раз"
      ]
    },
    {
      "cell_type": "code",
      "execution_count": null,
      "metadata": {
        "id": "-5yj9k126pfh",
        "colab": {
          "base_uri": "https://localhost:8080/"
        },
        "outputId": "621757f1-68e2-4bf0-a408-9410c82b838e"
      },
      "outputs": [
        {
          "output_type": "stream",
          "name": "stdout",
          "text": [
            "Original array:\n",
            "[1. 1. 1. 1. 1. 1. 1. 1. 1. 1.]\n",
            "\n",
            "Indices to be incremented:\n",
            "[2 6 1 1 2 3 5 4 9 2 5 6 9 9 7 9 9 3 7 4]\n",
            "\n",
            "Array after incrementing:\n",
            "[1. 2. 2. 2. 2. 2. 2. 2. 1. 2.]\n"
          ]
        }
      ],
      "source": [
        "import numpy as np\n",
        "z = np.ones(10)\n",
        "i = np.random.randint(0, len(z), 20)\n",
        "print(\"Исходный массив:\")\n",
        "print(z)\n",
        "print(\"\\nИндексы инкремента:\")\n",
        "print(i)\n",
        "z[i] += 1\n",
        "print(\"\\nГотовый массив:\")\n",
        "print(z)"
      ]
    },
    {
      "cell_type": "markdown",
      "metadata": {
        "id": "0HByAVK77JCG"
      },
      "source": [
        "9. Дан вектор [1, 2, 3, 4, 5], построить новый вектор с тремя нулями между каждым значением"
      ]
    },
    {
      "cell_type": "code",
      "execution_count": 1,
      "metadata": {
        "id": "2AiZt-J47dqq",
        "colab": {
          "base_uri": "https://localhost:8080/"
        },
        "outputId": "99945a84-1562-49b9-b890-4041d65c6b06"
      },
      "outputs": [
        {
          "output_type": "stream",
          "name": "stdout",
          "text": [
            "Исходный вектор:\n",
            "[1 2 3 4 5]\n",
            "\n",
            "Новый вектор с тремя нулями между каждым значением:\n",
            "[1 0 0 0 2 0 0 0 3 0 0 0 4 0 0 0 5]\n"
          ]
        }
      ],
      "source": [
        "import numpy as np\n",
        "z = np.array([1, 2, 3, 4, 5])\n",
        "print(\"Исходный вектор:\")\n",
        "print(z)\n",
        "new_vector = np.zeros(len(z) + (len(z) - 1) * 3, dtype=z.dtype)\n",
        "new_vector[::4] = z\n",
        "print(\"\\nНовый вектор с тремя нулями между каждым значением:\")\n",
        "print(new_vector)"
      ]
    },
    {
      "cell_type": "markdown",
      "metadata": {
        "id": "i0uK-dO08AKP"
      },
      "source": [
        "10. Найти ближайшее к заданному значению число в заданном массиве"
      ]
    },
    {
      "cell_type": "code",
      "execution_count": null,
      "metadata": {
        "id": "sE0DlZO_-4Cb",
        "colab": {
          "base_uri": "https://localhost:8080/"
        },
        "outputId": "2086a540-7f1e-4fdb-99b0-bea602e9c0ea"
      },
      "outputs": [
        {
          "output_type": "stream",
          "name": "stdout",
          "text": [
            "Случайное число v: 13.419337890991656\n",
            "Ближайшее значение в массиве z: 13\n"
          ]
        }
      ],
      "source": [
        "import numpy as np\n",
        "z = np.arange(100)\n",
        "v = np.random.uniform(0, 100)\n",
        "print(\"Случайное число v:\", v)\n",
        "closest_value = z[np.abs(z - v).argmin()]\n",
        "print(\"Ближайшее значение в массиве z:\", closest_value)"
      ]
    },
    {
      "cell_type": "markdown",
      "metadata": {
        "id": "0zUpsgh8uCfQ"
      },
      "source": [
        "## Вопросы\n",
        "\n",
        "\n"
      ]
    },
    {
      "cell_type": "markdown",
      "metadata": {
        "id": "RQEMkoq5vc3k"
      },
      "source": [
        "**1**. Какой тип (dtype) будут иметь элементы массива?\n",
        "\n",
        "np.array([1, 4, 2, 5, 3]) = int64 (NumPy автоматически выберет int64 для целых чисел)\n",
        "np.array([1., 4, 2, 5, 3]) = float64 (преобразование к float64 из-за наличия числа с плавающей точкой)\n",
        "\n",
        "np.array([1, 4, 2, 5, 3], dtype='float128') = float128 (явное указание float128)\n",
        "\n",
        "np.array([1., 4, 2, 5, 3], dtype='complex128') = complex128 (преобразование к комплексным числам с complex128)\n",
        "\n",
        "np.array([1, 4, 2, 5, 3], dtype='float64') = float64 (явное указание float64)\n",
        "\n",
        "np.array([1, 4, 2, 5, 3], dtype=int64) = int64 (явное указание int64)\n",
        "\n",
        "np.array([1, 4, 2, 5, 3], dtype='bool') = bool (0 преобразуется в False, остальные — в True)\n",
        "np.array([1, 4, 2, 5, 3], dtype='str') = str (все элементы будут строками)\n",
        "\n",
        "np.array([1, 4, 2, 5, '3']) = str (все элементы будут строками, так как один элемент строковый)\n",
        "np.array([1, -4, 2, 0, 1j]) = complex128 (преобразование к complex128 из-за комплексного числа)"
      ]
    },
    {
      "cell_type": "markdown",
      "metadata": {
        "id": "SlJfe4Bgvd16"
      },
      "source": [
        "**2**. Что будет выведено в консоль и почему?  \n",
        "np.array([1, 4, 2, 5, 3], dtype='str')[1] + '1' = '41' (второй элемент строки '4', плюс '1' дает '41')  \n",
        "np.array([1, -4, 2, 0, 3], dtype='bool')[3] or np.array([1, -4, 2, 0, 3])[1] = False (четвертый элемент — False, второй элемент — True)  \n",
        "np.array([1, -4, 2, 0, 3], dtype='bool')[3] and np.array([1, -4, 2, 0, 3])[1] = False (четвертый элемент False, что приводит к результату False)  \n",
        "np.array([1, -4, 2, 0, True], dtype='int64')[-1] = 1 (значение True преобразуется в 1)  \n",
        "np.array([1, -4, 2, 0, 1j], dtype='int64')[1] = Ошибка (нельзя преобразовать комплексное число к int64)  \n",
        "np.array([1, -4, 2, 0, 1j], dtype='str')[-1] = '1j' (последний элемент преобразуется в строку '1j')  \n",
        "np.array([1, 4, 2, 5, '3'])[-1] * 3 = '333' (последний элемент — строка '3', умноженная на 3, дает '333')  "
      ]
    },
    {
      "cell_type": "markdown",
      "metadata": {
        "id": "X50PESx7xVAc"
      },
      "source": [
        "**3**. Каков результат операции?\n",
        "\n",
        "np.ones((3, 5), dtype=float) → 3x5 массив из единиц с float элементами  \n",
        "np.full((3, 5), 3.14) → 3x5 массив из значений 3.14  \n",
        "np.linspace(0, 1, 5) → массив из 5 элементов [0. , 0.25, 0.5 , 0.75, 1.]  \n",
        "np.diag((1,3,5)) → 3x3 диагональная матрица с диагональными элементами 1, 3, 5  \n",
        "np.smile((1,3,5)) → Ошибка (нет функции np.smile)  \n",
        "np.random.random((3, 3)) → 3x3 массив со случайными значениями от 0 до 1  \n",
        "np.eye(3) → 3x3 единичная матрица  \n",
        "np.empty(3) → массив из трех элементов с неинициализированными значениями  \n",
        "\n"
      ]
    },
    {
      "cell_type": "markdown",
      "metadata": {
        "id": "D6Bt-8cfAWrA"
      },
      "source": [
        "**4**. Дан двумерный массив X, что будет выведено в консоль?\n",
        "\n",
        "``` python\n",
        "X = np.array([[3, 5, 2, 4],\n",
        "      [7, 6, 8, 8],\n",
        "      [1, 6, 7, 7]])\n",
        "```\n",
        "\n",
        "```\n",
        "X[0,0] → 3\n",
        "X[-1,-1] → 7\n",
        "X[0:1,-1] → array([4])\n",
        "X[0:2,-1] → array([4, 8])\n",
        "X[0:2,0:2] → array([[3, 5], [7, 6]])\n",
        "X[1,1:3] → array([6, 8])\n",
        "X[1,:] → array([7, 6, 8, 8])\n",
        "X[:,:] и X[:] → весь массив X\n",
        "X[::2,::2] → array([[3, 2], [1, 7]])\n",
        "X[0:3:2,0:3:2] → array([[3, 2], [1, 7]])\n",
        "X[::-1,::-1] → X, отражённый по обеим осям array([[7, 7, 6, 1], [8, 8, 6, 7], [4, 2, 5, 3]])\n",
        "```"
      ]
    },
    {
      "cell_type": "markdown",
      "metadata": {
        "id": "FNGUqy2NsHRI"
      },
      "source": [
        "**5**. Дан двумерный массив grid, в чем различее между операциями?\n",
        "\n",
        "\n",
        "``` python\n",
        "grid = np.arange(16).reshape((4, 4))\n",
        "```\n",
        "\n",
        "```\n",
        "np.split(grid, [2]) → разделит grid на две части по горизонтали (верхние 2 строки и нижние 2 строки)\n",
        "np.split(grid, [2], axis=1) → разделит grid на две части по вертикали (левые 2 столбца и правые 2 столбца)\n",
        "```\n"
      ]
    },
    {
      "cell_type": "markdown",
      "metadata": {
        "id": "jR3eM4hcsHRJ"
      },
      "source": [
        "**6**. В чем различие между операциями?\n",
        "\n",
        "```\n",
        "[1, 2, 3] + [3, 2, 1] → [1, 2, 3, 3, 2, 1] (конкатенация списков)\n",
        "np.array([1, 2, 3]) + np.array([3, 2, 1]) → array([4, 4, 4]) (побитовая операция сложения массивов)\n",
        "```"
      ]
    },
    {
      "cell_type": "markdown",
      "metadata": {
        "id": "m5Aru4r-sHRJ"
      },
      "source": [
        "**7**. Как в CodeLab измерить время выполнения кода?"
      ]
    },
    {
      "cell_type": "markdown",
      "source": [
        "import timeit\n",
        "timeit.timeit('код_для_измерения', number=1000)\n",
        "Или, используя %%time и %%timeit в ячейках Jupyter Notebook."
      ],
      "metadata": {
        "id": "q8EwOcGKJxuJ"
      }
    },
    {
      "cell_type": "markdown",
      "metadata": {
        "id": "karQNadSsHRJ"
      },
      "source": [
        "**8**. Дан массив X, каковы результаты операций?\n",
        "\n",
        "```\n",
        "np.sum(M) → сумма всех элементов в массиве M\n",
        "np.sum(M, axis=1) → сумма элементов по строкам\n",
        "np.sum(M, axis=0) → сумма элементов по столбцам\n",
        "np.sum(M, axis=2) → Ошибка (M — двумерный массив)\n",
        "np.sum(M, 1) → сумма элементов по строкам\n",
        "sum(M) → суммирует строки поэлементно (результат — массив)\n",
        "sum(M,1) → Ошибка (встроенная sum не поддерживает параметр axis)\n",
        "```"
      ]
    },
    {
      "cell_type": "markdown",
      "metadata": {
        "id": "I8Ddru3bsHRJ"
      },
      "source": [
        "**9**. Дан массив X, что будет выведено в консоль?\n",
        "\n",
        "```python\n",
        "X = np.array([1,2,3,4])\n",
        "\n",
        "X > 3 → array([False, False, False, True])\n",
        "X < 3 → array([True, True, False, False])\n",
        "X[X < 3] → array([1, 2])\n",
        "X[X > 3] → array([4])\n",
        "X[X != 3] → array([1, 2, 4])\n",
        "```"
      ]
    },
    {
      "cell_type": "markdown",
      "metadata": {
        "id": "aySNXIwisHRK"
      },
      "source": [
        "**10**.  В чем преимущество массивов NumPy по сравнению с обычными списками.  Чем обусловлено это преимущество?"
      ]
    },
    {
      "cell_type": "markdown",
      "source": [
        "Массивы NumPy быстрее и эффективнее списков Python благодаря:\n",
        "\n",
        "1. Однородности типа данных, что позволяет использовать более компактное хранение в памяти.\n",
        "2. Векторизированным операциям, оптимизированным для быстрого выполнения на низком уровне (используется C/Fortran).\n",
        "3. Поддержке параллельных вычислений."
      ],
      "metadata": {
        "id": "q7bKVBX_KERs"
      }
    }
  ],
  "metadata": {
    "colab": {
      "provenance": [],
      "include_colab_link": true
    },
    "kernelspec": {
      "display_name": "Python 3",
      "name": "python3"
    },
    "language_info": {
      "codemirror_mode": {
        "name": "ipython",
        "version": 3
      },
      "file_extension": ".py",
      "mimetype": "text/x-python",
      "name": "python",
      "nbconvert_exporter": "python",
      "pygments_lexer": "ipython3",
      "version": "3.12.2"
    }
  },
  "nbformat": 4,
  "nbformat_minor": 0
}