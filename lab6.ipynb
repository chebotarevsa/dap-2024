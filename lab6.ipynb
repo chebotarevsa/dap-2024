{
  "cells": [
    {
      "cell_type": "markdown",
      "metadata": {
        "id": "view-in-github",
        "colab_type": "text"
      },
      "source": [
        "<a href=\"https://colab.research.google.com/github/Linkabli/dap-2024/blob/main/lab6.ipynb\" target=\"_parent\"><img src=\"https://colab.research.google.com/assets/colab-badge.svg\" alt=\"Open In Colab\"/></a>"
      ]
    },
    {
      "cell_type": "markdown",
      "metadata": {
        "id": "4sUIGNAg2s-J"
      },
      "source": [
        "# Лабораторная работа №4. Линейная регрессия"
      ]
    },
    {
      "cell_type": "markdown",
      "metadata": {
        "id": "InKgKkF-2s-L"
      },
      "source": [
        "Выполните следующие задания:\n",
        "\n",
        "1. Откройте в файл в Google Colab (используйте собственный форк репозитория).\n",
        "2. Решите задачи.\n",
        "3. Сохраните результат в ваш репозиторий github в директорию ./les06\n",
        "4. Создайте pull request в репозиторий https://github.com/chebotarevsa/dap-2024. Название pull request должно иметь формат \"<Номер лабораторной работы>  <Номер группы> <ФИО>\"\n",
        "5. Сдайте работу в системе \"Пегас\", в отчет укажите ссылку на pull request"
      ]
    },
    {
      "cell_type": "markdown",
      "metadata": {
        "id": "kxtfElFa2s-N"
      },
      "source": [
        "Набор данных Diabetes (Диабет) содержит 442 образца с 10-ю признаками: возраст, пол, индекс массы тела, средний показатель давления крови и шесть измерений сыворотки крови. Целевое значение - количественный показатель прогрессирования заболевания через год после анализов."
      ]
    },
    {
      "cell_type": "code",
      "execution_count": null,
      "metadata": {
        "id": "Fy1K1wBM2s-N"
      },
      "outputs": [],
      "source": [
        "import numpy as np\n",
        "import pandas as pd\n",
        "import matplotlib.pyplot as plt"
      ]
    },
    {
      "cell_type": "markdown",
      "metadata": {
        "id": "Lex5sxqd2s-P"
      },
      "source": [
        "## Извлечение данных"
      ]
    },
    {
      "cell_type": "code",
      "execution_count": null,
      "metadata": {
        "id": "018HBycb2s-P"
      },
      "outputs": [],
      "source": [
        "from sklearn import datasets\n",
        "diabetes = datasets.load_diabetes()"
      ]
    },
    {
      "cell_type": "markdown",
      "metadata": {
        "id": "6umYmuzo2s-P"
      },
      "source": [
        "1. Выведете описание набора данных и наименование признаков."
      ]
    },
    {
      "cell_type": "code",
      "execution_count": 4,
      "metadata": {
        "colab": {
          "base_uri": "https://localhost:8080/"
        },
        "id": "OL0adJHO2s-Q",
        "outputId": "c1f7938f-8e52-4a2f-ec45-d2282fb497b2"
      },
      "outputs": [
        {
          "output_type": "stream",
          "name": "stdout",
          "text": [
            "['age', 'sex', 'bmi', 'bp', 's1', 's2', 's3', 's4', 's5', 's6']\n"
          ]
        }
      ],
      "source": [
        "from sklearn import datasets\n",
        "diabetes = datasets.load_diabetes()\n",
        "print(diabetes.feature_names)"
      ]
    },
    {
      "cell_type": "markdown",
      "metadata": {
        "id": "JO6nuLWM2s-Q"
      },
      "source": [
        "### Подготовка данных"
      ]
    },
    {
      "cell_type": "markdown",
      "metadata": {
        "id": "9pw5Ync62s-Q"
      },
      "source": [
        "2. Из загруженного набора данных создайте DataFrame, содержащий как признаки, так и целевое значение. Выведите первые 5 строк набора."
      ]
    },
    {
      "cell_type": "code",
      "execution_count": 5,
      "metadata": {
        "colab": {
          "base_uri": "https://localhost:8080/"
        },
        "id": "uMjaFsd52s-Q",
        "outputId": "34c9d3a2-ad93-4179-d34d-7f714fc561f1"
      },
      "outputs": [
        {
          "output_type": "stream",
          "name": "stdout",
          "text": [
            "ервые 5 строк набора данных:\n",
            "\n",
            "        age       sex       bmi        bp        s1        s2        s3  \\\n",
            "0  0.038076  0.050680  0.061696  0.021872 -0.044223 -0.034821 -0.043401   \n",
            "1 -0.001882 -0.044642 -0.051474 -0.026328 -0.008449 -0.019163  0.074412   \n",
            "2  0.085299  0.050680  0.044451 -0.005670 -0.045599 -0.034194 -0.032356   \n",
            "3 -0.089063 -0.044642 -0.011595 -0.036656  0.012191  0.024991 -0.036038   \n",
            "4  0.005383 -0.044642 -0.036385  0.021872  0.003935  0.015596  0.008142   \n",
            "\n",
            "         s4        s5        s6  target  \n",
            "0 -0.002592  0.019907 -0.017646   151.0  \n",
            "1 -0.039493 -0.068332 -0.092204    75.0  \n",
            "2 -0.002592  0.002861 -0.025930   141.0  \n",
            "3  0.034309  0.022688 -0.009362   206.0  \n",
            "4 -0.002592 -0.031988 -0.046641   135.0  \n"
          ]
        }
      ],
      "source": [
        "import pandas as pd\n",
        "from sklearn import datasets\n",
        "diabetes = datasets.load_diabetes()\n",
        "data = pd.DataFrame(data=diabetes.data, columns=diabetes.feature_names)\n",
        "data['target'] = diabetes.target\n",
        "print(\"ервые 5 строк набора данных:\\n\")\n",
        "print(data.head(5))"
      ]
    },
    {
      "cell_type": "markdown",
      "metadata": {
        "id": "oIJC7_JQ2s-R"
      },
      "source": [
        "3. Выведете информацию о типах данных в наборе. Имеются ли в наборе категориальные признаки? Имеются ли в наборе данные имеющие значение null?"
      ]
    },
    {
      "cell_type": "code",
      "execution_count": 6,
      "metadata": {
        "colab": {
          "base_uri": "https://localhost:8080/"
        },
        "id": "sV8W77pV2s-R",
        "outputId": "bceb895c-ff4a-4ff9-e22d-2267427a61a8"
      },
      "outputs": [
        {
          "output_type": "stream",
          "name": "stdout",
          "text": [
            "Типы данных:\n",
            "\n",
            "age       float64\n",
            "sex       float64\n",
            "bmi       float64\n",
            "bp        float64\n",
            "s1        float64\n",
            "s2        float64\n",
            "s3        float64\n",
            "s4        float64\n",
            "s5        float64\n",
            "s6        float64\n",
            "target    float64\n",
            "dtype: object\n",
            "\n",
            "Категориальные признаки отсутствуют, так как все значения числовые.\n",
            "\n",
            "Проверка на null-значения:\n",
            "\n",
            "age       0\n",
            "sex       0\n",
            "bmi       0\n",
            "bp        0\n",
            "s1        0\n",
            "s2        0\n",
            "s3        0\n",
            "s4        0\n",
            "s5        0\n",
            "s6        0\n",
            "target    0\n",
            "dtype: int64\n"
          ]
        }
      ],
      "source": [
        "import pandas as pd\n",
        "from sklearn import datasets\n",
        "diabetes = datasets.load_diabetes()\n",
        "data = pd.DataFrame(data=diabetes.data, columns=diabetes.feature_names)\n",
        "data['target'] = diabetes.target\n",
        "print(\"Типы данных:\\n\")\n",
        "print(data.dtypes)\n",
        "print(\"\\nКатегориальные признаки отсутствуют, так как все значения числовые.\")\n",
        "print(\"\\nПроверка на null-значения:\\n\")\n",
        "print(data.isnull().sum())"
      ]
    },
    {
      "cell_type": "markdown",
      "metadata": {
        "id": "JFDHQAzn2s-R"
      },
      "source": [
        "## Исследование данных"
      ]
    },
    {
      "cell_type": "markdown",
      "metadata": {
        "id": "nc-JEJ7J2s-S"
      },
      "source": [
        "4. Постройте матрицу корреляции."
      ]
    },
    {
      "cell_type": "code",
      "execution_count": 7,
      "metadata": {
        "colab": {
          "base_uri": "https://localhost:8080/"
        },
        "id": "RUnWtSKH2s-S",
        "outputId": "b880ee24-3245-4b60-d2a4-3bea70a2b157"
      },
      "outputs": [
        {
          "output_type": "stream",
          "name": "stdout",
          "text": [
            "Матрица корреляции:\n",
            "\n",
            "             age       sex       bmi        bp        s1        s2        s3  \\\n",
            "age     1.000000  0.173737  0.185085  0.335428  0.260061  0.219243 -0.075181   \n",
            "sex     0.173737  1.000000  0.088161  0.241010  0.035277  0.142637 -0.379090   \n",
            "bmi     0.185085  0.088161  1.000000  0.395411  0.249777  0.261170 -0.366811   \n",
            "bp      0.335428  0.241010  0.395411  1.000000  0.242464  0.185548 -0.178762   \n",
            "s1      0.260061  0.035277  0.249777  0.242464  1.000000  0.896663  0.051519   \n",
            "s2      0.219243  0.142637  0.261170  0.185548  0.896663  1.000000 -0.196455   \n",
            "s3     -0.075181 -0.379090 -0.366811 -0.178762  0.051519 -0.196455  1.000000   \n",
            "s4      0.203841  0.332115  0.413807  0.257650  0.542207  0.659817 -0.738493   \n",
            "s5      0.270774  0.149916  0.446157  0.393480  0.515503  0.318357 -0.398577   \n",
            "s6      0.301731  0.208133  0.388680  0.390430  0.325717  0.290600 -0.273697   \n",
            "target  0.187889  0.043062  0.586450  0.441482  0.212022  0.174054 -0.394789   \n",
            "\n",
            "              s4        s5        s6    target  \n",
            "age     0.203841  0.270774  0.301731  0.187889  \n",
            "sex     0.332115  0.149916  0.208133  0.043062  \n",
            "bmi     0.413807  0.446157  0.388680  0.586450  \n",
            "bp      0.257650  0.393480  0.390430  0.441482  \n",
            "s1      0.542207  0.515503  0.325717  0.212022  \n",
            "s2      0.659817  0.318357  0.290600  0.174054  \n",
            "s3     -0.738493 -0.398577 -0.273697 -0.394789  \n",
            "s4      1.000000  0.617859  0.417212  0.430453  \n",
            "s5      0.617859  1.000000  0.464669  0.565883  \n",
            "s6      0.417212  0.464669  1.000000  0.382483  \n",
            "target  0.430453  0.565883  0.382483  1.000000  \n"
          ]
        }
      ],
      "source": [
        "import pandas as pd\n",
        "from sklearn import datasets\n",
        "diabetes = datasets.load_diabetes()\n",
        "data = pd.DataFrame(data=diabetes.data, columns=diabetes.feature_names)\n",
        "data['target'] = diabetes.target\n",
        "correlation_matrix = data.corr()\n",
        "print(\"Матрица корреляции:\\n\")\n",
        "print(correlation_matrix)"
      ]
    },
    {
      "cell_type": "markdown",
      "metadata": {
        "id": "iYXc7Vjj2s-S"
      },
      "source": [
        "5. Постройте диаграмму рассеяния целевого значение и признака, коэффициент корреляции которого с  целевым значением, самый высокий."
      ]
    },
    {
      "cell_type": "code",
      "execution_count": 8,
      "metadata": {
        "colab": {
          "base_uri": "https://localhost:8080/",
          "height": 569
        },
        "id": "sV8licrB2s-S",
        "outputId": "1daf9f21-f5d3-411b-ba8b-ddbcd908183e"
      },
      "outputs": [
        {
          "output_type": "display_data",
          "data": {
            "text/plain": [
              "<Figure size 800x600 with 1 Axes>"
            ],
            "image/png": "[encoded data removed]"
          },
          "metadata": {}
        }
      ],
      "source": [
        "import pandas as pd\n",
        "import matplotlib.pyplot as plt\n",
        "from sklearn import datasets\n",
        "diabetes = datasets.load_diabetes()\n",
        "data = pd.DataFrame(data=diabetes.data, columns=diabetes.feature_names)\n",
        "data['target'] = diabetes.target\n",
        "correlation_matrix = data.corr()\n",
        "max_corr_feature = correlation_matrix['target'].drop('target').idxmax()\n",
        "plt.figure(figsize=(8, 6))\n",
        "plt.scatter(data[max_corr_feature], data['target'], alpha=0.7)\n",
        "plt.title(f\"Диаграмма рассеяния: {max_corr_feature} и target\", fontsize=14)\n",
        "plt.xlabel(max_corr_feature, fontsize=12)\n",
        "plt.ylabel('target', fontsize=12)\n",
        "plt.grid(alpha=0.3)\n",
        "plt.show()\n"
      ]
    },
    {
      "cell_type": "markdown",
      "metadata": {
        "id": "bGmu-ZaB2s-S"
      },
      "source": [
        "6. Сформируйте набор признаков (X) из 5 признаков с самым высоким коэффициентом корреляции с целевым значением. Сформируйте набор для целевого значения (y)."
      ]
    },
    {
      "cell_type": "code",
      "execution_count": 9,
      "metadata": {
        "colab": {
          "base_uri": "https://localhost:8080/"
        },
        "id": "ZD-VA32Y2s-T",
        "outputId": "a4d1ee7a-6c5b-4544-b463-951c252a8c5a"
      },
      "outputs": [
        {
          "output_type": "stream",
          "name": "stdout",
          "text": [
            "5 признаков с наивысшей корреляцией с целевым значением:\n",
            " ['bmi', 's5', 'bp', 's4', 's3']\n",
            "\n",
            "Пример первых 5 строк X:\n",
            "         bmi        s5        bp        s4        s3\n",
            "0  0.061696  0.019907  0.021872 -0.002592 -0.043401\n",
            "1 -0.051474 -0.068332 -0.026328 -0.039493  0.074412\n",
            "2  0.044451  0.002861 -0.005670 -0.002592 -0.032356\n",
            "3 -0.011595  0.022688 -0.036656  0.034309 -0.036038\n",
            "4 -0.036385 -0.031988  0.021872 -0.002592  0.008142\n",
            "\n",
            "Пример первых 5 строк y:\n",
            " 0    151.0\n",
            "1     75.0\n",
            "2    141.0\n",
            "3    206.0\n",
            "4    135.0\n",
            "Name: target, dtype: float64\n"
          ]
        }
      ],
      "source": [
        "import pandas as pd\n",
        "from sklearn import datasets\n",
        "diabetes = datasets.load_diabetes()\n",
        "data = pd.DataFrame(data=diabetes.data, columns=diabetes.feature_names)\n",
        "data['target'] = diabetes.target\n",
        "correlation_matrix = data.corr()\n",
        "top_features = correlation_matrix['target'].drop('target').abs().sort_values(ascending=False).head(5).index\n",
        "X = data[top_features]\n",
        "y = data['target']\n",
        "print(\"5 признаков с наивысшей корреляцией с целевым значением:\\n\", top_features.tolist())\n",
        "print(\"\\nПример первых 5 строк X:\\n\", X.head())\n",
        "print(\"\\nПример первых 5 строк y:\\n\", y.head())\n"
      ]
    },
    {
      "cell_type": "markdown",
      "metadata": {
        "id": "80yY0ajK2s-T"
      },
      "source": [
        "## Предсказательная модель"
      ]
    },
    {
      "cell_type": "markdown",
      "metadata": {
        "id": "cNjA-Bfd2s-T"
      },
      "source": [
        "7. Разделите набор данных на два, одни для обучения модели другой для проверки. Тестовый набор должен содержать 25 процентов данных."
      ]
    },
    {
      "cell_type": "code",
      "execution_count": 10,
      "metadata": {
        "colab": {
          "base_uri": "https://localhost:8080/"
        },
        "id": "pvqHCnLG2s-T",
        "outputId": "2943b201-441c-462a-8282-a2752d6db177"
      },
      "outputs": [
        {
          "output_type": "stream",
          "name": "stdout",
          "text": [
            "Размер обучающего набора (X_train, y_train): (331, 5) (331,)\n",
            "Размер тестового набора (X_test, y_test): (111, 5) (111,)\n"
          ]
        }
      ],
      "source": [
        "from sklearn.model_selection import train_test_split\n",
        "X_train, X_test, y_train, y_test = train_test_split(X, y, test_size=0.25, random_state=42)\n",
        "print(\"Размер обучающего набора (X_train, y_train):\", X_train.shape, y_train.shape)\n",
        "print(\"Размер тестового набора (X_test, y_test):\", X_test.shape, y_test.shape)"
      ]
    },
    {
      "cell_type": "markdown",
      "metadata": {
        "id": "eaAUIRfo2s-T"
      },
      "source": [
        "8. Выполните обучение модели."
      ]
    },
    {
      "cell_type": "code",
      "execution_count": 12,
      "metadata": {
        "id": "hQf3vhts2s-T"
      },
      "outputs": [],
      "source": [
        "from sklearn.linear_model import LinearRegression\n",
        "from sklearn.metrics import mean_squared_error, r2_score\n",
        "model = LinearRegression()\n",
        "model.fit(X_train, y_train)\n",
        "y_pred = model.predict(X_test)\n",
        "mse = mean_squared_error(y_test, y_pred)"
      ]
    },
    {
      "cell_type": "markdown",
      "metadata": {
        "id": "gWT_tmKw2s-U"
      },
      "source": [
        "## Проверка модели"
      ]
    },
    {
      "cell_type": "markdown",
      "metadata": {
        "id": "pv_nHxmI2s-U"
      },
      "source": [
        "9. Расчитайте Root mean squared error (RMSE)"
      ]
    },
    {
      "cell_type": "code",
      "execution_count": 14,
      "metadata": {
        "colab": {
          "base_uri": "https://localhost:8080/"
        },
        "id": "RZs8Vs6O2s-U",
        "outputId": "cac511c1-1999-4acf-c706-7dc7fa65e3ea"
      },
      "outputs": [
        {
          "output_type": "stream",
          "name": "stdout",
          "text": [
            "Среднеквадратичная ошибка (RMSE): 53.784557443405994\n"
          ]
        }
      ],
      "source": [
        "from sklearn.linear_model import LinearRegression\n",
        "from sklearn.metrics import mean_squared_error, r2_score\n",
        "model = LinearRegression()\n",
        "model.fit(X_train, y_train)\n",
        "y_pred = model.predict(X_test)\n",
        "mse = mean_squared_error(y_test, y_pred)\n",
        "rmse = mse**0.5\n",
        "print(f\"Среднеквадратичная ошибка (RMSE): {rmse}\")"
      ]
    },
    {
      "cell_type": "markdown",
      "metadata": {
        "id": "S19lF4L02s-U"
      },
      "source": [
        "10. Расчитайте R² (коэффициент детерминации)"
      ]
    },
    {
      "cell_type": "code",
      "execution_count": 15,
      "metadata": {
        "colab": {
          "base_uri": "https://localhost:8080/"
        },
        "id": "symduHGX2s-U",
        "outputId": "c4bbcf01-db0f-4ae2-83c5-2897da832630"
      },
      "outputs": [
        {
          "output_type": "stream",
          "name": "stdout",
          "text": [
            "Среднеквадратичная ошибка (RMSE): 53.784557443405994\n",
            "Коэффициент детерминации (R²): 0.4768642138880054\n"
          ]
        }
      ],
      "source": [
        "from sklearn.linear_model import LinearRegression\n",
        "from sklearn.metrics import mean_squared_error, r2_score\n",
        "model = LinearRegression()\n",
        "model.fit(X_train, y_train)\n",
        "y_pred = model.predict(X_test)\n",
        "mse = mean_squared_error(y_test, y_pred)\n",
        "rmse = mse**0.5\n",
        "r2 = r2_score(y_test, y_pred)\n",
        "print(f\"Среднеквадратичная ошибка (RMSE): {rmse}\")\n",
        "print(f\"Коэффициент детерминации (R²): {r2}\")"
      ]
    },
    {
      "cell_type": "markdown",
      "metadata": {
        "id": "AMrbwsPs2s-U"
      },
      "source": [
        "## Вопросы для защиты"
      ]
    },
    {
      "cell_type": "markdown",
      "metadata": {
        "id": "QCLtJAYY2s-V"
      },
      "source": [
        "1. Какие типы машинного обучения вы знаете?\n",
        "\n",
        "Типы машинного обучения:\n",
        "* Обучение с учителем (Supervised Learning): Используются размеченные данные (с входами и соответствующими выходами).\n",
        "* Обучение без учителя (Unsupervised Learning): Работа с неразмеченными данными для выявления скрытых закономерностей (кластеризация, понижение размерности).\n",
        "* Обучение с подкреплением (Reinforcement Learning): Обучение через взаимодействие с окружающей средой на основе вознаграждения и штрафов.\n",
        "* Полуобучение (Semi-Supervised Learning): Комбинируются размеченные и неразмеченные данные.\n",
        "* Обучение на основе переноса (Transfer Learning): Использование знаний из одной задачи для другой, похожей задачи.\n",
        "\n",
        "2. Чем отличается обучение с учителем и без учителя?\n",
        "\n",
        "Различия между обучением с учителем и без учителя:\n",
        "* Обучение с учителем: Данные размечены, модель предсказывает определенный выход (классификация, регрессия).\n",
        "* Обучение без учителя: Данные неразмечены, модель ищет скрытые структуры (кластеризация, PCA).\n",
        "\n",
        "3. Чем пакетное обучение отличается от динамического?\n",
        "\n",
        "Пакетное обучение: Модель обучается на всех данных сразу. Требует полной доступности данных. Динамическое (онлайн) обучение: Данные поступают по одному или небольшими порциями, модель адаптируется постепенно.\n",
        "\n",
        "4. Чем обучение на основе образцов отличается от обучения на основе модели?\n",
        "\n",
        "Обучение на основе образцов: Модель запоминает примеры из данных и делает предсказания, сравнивая с ними (например, kNN). Обучение на основе модели: Модель строит обобщенные зависимости между входами и выходами, используя параметры (например, линейная регрессия).\n",
        "\n",
        "5. Что такое линейная регрессия?\n",
        "\n",
        "Метод предсказания числового значения на основе линейной зависимости между переменными.\n",
        "\n",
        "6. Что такое градиентный спуск?\n",
        "\n",
        "Оптимизационный алгоритм, который минимизирует функцию ошибки путем итеративного обновления параметров модели по направлению антиградиента.\n",
        "\n",
        "7. Как правильно обрабатывать категориальные признаки?\n",
        "\n",
        "Обработка категориальных признаков:\n",
        "* Преобразование категорий в числа.\n",
        "* Создание бинарных признаков для каждой категории.\n",
        "* Используется, если категории имеют порядок.\n",
        "* Заменяет категории на среднее значение целевой переменной.\n",
        "\n",
        "8. Что такое матрица корреляции?\n",
        "\n",
        "Матрица, показывающая степень линейной зависимости между числовыми переменными.\n",
        "Коэффициенты корреляции варьируются от -1 до 1.\n",
        "\n",
        "9. Что показывает метрика RMSE?\n",
        "\n",
        "Корень среднеквадратичной ошибки. Измеряет разницу между предсказанными и истинными значениями.\n",
        "\n",
        "10. Что показывает метрика R²?\n",
        "\n",
        "Показывает долю объясненной моделью дисперсии в данных."
      ]
    }
  ],
  "metadata": {
    "kernelspec": {
      "display_name": "Python 3",
      "language": "python",
      "name": "python3"
    },
    "language_info": {
      "codemirror_mode": {
        "name": "ipython",
        "version": 3
      },
      "file_extension": ".py",
      "mimetype": "text/x-python",
      "name": "python",
      "nbconvert_exporter": "python",
      "pygments_lexer": "ipython3",
      "version": "3.12.2"
    },
    "colab": {
      "provenance": [],
      "include_colab_link": true
    }
  },
  "nbformat": 4,
  "nbformat_minor": 0
}