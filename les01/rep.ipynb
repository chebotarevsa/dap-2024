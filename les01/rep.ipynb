{
  "nbformat": 4,
  "nbformat_minor": 0,
  "metadata": {
    "colab": {
      "provenance": [],
      "toc_visible": true,
      "authorship_tag": "ABX9TyMHtIn7l2jKelysPQIWsSoE",
      "include_colab_link": true
    },
    "kernelspec": {
      "name": "python3",
      "display_name": "Python 3"
    },
    "language_info": {
      "name": "python"
    }
  },
  "cells": [
    {
      "cell_type": "markdown",
      "metadata": {
        "id": "view-in-github",
        "colab_type": "text"
      },
      "source": [
        "<a href=\"https://colab.research.google.com/github/Progra-man/dap-2024/blob/main/les01/rep.ipynb\" target=\"_parent\"><img src=\"https://colab.research.google.com/assets/colab-badge.svg\" alt=\"Open In Colab\"/></a>"
      ]
    },
    {
      "cell_type": "markdown",
      "source": [
        "#Лабораторная работа №1 | Подготовка среды для анализа данных.\n",
        "##Задание\n",
        "1. Создайте учетную запись в сервисе GitHub.\n",
        ">Создал учетную запись на [GitHub](https://github.com/Progra-man).\n",
        "2. Выполните форк [репозитория](https://github.com/chebotarevsa/dap-2024).\n",
        ">Выполнил форк репозитория. [Progra-man](https://github.com/Progra-man/dap-2024).\n",
        "3. Создайте учетную запись в [Google Colab](https://colab.research.google.com/).\n",
        "4. Настройте интеграцию Google Colab и GitHub.\n",
        ">После создания учётной записи, нажать \"файл\" и выбрать \"сохранить копию как файл Gist для GitHub\".\n",
        "5. Создайте в Google Colab отчет о выполненой работе в виде файла rep.ipynb. Используйте Markdown разметку (заголовки, списки, форматированный текст, ссылки)\n",
        ">Создал отчёт выполненой работы в виде файла rep.inpyb (использую Markdown разметку, заголовки, списки *форматированный текст*, ссылки).\n",
        "6. Сохраните отчет в ваш репозиторий github в директории ./les01.\n",
        ">Сохранил отчёт в репозиторию [./les01](https://github.com/Progra-man/dap-2024/tree/main/les01).\n",
        "7. Создайте pull request в репозиторий https://github.com/chebotarevsa/dap-2024. Название pull request должно иметь формат \"<Номер лабораторной работы> <Номер группы> <ФИО>\"\n",
        "8. Сдайте работу в системе \"Пегас\", в отчет укажите ссылку на pull request\n"
      ],
      "metadata": {
        "id": "By6spZiu_eoc"
      }
    }
  ]
}