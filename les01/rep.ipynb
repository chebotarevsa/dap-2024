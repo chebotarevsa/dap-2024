{
  "cells": [
    {
      "cell_type": "markdown",
      "metadata": {
        "id": "WX59vg02LVLD"
      },
      "source": [
        "# Лабораторная работа №1. Подготовка среды для анализа данных"
      ]
    },
    {
      "cell_type": "markdown",
      "metadata": {
        "id": "w4b0tmAILVLM"
      },
      "source": [
        "## Ход работы"
      ]
    },
    {
      "cell_type": "markdown",
      "metadata": {
        "id": "88QyvpAqLVLM"
      },
      "source": [
        "1. Был создан аккаунт на сервисе [GitHub](https://github.com/).\n",
        "2. Был выполнен [форк репозитория](https://github.com/ill0wl/dap-2024).\n",
        "3. Настроив интеграция Google Colab и GitHub, был создан и написан данный отчет с использованием Markdown разметки (заголовки, списки, форматированный текст и ссылки).\n",
        "4. Присвоив файлу имя rep.ipynb, отчет был сохранен в репозиторий GitHub в директории ./les01\n",
        "5. После того как были выполнены все пункты, был создан pull request, имеющий формат \"<Номер рабораторной работы><Номер группы><ФИО>\"."
      ]
    }
  ],
  "metadata": {
    "language_info": {
      "name": "python"
    },
    "colab": {
      "provenance": []
    }
  },
  "nbformat": 4,
  "nbformat_minor": 0
}