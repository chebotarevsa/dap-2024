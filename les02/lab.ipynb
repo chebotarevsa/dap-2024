{
  "cells": [
    {
      "cell_type": "markdown",
      "metadata": {
        "id": "view-in-github",
        "colab_type": "text"
      },
      "source": [
        "<a href=\"https://colab.research.google.com/github/golodenko2209/dap-2024/blob/main/les02/lab.ipynb\" target=\"_parent\"><img src=\"https://colab.research.google.com/assets/colab-badge.svg\" alt=\"Open In Colab\"/></a>"
      ]
    },
    {
      "cell_type": "markdown",
      "metadata": {
        "id": "v632Il7zK3VG"
      },
      "source": [
        "# Лабораторная работа №2. Основы Python"
      ]
    },
    {
      "cell_type": "markdown",
      "metadata": {
        "id": "ZAQDwMONK3VH"
      },
      "source": [
        "## Задание"
      ]
    },
    {
      "cell_type": "markdown",
      "metadata": {
        "id": "DM7ass8CK3VI"
      },
      "source": [
        "Выполните следующие задания:\n",
        "\n",
        "1. Откройте в файл в Google Colab (используйте собственный форк репозитория).\n",
        "2. Решите задачи.\n",
        "3. Сохраните результат в ваш репозиторий github в директорию ./les02\n",
        "4. Создайте pull request в репозиторий https://github.com/chebotarevsa/dap-2024. Название pull request должно иметь формат \"<Номер лабораторной работы>  <Номер группы> <ФИО>\"\n",
        "5. Сдайте работу в системе \"Пегас\", в отчет укажите ссылку на pull request"
      ]
    },
    {
      "cell_type": "markdown",
      "metadata": {
        "id": "W9KPSH5YK3VI"
      },
      "source": [
        "Задача №1. https://leetcode.com/problems/two-sum/"
      ]
    },
    {
      "cell_type": "code",
      "execution_count": null,
      "metadata": {
        "id": "L3JflkvwK3VJ"
      },
      "outputs": [],
      "source": [
        "class Solution(object):\n",
        "    def twoSum(self, nums, target):\n",
        "        \"\"\"\n",
        "        :type nums: List[int]\n",
        "        :type target: int\n",
        "        :rtype: List[int]\n",
        "        \"\"\"\n",
        "        # Ваше решение\n",
        "        for x in range(0, len(nums)):\n",
        "            for y in range(1, len(nums)):\n",
        "                if nums[x]+nums[y]==target:\n",
        "                    return[x,y]\n",
        "        return"
      ]
    },
    {
      "cell_type": "markdown",
      "metadata": {
        "id": "mhPA3clGK3VJ"
      },
      "source": [
        "Задача №2. https://leetcode.com/problems/palindrome-number/description/"
      ]
    },
    {
      "cell_type": "code",
      "execution_count": null,
      "metadata": {
        "id": "2HdT-x1EK3VJ"
      },
      "outputs": [],
      "source": [
        "class Solution2(object):\n",
        "    def isPalindrome(self, x):\n",
        "        \"\"\"\n",
        "        :type x: int\n",
        "        :rtype: bool\n",
        "        \"\"\"\n",
        "        # Ваше решение\n",
        "        if x < 0:\n",
        "            return False\n",
        "        rev = 0\n",
        "        x1 = x\n",
        "        while x > 0:\n",
        "            rev = (rev * 10) + (x % 10)\n",
        "            x //= 10\n",
        "\n",
        "        return rev == x1"
      ]
    },
    {
      "cell_type": "markdown",
      "metadata": {
        "id": "N1QW5vjrK3VK"
      },
      "source": [
        "Задача №3. https://leetcode.com/problems/roman-to-integer/description/"
      ]
    },
    {
      "cell_type": "code",
      "execution_count": null,
      "metadata": {
        "id": "ntY8TP0kK3VK"
      },
      "outputs": [],
      "source": [
        "class Solution3(object):\n",
        "    def romanToInt(self, s):\n",
        "        \"\"\"\n",
        "        :type s: str\n",
        "        :rtype: int\n",
        "        \"\"\"\n",
        "        # Ваше решение\n",
        "        dict1={'I':1,'V':5,'X':10,'L':50,'C':100,'D':500,'M':1000 }\n",
        "        val=0\n",
        "\n",
        "        for i in range(len(s)):\n",
        "            val=val+dict1[s[i]]\n",
        "            if i!=0:\n",
        "                if dict1[s[i]]>dict1[s[i-1]]:\n",
        "                    val=val-2*(dict1[s[i-1]])\n",
        "        return val"
      ]
    },
    {
      "cell_type": "markdown",
      "metadata": {
        "id": "zeap-usGK3VK"
      },
      "source": [
        "Задача №4. https://leetcode.com/problems/longest-common-prefix/description/"
      ]
    },
    {
      "cell_type": "code",
      "execution_count": null,
      "metadata": {
        "id": "ewinkDK2K3VK"
      },
      "outputs": [],
      "source": [
        "class Solution4(object):\n",
        "    def longestCommonPrefix(self, strs):\n",
        "        \"\"\"\n",
        "        :type strs: List[str]\n",
        "        :rtype: str\n",
        "        \"\"\"\n",
        "        # Ваше решение\n",
        "        if not strs:\n",
        "            return \"\"\n",
        "        prefix = strs[0]\n",
        "        for string in strs[1:]:\n",
        "            while string[:len(prefix)] != prefix and prefix:\n",
        "                prefix = prefix[:-1]\n",
        "            if not prefix:\n",
        "                break\n",
        "        return prefix"
      ]
    },
    {
      "cell_type": "markdown",
      "metadata": {
        "id": "qiEBchaNK3VL"
      },
      "source": [
        "Задача №5. https://leetcode.com/problems/merge-two-sorted-lists/description/"
      ]
    },
    {
      "cell_type": "code",
      "execution_count": null,
      "metadata": {
        "id": "xMaLhJlmK3VL"
      },
      "outputs": [],
      "source": [
        "class Solution5(object):\n",
        "    def mergeTwoLists(self, list1, list2):\n",
        "        \"\"\"\n",
        "        :type list1: Optional[ListNode]\n",
        "        :type list2: Optional[ListNode]\n",
        "        :rtype: Optional[ListNode]\n",
        "        \"\"\"\n",
        "        # Ваше решение\n",
        "        dump=ListNode(0)\n",
        "        tail=dump\n",
        "        while True:\n",
        "            if(list1==None):\n",
        "                tail.next=list2\n",
        "                break\n",
        "\n",
        "            if(list2==None):\n",
        "                tail.next=list1\n",
        "                break\n",
        "\n",
        "            if(list1.val<=list2.val):\n",
        "                tail.next=list1\n",
        "                list1=list1.next\n",
        "            else:\n",
        "                tail.next=list2\n",
        "                list2=list2.next\n",
        "            tail=tail.next\n",
        "        return dump.next"
      ]
    },
    {
      "cell_type": "markdown",
      "metadata": {
        "id": "eJU07RHhK3VL"
      },
      "source": [
        "Задача №6. https://leetcode.com/problems/longest-substring-without-repeating-characters/description/"
      ]
    },
    {
      "cell_type": "code",
      "execution_count": null,
      "metadata": {
        "id": "TO0VlGwIK3VL"
      },
      "outputs": [],
      "source": [
        "class Solution(object):\n",
        "    def lengthOfLongestSubstring(self, s):\n",
        "        \"\"\"\n",
        "        :type s: str\n",
        "        :rtype: int\n",
        "        \"\"\"\n",
        "        # Ваше решение\n",
        "        if len(s) == 0:\n",
        "            return 0\n",
        "        seen = {}\n",
        "        left, right = 0, 0\n",
        "        longest = 1\n",
        "        while right < len(s):\n",
        "            if s[right] in seen:\n",
        "                left = max(left,seen[s[right]]+1)\n",
        "            longest = max(longest, right - left + 1)\n",
        "            seen[s[right]] = right\n",
        "            right += 1\n",
        "            print(left, right, longest)\n",
        "        return longest"
      ]
    },
    {
      "cell_type": "markdown",
      "metadata": {
        "id": "BRjX7CIdK3VL"
      },
      "source": [
        "## Вопросы\n",
        "\n",
        "1. Что такое динамическая типизация и чем она отличается от статической?\n",
        "2. Чем отличается цикл for в Python от цикла for в С++?\n",
        "3. Для чего предназначены операторы continue и break?\n",
        "4. Как определить функцию в python? Может ли функция возвращать несколько значений?\n",
        "5. Что такое лямбда функции и для чего они предназначены?\n",
        "6. Может ли тело функции содержать определение другой функции?\n",
        "7. Как определить класс в python? Для чего нужна переменная self?\n",
        "8. Как определить приватный метод? Можно ли вызвать приватный метод за пределами класса?\n",
        "9. Как определить статический метод класса? Для чего может понадобиться статический метод?\n",
        "10. Чем staticmethod отличается от classmethod?\n",
        "11. Как определить собственный класс исключений Python? Как выбросить и перехватить исключение?\n",
        "12. Что такое картеж, для чего он используется?\n"
      ]
    }
  ],
  "metadata": {
    "language_info": {
      "name": "python"
    },
    "colab": {
      "provenance": [],
      "include_colab_link": true
    }
  },
  "nbformat": 4,
  "nbformat_minor": 0
}