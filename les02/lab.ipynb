{
  "cells": [
    {
      "cell_type": "markdown",
      "metadata": {
        "id": "WujlOL7Q3xui"
      },
      "source": [
        "# Лабораторная работа №2. Основы Python"
      ]
    },
    {
      "cell_type": "markdown",
      "metadata": {
        "id": "KGUzhfOK3xuj"
      },
      "source": [
        "## Задание"
      ]
    },
    {
      "cell_type": "markdown",
      "metadata": {
        "id": "pXfTJcET3xuj"
      },
      "source": [
        "Выполните следующие задания:\n",
        "\n",
        "1. Откройте в файл в Google Colab (используйте собственный форк репозитория).\n",
        "2. Решите задачи.\n",
        "3. Сохраните результат в ваш репозиторий github в директорию ./les02\n",
        "4. Создайте pull request в репозиторий https://github.com/chebotarevsa/dap-2024. Название pull request должно иметь формат \"<Номер лабораторной работы>  <Номер группы> <ФИО>\"\n",
        "5. Сдайте работу в системе \"Пегас\", в отчет укажите ссылку на pull request"
      ]
    },
    {
      "cell_type": "markdown",
      "metadata": {
        "id": "YaRfbULG3xuj"
      },
      "source": [
        "Задача №1. https://leetcode.com/problems/two-sum/"
      ]
    },
    {
      "cell_type": "code",
      "execution_count": 1,
      "metadata": {
        "colab": {
          "base_uri": "https://localhost:8080/"
        },
        "id": "dqXc0cIM3xuj",
        "outputId": "2a4b2b96-7a34-4823-f97c-c979ec031a59"
      },
      "outputs": [
        {
          "output_type": "stream",
          "name": "stdout",
          "text": [
            "[0, 1]\n"
          ]
        }
      ],
      "source": [
        "class Solution(object):\n",
        "    def twoSum(self, nums, target):\n",
        "        self.nums=nums\n",
        "        self.target=target\n",
        "        lens=len(nums)\n",
        "        for i in range(lens):\n",
        "            for j in range(i + 1, lens):\n",
        "                if nums[i] + nums[j] == target:\n",
        "                    return [i, j]\n",
        "\n",
        "test=Solution()\n",
        "print(test.twoSum([2,7,11,15],9))"
      ]
    },
    {
      "cell_type": "markdown",
      "metadata": {
        "id": "9EBNmV8_3xuk"
      },
      "source": [
        "Задача №2. https://leetcode.com/problems/palindrome-number/description/"
      ]
    },
    {
      "cell_type": "code",
      "execution_count": 7,
      "metadata": {
        "colab": {
          "base_uri": "https://localhost:8080/"
        },
        "id": "FALcdKvC3xuk",
        "outputId": "9aa48fa2-8d72-4682-f991-7ba7788648a3"
      },
      "outputs": [
        {
          "output_type": "stream",
          "name": "stdout",
          "text": [
            "False\n"
          ]
        }
      ],
      "source": [
        "class Solution(object):\n",
        "    def isPalindrome(self, x):\n",
        "        self.x=x\n",
        "        if(x<0):\n",
        "            return False\n",
        "        if(x%100==0 or x==0):\n",
        "            return False\n",
        "        temp=x\n",
        "        rev=0\n",
        "        while temp > 0:\n",
        "            dig = temp % 10\n",
        "            rev = rev * 10 + dig\n",
        "            temp //= 10\n",
        "\n",
        "        return rev == x\n",
        "my_sol = Solution()\n",
        "result = my_sol.isPalindrome(100)\n",
        "print(result)\n",
        ""
      ]
    },
    {
      "cell_type": "markdown",
      "metadata": {
        "id": "aGCLR3_C3xuk"
      },
      "source": [
        "Задача №3. https://leetcode.com/problems/roman-to-integer/description/"
      ]
    },
    {
      "cell_type": "code",
      "execution_count": 12,
      "metadata": {
        "id": "5GEoIpF33xuk"
      },
      "outputs": [],
      "source": [
        "class Solution(object):\n",
        "    def romanToInt(self, s):\n",
        "        dcnr = {'I': 1, 'V': 5, 'X': 10, 'L': 50, 'C': 100, 'D': 500, 'M': 1000}\n",
        "        result=0\n",
        "        for i in range(len(s)):\n",
        "            value=dcnr[s[i]]\n",
        "            if i+1<len(s) and dcnr[s[i]]<dcnr[s[i+1]]:result-=value\n",
        "            else:result+=value\n",
        "        return result\n",
        "sol=Solution()\n",
        "test=sol.romanToInt(\"MCMXCIV\")\n",
        "print(test)"
      ]
    },
    {
      "cell_type": "markdown",
      "metadata": {
        "id": "YyKxqqZI3xuk"
      },
      "source": [
        "Задача №4. https://leetcode.com/problems/longest-common-prefix/description/"
      ]
    },
    {
      "cell_type": "code",
      "execution_count": 8,
      "metadata": {
        "colab": {
          "base_uri": "https://localhost:8080/"
        },
        "id": "aLmQVsqM3xul",
        "outputId": "a6de289d-9545-4ecc-dd20-3e7ea650ab39"
      },
      "outputs": [
        {
          "output_type": "stream",
          "name": "stdout",
          "text": [
            "fl\n"
          ]
        }
      ],
      "source": [
        "class Solution(object):\n",
        "    def longestCommonPrefix(self, strs):\n",
        "        self.strs=strs\n",
        "        pref=strs[0]\n",
        "        for string in strs[1:]:\n",
        "            while string[:len(pref)] !=pref and pref:\n",
        "                pref=pref[:-1]\n",
        "        if pref != string[:len(pref)]:\n",
        "            pref = \"\"\n",
        "            return pref\n",
        "        return pref\n",
        "strs1 = Solution()\n",
        "print(strs1.longestCommonPrefix([\"flower\", \"flow\", \"flight\"]))"
      ]
    },
    {
      "cell_type": "markdown",
      "metadata": {
        "id": "bZZUXnuK3xul"
      },
      "source": [
        "Задача №5. https://leetcode.com/problems/merge-two-sorted-lists/description/"
      ]
    },
    {
      "cell_type": "code",
      "execution_count": 9,
      "metadata": {
        "colab": {
          "base_uri": "https://localhost:8080/"
        },
        "id": "01s3pMtM3xul",
        "outputId": "42c9e799-73be-4a3e-b650-c48c82dfa172"
      },
      "outputs": [
        {
          "output_type": "stream",
          "name": "stdout",
          "text": [
            "[1, 1, 2, 3, 3, 4]\n"
          ]
        }
      ],
      "source": [
        "class Solution(object):\n",
        "    def mergeTwoLists(self, list1, list2):\n",
        "        self.list1=list1\n",
        "        self.list2=list2\n",
        "        new_list=[]\n",
        "        new_list.extend(list1)\n",
        "        new_list.extend(list2)\n",
        "        new_list.sort()\n",
        "        return new_list\n",
        "\n",
        "mass = Solution()\n",
        "print(mass.mergeTwoLists([1, 2, 3], [1, 3, 4]))\n",
        ""
      ]
    },
    {
      "cell_type": "markdown",
      "metadata": {
        "id": "8Sx8QSfA3xul"
      },
      "source": [
        "Задача №6. https://leetcode.com/problems/longest-substring-without-repeating-characters/description/"
      ]
    },
    {
      "cell_type": "code",
      "execution_count": 10,
      "metadata": {
        "colab": {
          "base_uri": "https://localhost:8080/"
        },
        "id": "A8qjz94k3xul",
        "outputId": "57ef1586-40a1-4c39-e52e-d35f04dfef82"
      },
      "outputs": [
        {
          "output_type": "stream",
          "name": "stdout",
          "text": [
            "3\n"
          ]
        }
      ],
      "source": [
        "class Solution(object):\n",
        "    def lengthOfLongestSubstring(self, s):\n",
        "        mas={}\n",
        "        start=0\n",
        "        max_len=0\n",
        "        for i in range(len(s)):\n",
        "            if s[i] in mas:\n",
        "                start= max(start, mas[s[i]]+1)\n",
        "            mas[s[i]]=i\n",
        "            max_len=max(max_len,i-start+1)\n",
        "        return max_len\n",
        "test=Solution()\n",
        "print(test.lengthOfLongestSubstring(\"abcabcbb\"))"
      ]
    },
    {
      "cell_type": "markdown",
      "metadata": {
        "id": "xJwTmbDu3xul"
      },
      "source": [
        "## Вопросы\n",
        "\n",
        "1. Python является языком с динамической типизацией. А это значит, что переменная не привязана жестко к определенному типу. Отличие состоит в том, что в динамической типизации тип пеерменной объявляется во время выполнения программы, это означает возможность изменения типа переменной, в статичской типизации тип переменной объявляется на этапе компиляциии и не изменяется в процессе выполнения программы.\n",
        "2. В Python цикл for используется для итерации по элементам последовательностей (списки, строки, кортежи и т. д.). В C++ цикл for чаще всего используется для итерации с использованием индекса:\n",
        "```\n",
        "for (int i = 0; i < 3; i++) {\n",
        "      cout << \"Индекс: \" << i << endl;\n",
        "  }\n",
        "```\n",
        "3. Для управления циклом мы можем использовать специальные операторы ***break*** и ***continue***. Оператор ***break*** осуществляет выход из цикла. А оператор ***continue*** выполняет переход к следующей итерации цикла\n",
        "4. Формальное определение функции:\n",
        "```\n",
        "def имя_функции ([параметры]):\n",
        "    инструкции\n",
        "```\n",
        "Функция может возвращать несколько значений с помощью кортежей или списков.\n",
        "5. Лямбда-выражения в языке Python представляют небольшие анонимные функции, которые определяются с помощью оператора lambda. Формальное определение лямбда-выражения:\n",
        "```\n",
        "lambda [параметры] : инструкция\n",
        "```\n",
        "Лямбда-выражения предназначены для создания анонимных функций, которые могут быть определены и использованы в одной строчке. Они особенно полезны для краткого написания небольших функций, которые не требуют своего имени:\n",
        "```\n",
        "double = lambda x: x * 2\n",
        "print(double(5))\n",
        "```\n",
        "6. Тело функции может содержать определение другой функции.Такой подход называют \"вложенной функцией\" или \"внутренней функцией\":\n",
        "```\n",
        "def основная_функция(x):\n",
        "    ....\n",
        "    def вспомогательная_функция(y):\n",
        "      ...\n",
        "  return основной ф-ии\n",
        "```\n",
        "7. Класс определяется командой class:\n",
        "```\n",
        "class MyClass:\n",
        "    тело\n",
        "```\n",
        "Переменная ***self*** является ссылкой на текущий экземпляр класса:\n",
        "```\n",
        "class Circle:\n",
        "  def __init__(self, radius = 5):\n",
        "    self.radius = radius\n",
        "```\n",
        "8. Любой метод или переменная экземпляра, имя которой начинается (именно начинается, а не заканчивается!) с двойного символа подчеркивания (__), являются приватными; все остальное приватным не является:\n",
        "```\n",
        "class Mine:\n",
        "      def __init__(self):\n",
        "        self.x = 2\n",
        "        self.__y = 3\n",
        "      def print_y(self):\n",
        "      print(self.__y)\n",
        "```\n",
        "Приватный метод за пределами класса можно вызвать следующим образом:\n",
        "```\n",
        "mine = Mine()\n",
        "print(mine.x)\n",
        "mine.print_y()\n",
        "print(mine.__y)\n",
        "```\n",
        "9. Чтобы создать статический метод, используется декоратор @staticmethod:\n",
        "```\n",
        "class primer:\n",
        "    @staticmethod\n",
        "    def статический_метод():\n",
        "        return\n",
        "```\n",
        "Статические методы используются для:\n",
        "*   для создания экземпляров класса без использования __init__;\n",
        "*   для выполнения логических операций или преобразований данных, которые не требуют доступа к атрибутам экземпляра или классу;\n",
        "\n",
        "10. Основное различие между staticmethod и classmethod заключается в том, что первые не имеют доступа ни к экземплярам, ни к классу, в то время как вторые могут взаимодействовать с классом и изменять его состояние.\n",
        "11. Для создания собственного класса исключения нужно унаследовать его от встроенного класса Exception:\n",
        "```\n",
        "class Исключение(Exception):\n",
        "        ...\n",
        "        pass\n",
        "```\n",
        "Чтобы выбросить исключение, используется оператор raise.Для перехвата исключений используется блок try...except:\n",
        "```\n",
        "class MyException(BaseException):\n",
        "        def\n",
        "        return\n",
        "try:\n",
        "  raise MyException(\"Ошибка\")\n",
        "except MyException as error:\n",
        "  print(error)\n",
        "```\n",
        "12. Кортеж (tuple) представляет последовательность элементов, которая во многом похожа на список за тем исключением, что кортеж является неизменяемым (immutable) типом. Поэтому мы не можем добавлять или удалять элементы в кортеже, изменять его.\n",
        "Для создания кортежа используются круглые скобки, в которые помещаются его значения, разделенные запятыми:\n",
        "```\n",
        "tom = (\"Tom\", 23)\n",
        "print(tom)  \n",
        "```\n",
        "\n"
      ]
    }
  ],
  "metadata": {
    "language_info": {
      "name": "python"
    },
    "colab": {
      "provenance": []
    },
    "kernelspec": {
      "name": "python3",
      "display_name": "Python 3"
    }
  },
  "nbformat": 4,
  "nbformat_minor": 0
}