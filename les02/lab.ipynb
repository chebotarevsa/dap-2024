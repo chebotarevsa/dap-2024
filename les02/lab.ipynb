{
  "cells": [
    {
      "cell_type": "markdown",
      "metadata": {
        "id": "QABYTsrUNsrM"
      },
      "source": [
        "# Лабораторная работа №2. Основы Python"
      ]
    },
    {
      "cell_type": "markdown",
      "metadata": {
        "id": "D5hhw18hNsrN"
      },
      "source": [
        "## Задание"
      ]
    },
    {
      "cell_type": "markdown",
      "metadata": {
        "id": "wDRDn7YaNsrO"
      },
      "source": [
        "Выполните следующие задания:\n",
        "\n",
        "1. Откройте в файл в Google Colab (используйте собственный форк репозитория).\n",
        "2. Решите задачи.\n",
        "3. Сохраните результат в ваш репозиторий github в директорию ./les02\n",
        "4. Создайте pull request в репозиторий https://github.com/chebotarevsa/dap-2024. Название pull request должно иметь формат \"<Номер лабораторной работы>  <Номер группы> <ФИО>\"\n",
        "5. Сдайте работу в системе \"Пегас\", в отчет укажите ссылку на pull request"
      ]
    },
    {
      "cell_type": "markdown",
      "metadata": {
        "id": "wqIIMcCFNsrO"
      },
      "source": [
        "Задача №1. https://leetcode.com/problems/two-sum/"
      ]
    },
    {
      "cell_type": "code",
      "execution_count": null,
      "metadata": {
        "id": "gut-s4IiNsrO"
      },
      "outputs": [],
      "source": [
        "class Solution1(object):\n",
        "    def twoSum(self, nums, target):\n",
        "        \"\"\"\n",
        "        :type nums: List[int]\n",
        "        :type target: int\n",
        "        :rtype: List[int]\n",
        "        \"\"\"\n",
        "        # Ваше решение"
      ]
    },
    {
      "cell_type": "markdown",
      "metadata": {
        "id": "NXFVEdkVNsrP"
      },
      "source": [
        "Задача №2. https://leetcode.com/problems/palindrome-number/description/"
      ]
    },
    {
      "cell_type": "code",
      "execution_count": null,
      "metadata": {
        "id": "vzf6n42kNsrP"
      },
      "outputs": [],
      "source": [
        "class Solution2(object):\n",
        "    def isPalindrome(self, x):\n",
        "        \"\"\"\n",
        "        :type x: int\n",
        "        :rtype: bool\n",
        "        \"\"\"\n",
        "\n",
        "        # Ваше решение\n",
        ""
      ]
    },
    {
      "cell_type": "markdown",
      "metadata": {
        "id": "kO0Y1uFSNsrP"
      },
      "source": [
        "Задача №3. https://leetcode.com/problems/roman-to-integer/description/"
      ]
    },
    {
      "cell_type": "code",
      "execution_count": null,
      "metadata": {
        "id": "-8Hi6IgpNsrP"
      },
      "outputs": [],
      "source": [
        "class Solution3(object):\n",
        "    def romanToInt(self, s):\n",
        "        \"\"\"\n",
        "        :type s: str\n",
        "        :rtype: int\n",
        "        \"\"\"\n",
        "\n",
        "        # Ваше решение"
      ]
    },
    {
      "cell_type": "markdown",
      "metadata": {
        "id": "0skPwc3fNsrP"
      },
      "source": [
        "Задача №4. https://leetcode.com/problems/longest-common-prefix/description/"
      ]
    },
    {
      "cell_type": "code",
      "execution_count": null,
      "metadata": {
        "id": "cLF8DMnKNsrP"
      },
      "outputs": [],
      "source": [
        "class Solution4(object):\n",
        "    def longestCommonPrefix(self, strs):\n",
        "        \"\"\"\n",
        "        :type strs: List[str]\n",
        "        :rtype: str\n",
        "        \"\"\"\n",
        "        # Ваше решение\n",
        ""
      ]
    },
    {
      "cell_type": "markdown",
      "metadata": {
        "id": "vw2_VgC7NsrQ"
      },
      "source": [
        "Задача №5. https://leetcode.com/problems/merge-two-sorted-lists/description/"
      ]
    },
    {
      "cell_type": "code",
      "execution_count": null,
      "metadata": {
        "id": "__fRwoOPNsrQ"
      },
      "outputs": [],
      "source": [
        "class Solution5(object):\n",
        "    def mergeTwoLists(self, list1, list2):\n",
        "        \"\"\"\n",
        "        :type list1: Optional[ListNode]\n",
        "        :type list2: Optional[ListNode]\n",
        "        :rtype: Optional[ListNode]\n",
        "        \"\"\"\n",
        "\n",
        "        # Ваше решение\n",
        ""
      ]
    },
    {
      "cell_type": "markdown",
      "metadata": {
        "id": "hLCgVaCTNsrQ"
      },
      "source": [
        "Задача №6. https://leetcode.com/problems/longest-substring-without-repeating-characters/description/"
      ]
    },
    {
      "cell_type": "code",
      "execution_count": null,
      "metadata": {
        "id": "NCyGJi9BNsrQ"
      },
      "outputs": [],
      "source": [
        "class Solution(object):\n",
        "    def lengthOfLongestSubstring(self, s):\n",
        "        \"\"\"\n",
        "        :type s: str\n",
        "        :rtype: int\n",
        "        \"\"\"\n",
        "\n",
        "        # Ваше решение"
      ]
    },
    {
      "cell_type": "markdown",
      "metadata": {
        "id": "tjGmHjS7NsrQ"
      },
      "source": [
        "## Вопросы\n",
        "\n",
        "1. Что такое динамическая типизация и чем она отличается от статической?\n",
        "2. Чем отличается цикл for в Python от цикла for в С++?\n",
        "3. Для чего предназначены операторы continue и break?\n",
        "4. Как определить функцию в python? Может ли функция возвращать несколько значений?\n",
        "5. Что такое лямбда функции и для чего они предназначены?\n",
        "6. Может ли тело функции содержать определение другой функции?\n",
        "7. Как определить класс в python? Для чего нужна переменная self?\n",
        "8. Как определить приватный метод? Можно ли вызвать приватный метод за пределами класса?\n",
        "9. Как определить статический метод класса? Для чего может понадобиться статический метод?\n",
        "10. Чем staticmethod отличается от classmethod?\n",
        "11. Как определить собственный класс исключений Python? Как выбросить и перехватить исключение?\n",
        "12. Что такое картеж, для чего он используется?\n"
      ]
    }
  ],
  "metadata": {
    "language_info": {
      "name": "python"
    },
    "colab": {
      "provenance": []
    }
  },
  "nbformat": 4,
  "nbformat_minor": 0
}