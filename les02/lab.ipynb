{
  "cells": [
    {
      "cell_type": "markdown",
      "metadata": {
        "id": "2ix20w9PHn4I"
      },
      "source": [
        "# Лабораторная работа №2. Основы Python"
      ]
    },
    {
      "cell_type": "markdown",
      "metadata": {
        "id": "n3bR9zJKHn4J"
      },
      "source": [
        "## Задание"
      ]
    },
    {
      "cell_type": "markdown",
      "metadata": {
        "id": "sgSwa7AuHn4J"
      },
      "source": [
        "Выполните следующие задания:\n",
        "\n",
        "1. Откройте в файл в Google Colab (используйте собственный форк репозитория).\n",
        "2. Решите задачи.\n",
        "3. Сохраните результат в ваш репозиторий github в директорию ./les02\n",
        "4. Создайте pull request в репозиторий https://github.com/chebotarevsa/dap-2024. Название pull request должно иметь формат \"<Номер лабораторной работы>  <Номер группы> <ФИО>\"\n",
        "5. Сдайте работу в системе \"Пегас\", в отчет укажите ссылку на pull request"
      ]
    },
    {
      "cell_type": "markdown",
      "metadata": {
        "id": "u5gBePPqHn4J"
      },
      "source": [
        "Задача №1. https://leetcode.com/problems/two-sum/"
      ]
    },
    {
      "cell_type": "code",
      "execution_count": null,
      "metadata": {
        "id": "dt_IpJgJHn4J"
      },
      "outputs": [],
      "source": [
        "\n",
        "class Solution(object):\n",
        "    def twoSum(self, nums, target):\n",
        "        \"\"\"\n",
        "        :type nums: List[int]\n",
        "        :type target: int\n",
        "        :rtype: List[int]\n",
        "        \"\"\"\n",
        "        num_to_index = {}  # Создаем пустой словарь для хранения чисел и их индексов\n",
        "\n",
        "        for index, num in enumerate(nums):\n",
        "            complement = target - num  # Вычисляем число, необходимое для достижения target\n",
        "\n",
        "            if complement in num_to_index:\n",
        "                # Если число, необходимое для достижения target, уже есть в словаре,\n",
        "                # возвращаем его индекс и текущий индекс\n",
        "                return [num_to_index[complement], index]\n",
        "\n",
        "            num_to_index[num] = index  # Записываем число и его индекс в словарь\n",
        "\n",
        "        return []  # Если решение не найдено (что не произойдет по условию задачи)"
      ]
    },
    {
      "cell_type": "markdown",
      "metadata": {
        "id": "TfFaRgVpHn4J"
      },
      "source": [
        "Задача №2. https://leetcode.com/problems/palindrome-number/description/"
      ]
    },
    {
      "cell_type": "code",
      "execution_count": null,
      "metadata": {
        "id": "n1w6MVQzHn4K"
      },
      "outputs": [],
      "source": [
        "class Solution(object):\n",
        "    def isPalindrome(self, x):\n",
        "        \"\"\"\n",
        "        :type x: int\n",
        "        :rtype: bool\n",
        "        \"\"\"\n",
        "        # Отрицательные числа не могут быть палиндромами\n",
        "        if x < 0:\n",
        "            return False\n",
        "\n",
        "        # Преобразуем число в строку и сравниваем его с обратной строкой\n",
        "        return str(x) == str(x)[::-1]\n",
        ""
      ]
    },
    {
      "cell_type": "markdown",
      "metadata": {
        "id": "CLFGqb1PHn4K"
      },
      "source": [
        "Задача №3. https://leetcode.com/problems/roman-to-integer/description/"
      ]
    },
    {
      "cell_type": "code",
      "execution_count": null,
      "metadata": {
        "id": "Vp09x2ucHn4K"
      },
      "outputs": [],
      "source": [
        "class Solution(object):\n",
        "    def romanToInt(self, s):\n",
        "        \"\"\"\n",
        "        :type s: str\n",
        "        :rtype: int\n",
        "        \"\"\"\n",
        "        # Словарь для хранения значений римских цифр\n",
        "        roman_values = {\n",
        "            'I': 1,\n",
        "            'V': 5,\n",
        "            'X': 10,\n",
        "            'L': 50,\n",
        "            'C': 100,\n",
        "            'D': 500,\n",
        "            'M': 1000\n",
        "        }\n",
        "\n",
        "        total = 0  # Переменная для хранения итогового значения\n",
        "        prev_value = 0  # Переменная для хранения предыдущего значения\n",
        "\n",
        "        # Проходим по каждому символу римской цифры с конца\n",
        "        for char in reversed(s):\n",
        "            current_value = roman_values[char]\n",
        "\n",
        "            # Если текущее значение меньше предыдущего, вычитаем его\n",
        "            if current_value < prev_value:\n",
        "                total -= current_value\n",
        "            else:\n",
        "                total += current_value\n",
        "\n",
        "            # Обновляем предыдущее значение\n",
        "            prev_value = current_value\n",
        "\n",
        "        return total"
      ]
    },
    {
      "cell_type": "markdown",
      "metadata": {
        "id": "9fBZVKp0Hn4K"
      },
      "source": [
        "Задача №4. https://leetcode.com/problems/longest-common-prefix/description/"
      ]
    },
    {
      "cell_type": "code",
      "execution_count": null,
      "metadata": {
        "id": "VlOLRXriHn4K"
      },
      "outputs": [],
      "source": [
        "class Solution(object):\n",
        "    def longestCommonPrefix(self, strs):\n",
        "        \"\"\"\n",
        "        :type strs: List[str]\n",
        "        :rtype: str\n",
        "        \"\"\"\n",
        "        if not strs:\n",
        "            return \"\"\n",
        "\n",
        "        # Начинаем с первого слова в списке как префикс\n",
        "        prefix = strs[0]\n",
        "\n",
        "        for string in strs[1:]:\n",
        "            # Сокращаем префикс, пока он не совпадает с началом текущей строки\n",
        "            while string[:len(prefix)] != prefix and prefix:\n",
        "                prefix = prefix[:-1]  # Убираем последний символ из префикса\n",
        "\n",
        "        return prefix\n",
        ""
      ]
    },
    {
      "cell_type": "markdown",
      "metadata": {
        "id": "CT5wcOcCHn4K"
      },
      "source": [
        "Задача №5. https://leetcode.com/problems/merge-two-sorted-lists/description/"
      ]
    },
    {
      "cell_type": "code",
      "execution_count": null,
      "metadata": {
        "id": "tmD4ltx0Hn4K"
      },
      "outputs": [],
      "source": [
        "# Definition for singly-linked list.\n",
        "# class ListNode(object):\n",
        "#     def __init__(self, val=0, next=None):\n",
        "#         self.val = val\n",
        "#         self.next = next\n",
        "class Solution(object):\n",
        "    def mergeTwoLists(self, list1, list2):\n",
        "        \"\"\"\n",
        "        :type list1: Optional[ListNode]\n",
        "        :type list2: Optional[ListNode]\n",
        "        :rtype: Optional[ListNode]\n",
        "        \"\"\"\n",
        "         # Создаем искусственный узел, который будет служить головой нового списка\n",
        "        dummy = ListNode()\n",
        "        current = dummy  # Указатель на текущий узел\n",
        "\n",
        "        # Пока оба списка не пустые\n",
        "        while list1 and list2:\n",
        "            if list1.val < list2.val:\n",
        "                current.next = list1  # Присоединяем узел из list1\n",
        "                list1 = list1.next  # Переходим к следующему узлу в list1\n",
        "            else:\n",
        "                current.next = list2  # Присоединяем узел из list2\n",
        "                list2 = list2.next  # Переходим к следующему узлу в list2\n",
        "\n",
        "            current = current.next  # Перемещаем указатель текущего узла\n",
        "\n",
        "        # Присоединяем оставшийся узел из одного из списков, если он не пустой\n",
        "        if list1:\n",
        "            current.next = list1\n",
        "        elif list2:\n",
        "            current.next = list2\n",
        "\n",
        "        # Возвращаем объединенный список, начиная с первого узла (исключая dummy)\n",
        "        return dummy.next\n",
        ""
      ]
    },
    {
      "cell_type": "markdown",
      "metadata": {
        "id": "juRT3mirHn4K"
      },
      "source": [
        "Задача №6. https://leetcode.com/problems/longest-substring-without-repeating-characters/description/"
      ]
    },
    {
      "cell_type": "code",
      "execution_count": null,
      "metadata": {
        "id": "cVwXjFFUHn4K"
      },
      "outputs": [],
      "source": [
        "class Solution(object):\n",
        "    def lengthOfLongestSubstring(self, s):\n",
        "        \"\"\"\n",
        "        :type s: str\n",
        "        :rtype: int\n",
        "        \"\"\"\n",
        "        # Используем множество для хранения уникальных символов\n",
        "        char_set = set()\n",
        "        left = 0  # Указатель на начало текущей подстроки\n",
        "        max_length = 0  # Максимальная длина подстроки\n",
        "\n",
        "        # Проходим по строке с правым указателем\n",
        "        for right in range(len(s)):\n",
        "            # Если символ уже в множестве, сдвигаем левый указатель\n",
        "            while s[right] in char_set:\n",
        "                char_set.remove(s[left])\n",
        "                left += 1\n",
        "\n",
        "            # Добавляем текущий символ в множество\n",
        "            char_set.add(s[right])\n",
        "            # Обновляем максимальную длину\n",
        "            max_length = max(max_length, right - left + 1)\n",
        "\n",
        "        return max_length"
      ]
    },
    {
      "cell_type": "markdown",
      "metadata": {
        "id": "II3GrxnnHn4K"
      },
      "source": [
        "## Вопросы\n",
        "\n",
        "1. Что такое динамическая типизация и чем она отличается от статической?\n",
        "2. Чем отличается цикл for в Python от цикла for в С++?\n",
        "3. Для чего предназначены операторы continue и break?\n",
        "4. Как определить функцию в python? Может ли функция возвращать несколько значений?\n",
        "5. Что такое лямбда функции и для чего они предназначены?\n",
        "6. Может ли тело функции содержать определение другой функции?\n",
        "7. Как определить класс в python? Для чего нужна переменная self?\n",
        "8. Как определить приватный метод? Можно ли вызвать приватный метод за пределами класса?\n",
        "9. Как определить статический метод класса? Для чего может понадобиться статический метод?\n",
        "10. Чем staticmethod отличается от classmethod?\n",
        "11. Как определить собственный класс исключений Python? Как выбросить и перехватить исключение?\n",
        "12. Что такое картеж, для чего он используется?\n"
      ]
    }
  ],
  "metadata": {
    "language_info": {
      "name": "python"
    },
    "colab": {
      "provenance": []
    }
  },
  "nbformat": 4,
  "nbformat_minor": 0
}