{
  "cells": [
    {
      "cell_type": "markdown",
      "metadata": {
        "id": "gGidZdNpbPMK"
      },
      "source": [
        "# Лабораторная работа №2. Основы Python"
      ]
    },
    {
      "cell_type": "markdown",
      "metadata": {
        "id": "PnInvse8bPMM"
      },
      "source": [
        "## Задание"
      ]
    },
    {
      "cell_type": "markdown",
      "metadata": {
        "id": "hyltlVhKbPMN"
      },
      "source": [
        "Выполните следующие задания:\n",
        "\n",
        "1. Откройте в файл в Google Colab (используйте собственный форк репозитория).\n",
        "2. Решите задачи.\n",
        "3. Сохраните результат в ваш репозиторий github в директорию ./les02\n",
        "4. Создайте pull request в репозиторий https://github.com/chebotarevsa/dap-2024. Название pull request должно иметь формат \"<Номер лабораторной работы>  <Номер группы> <ФИО>\"\n",
        "5. Сдайте работу в системе \"Пегас\", в отчет укажите ссылку на pull request"
      ]
    },
    {
      "cell_type": "markdown",
      "metadata": {
        "id": "Cjv4qZDSbPMN"
      },
      "source": [
        "Задача №1. https://leetcode.com/problems/two-sum/"
      ]
    },
    {
      "cell_type": "code",
      "execution_count": 3,
      "metadata": {
        "colab": {
          "base_uri": "https://localhost:8080/"
        },
        "id": "3PexIonlbPMN",
        "outputId": "7f5a6cb0-3bec-442d-e5d2-c2272cb54bc0"
      },
      "outputs": [
        {
          "output_type": "stream",
          "name": "stdout",
          "text": [
            "[0, 1]\n"
          ]
        }
      ],
      "source": [
        "class Solution(object):\n",
        "    def twoSum(self, nums, target):\n",
        "        for i in range(len(nums)):\n",
        "            for j in range(i + 1, len(nums)):\n",
        "                if nums[i] + nums[j] == target:\n",
        "                    return [i, j]\n",
        "solution = Solution()\n",
        "result = solution.twoSum([2, 7, 11, 15], 9)\n",
        "print(result)"
      ]
    },
    {
      "cell_type": "markdown",
      "metadata": {
        "id": "ByBpSutFbPMO"
      },
      "source": [
        "Задача №2. https://leetcode.com/problems/palindrome-number/description/"
      ]
    },
    {
      "cell_type": "code",
      "execution_count": 1,
      "metadata": {
        "colab": {
          "base_uri": "https://localhost:8080/"
        },
        "id": "edY7PBB4bPMP",
        "outputId": "22c969fd-1cd6-4a2e-9a7b-61a7d6d9a424"
      },
      "outputs": [
        {
          "output_type": "stream",
          "name": "stdout",
          "text": [
            "True\n"
          ]
        }
      ],
      "source": [
        "class Solution(object):\n",
        "    def isPalindrome(self, x):\n",
        "        x_str = str(x)\n",
        "        return x_str == x_str[::-1]\n",
        "solution = Solution()\n",
        "x = 121\n",
        "print(solution.isPalindrome(x))"
      ]
    },
    {
      "cell_type": "markdown",
      "metadata": {
        "id": "BKlYh92ybPMP"
      },
      "source": [
        "Задача №3. https://leetcode.com/problems/roman-to-integer/description/"
      ]
    },
    {
      "cell_type": "code",
      "execution_count": null,
      "metadata": {
        "id": "upo8saATbPMP"
      },
      "outputs": [],
      "source": [
        "class Solution(object):\n",
        "    def romanToInt(self, s):\n",
        "        roman_values = {\n",
        "            'I': 1, 'V': 5, 'X': 10, 'L': 50,\n",
        "            'C': 100, 'D': 500, 'M': 1000\n",
        "        }\n",
        "        total = 0\n",
        "        prev_value = 0\n",
        "        for char in reversed(s):\n",
        "            current_value = roman_values[char]\n",
        "            if current_value < prev_value:\n",
        "                total -= current_value\n",
        "            else:\n",
        "                total += current_value\n",
        "            prev_value = current_value\n",
        "        return total\n",
        "solution = Solution()\n",
        "print(solution.romanToInt('II'))\n",
        "print(solution.romanToInt('XII'))\n",
        "print(solution.romanToInt('XXVII'))"
      ]
    },
    {
      "cell_type": "markdown",
      "metadata": {
        "id": "j9Ak9LoobPMP"
      },
      "source": [
        "Задача №4. https://leetcode.com/problems/longest-common-prefix/description/"
      ]
    },
    {
      "cell_type": "code",
      "execution_count": null,
      "metadata": {
        "id": "JsEL8QNSbPMQ"
      },
      "outputs": [],
      "source": [
        "class Solution(object):\n",
        "    def longestCommonPrefix(self, strs):\n",
        "        \"\"\"\n",
        "        :type strs: List[str]\n",
        "        :rtype: str\n",
        "        \"\"\"\n",
        "        if not strs:\n",
        "            return \"\"\n",
        "        prefix = strs[0]\n",
        "        for s in strs[1:]:\n",
        "            while not s.startswith(prefix):\n",
        "                prefix = prefix[:-1]\n",
        "                if not prefix:\n",
        "                    return \"\"\n",
        "        return prefix\n",
        "solution = Solution()\n",
        "print(solution.longestCommonPrefix([\"flower\", \"flow\", \"flight\"]))\n",
        "print(solution.longestCommonPrefix([\"dog\", \"racecar\", \"car\"]))"
      ]
    },
    {
      "cell_type": "markdown",
      "metadata": {
        "id": "ux4m6jTIbPMQ"
      },
      "source": [
        "Задача №5. https://leetcode.com/problems/merge-two-sorted-lists/description/"
      ]
    },
    {
      "cell_type": "code",
      "execution_count": 4,
      "metadata": {
        "colab": {
          "base_uri": "https://localhost:8080/"
        },
        "id": "mvkHh0WfbPMQ",
        "outputId": "5a08d42a-e45f-4b27-c1dc-fea9d0dbc74f"
      },
      "outputs": [
        {
          "output_type": "stream",
          "name": "stdout",
          "text": [
            "[1, 1, 2, 3, 4, 4]\n"
          ]
        }
      ],
      "source": [
        "class Solution(object):\n",
        "    def TwoLists(self, list1, list2):\n",
        "        list_sum = list1 + list2\n",
        "        return sorted(list_sum)\n",
        "solution = Solution()\n",
        "list1 = [2, 1, 4]\n",
        "list2 = [1, 3, 4]\n",
        "result = solution.TwoLists(list1, list2)\n",
        "print(result)\n"
      ]
    },
    {
      "cell_type": "markdown",
      "metadata": {
        "id": "Zbn5KiGGbPMQ"
      },
      "source": [
        "Задача №6. https://leetcode.com/problems/longest-substring-without-repeating-characters/description/"
      ]
    },
    {
      "cell_type": "code",
      "execution_count": 5,
      "metadata": {
        "colab": {
          "base_uri": "https://localhost:8080/"
        },
        "id": "RAMVD74kbPMQ",
        "outputId": "6d794fc7-7fe0-400c-a664-3b66103b43ce"
      },
      "outputs": [
        {
          "output_type": "stream",
          "name": "stdout",
          "text": [
            "3\n",
            "1\n",
            "3\n"
          ]
        }
      ],
      "source": [
        "class Solution(object):\n",
        "    def lengthOfLongestSubstring(self, s):\n",
        "        max_length = 0\n",
        "        for i in range(len(s)):\n",
        "            substring = \"\"\n",
        "            for j in range(i, len(s)):\n",
        "                if s[j] not in substring:\n",
        "                    substring += s[j]\n",
        "                    max_length = max(max_length, len(substring))\n",
        "                else:\n",
        "                    break\n",
        "        return max_length\n",
        "solution = Solution()\n",
        "print(solution.lengthOfLongestSubstring(\"abcabcbb\"))\n",
        "print(solution.lengthOfLongestSubstring(\"bbbbb\"))\n",
        "print(solution.lengthOfLongestSubstring(\"pwwkew\"))\n"
      ]
    },
    {
      "cell_type": "markdown",
      "metadata": {
        "id": "Vw3IP_AibPMQ"
      },
      "source": [
        "## Вопросы\n",
        "\n",
        "1. Что такое динамическая типизация и чем она отличается от статической?\n",
        "2. Чем отличается цикл for в Python от цикла for в С++?\n",
        "3. Для чего предназначены операторы continue и break?\n",
        "4. Как определить функцию в python? Может ли функция возвращать несколько значений?\n",
        "5. Что такое лямбда функции и для чего они предназначены?\n",
        "6. Может ли тело функции содержать определение другой функции?\n",
        "7. Как определить класс в python? Для чего нужна переменная self?\n",
        "8. Как определить приватный метод? Можно ли вызвать приватный метод за пределами класса?\n",
        "9. Как определить статический метод класса? Для чего может понадобиться статический метод?\n",
        "10. Чем staticmethod отличается от classmethod?\n",
        "11. Как определить собственный класс исключений Python? Как выбросить и перехватить исключение?\n",
        "12. Что такое картеж, для чего он используется?\n"
      ]
    }
  ],
  "metadata": {
    "language_info": {
      "name": "python"
    },
    "colab": {
      "provenance": []
    },
    "kernelspec": {
      "name": "python3",
      "display_name": "Python 3"
    }
  },
  "nbformat": 4,
  "nbformat_minor": 0
}