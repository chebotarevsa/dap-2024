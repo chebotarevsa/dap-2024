{
  "cells": [
    {
      "cell_type": "markdown",
      "metadata": {
        "id": "view-in-github",
        "colab_type": "text"
      },
      "source": [
        "<a href=\"https://colab.research.google.com/github/ill0wl/dap-2024/blob/main/les02/rep.ipynb\" target=\"_parent\"><img src=\"https://colab.research.google.com/assets/colab-badge.svg\" alt=\"Open In Colab\"/></a>"
      ]
    },
    {
      "cell_type": "markdown",
      "metadata": {
        "id": "JlzqFo3UaIeB"
      },
      "source": [
        "# Лабораторная работа №2. Основы Python"
      ]
    },
    {
      "cell_type": "markdown",
      "metadata": {
        "id": "0sUl8IiraIeD"
      },
      "source": [
        "## Задание"
      ]
    },
    {
      "cell_type": "markdown",
      "metadata": {
        "id": "x7tY3i75aIeE"
      },
      "source": [
        "**Задача №1. Сумма двух**"
      ]
    },
    {
      "cell_type": "code",
      "execution_count": null,
      "metadata": {
        "id": "v-eCeKNbaIeE"
      },
      "outputs": [],
      "source": [
        "class Solution:\n",
        "    def twoSum(self, nums, target):\n",
        "        # Инициализация хеш-таблицы для хранения значений и их индексов\n",
        "        num_dict = {}\n",
        "\n",
        "        # Проход по каждому числу в массиве\n",
        "        for index, num in enumerate(nums):\n",
        "            # Вычисляем число, необходимое для достижения целевой суммы\n",
        "            complement = target - num\n",
        "\n",
        "            # Проверяем, находится ли необходимое число в хеш-таблице\n",
        "            if complement in num_dict:\n",
        "                # Получаем индексы двух чисел\n",
        "                complement_index = num_dict[complement]\n",
        "\n",
        "                # Формируем строку с результатами\n",
        "                result_str = (\n",
        "                    f\"Исходная последовательность: {tuple(nums)}. \"\n",
        "                    f\"Сумма двух чисел {target}. \"\n",
        "                )\n",
        "\n",
        "                # Выводим результаты\n",
        "                print(result_str)\n",
        "\n",
        "                # Возвращаем индексы текущего числа и найденного числа\n",
        "                return [complement_index, index]\n",
        "\n",
        "            # Если не найдено, добавляем текущее число в хеш-таблицу\n",
        "            num_dict[num] = index\n",
        "\n",
        "        # Если решения нет, возвращаем пустой список\n",
        "        return []\n",
        "\n",
        "# Примеры использования\n",
        "sol = Solution()\n",
        "print(\"Индексы чисел:\", sol.twoSum([2, 67, 11, 5], 78))  # Вывод: Исходная последовательность: (2, 67, 11, 5). Сумма двух чисел 78. Индексы чисел: [1, 2]\n",
        "print(\"Индексы чисел:\", sol.twoSum([3, 2, 4], 6))        # Вывод: Исходная последовательность: (3, 2, 4). Сумма двух чисел 6. Индексы чисел: [1, 2]\n",
        "print(\"Индексы чисел:\", sol.twoSum([3, 3], 6))           # Вывод: Исходная последовательность: (3, 3). Сумма двух чисел 6. Индексы чисел: [0, 1]"
      ]
    },
    {
      "cell_type": "markdown",
      "source": [
        "Исходная последовательность: (2, 67, 11, 5). Сумма двух чисел 78. <br>\n",
        "Индексы чисел: [1, 2]<br>\n",
        "Исходная последовательность: (3, 2, 4). Сумма двух чисел 6.\n",
        "Индексы чисел: [1, 2]<br>\n",
        "Исходная последовательность: (3, 3). Сумма двух чисел 6.\n",
        "Индексы чисел: [0, 1]"
      ],
      "metadata": {
        "id": "DNrOmGmgbKGH"
      }
    },
    {
      "cell_type": "markdown",
      "metadata": {
        "id": "Xzelkb6jaIeF"
      },
      "source": [
        "**Задача №2. Число палиндрома**"
      ]
    },
    {
      "cell_type": "code",
      "execution_count": null,
      "metadata": {
        "id": "Ho_cEcYbaIeF"
      },
      "outputs": [],
      "source": [
        "def isPalindrome(x):\n",
        "    # Отрицательные числа не могут быть палиндромами\n",
        "    if x < 0:\n",
        "        result = False\n",
        "    else:\n",
        "        # Преобразуем число в строку\n",
        "        str_x = str(x)\n",
        "\n",
        "        # Проверяем, равно ли число своей обратной строке\n",
        "        result = str_x == str_x[::-1]\n",
        "\n",
        "    # Формируем строку с результатами\n",
        "    result_str = (\n",
        "        f\"Исходное число: {x}. \"\n",
        "        f\"Является палиндромом: {'true' if result else 'false'}.\"\n",
        "    )\n",
        "\n",
        "    # Выводим результаты\n",
        "    print(result_str)\n",
        "\n",
        "    return result\n",
        "\n",
        "# Примеры использования\n",
        "print(isPalindrome(121))   # Вывод: Исходное число: 121. Является палиндромом: да.\n",
        "print(isPalindrome(-121))  # Вывод: Исходное число: -121. Является палиндромом: нет.\n",
        "print(isPalindrome(10))    # Вывод: Исходное число: 10. Является палиндромом: нет."
      ]
    },
    {
      "cell_type": "markdown",
      "source": [
        "Исходное число: 121. Является палиндромом: true.<br>\n",
        "True<br>\n",
        "Исходное число: -121. Является палиндромом: false.<br>\n",
        "False<br>\n",
        "Исходное число: 10. Является палиндромом: false.<br>\n",
        "False"
      ],
      "metadata": {
        "id": "q7i3F5oXdetg"
      }
    },
    {
      "cell_type": "markdown",
      "metadata": {
        "id": "f-9TlgY-aIeF"
      },
      "source": [
        "**Задача №3. Перевод с латинского на целое число**"
      ]
    },
    {
      "cell_type": "code",
      "execution_count": null,
      "metadata": {
        "id": "AhXIJ_-9aIeG"
      },
      "outputs": [],
      "source": [
        "def romanToInt(s):\n",
        "    # Создаем словарь для преобразования римских цифр в целые числа\n",
        "    roman_to_int = {\n",
        "        'I': 1,\n",
        "        'V': 5,\n",
        "        'X': 10,\n",
        "        'L': 50,\n",
        "        'C': 100,\n",
        "        'D': 500,\n",
        "        'M': 1000\n",
        "    }\n",
        "\n",
        "    # Инициализируем переменные для хранения результата и длины строки\n",
        "    total = 0\n",
        "    length = len(s)\n",
        "\n",
        "    # Проходим по каждому символу строки\n",
        "    for i in range(length):\n",
        "        # Получаем значение текущего символа\n",
        "        current_value = roman_to_int[s[i]]\n",
        "\n",
        "        # Проверяем, есть ли следующий символ и его значение\n",
        "        if i + 1 < length:\n",
        "            next_value = roman_to_int[s[i + 1]]\n",
        "            # Если текущее значение меньше следующего, вычитаем его\n",
        "            if current_value < next_value:\n",
        "                total -= current_value\n",
        "            else:\n",
        "                total += current_value\n",
        "        else:\n",
        "            # Если текущий символ последний, просто прибавляем его значение\n",
        "            total += current_value\n",
        "\n",
        "    # Формируем строку с результатом\n",
        "    result_str = f\"{s} - {total}\"\n",
        "\n",
        "    # Выводим результат\n",
        "    print(result_str)\n",
        "\n",
        "    return total\n",
        "\n",
        "# Примеры использования\n",
        "romanToInt(\"III\")    # Вывод: III - 3\n",
        "romanToInt(\"IV\")     # Вывод: IV - 4\n",
        "romanToInt(\"IX\")     # Вывод: IX - 9\n",
        "romanToInt(\"LVIII\")  # Вывод: LVIII - 58\n",
        "romanToInt(\"MCMXCIV\")# Вывод: MCMXCIV - 1994"
      ]
    },
    {
      "cell_type": "markdown",
      "metadata": {
        "id": "t3nNthWbaIeG"
      },
      "source": [
        "**Задача №4. Самый длинный общий префикс**"
      ]
    },
    {
      "cell_type": "code",
      "execution_count": null,
      "metadata": {
        "id": "mls8W3yMaIeG"
      },
      "outputs": [],
      "source": [
        "def longestCommonPrefix(strs):\n",
        "    # Проверяем, является ли список пустым\n",
        "    if not strs:\n",
        "        return \"\"\n",
        "\n",
        "    # Начинаем с первого слова в массиве как начальный префикс\n",
        "    prefix = strs[0]\n",
        "\n",
        "    # Сравниваем префикс с остальными словами в массиве\n",
        "    for s in strs[1:]:\n",
        "        # Пока текущее слово не содержит префикс\n",
        "        while not s.startswith(prefix):\n",
        "            # Уменьшаем длину префикса\n",
        "            prefix = prefix[:-1]\n",
        "            # Если префикс стал пустым, возвращаем пустую строку\n",
        "            if not prefix:\n",
        "                return \"\"\n",
        "\n",
        "    return prefix\n",
        "\n",
        "def printPrefixResult(strs):\n",
        "    # Вызываем функцию для нахождения общего префикса\n",
        "    result = longestCommonPrefix(strs)\n",
        "\n",
        "    # Формируем строку с результатом\n",
        "    result_str = f\"Исходная строка: {strs}\\nПрефикс: {result}\"\n",
        "\n",
        "    # Выводим результат\n",
        "    print(result_str)\n",
        "\n",
        "    return result\n",
        "\n",
        "# Примеры использования\n",
        "printPrefixResult([\"flower\", \"flow\", \"flight\"])  # Вывод: Исходная строка: ['flower', 'flow', 'flight']\\nПрефикс: fl\n",
        "printPrefixResult([\"dog\", \"racecar\", \"car\"])     # Вывод: Исходная строка: ['dog', 'racecar', 'car']\\nПрефикс:\n",
        "printPrefixResult([\"interspecies\", \"interstellar\", \"interstate\"])  # Вывод: Исходная строка: ['interspecies', 'interstellar', 'interstate']\\nПрефикс: inter"
      ]
    },
    {
      "cell_type": "markdown",
      "metadata": {
        "id": "M8dVBjqiaIeG"
      },
      "source": [
        "**Задача №5. Объединить два отсортированных списка**"
      ]
    },
    {
      "cell_type": "code",
      "execution_count": null,
      "metadata": {
        "id": "djqFZV1iaIeH"
      },
      "outputs": [],
      "source": [
        "class ListNode:\n",
        "    def __init__(self, val=0, next=None):\n",
        "        self.val = val\n",
        "        self.next = next\n",
        "\n",
        "def printList(head):\n",
        "    # Функция для печати связанного списка\n",
        "    values = []\n",
        "    current = head\n",
        "    while current:\n",
        "        values.append(current.val)\n",
        "        current = current.next\n",
        "    return values\n",
        "\n",
        "def mergeTwoLists(list1, list2):\n",
        "    # Создаем новый связанный список для хранения результата\n",
        "    dummy = ListNode()\n",
        "    current = dummy\n",
        "\n",
        "    # Переменные для перебора обоих списков\n",
        "    l1 = list1\n",
        "    l2 = list2\n",
        "\n",
        "    # Объединение двух отсортированных списков\n",
        "    while l1 and l2:\n",
        "        if l1.val < l2.val:\n",
        "            current.next = l1\n",
        "            l1 = l1.next\n",
        "        else:\n",
        "            current.next = l2\n",
        "            l2 = l2.next\n",
        "        current = current.next\n",
        "\n",
        "    # Если один из списков не пуст, добавляем оставшиеся узлы\n",
        "    if l1:\n",
        "        current.next = l1\n",
        "    if l2:\n",
        "        current.next = l2\n",
        "\n",
        "    # Возвращаем начало объединенного списка\n",
        "    return dummy.next\n",
        "\n",
        "def printMergedResult(list1, list2):\n",
        "    # Создаем копии исходных списков для корректного отображения\n",
        "    list1_copy = ListNode(0)\n",
        "    list2_copy = ListNode(0)\n",
        "\n",
        "    # Копируем узлы для предотвращения изменения исходных списков\n",
        "    current_copy1 = list1_copy\n",
        "    current_copy2 = list2_copy\n",
        "    current1 = list1\n",
        "    current2 = list2\n",
        "\n",
        "    while current1:\n",
        "        current_copy1.next = ListNode(current1.val)\n",
        "        current_copy1 = current_copy1.next\n",
        "        current1 = current1.next\n",
        "\n",
        "    while current2:\n",
        "        current_copy2.next = ListNode(current2.val)\n",
        "        current_copy2 = current_copy2.next\n",
        "        current2 = current2.next\n",
        "\n",
        "    # Вызываем функцию объединения списков\n",
        "    merged_list = mergeTwoLists(list1, list2)\n",
        "\n",
        "    # Печатаем исходные списки и объединенный список\n",
        "    list1_str = printList(list1_copy.next)\n",
        "    list2_str = printList(list2_copy.next)\n",
        "    merged_list_str = printList(merged_list)\n",
        "\n",
        "    print(f\"Исходный список 1: {list1_str}\")\n",
        "    print(f\"Исходный список 2: {list2_str}\")\n",
        "    print(f\"Объединенный список: {merged_list_str}\")\n",
        "\n",
        "    return merged_list\n",
        "\n",
        "# Примеры использования\n",
        "# Создаем два связанных списка: 1 -> 2 -> 4 и 1 -> 3 -> 4\n",
        "list1 = ListNode(2, ListNode(4, ListNode(5, ListNode(6))))\n",
        "list2 = ListNode(1, ListNode(2, ListNode(3, ListNode(5, ListNode(6)))))\n",
        "\n",
        "# Печатаем результат\n",
        "printMergedResult(list1, list2)"
      ]
    },
    {
      "cell_type": "markdown",
      "metadata": {
        "id": "ASYAR-PQaIeH"
      },
      "source": [
        "**Задача №6. Самая длинная подстрока без повторяющихся символов**"
      ]
    },
    {
      "cell_type": "code",
      "execution_count": null,
      "metadata": {
        "id": "k1tsMqM8aIeH"
      },
      "outputs": [],
      "source": [
        "def lengthOfLongestSubstring(s):\n",
        "    # Словарь для хранения последних индексов символов\n",
        "    char_map = {}\n",
        "    start = 0\n",
        "    max_length = 0\n",
        "    longest_substr = \"\"\n",
        "\n",
        "    # Проходим по строке\n",
        "    for end in range(len(s)):\n",
        "        char = s[end]\n",
        "\n",
        "        # Если символ повторяется и находится в текущем окне, сдвигаем левый указатель\n",
        "        if char in char_map and char_map[char] >= start:\n",
        "            start = char_map[char] + 1\n",
        "\n",
        "        # Обновляем индекс символа\n",
        "        char_map[char] = end\n",
        "\n",
        "        # Вычисляем текущую длину подстроки\n",
        "        current_length = end - start + 1\n",
        "        if current_length > max_length:\n",
        "            max_length = current_length\n",
        "            longest_substr = s[start:end + 1]\n",
        "\n",
        "    return max_length, longest_substr\n",
        "\n",
        "def printLongestSubstringResult(s):\n",
        "    # Находим длину и подстроку\n",
        "    length, longest_substr = lengthOfLongestSubstring(s)\n",
        "\n",
        "    # Формируем строку с результатом\n",
        "    result_str = f\"Исходная строка: {s}\\nНеповторяющихся подряд символов: {length} ({longest_substr})\"\n",
        "\n",
        "    # Выводим результат\n",
        "    print(result_str)\n",
        "\n",
        "    return length, longest_substr\n",
        "\n",
        "# Примеры использования\n",
        "printLongestSubstringResult(\"abcabcbb\")\n",
        "printLongestSubstringResult(\"bbbbb\")\n",
        "printLongestSubstringResult(\"pwwkew\")"
      ]
    }
  ],
  "metadata": {
    "language_info": {
      "name": "python"
    },
    "colab": {
      "provenance": [],
      "include_colab_link": true
    }
  },
  "nbformat": 4,
  "nbformat_minor": 0
}