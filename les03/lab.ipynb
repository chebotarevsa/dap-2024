{
  "cells": [
    {
      "cell_type": "markdown",
      "metadata": {
        "id": "qQvfD-M40xIt"
      },
      "source": [
        "# Лабораторная работа №3. NumPy"
      ]
    },
    {
      "cell_type": "markdown",
      "metadata": {
        "id": "MFowr422smpS"
      },
      "source": [
        "## Задание"
      ]
    },
    {
      "cell_type": "markdown",
      "metadata": {
        "id": "Q8FFEA2R08uS"
      },
      "source": [
        "Выполните следующие задания:\n",
        "\n",
        "1. Откройте в файл в Google Colab (используйте собственный форк репозитория).\n",
        "2. Решите задачи.\n",
        "3. Сохраните результат в ваш репозиторий github в директорию ./les03\n",
        "4. Создайте pull request в репозиторий https://github.com/chebotarevsa/dap-2024. Название pull request должно иметь формат \"<Номер лабораторной работы>  <Номер группы> <ФИО>\"\n",
        "5. Сдайте работу в системе \"Пегас\", в отчет укажите ссылку на pull request"
      ]
    },
    {
      "cell_type": "code",
      "execution_count": null,
      "metadata": {
        "colab": {
          "base_uri": "https://localhost:8080/",
          "height": 35
        },
        "id": "3ftbuMN45IlN",
        "outputId": "a202a579-7cba-405d-995b-9387cd4738a1"
      },
      "outputs": [
        {
          "data": {
            "text/plain": [
              "'2.1.0'"
            ]
          },
          "execution_count": 1,
          "metadata": {},
          "output_type": "execute_result"
        }
      ],
      "source": [
        "import numpy as np\n",
        "np.version.version"
      ]
    },
    {
      "cell_type": "markdown",
      "metadata": {
        "id": "6iPL4gTu2ECp"
      },
      "source": [
        "1. Создать массив 10x10 со случайными значениями, найти минимум и максимум (низкая)"
      ]
    },
    {
      "cell_type": "code",
      "execution_count": 5,
      "metadata": {
        "id": "v-AutHvo2T-D",
        "outputId": "103356cd-fce2-4853-ff6d-55ef8fe72360",
        "colab": {
          "base_uri": "https://localhost:8080/"
        }
      },
      "outputs": [
        {
          "output_type": "stream",
          "name": "stdout",
          "text": [
            "[[29 47 43 44 49 43 26 12 38  3]\n",
            " [ 2  1 46 37 34  2 18 19 40 49]\n",
            " [27 14 22 26 32 45 48 31 46 27]\n",
            " [20  6 22 39 40 14 11 46 36 21]\n",
            " [28 38  6 44 19 28 13  7 17 21]\n",
            " [47 16 42  9 35 35 47 26  5  3]\n",
            " [28 11 42 22 26 36 23 13 27  5]\n",
            " [ 2 35 48  7 23  6 32 20 26 28]\n",
            " [10 31 15 23 30 41 36 28 12 14]\n",
            " [23 16 29 27 41 38 24 23 24 45]]\n",
            "49\n",
            "1\n"
          ]
        }
      ],
      "source": [
        "import numpy as np\n",
        "x=np.random.randint(1, 50, (10, 10))\n",
        "print(x)\n",
        "print(np.max(x))\n",
        "print(np.min(x))"
      ]
    },
    {
      "cell_type": "markdown",
      "metadata": {
        "id": "cwxKoGik2Xfd"
      },
      "source": [
        "2. Создать 8x8 матрицу и заполнить её единицами и нулями в шахматном порядке"
      ]
    },
    {
      "cell_type": "code",
      "execution_count": 6,
      "metadata": {
        "id": "zACAjKWC2lBy",
        "outputId": "81201901-480d-4eed-e736-550ca61e749b",
        "colab": {
          "base_uri": "https://localhost:8080/"
        }
      },
      "outputs": [
        {
          "output_type": "stream",
          "name": "stdout",
          "text": [
            "[[1. 0. 1. 0. 1. 0. 1. 0.]\n",
            " [0. 1. 0. 1. 0. 1. 0. 1.]\n",
            " [1. 0. 1. 0. 1. 0. 1. 0.]\n",
            " [0. 1. 0. 1. 0. 1. 0. 1.]\n",
            " [1. 0. 1. 0. 1. 0. 1. 0.]\n",
            " [0. 1. 0. 1. 0. 1. 0. 1.]\n",
            " [1. 0. 1. 0. 1. 0. 1. 0.]\n",
            " [0. 1. 0. 1. 0. 1. 0. 1.]]\n"
          ]
        }
      ],
      "source": [
        "x=np.zeros((8,8))\n",
        "x[0::2, 0::2] = 1\n",
        "x[1::2, 1::2] = 1\n",
        "print(x)"
      ]
    },
    {
      "cell_type": "markdown",
      "metadata": {
        "id": "YvNFm7Io2tSA"
      },
      "source": [
        "3. Дан массив из 11 элементов, поменять знак у элементов, значения которых между 3 и 8"
      ]
    },
    {
      "cell_type": "code",
      "execution_count": 7,
      "metadata": {
        "id": "cczoe3OY27fA",
        "outputId": "e1019e14-92d6-4543-abc2-22d506c36aa5",
        "colab": {
          "base_uri": "https://localhost:8080/"
        }
      },
      "outputs": [
        {
          "output_type": "stream",
          "name": "stdout",
          "text": [
            "[ 0  1  2 -3 -4 -5 -6 -7  8  9 10]\n"
          ]
        }
      ],
      "source": [
        "z = np.arange(11)\n",
        "z[3:8]*=-1\n",
        "print(z)"
      ]
    },
    {
      "cell_type": "markdown",
      "metadata": {
        "id": "tInYHRPf2-jQ"
      },
      "source": [
        "4. Найти среднее заначение строки матрицы и вычесть его из каждого елемента строки"
      ]
    },
    {
      "cell_type": "code",
      "execution_count": 8,
      "metadata": {
        "id": "Zbv_WG9w3km1",
        "outputId": "d6492f40-f0c0-4b0d-bc7a-9c31f227ee31",
        "colab": {
          "base_uri": "https://localhost:8080/"
        }
      },
      "outputs": [
        {
          "output_type": "stream",
          "name": "stdout",
          "text": [
            "[[0.08402106 0.14811896 0.47181616 0.02320802 0.37436962 0.44070344\n",
            "  0.22504276 0.02877297 0.43255393 0.21731607]\n",
            " [0.73124434 0.08948701 0.35669739 0.99266238 0.70723294 0.10589119\n",
            "  0.68217638 0.83863929 0.61791546 0.11495614]\n",
            " [0.65292244 0.8640806  0.97871333 0.91001101 0.49456024 0.19531154\n",
            "  0.94740434 0.55040473 0.1498016  0.05270606]\n",
            " [0.34585234 0.08606536 0.34975519 0.84423428 0.81308636 0.68851064\n",
            "  0.40135604 0.94668652 0.07286224 0.11415468]\n",
            " [0.70843757 0.81297098 0.92204875 0.75373529 0.19876718 0.12910004\n",
            "  0.98885382 0.01934302 0.42335312 0.84959726]]\n",
            "0.4789502415362943\n",
            "[[-0.39492918 -0.33083128 -0.00713408 -0.45574222 -0.10458062 -0.0382468\n",
            "  -0.25390748 -0.45017728 -0.04639632 -0.26163417]\n",
            " [ 0.2522941  -0.38946323 -0.12225285  0.51371214  0.2282827  -0.37305905\n",
            "   0.20322614  0.35968905  0.13896521 -0.3639941 ]\n",
            " [ 0.1739722   0.38513036  0.49976309  0.43106077  0.01560999 -0.2836387\n",
            "   0.4684541   0.07145448 -0.32914864 -0.42624418]\n",
            " [-0.1330979  -0.39288488 -0.12919506  0.36528404  0.33413611  0.2095604\n",
            "  -0.07759421  0.46773627 -0.406088   -0.36479556]\n",
            " [ 0.22948733  0.33402074  0.44309851  0.27478505 -0.28018307 -0.3498502\n",
            "   0.50990358 -0.45960722 -0.05559712  0.37064702]]\n"
          ]
        }
      ],
      "source": [
        "z = np.random.rand(5, 10)\n",
        "print(z)\n",
        "sr=np.mean(z)\n",
        "print(sr)\n",
        "z=z-sr\n",
        "print(z)"
      ]
    },
    {
      "cell_type": "markdown",
      "metadata": {
        "id": "OStor4mW3lpJ"
      },
      "source": [
        "5. Поменяйте 1 и 2 строки матрицы"
      ]
    },
    {
      "cell_type": "code",
      "execution_count": 9,
      "metadata": {
        "id": "5vfeHqyF3qKd",
        "outputId": "aa0da2f7-13da-4c7c-edc8-04cdb4c1268d",
        "colab": {
          "base_uri": "https://localhost:8080/"
        }
      },
      "outputs": [
        {
          "output_type": "stream",
          "name": "stdout",
          "text": [
            "[[ 5  6  7  8  9]\n",
            " [ 0  1  2  3  4]\n",
            " [10 11 12 13 14]\n",
            " [15 16 17 18 19]\n",
            " [20 21 22 23 24]]\n"
          ]
        }
      ],
      "source": [
        "z = np.arange(25).reshape(5,5)\n",
        "z[[0,1]]=z[[1,0]]\n",
        "print(z)"
      ]
    },
    {
      "cell_type": "markdown",
      "metadata": {
        "id": "IPQ9xIIk3qml"
      },
      "source": [
        "6. Дан массив 10x2 подеставлющий собой точки в декартовой системе координат, преобразовать в полярную"
      ]
    },
    {
      "cell_type": "code",
      "execution_count": 10,
      "metadata": {
        "id": "zGHBaX8b30Uv",
        "outputId": "7b18e74f-0614-4564-cb32-872636e8d74d",
        "colab": {
          "base_uri": "https://localhost:8080/"
        }
      },
      "outputs": [
        {
          "output_type": "stream",
          "name": "stdout",
          "text": [
            "[[0.8512138  0.43796751]\n",
            " [0.6262081  0.25223574]\n",
            " [0.24717088 0.83959416]\n",
            " [0.97632867 0.35211284]\n",
            " [0.15802107 0.54883005]\n",
            " [0.43697665 0.94485201]\n",
            " [0.061188   0.15305463]\n",
            " [0.92243464 0.83538499]\n",
            " [0.96922814 0.98228501]\n",
            " [0.9884285  0.65071143]]\n",
            "[0.95727764 0.67509959 0.875221   1.037883   0.57112615 1.0410062\n",
            " 0.16483231 1.24448935 1.37995907 1.18339185]\n",
            "[0.47519693 0.38291662 1.28449121 0.3461308  1.29045538 1.13761133\n",
            " 1.19048063 0.73591721 0.7920887  0.58220834]\n"
          ]
        }
      ],
      "source": [
        "z = np.random.random((10,2))\n",
        "print(z)\n",
        "x,y = z[:,0], z[:,1]\n",
        "a = np.hypot(x, y)\n",
        "b = np.arctan2(y,x)\n",
        "print(a)\n",
        "print(b)"
      ]
    },
    {
      "cell_type": "markdown",
      "metadata": {
        "id": "10gbuTgE4AOH"
      },
      "source": [
        "7. Заменить максимальный элемент массива на ноль"
      ]
    },
    {
      "cell_type": "code",
      "execution_count": 11,
      "metadata": {
        "id": "gqwuO2T_5Aqd",
        "outputId": "43a6d7ce-14b9-4e72-eefb-bb73c4dcb69a",
        "colab": {
          "base_uri": "https://localhost:8080/"
        }
      },
      "outputs": [
        {
          "output_type": "stream",
          "name": "stdout",
          "text": [
            "[0.61522369 0.94201155 0.5187257  0.02493707 0.8177465  0.41471102\n",
            " 0.96973675 0.53443317 0.28432887 0.94906779]\n",
            "[0.61522369 0.94201155 0.5187257  0.02493707 0.8177465  0.41471102\n",
            " 0.         0.53443317 0.28432887 0.94906779]\n"
          ]
        }
      ],
      "source": [
        "z = np.random.random(10)\n",
        "maxim=np.argmax(z)\n",
        "print(z)\n",
        "z[maxim]=0\n",
        "print(z)"
      ]
    },
    {
      "cell_type": "markdown",
      "metadata": {
        "id": "88m_eWXM6nZY"
      },
      "source": [
        "8. Дан массив, добавить 1 к каждому элементу с индексом, заданным в другом массиве. Добавление производиться только 1 раз"
      ]
    },
    {
      "cell_type": "code",
      "execution_count": 12,
      "metadata": {
        "id": "-5yj9k126pfh",
        "outputId": "f90f21cf-ab17-4a17-8104-2742bed92f27",
        "colab": {
          "base_uri": "https://localhost:8080/"
        }
      },
      "outputs": [
        {
          "output_type": "stream",
          "name": "stdout",
          "text": [
            "[1. 1. 1. 1. 1. 1. 1. 1. 1. 1.]\n",
            "[3 0 3 7 8 1 0 9 9 5 8 5 6 8 1 5 3 0 9 6]\n",
            "[4. 3. 1. 4. 1. 4. 3. 2. 4. 4.]\n"
          ]
        }
      ],
      "source": [
        "import numpy as np\n",
        "z = np.ones(10)\n",
        "i = np.random.randint(0,len(z),20)\n",
        "print(z)\n",
        "print(i)\n",
        "z += np.bincount(i, minlength=len(z))\n",
        "print(z)"
      ]
    },
    {
      "cell_type": "markdown",
      "metadata": {
        "id": "0HByAVK77JCG"
      },
      "source": [
        "9. Дан вектор [1, 2, 3, 4, 5], построить новый вектор с тремя нулями между каждым значением"
      ]
    },
    {
      "cell_type": "code",
      "execution_count": 13,
      "metadata": {
        "id": "2AiZt-J47dqq",
        "outputId": "4191da21-4eca-426f-8d26-6257000d3157",
        "colab": {
          "base_uri": "https://localhost:8080/"
        }
      },
      "outputs": [
        {
          "output_type": "stream",
          "name": "stdout",
          "text": [
            "[1 2 3 4 5]\n",
            "[1. 0. 0. 0. 2. 0. 0. 0. 3. 0. 0. 0. 4. 0. 0. 0. 5.]\n"
          ]
        }
      ],
      "source": [
        "z = np.array([1,2,3,4,5])\n",
        "lens = 5 + (5 - 1) * 3\n",
        "z1 = np.zeros(lens)\n",
        "z1[::4] = z\n",
        "print(z)\n",
        "print(z1)"
      ]
    },
    {
      "cell_type": "markdown",
      "metadata": {
        "id": "i0uK-dO08AKP"
      },
      "source": [
        "10. Найти ближайшее к заданному значению число в заданном массиве"
      ]
    },
    {
      "cell_type": "code",
      "execution_count": 14,
      "metadata": {
        "id": "sE0DlZO_-4Cb",
        "outputId": "ae6ea2d0-e8f5-444d-89be-06a8265c25ed",
        "colab": {
          "base_uri": "https://localhost:8080/"
        }
      },
      "outputs": [
        {
          "output_type": "stream",
          "name": "stdout",
          "text": [
            "[ 0  1  2  3  4  5  6  7  8  9 10 11 12 13 14 15 16 17 18 19 20 21 22 23\n",
            " 24 25 26 27 28 29 30 31 32 33 34 35 36 37 38 39 40 41 42 43 44 45 46 47\n",
            " 48 49 50 51 52 53 54 55 56 57 58 59 60 61 62 63 64 65 66 67 68 69 70 71\n",
            " 72 73 74 75 76 77 78 79 80 81 82 83 84 85 86 87 88 89 90 91 92 93 94 95\n",
            " 96 97 98 99]\n",
            "71.15314749101393\n",
            "71\n"
          ]
        }
      ],
      "source": [
        "z = np.arange(100) # Число\n",
        "v = np.random.uniform(0,100) # Массив\n",
        "print(z)\n",
        "print(v)\n",
        "x=z[np.abs(z-v).argmin()]\n",
        "print(x)"
      ]
    },
    {
      "cell_type": "markdown",
      "metadata": {
        "id": "0zUpsgh8uCfQ"
      },
      "source": [
        "## Вопросы\n",
        "\n",
        "\n"
      ]
    },
    {
      "cell_type": "markdown",
      "metadata": {
        "id": "RQEMkoq5vc3k"
      },
      "source": [
        "**1**. Какой тип (dtype) будут иметь элементы массива?\n",
        "``` python\n",
        "np.array([1, 4, 2, 5, 3])\n",
        "np.array([1., 4, 2, 5, 3])\n",
        "np.array([1, 4, 2, 5, 3], dtype='float128')\n",
        "np.array([1., 4, 2, 5, 3], dtype='complex128')\n",
        "np.array([1, 4, 2, 5, 3], dtype ='float64')\n",
        "np.array([1, 4, 2, 5, 3], dtype =int64)\n",
        "np.array([1, 4, 2, 5, 3], dtype='bool')\n",
        "np.array([1, 4, 2, 5, 3], dtype='str')\n",
        "np.array([1, 4, 2, 5, '3'])\n",
        "np.array([1, -4, 2, 0, 1j])\n",
        "```"
      ]
    },
    {
      "cell_type": "markdown",
      "source": [
        "*   dtype: int64;\n",
        "*   dtype: float64. присутствует число с плавающей запятой (1.), поэтому все числа будут приведены к этому типу;\n",
        "*  dtype: float128. Явно указанный тип массива – float128;\n",
        "*  dtype: complex128.Явно указанный тип массива - complex128;\n",
        "*  dtype: float64. Явно указанный тип массива – float64;\n",
        "*  dtype: int64. Явно указанный тип массива - int64;\n",
        "*  dtype: bool. Все целые числа будут преобразованы в логические значения;\n",
        "*  dtype: str. Все целые числа будут преобразованы в строки\n",
        "*  dtype: str. Поскольку в массиве присутствует строковое значение;\n",
        "*  dtype: complex128. Поскольку в массиве присутствует комплексное число;\n"
      ],
      "metadata": {
        "id": "QiiFqUbetO1q"
      }
    },
    {
      "cell_type": "markdown",
      "metadata": {
        "id": "SlJfe4Bgvd16"
      },
      "source": [
        "**2**. Что будет выведено в консоль и почему?\n",
        "``` python\n",
        "np.array([1, 4, 2, 5, 3], dtype='str')[1] + '1'\n",
        "np.array([1, -4, 2, 0, 3], dtype='bool')[3] or np.array([1, -4, 2, 0, 3])[1]\n",
        "np.array([1, -4, 2, 0, 3], dtype='bool')[3] and np.array([1, -4, 2, 0, 3])[1]\n",
        "np.array([1, -4, 2, 0, True], dtype='int64')[-1]\n",
        "np.array([1, -4, 2, 0, 1j], dtype='int64')[1]\n",
        "np.array([1, -4, 2, 0, 1j], dtype='str')[-1]\n",
        "np.array([1, 4, 2, 5, '3'])[-1] * 3\n",
        "```"
      ]
    },
    {
      "cell_type": "markdown",
      "source": [
        "*   Вывод: 41. Берется массив строковых значений, к 1ому элементу добавляется строка со значением '1';\n",
        "*   Вывод: True. Третий элемент первого массива = 0 = True, первый элемент второго массива = -4 = False. True or False = True;\n",
        "*   Вывод: False. Третий элемент первого массива = 0 = True. Первый элемент второго массива = -4 = False. True and False = False\n",
        "*   Вывод: 1. -1 элемент массива = True. Значение True принимает 1;\n",
        "*   Вывод: ошибка. Комплексное число не может быть преобразовано в int64;\n",
        "*   Вывод: 1j. Комплексное число преобразуется в строку;\n",
        "*   Вывод: 333. Умножение строки - ее повторение n количество раз;"
      ],
      "metadata": {
        "id": "x_137pzOtODz"
      }
    },
    {
      "cell_type": "markdown",
      "metadata": {
        "id": "X50PESx7xVAc"
      },
      "source": [
        "**3**. Каков результат операции?\n",
        "\n",
        "``` python\n",
        "np.ones((3, 5), dtype=float)\n",
        "np.full((3, 5), 3.14)\n",
        "np.linspace(0, 1, 5)\n",
        "np.diag((1,3,5))\n",
        "np.smile((1,3,5))\n",
        "np.random.random((3, 3))\n",
        "np.eye(3)\n",
        "np.empty(3)\n",
        "```\n",
        "\n"
      ]
    },
    {
      "cell_type": "markdown",
      "source": [
        "*   Результат: массив формы (3, 5), заполненный единицами;\n",
        "*   Результат: массив формы (3, 5), заполненный значением 3.14.;\n",
        "*   Результат:\n",
        "```\n",
        "array([0. , 0.25, 0.5 , 0.75, 1. ])\n",
        "```\n",
        "*   Результат:\n",
        "```\n",
        "array([[1, 0, 0],\n",
        "          [0, 3, 0],\n",
        "          [0, 0, 5]])\n",
        "```\n",
        "*   Результат: ошибка, функции не существует;\n",
        "*   Результат: массив формы (3, 3) с случайными числами;\n",
        "*   Результат: создает единичную матрицу размером 3x3, где элементы на главной диагонали равны единице, а остальные — нулю\n",
        "*   Результат: создает массив формы (3,) с неинициализированными значениями"
      ],
      "metadata": {
        "id": "jcCOxW2FtUPz"
      }
    },
    {
      "cell_type": "markdown",
      "metadata": {
        "id": "D6Bt-8cfAWrA"
      },
      "source": [
        "**4**. Дан двумерный массив X, что будет выведено в консоль?\n",
        "\n",
        "``` python\n",
        "X = np.array([[3, 5, 2, 4],\n",
        "      [7, 6, 8, 8],\n",
        "      [1, 6, 7, 7]])\n",
        "```\n",
        "\n",
        "``` python\n",
        "X[0,0]\n",
        "X[-1,-1]\n",
        "X[0:1,-1]\n",
        "X[0:2,-1]\n",
        "X[0:2,0:2]\n",
        "X[1,1:3]\n",
        "X[1,:]\n",
        "X[1,:]\n",
        "X[:,:]\n",
        "X[:]\n",
        "X[::2,::2]\n",
        "X[0:3:2,0:3:2]\n",
        "X[::-1,::-1]\n",
        "```"
      ]
    },
    {
      "cell_type": "markdown",
      "source": [
        "*   3;\n",
        "*   7;\n",
        "*   array([4]) - срез первой строки и последнего элемента в столбце;\n",
        "*   array([4, 8]) - срез первых двух строк и их последних элементов;\n",
        "*   \n",
        "```\n",
        "array([[3, 5],\n",
        "          [7, 6]])\n",
        "```\n",
        "*   array([6, 8])\n",
        "*   array([7, 6, 8, 8])\n",
        "*   array([7, 6, 8, 8])\n",
        "*   \n",
        "```\n",
        "array([[3, 5, 2, 4],\n",
        "          [7, 6, 8, 8],\n",
        "          [1, 6, 7, 7]])\n",
        "```\n",
        "*   элементы с интервалом 2 по обеим осям:\n",
        "```\n",
        " array([[3, 2],\n",
        "           [1, 7]])\n",
        "```\n",
        "*   \n",
        "```\n",
        " array([[3, 2],\n",
        "           [1, 7]])\n",
        "```\n",
        "\n",
        "*   Реверс строк и столбцов, поэтому массив будет перевернут:\n",
        "```\n",
        "    array([[7, 6, 1],\n",
        "           [8, 6, 7],\n",
        "           [4, 2, 5]])\n",
        "```\n"
      ],
      "metadata": {
        "id": "bR7FKbejtbeb"
      }
    },
    {
      "cell_type": "markdown",
      "metadata": {
        "id": "yLPhK-dbsmpY"
      },
      "source": [
        "**5**. Дан двумерный массив grid, в чем различее между операциями?\n",
        "\n",
        "\n",
        "``` python\n",
        "grid = np.arange(16).reshape((4, 4))\n",
        "```\n",
        "\n",
        "``` python\n",
        "np.split(grid, [2])\n",
        "np.split(grid, [2], axis=1)\n",
        "```\n"
      ]
    },
    {
      "cell_type": "markdown",
      "source": [
        "Первая операция  разбивает массив по строкам (ось 0).Вторая операция с параметром axis=1 разбивает массив по столбцам (ось 1):\n",
        "\n",
        "\n",
        "```\n",
        "  [array([[0, 1, 2, 3],\n",
        "           [4, 5, 6, 7]]),\n",
        "    array([[ 8,  9, 10, 11],\n",
        "           [12, 13, 14, 15]])]\n",
        "           \n",
        "    [array([[0, 1],\n",
        "           [4, 5],\n",
        "           [8, 9],\n",
        "           [12, 13]]),\n",
        "    array([[ 2, 3],\n",
        "           [ 6, 7],\n",
        "           [10, 11],\n",
        "           [14, 15]])].\n",
        "```"
      ],
      "metadata": {
        "id": "NwhR9ZyRttNb"
      }
    },
    {
      "cell_type": "markdown",
      "metadata": {
        "id": "BO_fy8EcsmpY"
      },
      "source": [
        "**6**. В чем различие между операциями?\n",
        "\n",
        "``` python\n",
        "    [1, 2, 3] + [3, 2, 1]\n",
        "    np.array([1, 2, 3]) + np.array([3, 2, 1])\n",
        "```"
      ]
    },
    {
      "cell_type": "markdown",
      "source": [
        "При работе NumPy массивами производится поэлементное сложение, после чего создается новый массив, состоящий из суммы соответствующих элементов. При работе с обычными списками создается новый список с элементами, указанными при сложении:\n",
        "\n",
        "\n",
        "```\n",
        "[1, 2, 3, 3, 2, 1]\n",
        "array([4, 4, 4])\n",
        "```"
      ],
      "metadata": {
        "id": "P9X-oRFEtobz"
      }
    },
    {
      "cell_type": "markdown",
      "metadata": {
        "id": "s_oAXoufsmpY"
      },
      "source": [
        "**7**. Как в CodeLab измерить время выполнения кода?"
      ]
    },
    {
      "cell_type": "markdown",
      "source": [
        "Использование модуля time.\n",
        "\n",
        "\n",
        "```\n",
        "import time\n",
        "\n",
        "start_time = time.time()\n",
        ".....\n",
        "end_time = time.time()\n",
        "print(end_time - start_time)\n",
        "```\n"
      ],
      "metadata": {
        "id": "FhAyWt6xtynS"
      }
    },
    {
      "cell_type": "markdown",
      "metadata": {
        "id": "jdwoU4YQsmpY"
      },
      "source": [
        "**8**. Дан массив X, каковы результаты операций?\n",
        "\n",
        "```python\n",
        "X = np.array([[3, 5, 2, 4],\n",
        "      [7, 6, 8, 8],\n",
        "      [1, 6, 7, 7]])\n",
        "\n",
        "np.sum(M)\n",
        "np.sum(M, axis=1)\n",
        "np.sum(M, axis=0)\n",
        "np.sum(M, axis=2)\n",
        "np.sum(M, 1)\n",
        "sum(M)\n",
        "sum(M,1)\n",
        "```"
      ]
    },
    {
      "cell_type": "markdown",
      "source": [
        "*   63;\n",
        "*   Сумма элементов по строкам: [14,29,21];\n",
        "*   Сумма элементов по столбцам: [11,17,17,19];\n",
        "*   Ошибка, т.к массив 3х4;\n",
        "*   [14,29,21];\n",
        "*   array([3,5,2,4]);\n",
        "*   array([3,5,2,4]);"
      ],
      "metadata": {
        "id": "bHo7HYAqt1Oa"
      }
    },
    {
      "cell_type": "markdown",
      "metadata": {
        "id": "jD5SPVnusmpY"
      },
      "source": [
        "**9**. Дан массив X, что будет выведено в консоль?\n",
        "\n",
        "```python\n",
        "X = np.array([1,2,3,4])\n",
        "\n",
        "X > 3\n",
        "X < 3\n",
        "X[X < 3]\n",
        "X[X > 3]\n",
        "X[X != 3]\n",
        "```"
      ]
    },
    {
      "cell_type": "markdown",
      "source": [
        "*   [False, False, False, True];\n",
        "*   [True, True, False, False];\n",
        "*   [1, 2];\n",
        "*   [4];\n",
        "*   [1,2,4];"
      ],
      "metadata": {
        "id": "xLyhB4PGt4Ha"
      }
    },
    {
      "cell_type": "markdown",
      "metadata": {
        "id": "xvUH9lI5smpY"
      },
      "source": [
        "**10**.  В чем преимущество массивов NumPy по сравнению с обычными списками.  Чем обусловлено это преимущество?"
      ]
    },
    {
      "cell_type": "markdown",
      "source": [
        "На уровне реализации массив фактически содержит один указатель на непрерывный блок данных. Список в языке Python же содержит указатель на блок указателей, каждый из которых, в свою очередь, указывает на целый объект языка Python, например, целое число. Преимущество такого списка состоит в его гибкости: раз каждый элемент списка — полномасштабная структура, содержащая как данные, так и информацию о типе, список можно заполнить данными любого требуемого типа. Массивам с фиксированным типом из библиотеки NumPy недостает этой гибкости, но они гораздо эффективнее хранят данные и работают с ними."
      ],
      "metadata": {
        "id": "eZutn2Clt6fR"
      }
    }
  ],
  "metadata": {
    "colab": {
      "provenance": []
    },
    "kernelspec": {
      "display_name": "Python 3",
      "name": "python3"
    },
    "language_info": {
      "codemirror_mode": {
        "name": "ipython",
        "version": 3
      },
      "file_extension": ".py",
      "mimetype": "text/x-python",
      "name": "python",
      "nbconvert_exporter": "python",
      "pygments_lexer": "ipython3",
      "version": "3.12.2"
    }
  },
  "nbformat": 4,
  "nbformat_minor": 0
}