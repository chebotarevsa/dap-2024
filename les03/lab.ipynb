{
  "cells": [
    {
      "cell_type": "markdown",
      "metadata": {
        "id": "view-in-github",
        "colab_type": "text"
      },
      "source": [
        "<a href=\"https://colab.research.google.com/github/mihail1707/dap-2024/blob/main/les03/lab.ipynb\" target=\"_parent\"><img src=\"https://colab.research.google.com/assets/colab-badge.svg\" alt=\"Open In Colab\"/></a>"
      ]
    },
    {
      "cell_type": "markdown",
      "metadata": {
        "id": "qQvfD-M40xIt"
      },
      "source": [
        "# Лабораторная работа №3. NumPy"
      ]
    },
    {
      "cell_type": "markdown",
      "metadata": {
        "id": "5MyOhgfxc0df"
      },
      "source": [
        "## Задание"
      ]
    },
    {
      "cell_type": "markdown",
      "metadata": {
        "id": "Q8FFEA2R08uS"
      },
      "source": [
        "Выполните следующие задания:\n",
        "\n",
        "1. Откройте в файл в Google Colab (используйте собственный форк репозитория).\n",
        "2. Решите задачи.\n",
        "3. Сохраните результат в ваш репозиторий github в директорию ./les03\n",
        "4. Создайте pull request в репозиторий https://github.com/chebotarevsa/dap-2024. Название pull request должно иметь формат \"<Номер лабораторной работы>  <Номер группы> <ФИО>\"\n",
        "5. Сдайте работу в системе \"Пегас\", в отчет укажите ссылку на pull request"
      ]
    },
    {
      "cell_type": "code",
      "execution_count": null,
      "metadata": {
        "colab": {
          "base_uri": "https://localhost:8080/",
          "height": 35
        },
        "id": "3ftbuMN45IlN",
        "outputId": "e61350d0-fec9-4f73-9d60-02fc71562ff5"
      },
      "outputs": [
        {
          "output_type": "execute_result",
          "data": {
            "text/plain": [
              "'1.26.4'"
            ],
            "application/vnd.google.colaboratory.intrinsic+json": {
              "type": "string"
            }
          },
          "metadata": {},
          "execution_count": 1
        }
      ],
      "source": [
        "import numpy as np\n",
        "np.version.version"
      ]
    },
    {
      "cell_type": "markdown",
      "metadata": {
        "id": "6iPL4gTu2ECp"
      },
      "source": [
        "1. Создать массив 10x10 со случайными значениями, найти минимум и максимум (низкая)"
      ]
    },
    {
      "cell_type": "code",
      "execution_count": null,
      "metadata": {
        "id": "v-AutHvo2T-D",
        "outputId": "dced9058-559a-4c1e-ab0c-7d78c4dd0401",
        "colab": {
          "base_uri": "https://localhost:8080/"
        }
      },
      "outputs": [
        {
          "output_type": "stream",
          "name": "stdout",
          "text": [
            "[[0.03786687 0.92245341 0.41679784 0.08040307 0.597289   0.62039274\n",
            "  0.60905425 0.29575746 0.62348435 0.66391688]\n",
            " [0.78997049 0.46239589 0.34696962 0.80422499 0.10015754 0.09982592\n",
            "  0.48392502 0.07024749 0.02209167 0.89675345]\n",
            " [0.72504051 0.61150188 0.92614218 0.55915734 0.62250531 0.4201836\n",
            "  0.67369655 0.40472115 0.35804483 0.68696768]\n",
            " [0.99319898 0.27178521 0.67615642 0.606298   0.37147292 0.8591357\n",
            "  0.72050639 0.94858855 0.54319104 0.51125321]\n",
            " [0.12985218 0.77369617 0.58755559 0.78493431 0.99836515 0.8445814\n",
            "  0.8495341  0.99845687 0.33110396 0.85865462]\n",
            " [0.85463455 0.10849866 0.92171794 0.20134666 0.95777044 0.56113156\n",
            "  0.05372733 0.79921962 0.48242112 0.49451396]\n",
            " [0.41390123 0.53730847 0.28721143 0.71090799 0.18756329 0.1495134\n",
            "  0.92408674 0.16728073 0.21126665 0.27905414]\n",
            " [0.38478806 0.63135526 0.32634323 0.70469544 0.81208146 0.59445042\n",
            "  0.02638114 0.61577009 0.89947656 0.77696307]\n",
            " [0.32191179 0.70250902 0.77581189 0.63348421 0.47405721 0.43851198\n",
            "  0.69968501 0.76733516 0.3189281  0.75911459]\n",
            " [0.86715319 0.93362819 0.12053949 0.50719769 0.97696924 0.23874724\n",
            "  0.35790316 0.52986137 0.20373397 0.53494791]]\n",
            "min 0.022091671690763426\n",
            "max 0.9984568677246078\n"
          ]
        }
      ],
      "source": [
        "# Напишите ваш код здесь\n",
        "arr = np.random.random((10,10))\n",
        "print(arr)\n",
        "min, max = arr.min(), arr.max()\n",
        "print(\"min\", min)\n",
        "print(\"max\", max)"
      ]
    },
    {
      "cell_type": "markdown",
      "metadata": {
        "id": "cwxKoGik2Xfd"
      },
      "source": [
        "2. Создать 8x8 матрицу и заполнить её единицами и нулями в шахматном порядке"
      ]
    },
    {
      "cell_type": "code",
      "execution_count": null,
      "metadata": {
        "id": "zACAjKWC2lBy",
        "outputId": "1560080a-13f5-407b-a4d9-d6d040cb5893",
        "colab": {
          "base_uri": "https://localhost:8080/"
        }
      },
      "outputs": [
        {
          "output_type": "stream",
          "name": "stdout",
          "text": [
            "[[0 1 0 1 0 1 0 1]\n",
            " [1 0 1 0 1 0 1 0]\n",
            " [0 1 0 1 0 1 0 1]\n",
            " [1 0 1 0 1 0 1 0]\n",
            " [0 1 0 1 0 1 0 1]\n",
            " [1 0 1 0 1 0 1 0]\n",
            " [0 1 0 1 0 1 0 1]\n",
            " [1 0 1 0 1 0 1 0]]\n"
          ]
        }
      ],
      "source": [
        "# Напишите ваш код здесь\n",
        "matrix = np.zeros((8,8), dtype=int)\n",
        "matrix[1::2,::2] = 1\n",
        "matrix[::2,1::2] = 1\n",
        "print(matrix)"
      ]
    },
    {
      "cell_type": "markdown",
      "metadata": {
        "id": "YvNFm7Io2tSA"
      },
      "source": [
        "3. Дан массив из 11 элементов, поменять знак у элементов, значения которых между 3 и 8"
      ]
    },
    {
      "cell_type": "code",
      "execution_count": null,
      "metadata": {
        "id": "cczoe3OY27fA",
        "outputId": "c5cbc069-8024-4107-e6f4-e23c46c7c1cf",
        "colab": {
          "base_uri": "https://localhost:8080/"
        }
      },
      "outputs": [
        {
          "output_type": "stream",
          "name": "stdout",
          "text": [
            "[ 0  1  2  3 -4 -5 -6 -7 -8  9 10]\n"
          ]
        }
      ],
      "source": [
        "z = np.arange(11)\n",
        "# Напишите ваш код здесь\n",
        "z[(3 < z) & (z <= 8)] *= -1\n",
        "print(z)"
      ]
    },
    {
      "cell_type": "markdown",
      "metadata": {
        "id": "tInYHRPf2-jQ"
      },
      "source": [
        "4. Найти среднее заначение строки матрицы и вычесть его из каждого елемента строки"
      ]
    },
    {
      "cell_type": "code",
      "execution_count": null,
      "metadata": {
        "id": "Zbv_WG9w3km1",
        "outputId": "61358ba8-6aa1-4b85-91d0-67749b14f10d",
        "colab": {
          "base_uri": "https://localhost:8080/"
        }
      },
      "outputs": [
        {
          "output_type": "stream",
          "name": "stdout",
          "text": [
            "[[0.40618802 0.94642377 0.27940369 0.80298023 0.4362061  0.40906701\n",
            "  0.44186605 0.46610794 0.49957382 0.36851715]\n",
            " [0.52697309 0.26278674 0.19123274 0.24791413 0.22565817 0.70706916\n",
            "  0.27900399 0.8738695  0.52691179 0.48461934]\n",
            " [0.48795343 0.02566259 0.40279978 0.7564821  0.13155458 0.12617003\n",
            "  0.5298661  0.77173167 0.66842034 0.85653115]\n",
            " [0.23217331 0.2378641  0.52547849 0.12413926 0.66031457 0.01061321\n",
            "  0.94603318 0.67792968 0.14468685 0.5464148 ]\n",
            " [0.85360206 0.41286189 0.33908602 0.09541479 0.30279661 0.27713255\n",
            "  0.00614385 0.37195386 0.77484147 0.50052705]]\n",
            "\n",
            " [0.50563338 0.43260386 0.47571718 0.41056474 0.39343602] \n",
            "\n",
            "[[-0.09944536  0.44079039 -0.22622969  0.29734685 -0.06942727 -0.09656636\n",
            "  -0.06376733 -0.03952544 -0.00605956 -0.13711623]\n",
            " [ 0.09436923 -0.16981713 -0.24137112 -0.18468974 -0.20694569  0.27446529\n",
            "  -0.15359988  0.44126564  0.09430793  0.05201548]\n",
            " [ 0.01223625 -0.45005459 -0.07291739  0.28076492 -0.3441626  -0.34954715\n",
            "   0.05414893  0.2960145   0.19270316  0.38081397]\n",
            " [-0.17839144 -0.17270064  0.11491375 -0.28642548  0.24974983 -0.39995154\n",
            "   0.53546844  0.26736493 -0.26587789  0.13585005]\n",
            " [ 0.46016605  0.01942588 -0.05435    -0.29802123 -0.0906394  -0.11630346\n",
            "  -0.38729217 -0.02148215  0.38140545  0.10709103]]\n"
          ]
        }
      ],
      "source": [
        "z = np.random.rand(5, 10)\n",
        "# Напишите ваш код здесь\n",
        "print(z)\n",
        "row_means = np.mean(z, axis=1)\n",
        "res = z - row_means[:, np.newaxis]\n",
        "print(\"\\n\",row_means,\"\\n\")\n",
        "print(res)"
      ]
    },
    {
      "cell_type": "markdown",
      "metadata": {
        "id": "OStor4mW3lpJ"
      },
      "source": [
        "5. Поменяйте 1 и 2 строки матрицы"
      ]
    },
    {
      "cell_type": "code",
      "execution_count": null,
      "metadata": {
        "id": "5vfeHqyF3qKd",
        "outputId": "322efe48-6ed3-4cb3-b6ac-d067368b5385",
        "colab": {
          "base_uri": "https://localhost:8080/"
        }
      },
      "outputs": [
        {
          "output_type": "stream",
          "name": "stdout",
          "text": [
            "[[ 5  6  7  8  9]\n",
            " [ 0  1  2  3  4]\n",
            " [10 11 12 13 14]\n",
            " [15 16 17 18 19]\n",
            " [20 21 22 23 24]]\n"
          ]
        }
      ],
      "source": [
        "z = np.arange(25).reshape(5,5)\n",
        "# Напишите ваш код здесь\n",
        "z[[0, 1]] = z[[1, 0]]\n",
        "print(z)"
      ]
    },
    {
      "cell_type": "markdown",
      "metadata": {
        "id": "IPQ9xIIk3qml"
      },
      "source": [
        "6. Дан массив 10x2 подеставлющий собой точки в декартовой системе координат, преобразовать в полярную"
      ]
    },
    {
      "cell_type": "code",
      "execution_count": null,
      "metadata": {
        "id": "zGHBaX8b30Uv",
        "outputId": "21a7adbb-3b07-417d-dd7b-9aefb98a5cef",
        "colab": {
          "base_uri": "https://localhost:8080/"
        }
      },
      "outputs": [
        {
          "output_type": "stream",
          "name": "stdout",
          "text": [
            "[0.24377473 0.68753973 0.25077192 1.14763924 0.71939746 0.66476696\n",
            " 0.93232975 0.33945909 0.36251008 0.76706553]\n",
            "[0.58145571 0.27060648 1.40346455 0.61613863 0.72941063 0.50647498\n",
            " 1.02131784 0.90855825 0.23340461 1.24638329]\n"
          ]
        }
      ],
      "source": [
        "z = np.random.random((10,2))\n",
        "# Ваш код здесь\n",
        "z = np.random.random((10,2))\n",
        "x,y = z[:,0], z[:,1]\n",
        "r = np.hypot(x, y)\n",
        "t = np.arctan2(y,x)\n",
        "print(r)\n",
        "print(t)"
      ]
    },
    {
      "cell_type": "markdown",
      "metadata": {
        "id": "10gbuTgE4AOH"
      },
      "source": [
        "7. Заменить максимальный элемент массива на ноль"
      ]
    },
    {
      "cell_type": "code",
      "execution_count": null,
      "metadata": {
        "id": "gqwuO2T_5Aqd",
        "outputId": "ef0bf77a-a425-43e0-f829-f9a9de185919",
        "colab": {
          "base_uri": "https://localhost:8080/"
        }
      },
      "outputs": [
        {
          "output_type": "stream",
          "name": "stdout",
          "text": [
            "[0.35937327 0.36929735 0.43801576 0.11207095 0.23306759 0.20441196\n",
            " 0.31964276 0.49869378 0.         0.1310596 ]\n"
          ]
        }
      ],
      "source": [
        "z = np.random.random(10)\n",
        "# Ваш код здесь\n",
        "\n",
        "z[z.argmax()] = 0\n",
        "print(z)"
      ]
    },
    {
      "cell_type": "markdown",
      "metadata": {
        "id": "88m_eWXM6nZY"
      },
      "source": [
        "8. Дан массив, добавить 1 к каждому элементу с индексом, заданным в другом массиве. Добавление производиться только 1 раз"
      ]
    },
    {
      "cell_type": "code",
      "execution_count": null,
      "metadata": {
        "id": "-5yj9k126pfh",
        "outputId": "dfdeb918-f438-4723-b266-03a7e7e84a7c",
        "colab": {
          "base_uri": "https://localhost:8080/"
        }
      },
      "outputs": [
        {
          "output_type": "stream",
          "name": "stdout",
          "text": [
            "[1. 3. 2. 3. 3. 3. 3. 2. 5. 5.]\n"
          ]
        }
      ],
      "source": [
        "z = np.ones(10)\n",
        "\n",
        "i = np.random.randint(0,len(z),20)\n",
        "\n",
        "# Напишите ваш код здесь\n",
        "z += np.bincount(i, minlength=len(z))\n",
        "print(z)"
      ]
    },
    {
      "cell_type": "markdown",
      "metadata": {
        "id": "0HByAVK77JCG"
      },
      "source": [
        "9. Дан вектор [1, 2, 3, 4, 5], построить новый вектор с тремя нулями между каждым значением"
      ]
    },
    {
      "cell_type": "code",
      "execution_count": null,
      "metadata": {
        "id": "2AiZt-J47dqq",
        "outputId": "656885c7-0216-451c-d684-8cdd9f20b907",
        "colab": {
          "base_uri": "https://localhost:8080/"
        }
      },
      "outputs": [
        {
          "output_type": "stream",
          "name": "stdout",
          "text": [
            "[1. 0. 0. 0. 2. 0. 0. 0. 3. 0. 0. 0. 4. 0. 0. 0. 5.]\n"
          ]
        }
      ],
      "source": [
        "z = np.array([1,2,3,4,5])\n",
        "# Напишите ваш код здесь\n",
        "nz = 3\n",
        "z0 = np.zeros(len(z) + (len(z)-1)*(nz))\n",
        "z0[::nz+1] = z\n",
        "print(z0)"
      ]
    },
    {
      "cell_type": "markdown",
      "metadata": {
        "id": "i0uK-dO08AKP"
      },
      "source": [
        "10. Найти ближайшее к заданному значению число в заданном массиве"
      ]
    },
    {
      "cell_type": "code",
      "execution_count": null,
      "metadata": {
        "id": "sE0DlZO_-4Cb",
        "outputId": "332762da-4a4e-4df5-db0a-e121d166ba84",
        "colab": {
          "base_uri": "https://localhost:8080/"
        }
      },
      "outputs": [
        {
          "output_type": "stream",
          "name": "stdout",
          "text": [
            "41\n"
          ]
        }
      ],
      "source": [
        "z = np.arange(100) # Число\n",
        "v = np.random.uniform(0,100) # Массив\n",
        "# Напишите ваш код здесь\n",
        "index = (np.abs(z-v)).argmin()\n",
        "print(z[index])"
      ]
    },
    {
      "cell_type": "markdown",
      "metadata": {
        "id": "0zUpsgh8uCfQ"
      },
      "source": [
        "## Вопросы\n",
        "\n",
        "\n"
      ]
    },
    {
      "cell_type": "markdown",
      "metadata": {
        "id": "RQEMkoq5vc3k"
      },
      "source": [
        "**1**. Какой тип (dtype) будут иметь элементы массива?\n",
        "``` python\n",
        "np.array([1, 4, 2, 5, 3])\n",
        "np.array([1., 4, 2, 5, 3])\n",
        "np.array([1, 4, 2, 5, 3], dtype='float128')\n",
        "np.array([1., 4, 2, 5, 3], dtype='complex128')\n",
        "np.array([1, 4, 2, 5, 3], dtype ='float64')\n",
        "np.array([1, 4, 2, 5, 3], dtype =int64)\n",
        "np.array([1, 4, 2, 5, 3], dtype='bool')\n",
        "np.array([1, 4, 2, 5, 3], dtype='str')\n",
        "np.array([1, 4, 2, 5, '3'])\n",
        "np.array([1, -4, 2, 0, 1j])\n",
        "```"
      ]
    },
    {
      "cell_type": "markdown",
      "metadata": {
        "id": "SlJfe4Bgvd16"
      },
      "source": [
        "**2**. Что будет выведено в консоль и почему?\n",
        "``` python\n",
        "np.array([1, 4, 2, 5, 3], dtype='str')[1] + '1'\n",
        "np.array([1, -4, 2, 0, 3], dtype='bool')[3] or np.array([1, -4, 2, 0, 3])[1]\n",
        "np.array([1, -4, 2, 0, 3], dtype='bool')[3] and np.array([1, -4, 2, 0, 3])[1]\n",
        "np.array([1, -4, 2, 0, True], dtype='int64')[-1]\n",
        "np.array([1, -4, 2, 0, 1j], dtype='int64')[1]\n",
        "np.array([1, -4, 2, 0, 1j], dtype='str')[-1]\n",
        "np.array([1, 4, 2, 5, '3'])[-1] * 3\n",
        "```"
      ]
    },
    {
      "cell_type": "markdown",
      "metadata": {
        "id": "X50PESx7xVAc"
      },
      "source": [
        "**3**. Каков результат операции?\n",
        "\n",
        "``` python\n",
        "np.ones((3, 5), dtype=float)\n",
        "np.full((3, 5), 3.14)\n",
        "np.linspace(0, 1, 5)\n",
        "np.diag((1,3,5))\n",
        "np.smile((1,3,5))\n",
        "np.random.random((3, 3))\n",
        "np.eye(3)\n",
        "np.empty(3)\n",
        "```\n",
        "\n"
      ]
    },
    {
      "cell_type": "markdown",
      "metadata": {
        "id": "D6Bt-8cfAWrA"
      },
      "source": [
        "**4**. Дан двумерный массив X, что будет выведено в консоль?\n",
        "\n",
        "``` python\n",
        "X = np.array([[3, 5, 2, 4],\n",
        "      [7, 6, 8, 8],\n",
        "      [1, 6, 7, 7]])\n",
        "```\n",
        "\n",
        "``` python\n",
        "X[0,0]\n",
        "X[-1,-1]\n",
        "X[0:1,-1]\n",
        "X[0:2,-1]\n",
        "X[0:2,0:2]\n",
        "X[1,1:3]\n",
        "X[1,:]\n",
        "X[1,:]\n",
        "X[:,:]\n",
        "X[:]\n",
        "X[::2,::2]\n",
        "X[0:3:2,0:3:2]\n",
        "X[::-1,::-1]\n",
        "```"
      ]
    },
    {
      "cell_type": "markdown",
      "metadata": {
        "id": "nvxQAK-9c0di"
      },
      "source": [
        "**5**. Дан двумерный массив grid, в чем различее между операциями?\n",
        "\n",
        "\n",
        "``` python\n",
        "grid = np.arange(16).reshape((4, 4))\n",
        "```\n",
        "\n",
        "``` python\n",
        "np.split(grid, [2])\n",
        "np.split(grid, [2], axis=1)\n",
        "```\n"
      ]
    },
    {
      "cell_type": "markdown",
      "metadata": {
        "id": "NK2xJLmOc0di"
      },
      "source": [
        "**6**. В чем различие между операциями?\n",
        "\n",
        "``` python\n",
        "    [1, 2, 3] + [3, 2, 1]\n",
        "    np.array([1, 2, 3]) + np.array([3, 2, 1])\n",
        "```"
      ]
    },
    {
      "cell_type": "markdown",
      "metadata": {
        "id": "Gm1FDEktc0dj"
      },
      "source": [
        "**7**. Как в CodeLab измерить время выполнения кода?"
      ]
    },
    {
      "cell_type": "markdown",
      "metadata": {
        "id": "hJ2IzCWic0dj"
      },
      "source": [
        "**8**. Дан массив X, каковы результаты операций?\n",
        "\n",
        "```python\n",
        "X = np.array([[3, 5, 2, 4],\n",
        "      [7, 6, 8, 8],\n",
        "      [1, 6, 7, 7]])\n",
        "\n",
        "np.sum(M)\n",
        "np.sum(M, axis=1)\n",
        "np.sum(M, axis=0)\n",
        "np.sum(M, axis=2)\n",
        "np.sum(M, 1)\n",
        "sum(M)\n",
        "sum(M,1)\n",
        "```"
      ]
    },
    {
      "cell_type": "markdown",
      "metadata": {
        "id": "fHr5684uc0dj"
      },
      "source": [
        "**9**. Дан массив X, что будет выведено в консоль?\n",
        "\n",
        "```python\n",
        "X = np.array([1,2,3,4])\n",
        "\n",
        "X > 3\n",
        "X < 3\n",
        "X[X < 3]\n",
        "X[X > 3]\n",
        "X[X != 3]\n",
        "```"
      ]
    },
    {
      "cell_type": "markdown",
      "metadata": {
        "id": "AyZGXbLKc0dj"
      },
      "source": [
        "**10**.  В чем преимущество массивов NumPy по сравнению с обычными списками.  Чем обусловлено это преимущество?"
      ]
    }
  ],
  "metadata": {
    "colab": {
      "provenance": [],
      "include_colab_link": true
    },
    "kernelspec": {
      "display_name": "Python 3",
      "name": "python3"
    },
    "language_info": {
      "codemirror_mode": {
        "name": "ipython",
        "version": 3
      },
      "file_extension": ".py",
      "mimetype": "text/x-python",
      "name": "python",
      "nbconvert_exporter": "python",
      "pygments_lexer": "ipython3",
      "version": "3.12.2"
    }
  },
  "nbformat": 4,
  "nbformat_minor": 0
}