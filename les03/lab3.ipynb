{
  "nbformat": 4,
  "nbformat_minor": 0,
  "metadata": {
    "colab": {
      "provenance": [],
      "include_colab_link": true
    },
    "kernelspec": {
      "name": "python3",
      "display_name": "Python 3"
    },
    "language_info": {
      "name": "python"
    }
  },
  "cells": [
    {
      "cell_type": "markdown",
      "metadata": {
        "id": "view-in-github",
        "colab_type": "text"
      },
      "source": [
        "<a href=\"https://colab.research.google.com/github/Progra-man/dap-2024/blob/main/les03/lab3.ipynb\" target=\"_parent\"><img src=\"https://colab.research.google.com/assets/colab-badge.svg\" alt=\"Open In Colab\"/></a>"
      ]
    },
    {
      "cell_type": "markdown",
      "source": [
        "#Лабораторная работа №3. NumPy\n",
        "##Задания\n",
        "___\n",
        "1. Создать массив 10x10 со случайными значениями, найти минимум и максимум (низкая)\n",
        "___"
      ],
      "metadata": {
        "id": "WtvEziK6cUil"
      }
    },
    {
      "cell_type": "code",
      "source": [
        "import numpy as np\n",
        "z = np.random.random((10, 10))\n",
        "min_val = z.min()\n",
        "max_val = z.max()\n",
        "print(z)\n",
        "print(min_val)\n",
        "print(max_val)"
      ],
      "metadata": {
        "colab": {
          "base_uri": "https://localhost:8080/"
        },
        "id": "HQXIbJ08dF3Z",
        "outputId": "b5414fc2-ade0-43f5-a2f8-446694ed8c79"
      },
      "execution_count": null,
      "outputs": [
        {
          "output_type": "stream",
          "name": "stdout",
          "text": [
            "[[0.58503019 0.27033088 0.21390403 0.05581874 0.01525371 0.40218822\n",
            "  0.82759484 0.72401447 0.40269349 0.28551515]\n",
            " [0.67450847 0.35370571 0.18344569 0.19939636 0.34439616 0.36911691\n",
            "  0.09768666 0.7812319  0.74019678 0.29633528]\n",
            " [0.39727112 0.2379251  0.65565809 0.13814605 0.27251696 0.96923272\n",
            "  0.29944462 0.49362871 0.96812173 0.87691152]\n",
            " [0.43236727 0.07955746 0.54321551 0.45833377 0.8112506  0.90405473\n",
            "  0.53868155 0.643163   0.60343945 0.21170072]\n",
            " [0.03356576 0.53422856 0.02371191 0.99233532 0.6807769  0.20116716\n",
            "  0.83608671 0.2572779  0.4110529  0.96414583]\n",
            " [0.11845182 0.83786056 0.2003025  0.00295834 0.22574294 0.32340153\n",
            "  0.99499578 0.24550243 0.57267171 0.27615536]\n",
            " [0.0926624  0.73543506 0.05412383 0.38310459 0.7508231  0.94724782\n",
            "  0.35253428 0.14892624 0.20818788 0.20753606]\n",
            " [0.34732625 0.0404804  0.91440981 0.05184199 0.69549379 0.09795977\n",
            "  0.79022265 0.61752504 0.31128902 0.0100536 ]\n",
            " [0.36654379 0.50243009 0.16889366 0.13938181 0.09380467 0.31154587\n",
            "  0.65250745 0.5920837  0.31577069 0.74460946]\n",
            " [0.96885777 0.72896273 0.65254069 0.62820599 0.15386904 0.56038898\n",
            "  0.72101729 0.18692798 0.26713503 0.7187567 ]]\n",
            "0.002958343945798192\n",
            "0.9949957760523939\n"
          ]
        }
      ]
    },
    {
      "cell_type": "markdown",
      "source": [
        "___\n",
        "2. Создать 8x8 матрицу и заполнить её единицами и нулями в шахматном порядке\n",
        "___"
      ],
      "metadata": {
        "id": "Xg77b7k1dKZc"
      }
    },
    {
      "cell_type": "code",
      "source": [
        "z = np.zeros((8, 8), dtype=int)\n",
        "z[1::2, ::2] = 1\n",
        "z[::2, 1::2] = 1\n",
        "print(z)"
      ],
      "metadata": {
        "colab": {
          "base_uri": "https://localhost:8080/"
        },
        "id": "uLBk4d8KdNup",
        "outputId": "f37cc817-db5e-489f-985a-296f0956a197"
      },
      "execution_count": null,
      "outputs": [
        {
          "output_type": "stream",
          "name": "stdout",
          "text": [
            "[[0 1 0 1 0 1 0 1]\n",
            " [1 0 1 0 1 0 1 0]\n",
            " [0 1 0 1 0 1 0 1]\n",
            " [1 0 1 0 1 0 1 0]\n",
            " [0 1 0 1 0 1 0 1]\n",
            " [1 0 1 0 1 0 1 0]\n",
            " [0 1 0 1 0 1 0 1]\n",
            " [1 0 1 0 1 0 1 0]]\n"
          ]
        }
      ]
    },
    {
      "cell_type": "markdown",
      "source": [
        "___\n",
        "3. Дан массив из 11 элементов, поменять знак у элементов, значения которых между 3 и 8\n",
        "___"
      ],
      "metadata": {
        "id": "Kl8ij9tRdQBz"
      }
    },
    {
      "cell_type": "code",
      "source": [
        "import numpy as np\n",
        "z = np.arange(11)\n",
        "z[(z > 3) & (z < 8)] *= -1\n",
        "print(z)"
      ],
      "metadata": {
        "colab": {
          "base_uri": "https://localhost:8080/"
        },
        "id": "DwBYjmfWdTmW",
        "outputId": "c6eee7b8-479c-4512-fdee-3a804c369bf9"
      },
      "execution_count": null,
      "outputs": [
        {
          "output_type": "stream",
          "name": "stdout",
          "text": [
            "[ 0  1  2  3 -4 -5 -6 -7  8  9 10]\n"
          ]
        }
      ]
    },
    {
      "cell_type": "markdown",
      "source": [
        "___\n",
        "4. Найти среднее заначение строки матрицы и вычесть его из каждого елемента строки\n",
        "___"
      ],
      "metadata": {
        "id": "1TKFbibzdTyp"
      }
    },
    {
      "cell_type": "code",
      "source": [
        "z = np.random.rand(5, 10)\n",
        "z -= z.mean(axis=1, keepdims=True)\n",
        "print(z)"
      ],
      "metadata": {
        "colab": {
          "base_uri": "https://localhost:8080/"
        },
        "id": "JlCwa3G5dT5L",
        "outputId": "0965be52-1fcc-4ba2-ced2-314f2c625a94"
      },
      "execution_count": null,
      "outputs": [
        {
          "output_type": "stream",
          "name": "stdout",
          "text": [
            "[[-0.45464983  0.14681799  0.00950134  0.43245519  0.15147766  0.24589787\n",
            "   0.11125962 -0.48592932 -0.45437355  0.29754303]\n",
            " [-0.31572536  0.22462202  0.19096239  0.41643094  0.32644483 -0.33054069\n",
            "   0.13969325 -0.20847866 -0.1781479  -0.26526081]\n",
            " [-0.0219489   0.00260937  0.13784743  0.02715908  0.02572094 -0.11363787\n",
            "  -0.19780798  0.0972192  -0.11557335  0.15841209]\n",
            " [ 0.23245084  0.35873136 -0.05763193 -0.38236001  0.05258898  0.10255872\n",
            "  -0.4262717   0.09859101  0.0062946   0.01504814]\n",
            " [-0.3303561   0.27186285 -0.25736616  0.19031088 -0.12670561 -0.38737027\n",
            "   0.11890235  0.45353289  0.34314352 -0.27595434]]\n"
          ]
        }
      ]
    },
    {
      "cell_type": "markdown",
      "source": [
        "___\n",
        "5. Поменяйте 1 и 2 строки матрицы\n",
        "___"
      ],
      "metadata": {
        "id": "Dk91ZyXrdT-V"
      }
    },
    {
      "cell_type": "code",
      "source": [
        "z = np.arange(25).reshape(5, 5)\n",
        "z[[0, 1]] = z[[1, 0]]\n",
        "print(z)"
      ],
      "metadata": {
        "colab": {
          "base_uri": "https://localhost:8080/"
        },
        "id": "6EgIIf0idUDC",
        "outputId": "11f5fd3f-3ee6-495a-d5b2-7a2552153bbc"
      },
      "execution_count": null,
      "outputs": [
        {
          "output_type": "stream",
          "name": "stdout",
          "text": [
            "[[ 5  6  7  8  9]\n",
            " [ 0  1  2  3  4]\n",
            " [10 11 12 13 14]\n",
            " [15 16 17 18 19]\n",
            " [20 21 22 23 24]]\n"
          ]
        }
      ]
    },
    {
      "cell_type": "markdown",
      "source": [
        "___\n",
        "6. Дан массив 10x2 подеставлющий собой точки в декартовой системе координат, преобразовать в полярную.\n",
        "___"
      ],
      "metadata": {
        "id": "Qn-Cqu4idUGf"
      }
    },
    {
      "cell_type": "code",
      "source": [
        "z = np.random.random((10, 2))\n",
        "r = np.sqrt(z[:, 0]**2 + z[:, 1]**2)\n",
        "theta = np.arctan2(z[:, 1], z[:, 0])\n",
        "print(theta)"
      ],
      "metadata": {
        "colab": {
          "base_uri": "https://localhost:8080/"
        },
        "id": "V4rujQK5dUK2",
        "outputId": "3df3e990-4e3f-4b3d-8090-2ad377b05780"
      },
      "execution_count": null,
      "outputs": [
        {
          "output_type": "stream",
          "name": "stdout",
          "text": [
            "[0.46163606 0.46539377 1.20251071 0.67575729 0.76351222 0.77462803\n",
            " 0.8492773  0.4486905  0.83104689 1.05988619]\n"
          ]
        }
      ]
    },
    {
      "cell_type": "markdown",
      "source": [
        "___\n",
        "7. Заменить максимальный элемент массива на ноль\n",
        "___"
      ],
      "metadata": {
        "id": "iRadptsVdUPP"
      }
    },
    {
      "cell_type": "code",
      "source": [
        "z = np.random.random(10)\n",
        "z[z.argmax()] = 0\n",
        "print(z)"
      ],
      "metadata": {
        "colab": {
          "base_uri": "https://localhost:8080/"
        },
        "id": "CqDuCik8dUTU",
        "outputId": "d3960d06-03aa-4f17-b125-d2a0eece1caa"
      },
      "execution_count": null,
      "outputs": [
        {
          "output_type": "stream",
          "name": "stdout",
          "text": [
            "[0.18482369 0.77541806 0.41984539 0.07113617 0.40997106 0.73094769\n",
            " 0.         0.5000981  0.64574743 0.29813704]\n"
          ]
        }
      ]
    },
    {
      "cell_type": "markdown",
      "source": [
        "___\n",
        "8. Дан массив, добавить 1 к каждому элементу с индексом, заданным в другом массиве. Добавление производиться только 1 раз\n",
        "___"
      ],
      "metadata": {
        "id": "yMRLSzo9dUXU"
      }
    },
    {
      "cell_type": "code",
      "source": [
        "import numpy as np\n",
        "z = np.ones(10)\n",
        "i = np.random.randint(0, len(z), 20)\n",
        "z[i] += 1\n",
        "z = np.clip(z, 0, 2)  # Добавление только 1 раз\n",
        "print(z)"
      ],
      "metadata": {
        "colab": {
          "base_uri": "https://localhost:8080/"
        },
        "id": "cL_JGy05dUbv",
        "outputId": "1bcb44e7-3cca-4acc-ca91-c194b0f99917"
      },
      "execution_count": 3,
      "outputs": [
        {
          "output_type": "stream",
          "name": "stdout",
          "text": [
            "[1. 2. 1. 2. 2. 2. 2. 2. 2. 2.]\n"
          ]
        }
      ]
    },
    {
      "cell_type": "markdown",
      "source": [
        "___\n",
        "9. Дан вектор [1, 2, 3, 4, 5], построить новый вектор с тремя нулями между каждым значением\n",
        "___"
      ],
      "metadata": {
        "id": "j5oXZqOSdUfk"
      }
    },
    {
      "cell_type": "code",
      "source": [
        "z = np.array([1, 2, 3, 4, 5])\n",
        "z_new = np.zeros(len(z) * 4 - 3)\n",
        "z_new[::4] = z\n",
        "print(z)"
      ],
      "metadata": {
        "colab": {
          "base_uri": "https://localhost:8080/"
        },
        "id": "o92Mp4ZadUjq",
        "outputId": "533f29f0-c9c8-4260-fb9a-62f798093d0f"
      },
      "execution_count": null,
      "outputs": [
        {
          "output_type": "stream",
          "name": "stdout",
          "text": [
            "[1 2 3 4 5]\n"
          ]
        }
      ]
    },
    {
      "cell_type": "markdown",
      "source": [
        "___\n",
        "10. Найти ближайшее к заданному значению число в заданном массиве\n",
        "___"
      ],
      "metadata": {
        "id": "EvWO1O9LdUnp"
      }
    },
    {
      "cell_type": "code",
      "source": [
        "z = np.arange(100)\n",
        "v = np.random.uniform(0, 100)\n",
        "closest_value = z[np.abs(z - v).argmin()]\n",
        "print(closest_value)"
      ],
      "metadata": {
        "colab": {
          "base_uri": "https://localhost:8080/"
        },
        "id": "XeUbDX4XdUrQ",
        "outputId": "eedacadc-3527-4262-940d-3c47b4362edc"
      },
      "execution_count": null,
      "outputs": [
        {
          "output_type": "stream",
          "name": "stdout",
          "text": [
            "30\n"
          ]
        }
      ]
    }
  ]
}