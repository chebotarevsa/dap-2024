{
  "cells": [
    {
      "cell_type": "markdown",
      "metadata": {
        "id": "qQvfD-M40xIt"
      },
      "source": [
        "# Лабораторная работа №3. NumPy"
      ]
    },
    {
      "cell_type": "markdown",
      "metadata": {
        "id": "ZmAzBAHRqICb"
      },
      "source": [
        "## Задание"
      ]
    },
    {
      "cell_type": "markdown",
      "metadata": {
        "id": "Q8FFEA2R08uS"
      },
      "source": [
        "Выполните следующие задания:\n",
        "\n",
        "1. Откройте в файл в Google Colab (используйте собственный форк репозитория).\n",
        "2. Решите задачи.\n",
        "3. Сохраните результат в ваш репозиторий github в директорию ./les03\n",
        "4. Создайте pull request в репозиторий https://github.com/chebotarevsa/dap-2024. Название pull request должно иметь формат \"<Номер лабораторной работы>  <Номер группы> <ФИО>\"\n",
        "5. Сдайте работу в системе \"Пегас\", в отчет укажите ссылку на pull request"
      ]
    },
    {
      "cell_type": "code",
      "execution_count": null,
      "metadata": {
        "colab": {
          "base_uri": "https://localhost:8080/",
          "height": 35
        },
        "id": "3ftbuMN45IlN",
        "outputId": "a202a579-7cba-405d-995b-9387cd4738a1"
      },
      "outputs": [
        {
          "data": {
            "text/plain": [
              "'2.1.0'"
            ]
          },
          "execution_count": 1,
          "metadata": {},
          "output_type": "execute_result"
        }
      ],
      "source": [
        "import numpy as np\n",
        "np.version.version"
      ]
    },
    {
      "cell_type": "markdown",
      "metadata": {
        "id": "6iPL4gTu2ECp"
      },
      "source": [
        "1. Создать массив 10x10 со случайными значениями, найти минимум и максимум (низкая)"
      ]
    },
    {
      "cell_type": "code",
      "execution_count": 2,
      "metadata": {
        "id": "v-AutHvo2T-D",
        "colab": {
          "base_uri": "https://localhost:8080/"
        },
        "outputId": "28ec988f-336c-423b-fcdc-fa4aaf0367a5"
      },
      "outputs": [
        {
          "output_type": "stream",
          "name": "stdout",
          "text": [
            "Массив 10x10:\n",
            "[[30 21 84  9 50 49 35 51 72 36]\n",
            " [95 62  6  3 91 94 78 21 64 53]\n",
            " [89 98  5 38 54 64 41  3 13 29]\n",
            " [ 4 53 64 96 92 68 13 30 14 97]\n",
            " [68 59 49 99 79 11 74  5 28 18]\n",
            " [30 84 34 69 36 52 70 99 15 17]\n",
            " [38 66 38 33 13 81 46 33 44 72]\n",
            " [53 73 72 82 35 42 73 26 85 75]\n",
            " [51 30 49 14 49 98 34 74  0 76]\n",
            " [92 34 69 45 58 56 58 61 23 51]]\n",
            "Минимум: 0\n",
            "Максимум: 99\n"
          ]
        }
      ],
      "source": [
        "import numpy as np\n",
        "array = np.random.randint(0, 100, size=(10, 10))\n",
        "minimum = np.min(array)\n",
        "maximum = np.max(array)\n",
        "print(\"Массив 10x10:\")\n",
        "print(array)\n",
        "print(f\"Минимум: {minimum}\")\n",
        "print(f\"Максимум: {maximum}\")\n"
      ]
    },
    {
      "cell_type": "markdown",
      "metadata": {
        "id": "cwxKoGik2Xfd"
      },
      "source": [
        "2. Создать 8x8 матрицу и заполнить её единицами и нулями в шахматном порядке"
      ]
    },
    {
      "cell_type": "code",
      "execution_count": 3,
      "metadata": {
        "id": "zACAjKWC2lBy",
        "colab": {
          "base_uri": "https://localhost:8080/"
        },
        "outputId": "b6c2f7bd-2252-48c4-81eb-4850ef38b23b"
      },
      "outputs": [
        {
          "output_type": "stream",
          "name": "stdout",
          "text": [
            "8x8 матрица в шахматном порядке:\n",
            "[[1 0 1 0 1 0 1 0]\n",
            " [0 1 0 1 0 1 0 1]\n",
            " [1 0 1 0 1 0 1 0]\n",
            " [0 1 0 1 0 1 0 1]\n",
            " [1 0 1 0 1 0 1 0]\n",
            " [0 1 0 1 0 1 0 1]\n",
            " [1 0 1 0 1 0 1 0]\n",
            " [0 1 0 1 0 1 0 1]]\n"
          ]
        }
      ],
      "source": [
        "import numpy as np\n",
        "matrix = np.zeros((8, 8), dtype=int)\n",
        "for i in range(8):\n",
        "    for j in range(8):\n",
        "        if (i + j) % 2 == 0:\n",
        "            matrix[i, j] = 1\n",
        "print(\"8x8 матрица в шахматном порядке:\")\n",
        "print(matrix)"
      ]
    },
    {
      "cell_type": "markdown",
      "metadata": {
        "id": "YvNFm7Io2tSA"
      },
      "source": [
        "3. Дан массив из 11 элементов, поменять знак у элементов, значения которых между 3 и 8"
      ]
    },
    {
      "cell_type": "code",
      "execution_count": 4,
      "metadata": {
        "id": "cczoe3OY27fA",
        "colab": {
          "base_uri": "https://localhost:8080/"
        },
        "outputId": "4401d5e6-1b5c-4755-9a33-65026552d1a5"
      },
      "outputs": [
        {
          "output_type": "stream",
          "name": "stdout",
          "text": [
            "Исходный массив z:\n",
            "[ 0  1  2  3  4  5  6  7  8  9 10]\n",
            "Измененный массив z:\n",
            "[ 0  1  2  3 -4 -5 -6 -7  8  9 10]\n"
          ]
        }
      ],
      "source": [
        "import numpy as np\n",
        "z = np.arange(11)\n",
        "print(\"Исходный массив z:\")\n",
        "print(z)\n",
        "for i in range(len(z)):\n",
        "    if 3 < z[i] < 8:\n",
        "        z[i] = -z[i]\n",
        "print(\"Измененный массив z:\")\n",
        "print(z)\n"
      ]
    },
    {
      "cell_type": "markdown",
      "metadata": {
        "id": "tInYHRPf2-jQ"
      },
      "source": [
        "4. Найти среднее заначение строки матрицы и вычесть его из каждого елемента строки"
      ]
    },
    {
      "cell_type": "code",
      "execution_count": 5,
      "metadata": {
        "id": "Zbv_WG9w3km1",
        "colab": {
          "base_uri": "https://localhost:8080/"
        },
        "outputId": "0b5712b9-85fe-4f2e-a8f1-a46e6fb2d49b"
      },
      "outputs": [
        {
          "output_type": "stream",
          "name": "stdout",
          "text": [
            "Исходная матрица z:\n",
            "[[0.58849575 0.6276213  0.7394143  0.40421205 0.49424968 0.14126678\n",
            "  0.8792042  0.43696739 0.03641954 0.03431903]\n",
            " [0.11526545 0.79387823 0.61402654 0.43352933 0.61369312 0.13445391\n",
            "  0.64448193 0.25492656 0.08188043 0.12472412]\n",
            " [0.81439634 0.34490489 0.17006328 0.46163956 0.38350374 0.66379891\n",
            "  0.38597747 0.0984073  0.59544551 0.56243232]\n",
            " [0.13171377 0.42361258 0.03525227 0.54242778 0.83965402 0.581547\n",
            "  0.72773653 0.75926974 0.02054075 0.85403168]\n",
            " [0.19469547 0.19154407 0.76057194 0.49030557 0.5809964  0.09235597\n",
            "  0.51496629 0.34326663 0.8381159  0.73048451]]\n",
            "\n",
            "Матрица после вычитания среднего значения из каждой строки:\n",
            "[[ 0.15027874  0.1894043   0.3011973  -0.03400495  0.05603268 -0.29695022\n",
            "   0.4409872  -0.00124961 -0.40179746 -0.40389797]\n",
            " [-0.26582051  0.41279227  0.23294057  0.05244337  0.23260716 -0.24663205\n",
            "   0.26339597 -0.12615941 -0.29920553 -0.25636184]\n",
            " [ 0.36633941 -0.10315204 -0.27799365  0.01358263 -0.06455319  0.21574198\n",
            "  -0.06207946 -0.34964964  0.14738858  0.11437539]\n",
            " [-0.35986484 -0.06796603 -0.45632634  0.05084917  0.3480754   0.08996839\n",
            "   0.23615791  0.26769113 -0.47103787  0.36245307]\n",
            " [-0.27903481 -0.2821862   0.28684166  0.0165753   0.10726612 -0.38137431\n",
            "   0.04123602 -0.13046364  0.36438562  0.25675424]]\n"
          ]
        }
      ],
      "source": [
        "import numpy as np\n",
        "z = np.random.rand(5, 10)\n",
        "print(\"Исходная матрица z:\")\n",
        "print(z)\n",
        "mean_values = np.mean(z, axis=1)\n",
        "z_centered = z - mean_values[:, np.newaxis]\n",
        "print(\"\\nМатрица после вычитания среднего значения из каждой строки:\")\n",
        "print(z_centered)"
      ]
    },
    {
      "cell_type": "markdown",
      "metadata": {
        "id": "OStor4mW3lpJ"
      },
      "source": [
        "5. Поменяйте 1 и 2 строки матрицы"
      ]
    },
    {
      "cell_type": "code",
      "execution_count": 6,
      "metadata": {
        "id": "5vfeHqyF3qKd",
        "colab": {
          "base_uri": "https://localhost:8080/"
        },
        "outputId": "0e64e2ea-0b3a-4925-cdc6-95f936b20d81"
      },
      "outputs": [
        {
          "output_type": "stream",
          "name": "stdout",
          "text": [
            "Исходная матрица z:\n",
            "[[ 0  1  2  3  4]\n",
            " [ 5  6  7  8  9]\n",
            " [10 11 12 13 14]\n",
            " [15 16 17 18 19]\n",
            " [20 21 22 23 24]]\n",
            "\n",
            "Матрица после замены 1 и 2 строк:\n",
            "[[ 5  6  7  8  9]\n",
            " [ 0  1  2  3  4]\n",
            " [10 11 12 13 14]\n",
            " [15 16 17 18 19]\n",
            " [20 21 22 23 24]]\n"
          ]
        }
      ],
      "source": [
        "import numpy as np\n",
        "z = np.arange(25).reshape(5, 5)\n",
        "print(\"Исходная матрица z:\")\n",
        "print(z)\n",
        "z[[0, 1]] = z[[1, 0]]\n",
        "print(\"\\nМатрица после замены 1 и 2 строк:\")\n",
        "print(z)"
      ]
    },
    {
      "cell_type": "markdown",
      "metadata": {
        "id": "IPQ9xIIk3qml"
      },
      "source": [
        "6. Дан массив 10x2 подеставлющий собой точки в декартовой системе координат, преобразовать в полярную"
      ]
    },
    {
      "cell_type": "code",
      "execution_count": 7,
      "metadata": {
        "id": "zGHBaX8b30Uv",
        "colab": {
          "base_uri": "https://localhost:8080/"
        },
        "outputId": "7528920e-5a06-45e3-8d0f-ccd04510b2b4"
      },
      "outputs": [
        {
          "output_type": "stream",
          "name": "stdout",
          "text": [
            "Исходные декартовы координаты (x, y):\n",
            "[[0.94395323 0.85516069]\n",
            " [0.93898997 0.07443106]\n",
            " [0.37095168 0.27238885]\n",
            " [0.82768065 0.5599809 ]\n",
            " [0.8325443  0.97257219]\n",
            " [0.27363762 0.3165751 ]\n",
            " [0.16716187 0.98526847]\n",
            " [0.38799712 0.54919648]\n",
            " [0.16816695 0.82636546]\n",
            " [0.05446591 0.01634262]]\n",
            "\n",
            "Полярные координаты (r, θ):\n",
            "[[1.27371406 0.73608469]\n",
            " [0.94193532 0.07910175]\n",
            " [0.46021825 0.63337546]\n",
            " [0.9993167  0.59482498]\n",
            " [1.28024477 0.86281589]\n",
            " [0.41844634 0.8580194 ]\n",
            " [0.99934831 1.40273544]\n",
            " [0.67242735 0.95573363]\n",
            " [0.84330303 1.37003582]\n",
            " [0.0568649  0.29150482]]\n"
          ]
        }
      ],
      "source": [
        "import numpy as np\n",
        "z = np.random.random((10, 2))\n",
        "print(\"Исходные декартовы координаты (x, y):\")\n",
        "print(z)\n",
        "x = z[:, 0]\n",
        "y = z[:, 1]\n",
        "r = np.sqrt(x**2 + y**2)\n",
        "theta = np.arctan2(y, x)\n",
        "polar_coordinates = np.column_stack((r, theta))\n",
        "print(\"\\nПолярные координаты (r, θ):\")\n",
        "print(polar_coordinates)\n"
      ]
    },
    {
      "cell_type": "markdown",
      "metadata": {
        "id": "10gbuTgE4AOH"
      },
      "source": [
        "7. Заменить максимальный элемент массива на ноль"
      ]
    },
    {
      "cell_type": "code",
      "execution_count": 8,
      "metadata": {
        "id": "gqwuO2T_5Aqd",
        "colab": {
          "base_uri": "https://localhost:8080/"
        },
        "outputId": "1d005219-99ea-4b35-a555-e553c57e6797"
      },
      "outputs": [
        {
          "output_type": "stream",
          "name": "stdout",
          "text": [
            "Исходный массив z:\n",
            "[0.76796644 0.63075235 0.30856696 0.800048   0.67703184 0.42644132\n",
            " 0.31959367 0.74460757 0.33332884 0.84546528]\n",
            "\n",
            "Массив после замены максимального элемента на 0:\n",
            "[0.76796644 0.63075235 0.30856696 0.800048   0.67703184 0.42644132\n",
            " 0.31959367 0.74460757 0.33332884 0.        ]\n"
          ]
        }
      ],
      "source": [
        "import numpy as np\n",
        "z = np.random.random(10)\n",
        "print(\"Исходный массив z:\")\n",
        "print(z)\n",
        "max_index = np.argmax(z)\n",
        "z[max_index] = 0\n",
        "print(\"\\nМассив после замены максимального элемента на 0:\")\n",
        "print(z)"
      ]
    },
    {
      "cell_type": "markdown",
      "metadata": {
        "id": "88m_eWXM6nZY"
      },
      "source": [
        "8. Дан массив, добавить 1 к каждому элементу с индексом, заданным в другом массиве. Добавление производиться только 1 раз"
      ]
    },
    {
      "cell_type": "code",
      "execution_count": 9,
      "metadata": {
        "id": "-5yj9k126pfh",
        "colab": {
          "base_uri": "https://localhost:8080/"
        },
        "outputId": "d67172ce-23cb-459d-8cef-8c1ceed83ac3"
      },
      "outputs": [
        {
          "output_type": "stream",
          "name": "stdout",
          "text": [
            "Исходный массив z:\n",
            "[1. 1. 1. 1. 1. 1. 1. 1. 1. 1.]\n",
            "\n",
            "Случайные индексы i:\n",
            "[5 8 3 7 0 4 0 8 4 7 9 1 8 0 4 3 0 7 1 3]\n",
            "\n",
            "Массив z после добавления 1 к элементам по заданным индексам:\n",
            "[2. 2. 1. 2. 2. 2. 1. 2. 2. 2.]\n"
          ]
        }
      ],
      "source": [
        "import numpy as np\n",
        "z = np.ones(10)\n",
        "i = np.random.randint(0, len(z), 20)\n",
        "print(\"Исходный массив z:\")\n",
        "print(z)\n",
        "print(\"\\nСлучайные индексы i:\")\n",
        "print(i)\n",
        "unique_indices = np.unique(i)\n",
        "z[unique_indices] += 1\n",
        "print(\"\\nМассив z после добавления 1 к элементам по заданным индексам:\")\n",
        "print(z)\n"
      ]
    },
    {
      "cell_type": "markdown",
      "metadata": {
        "id": "0HByAVK77JCG"
      },
      "source": [
        "9. Дан вектор [1, 2, 3, 4, 5], построить новый вектор с тремя нулями между каждым значением"
      ]
    },
    {
      "cell_type": "code",
      "execution_count": 10,
      "metadata": {
        "id": "2AiZt-J47dqq",
        "colab": {
          "base_uri": "https://localhost:8080/"
        },
        "outputId": "db52f821-0cdc-4971-d095-2b39ec61c7a6"
      },
      "outputs": [
        {
          "output_type": "stream",
          "name": "stdout",
          "text": [
            "Исходный вектор:\n",
            "[1 2 3 4 5]\n",
            "\n",
            "Новый вектор с тремя нулями между каждым значением:\n",
            "[1 0 0 0 2 0 0 0 3 0 0 0 4 0 0 0 5]\n"
          ]
        }
      ],
      "source": [
        "import numpy as np\n",
        "z = np.array([1, 2, 3, 4, 5])\n",
        "print(\"Исходный вектор:\")\n",
        "print(z)\n",
        "new_vector = np.zeros(len(z) + (len(z) - 1) * 3, dtype=z.dtype)\n",
        "new_vector[::4] = z\n",
        "print(\"\\nНовый вектор с тремя нулями между каждым значением:\")\n",
        "print(new_vector)"
      ]
    },
    {
      "cell_type": "markdown",
      "metadata": {
        "id": "i0uK-dO08AKP"
      },
      "source": [
        "10. Найти ближайшее к заданному значению число в заданном массиве"
      ]
    },
    {
      "cell_type": "code",
      "execution_count": 11,
      "metadata": {
        "id": "sE0DlZO_-4Cb",
        "colab": {
          "base_uri": "https://localhost:8080/"
        },
        "outputId": "a7cdffac-235a-42e6-f1a2-ba054bc5c4c7"
      },
      "outputs": [
        {
          "output_type": "stream",
          "name": "stdout",
          "text": [
            "Случайное число v: 17.578550361298937\n",
            "Ближайшее значение в массиве z: 18\n"
          ]
        }
      ],
      "source": [
        "import numpy as np\n",
        "z = np.arange(100)\n",
        "v = np.random.uniform(0, 100)\n",
        "print(\"Случайное число v:\", v)\n",
        "closest_value = z[np.abs(z - v).argmin()]\n",
        "print(\"Ближайшее значение в массиве z:\", closest_value)\n"
      ]
    },
    {
      "cell_type": "markdown",
      "metadata": {
        "id": "0zUpsgh8uCfQ"
      },
      "source": [
        "## Вопросы\n",
        "\n",
        "\n"
      ]
    },
    {
      "cell_type": "markdown",
      "metadata": {
        "id": "RQEMkoq5vc3k"
      },
      "source": [
        "**1**. Какой тип (dtype) будут иметь элементы массива?\n",
        "``` python\n",
        "np.array([1, 4, 2, 5, 3])\n",
        "np.array([1., 4, 2, 5, 3])\n",
        "np.array([1, 4, 2, 5, 3], dtype='float128')\n",
        "np.array([1., 4, 2, 5, 3], dtype='complex128')\n",
        "np.array([1, 4, 2, 5, 3], dtype ='float64')\n",
        "np.array([1, 4, 2, 5, 3], dtype =int64)\n",
        "np.array([1, 4, 2, 5, 3], dtype='bool')\n",
        "np.array([1, 4, 2, 5, 3], dtype='str')\n",
        "np.array([1, 4, 2, 5, '3'])\n",
        "np.array([1, -4, 2, 0, 1j])\n",
        "```"
      ]
    },
    {
      "cell_type": "markdown",
      "metadata": {
        "id": "SlJfe4Bgvd16"
      },
      "source": [
        "**2**. Что будет выведено в консоль и почему?\n",
        "``` python\n",
        "np.array([1, 4, 2, 5, 3], dtype='str')[1] + '1'\n",
        "np.array([1, -4, 2, 0, 3], dtype='bool')[3] or np.array([1, -4, 2, 0, 3])[1]\n",
        "np.array([1, -4, 2, 0, 3], dtype='bool')[3] and np.array([1, -4, 2, 0, 3])[1]\n",
        "np.array([1, -4, 2, 0, True], dtype='int64')[-1]\n",
        "np.array([1, -4, 2, 0, 1j], dtype='int64')[1]\n",
        "np.array([1, -4, 2, 0, 1j], dtype='str')[-1]\n",
        "np.array([1, 4, 2, 5, '3'])[-1] * 3\n",
        "```"
      ]
    },
    {
      "cell_type": "markdown",
      "metadata": {
        "id": "X50PESx7xVAc"
      },
      "source": [
        "**3**. Каков результат операции?\n",
        "\n",
        "``` python\n",
        "np.ones((3, 5), dtype=float)\n",
        "np.full((3, 5), 3.14)\n",
        "np.linspace(0, 1, 5)\n",
        "np.diag((1,3,5))\n",
        "np.smile((1,3,5))\n",
        "np.random.random((3, 3))\n",
        "np.eye(3)\n",
        "np.empty(3)\n",
        "```\n",
        "\n"
      ]
    },
    {
      "cell_type": "markdown",
      "metadata": {
        "id": "D6Bt-8cfAWrA"
      },
      "source": [
        "**4**. Дан двумерный массив X, что будет выведено в консоль?\n",
        "\n",
        "``` python\n",
        "X = np.array([[3, 5, 2, 4],\n",
        "      [7, 6, 8, 8],\n",
        "      [1, 6, 7, 7]])\n",
        "```\n",
        "\n",
        "``` python\n",
        "X[0,0]\n",
        "X[-1,-1]\n",
        "X[0:1,-1]\n",
        "X[0:2,-1]\n",
        "X[0:2,0:2]\n",
        "X[1,1:3]\n",
        "X[1,:]\n",
        "X[1,:]\n",
        "X[:,:]\n",
        "X[:]\n",
        "X[::2,::2]\n",
        "X[0:3:2,0:3:2]\n",
        "X[::-1,::-1]\n",
        "```"
      ]
    },
    {
      "cell_type": "markdown",
      "metadata": {
        "id": "05863_o3qICg"
      },
      "source": [
        "**5**. Дан двумерный массив grid, в чем различее между операциями?\n",
        "\n",
        "\n",
        "``` python\n",
        "grid = np.arange(16).reshape((4, 4))\n",
        "```\n",
        "\n",
        "``` python\n",
        "np.split(grid, [2])\n",
        "np.split(grid, [2], axis=1)\n",
        "```\n"
      ]
    },
    {
      "cell_type": "markdown",
      "metadata": {
        "id": "hdromdpqqICg"
      },
      "source": [
        "**6**. В чем различие между операциями?\n",
        "\n",
        "``` python\n",
        "    [1, 2, 3] + [3, 2, 1]\n",
        "    np.array([1, 2, 3]) + np.array([3, 2, 1])\n",
        "```"
      ]
    },
    {
      "cell_type": "markdown",
      "metadata": {
        "id": "dWuNfypqqICg"
      },
      "source": [
        "**7**. Как в CodeLab измерить время выполнения кода?"
      ]
    },
    {
      "cell_type": "markdown",
      "metadata": {
        "id": "WFx1dBNmqICh"
      },
      "source": [
        "**8**. Дан массив X, каковы результаты операций?\n",
        "\n",
        "```python\n",
        "X = np.array([[3, 5, 2, 4],\n",
        "      [7, 6, 8, 8],\n",
        "      [1, 6, 7, 7]])\n",
        "\n",
        "np.sum(M)\n",
        "np.sum(M, axis=1)\n",
        "np.sum(M, axis=0)\n",
        "np.sum(M, axis=2)\n",
        "np.sum(M, 1)\n",
        "sum(M)\n",
        "sum(M,1)\n",
        "```"
      ]
    },
    {
      "cell_type": "markdown",
      "metadata": {
        "id": "IDu1Rx2qqICh"
      },
      "source": [
        "**9**. Дан массив X, что будет выведено в консоль?\n",
        "\n",
        "```python\n",
        "X = np.array([1,2,3,4])\n",
        "\n",
        "X > 3\n",
        "X < 3\n",
        "X[X < 3]\n",
        "X[X > 3]\n",
        "X[X != 3]\n",
        "```"
      ]
    },
    {
      "cell_type": "markdown",
      "metadata": {
        "id": "1V0VbYABqICh"
      },
      "source": [
        "**10**.  В чем преимущество массивов NumPy по сравнению с обычными списками.  Чем обусловлено это преимущество?"
      ]
    }
  ],
  "metadata": {
    "colab": {
      "provenance": []
    },
    "kernelspec": {
      "display_name": "Python 3",
      "name": "python3"
    },
    "language_info": {
      "codemirror_mode": {
        "name": "ipython",
        "version": 3
      },
      "file_extension": ".py",
      "mimetype": "text/x-python",
      "name": "python",
      "nbconvert_exporter": "python",
      "pygments_lexer": "ipython3",
      "version": "3.12.2"
    }
  },
  "nbformat": 4,
  "nbformat_minor": 0
}