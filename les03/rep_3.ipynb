{
  "nbformat": 4,
  "nbformat_minor": 0,
  "metadata": {
    "colab": {
      "provenance": [],
      "include_colab_link": true
    },
    "kernelspec": {
      "name": "python3",
      "display_name": "Python 3"
    },
    "language_info": {
      "name": "python"
    }
  },
  "cells": [
    {
      "cell_type": "markdown",
      "metadata": {
        "id": "view-in-github",
        "colab_type": "text"
      },
      "source": [
        "<a href=\"https://colab.research.google.com/github/ill0wl/dap-2024/blob/main/les03/rep_3.ipynb\" target=\"_parent\"><img src=\"https://colab.research.google.com/assets/colab-badge.svg\" alt=\"Open In Colab\"/></a>"
      ]
    },
    {
      "cell_type": "markdown",
      "source": [
        "# Лабораторная работа 3"
      ],
      "metadata": {
        "id": "TfvvJtIGwM7s"
      }
    },
    {
      "cell_type": "markdown",
      "source": [
        "**Задание 1. Создать массив 10x10 со случайными значениями, найти минимум и максимум (низкая)**"
      ],
      "metadata": {
        "id": "uOYDUzp3wT1k"
      }
    },
    {
      "cell_type": "code",
      "source": [
        "import numpy as np\n",
        "import random\n",
        "np.version.version\n",
        "random_2d_array = np.random.randint(1, 100, size=(10, 10))\n",
        "print(f\"Двумерный массив случайных чисел: \\n{random_2d_array}\")\n",
        "min_value = random_2d_array[0][0]\n",
        "max_value = random_2d_array[0][0]\n",
        "for i in range(10):\n",
        "    for j in range(10):\n",
        "        if random_2d_array[i][j] < min_value:\n",
        "            min_value = random_2d_array[i][j]\n",
        "        if random_2d_array[i][j] > max_value:\n",
        "            max_value = random_2d_array[i][j]\n",
        "print(f\"Минимальное значение: {min_value}\")\n",
        "print(f\"Максимальное значение: {max_value}\")"
      ],
      "metadata": {
        "colab": {
          "base_uri": "https://localhost:8080/"
        },
        "id": "q66Tb1mQJuAz",
        "outputId": "3435560f-1f53-48f1-ff31-322ebca02818"
      },
      "execution_count": null,
      "outputs": [
        {
          "output_type": "stream",
          "name": "stdout",
          "text": [
            "Двумерный массив случайных чисел: \n",
            "[[74 56 44 22 27 16 23 57 32 93]\n",
            " [26 96  7  7 47 72 31 57 95 23]\n",
            " [14 47  8 46 94 38 28 92 72 19]\n",
            " [23  5  6 35 51 62 57 94  4 60]\n",
            " [80 63 11 56 18 29 45 18 94 21]\n",
            " [68 16 80 57 40 67 65 93 13 13]\n",
            " [84 73 38 30 40 49 54 75 37 19]\n",
            " [20 49 17 28 30 57 60 63 64 94]\n",
            " [28 37  9 90 78 86 10 50 39 58]\n",
            " [54 79  6 74 23 97 65 64 39 12]]\n",
            "Минимальное значение: 4\n",
            "Максимальное значение: 97\n"
          ]
        }
      ]
    },
    {
      "cell_type": "markdown",
      "source": [
        "**Задание 2. Создать 8x8 матрицу и заполнить её единицами и нулями в шахматном порядке**"
      ],
      "metadata": {
        "id": "7O9UbCXSNNhc"
      }
    },
    {
      "cell_type": "code",
      "source": [
        "import numpy as np\n",
        "import random\n",
        "np.version.version\n",
        "chech_array = np.zeros((8, 8))\n",
        "print(f\"Двумерный массив из нулей: \\n{chech_array}\")\n",
        "chech_array[::2, ::2] = 1\n",
        "chech_array[1::2, 1::2] = 1\n",
        "print(f\"Двумерный массив в шахматном порядке: \\n{chech_array}\")"
      ],
      "metadata": {
        "colab": {
          "base_uri": "https://localhost:8080/"
        },
        "id": "0nEi556uNScY",
        "outputId": "c8ef6be5-f443-4eab-f886-d67d787786f5"
      },
      "execution_count": null,
      "outputs": [
        {
          "output_type": "stream",
          "name": "stdout",
          "text": [
            "Двумерный массив из нулей: \n",
            "[[0. 0. 0. 0. 0. 0. 0. 0.]\n",
            " [0. 0. 0. 0. 0. 0. 0. 0.]\n",
            " [0. 0. 0. 0. 0. 0. 0. 0.]\n",
            " [0. 0. 0. 0. 0. 0. 0. 0.]\n",
            " [0. 0. 0. 0. 0. 0. 0. 0.]\n",
            " [0. 0. 0. 0. 0. 0. 0. 0.]\n",
            " [0. 0. 0. 0. 0. 0. 0. 0.]\n",
            " [0. 0. 0. 0. 0. 0. 0. 0.]]\n",
            "Двумерный массив в шахматном порядке: \n",
            "[[1. 0. 1. 0. 1. 0. 1. 0.]\n",
            " [0. 1. 0. 1. 0. 1. 0. 1.]\n",
            " [1. 0. 1. 0. 1. 0. 1. 0.]\n",
            " [0. 1. 0. 1. 0. 1. 0. 1.]\n",
            " [1. 0. 1. 0. 1. 0. 1. 0.]\n",
            " [0. 1. 0. 1. 0. 1. 0. 1.]\n",
            " [1. 0. 1. 0. 1. 0. 1. 0.]\n",
            " [0. 1. 0. 1. 0. 1. 0. 1.]]\n"
          ]
        }
      ]
    },
    {
      "cell_type": "markdown",
      "source": [
        "**Задание 3. Дан массив из 11 элементов, поменять знак у элементов, значения которых между 3 и 8**"
      ],
      "metadata": {
        "id": "2KssDfSIQNcH"
      }
    },
    {
      "cell_type": "code",
      "source": [
        "import numpy as np\n",
        "np.version.version\n",
        "z = np.arange(11)\n",
        "print(f\"Одномерный массив случайных чисел: \\n{z}\")\n",
        "for i in range(11):\n",
        "    if z[i] > 3 and z[i] < 8:\n",
        "        z[i] = z[i] * (-1)\n",
        "print(f\"Одномерный массив чисел с измененными знаками: \\n{z}\")"
      ],
      "metadata": {
        "colab": {
          "base_uri": "https://localhost:8080/"
        },
        "id": "lqejstjsQT7r",
        "outputId": "1cd37d11-ea22-4f19-c4d3-193fbea39d1e"
      },
      "execution_count": null,
      "outputs": [
        {
          "output_type": "stream",
          "name": "stdout",
          "text": [
            "Одномерный массив случайных чисел: \n",
            "[ 0  1  2  3  4  5  6  7  8  9 10]\n",
            "Одномерный массив чисел с измененными знаками: \n",
            "[ 0  1  2  3 -4 -5 -6 -7  8  9 10]\n"
          ]
        }
      ]
    },
    {
      "cell_type": "markdown",
      "source": [
        "**Задание 4. Найти среднее заначение строки матрицы и вычесть его из каждого елемента строки**"
      ],
      "metadata": {
        "id": "C3VgLXVMScHj"
      }
    },
    {
      "cell_type": "code",
      "source": [
        "import numpy as np\n",
        "z = np.random.rand(5, 10)\n",
        "z_rounded = np.round(z,1)\n",
        "print(f\"Двумерный массив: \\n{z_rounded}\")\n",
        "for i in range(5):\n",
        "    sum = 0\n",
        "    for j in range(10):\n",
        "        sum += z[i][j]\n",
        "        if j == 9:\n",
        "            j = 0\n",
        "            for j in range(10):\n",
        "                z_rounded[i][j] = z_rounded[i][j] - sum\n",
        "    print(\"-----\", sum.round(1))\n",
        "\n",
        "print(z_rounded.round(1))"
      ],
      "metadata": {
        "colab": {
          "base_uri": "https://localhost:8080/"
        },
        "id": "3iaFnzsFTBCC",
        "outputId": "f2b02b9f-e1c3-4152-8b6d-10b0fc062ff7"
      },
      "execution_count": null,
      "outputs": [
        {
          "output_type": "stream",
          "name": "stdout",
          "text": [
            "Двумерный массив: \n",
            "[[0.6 0.3 0.6 0.9 0.7 0.6 0.6 0.3 0.  0.6]\n",
            " [0.4 0.2 0.2 0.9 0.6 0.2 0.4 0.  0.5 0.7]\n",
            " [0.9 0.6 0.3 0.8 0.2 0.5 0.6 0.  0.  0.4]\n",
            " [0.5 0.4 0.6 0.8 0.9 0.4 0.6 0.  0.2 0.7]\n",
            " [0.4 0.2 0.3 0.5 0.2 0.8 0.3 0.9 0.4 0.3]]\n",
            "----- 5.3\n",
            "----- 4.1\n",
            "----- 4.3\n",
            "----- 5.2\n",
            "----- 4.3\n",
            "[[-4.7 -5.  -4.7 -4.4 -4.6 -4.7 -4.7 -5.  -5.3 -4.7]\n",
            " [-3.7 -3.9 -3.9 -3.2 -3.5 -3.9 -3.7 -4.1 -3.6 -3.4]\n",
            " [-3.4 -3.7 -4.  -3.5 -4.1 -3.8 -3.7 -4.3 -4.3 -3.9]\n",
            " [-4.7 -4.8 -4.6 -4.4 -4.3 -4.8 -4.6 -5.2 -5.  -4.5]\n",
            " [-3.9 -4.1 -4.  -3.8 -4.1 -3.5 -4.  -3.4 -3.9 -4. ]]\n"
          ]
        }
      ]
    },
    {
      "cell_type": "markdown",
      "source": [
        "**Задание 5. Поменяйте 1 и 2 строки матрицы**"
      ],
      "metadata": {
        "id": "3EA4QSiCbunX"
      }
    },
    {
      "cell_type": "code",
      "source": [
        "import numpy as np\n",
        "z = np.arange(25).reshape(5,5)\n",
        "print(z)\n",
        "row_1 = z[1].copy()\n",
        "row_0 = z[0].copy()\n",
        "z[0] = row_1\n",
        "z[1] = row_0\n",
        "print(z)"
      ],
      "metadata": {
        "colab": {
          "base_uri": "https://localhost:8080/"
        },
        "id": "HO4lijNBb4Hy",
        "outputId": "9bbc15ea-efe6-4ac5-8773-d69a1140f153"
      },
      "execution_count": null,
      "outputs": [
        {
          "output_type": "stream",
          "name": "stdout",
          "text": [
            "[[ 0  1  2  3  4]\n",
            " [ 5  6  7  8  9]\n",
            " [10 11 12 13 14]\n",
            " [15 16 17 18 19]\n",
            " [20 21 22 23 24]]\n",
            "[[ 5  6  7  8  9]\n",
            " [ 0  1  2  3  4]\n",
            " [10 11 12 13 14]\n",
            " [15 16 17 18 19]\n",
            " [20 21 22 23 24]]\n"
          ]
        }
      ]
    },
    {
      "cell_type": "markdown",
      "source": [
        "**Задание 6. Дан массив 10x2 представлющий собой точки в декартовой системе координат, преобразовать в полярную**"
      ],
      "metadata": {
        "id": "dGqRKiUocyVv"
      }
    },
    {
      "cell_type": "markdown",
      "source": [
        "Полярная система координат — двумерная система координат, в которой каждая точка на плоскости определяется двумя числами — полярным углом и полярным радиусом."
      ],
      "metadata": {
        "id": "ZjNjK3XTm6FL"
      }
    },
    {
      "cell_type": "code",
      "source": [
        "import numpy as np\n",
        "z = np.random.random((10,2))\n",
        "print(z)\n",
        "r = np.sqrt(z[:, 0]**2 + z[:, 1]**2)\n",
        "ygol = np.arctan2(z[:, 1], z[:, 0])\n",
        "polar = np.column_stack((r, ygol))\n",
        "print(polar)"
      ],
      "metadata": {
        "colab": {
          "base_uri": "https://localhost:8080/"
        },
        "id": "IvqK4eAll_h_",
        "outputId": "cf1d81ce-37b8-4c03-fa66-74e4269992c0"
      },
      "execution_count": null,
      "outputs": [
        {
          "output_type": "stream",
          "name": "stdout",
          "text": [
            "[[0.2238485  0.04716501]\n",
            " [0.48098764 0.26704081]\n",
            " [0.47914805 0.27001815]\n",
            " [0.44709587 0.76658263]\n",
            " [0.42963821 0.36808771]\n",
            " [0.88649895 0.05872174]\n",
            " [0.49672317 0.38329614]\n",
            " [0.429002   0.0358754 ]\n",
            " [0.62731644 0.62154317]\n",
            " [0.94531167 0.05720772]]\n",
            "[[0.22876339 0.20766311]\n",
            " [0.55014534 0.50682116]\n",
            " [0.54999332 0.51317765]\n",
            " [0.88743656 1.04279715]\n",
            " [0.56575396 0.70839328]\n",
            " [0.88844169 0.06614343]\n",
            " [0.62741521 0.65721336]\n",
            " [0.43049943 0.08343113]\n",
            " [0.88308653 0.78077536]\n",
            " [0.94704111 0.0604436 ]]\n"
          ]
        }
      ]
    },
    {
      "cell_type": "markdown",
      "source": [
        "**Задание 7. Заменить максимальный элемент массива на ноль Текст, выделенный полужирным шрифтом**"
      ],
      "metadata": {
        "id": "4A5QzAZYc2e9"
      }
    },
    {
      "cell_type": "code",
      "source": [
        "import numpy as np\n",
        "z = np.random.random(10)\n",
        "max = z[0]\n",
        "print(z)\n",
        "for i in range(10):\n",
        "    if z[i] > max:\n",
        "        max = z[i]\n",
        "print(f\"Максимальное число {max}\")\n",
        "for i in range(10):\n",
        "    if z[i] == max:\n",
        "        z[i] = 0\n",
        "        break\n",
        "print(z)"
      ],
      "metadata": {
        "colab": {
          "base_uri": "https://localhost:8080/"
        },
        "id": "OCHMjYAqpHtA",
        "outputId": "6efd2437-5cb1-4555-c2d0-b169e163f952"
      },
      "execution_count": null,
      "outputs": [
        {
          "output_type": "stream",
          "name": "stdout",
          "text": [
            "[0.42390333 0.0292559  0.13357137 0.26378566 0.1074237  0.52521705\n",
            " 0.0784729  0.82417587 0.92221765 0.882352  ]\n",
            "Максимальное число 0.9222176536678826\n",
            "[0.42390333 0.0292559  0.13357137 0.26378566 0.1074237  0.52521705\n",
            " 0.0784729  0.82417587 0.         0.882352  ]\n"
          ]
        }
      ]
    },
    {
      "cell_type": "markdown",
      "source": [
        "**Задание 8. Дан массив, добавить 1 к каждому элементу с индексом, заданным в другом массиве. Добавление производиться только 1 раз**"
      ],
      "metadata": {
        "id": "K3TqknZCc6q9"
      }
    },
    {
      "cell_type": "code",
      "source": [
        "import numpy as np\n",
        "z = np.ones(10)\n",
        "x = np.random.randint(0,len(z),20)\n",
        "print(z)\n",
        "print(x)\n",
        "unique_x = np.unique(x)  # Убираем дубликаты\n",
        "print(unique_x)\n",
        "for i in unique_x:\n",
        "    z[i] += 1\n",
        "print(z)\n"
      ],
      "metadata": {
        "colab": {
          "base_uri": "https://localhost:8080/"
        },
        "id": "pQhWoPgErkv9",
        "outputId": "f544ed25-35a6-4d76-a200-962c0c063827"
      },
      "execution_count": null,
      "outputs": [
        {
          "output_type": "stream",
          "name": "stdout",
          "text": [
            "[1. 1. 1. 1. 1. 1. 1. 1. 1. 1.]\n",
            "[6 7 7 7 2 4 6 6 5 4 3 4 0 3 0 1 0 1 4 6]\n",
            "[0 1 2 3 4 5 6 7]\n",
            "[2. 2. 2. 2. 2. 2. 2. 2. 1. 1.]\n"
          ]
        }
      ]
    },
    {
      "cell_type": "markdown",
      "source": [
        "**Задание 9. Дан вектор [1, 2, 3, 4, 5], построить новый вектор с тремя нулями между каждым значением**"
      ],
      "metadata": {
        "id": "YeDz754SdAfe"
      }
    },
    {
      "cell_type": "code",
      "source": [
        "import numpy as np\n",
        "z = np.array([1,2,3,4,5])\n",
        "rez = []\n",
        "print(z)\n",
        "for i in z:\n",
        "     rez.extend([i, 0, 0, 0])\n",
        "rez = rez[:-3]\n",
        "print(rez)"
      ],
      "metadata": {
        "colab": {
          "base_uri": "https://localhost:8080/"
        },
        "id": "CjUIni3hsGxa",
        "outputId": "4e50ff53-cc0f-4b72-a1dd-6c731de69a25"
      },
      "execution_count": null,
      "outputs": [
        {
          "output_type": "stream",
          "name": "stdout",
          "text": [
            "[1 2 3 4 5]\n",
            "[1, 0, 0, 0, 2, 0, 0, 0, 3, 0, 0, 0, 4, 0, 0, 0, 5]\n"
          ]
        }
      ]
    },
    {
      "cell_type": "markdown",
      "source": [
        "**Задание 10. Найти ближайшее к заданному значению число в заданном массиве**"
      ],
      "metadata": {
        "id": "3pfjCxbodFZp"
      }
    },
    {
      "cell_type": "code",
      "source": [
        "import numpy as np\n",
        "z = np.arange(100) # Массив\n",
        "v = np.random.uniform(0,100) # Число\n",
        "print(z)\n",
        "print(v)\n",
        "value = abs(z[0]-v)\n",
        "rez = 0\n",
        "print(value)\n",
        "for i in z:\n",
        "    if abs(z[i] - v) < value:\n",
        "        value = abs(z[i] - v)\n",
        "        rez = z[i]\n",
        "print(rez)"
      ],
      "metadata": {
        "colab": {
          "base_uri": "https://localhost:8080/"
        },
        "id": "KuqUdZtnwUB_",
        "outputId": "d34798d7-f25b-47ec-9edd-e7ccf9498fa3"
      },
      "execution_count": null,
      "outputs": [
        {
          "output_type": "stream",
          "name": "stdout",
          "text": [
            "[ 0  1  2  3  4  5  6  7  8  9 10 11 12 13 14 15 16 17 18 19 20 21 22 23\n",
            " 24 25 26 27 28 29 30 31 32 33 34 35 36 37 38 39 40 41 42 43 44 45 46 47\n",
            " 48 49 50 51 52 53 54 55 56 57 58 59 60 61 62 63 64 65 66 67 68 69 70 71\n",
            " 72 73 74 75 76 77 78 79 80 81 82 83 84 85 86 87 88 89 90 91 92 93 94 95\n",
            " 96 97 98 99]\n",
            "2.8865896962756765\n",
            "2.8865896962756765\n",
            "3\n"
          ]
        }
      ]
    }
  ]
}