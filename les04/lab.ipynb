{
  "cells": [
    {
      "cell_type": "markdown",
      "metadata": {
        "id": "view-in-github",
        "colab_type": "text"
      },
      "source": [
        "<a href=\"https://colab.research.google.com/github/mihail1707/dap-2024/blob/main/les04/lab.ipynb\" target=\"_parent\"><img src=\"https://colab.research.google.com/assets/colab-badge.svg\" alt=\"Open In Colab\"/></a>"
      ]
    },
    {
      "cell_type": "markdown",
      "metadata": {
        "id": "r-qlfMLI5NgK"
      },
      "source": [
        "# Лабораторная работа №4.\n",
        "# Анализ данных пассажиров \"Титаника\"\n",
        "\n",
        "Гибель Титаника – одно из самых печально известных кораблекрушений в истории.\n",
        "\n",
        "15 апреля 1912 года во время своего первого плавания считавшийся «непотопляемым» «Титаник» затонул после столкновения с айсбергом.\n",
        "К сожалению, спасательных шлюпок для всех находившихся на борту не хватило, в результате чего погибли 1502 из 2224 пассажиров и членов экипажа.\n",
        "\n",
        "Используя набор данных titanic.csv выполните следующие 10 заданий."
      ]
    },
    {
      "cell_type": "code",
      "execution_count": null,
      "metadata": {
        "id": "4NK-oufy5NgL",
        "outputId": "6c632169-4e13-40fe-8cb9-61fb7f66f92b",
        "colab": {
          "base_uri": "https://localhost:8080/",
          "height": 73
        }
      },
      "outputs": [
        {
          "output_type": "display_data",
          "data": {
            "text/plain": [
              "<IPython.core.display.HTML object>"
            ],
            "text/html": [
              "\n",
              "     <input type=\"file\" id=\"files-da7ba57c-4059-41dc-b79b-7cc2bc8c475d\" name=\"files[]\" multiple disabled\n",
              "        style=\"border:none\" />\n",
              "     <output id=\"result-da7ba57c-4059-41dc-b79b-7cc2bc8c475d\">\n",
              "      Upload widget is only available when the cell has been executed in the\n",
              "      current browser session. Please rerun this cell to enable.\n",
              "      </output>\n",
              "      <script>// Copyright 2017 Google LLC\n",
              "//\n",
              "// Licensed under the Apache License, Version 2.0 (the \"License\");\n",
              "// you may not use this file except in compliance with the License.\n",
              "// You may obtain a copy of the License at\n",
              "//\n",
              "//      http://www.apache.org/licenses/LICENSE-2.0\n",
              "//\n",
              "// Unless required by applicable law or agreed to in writing, software\n",
              "// distributed under the License is distributed on an \"AS IS\" BASIS,\n",
              "// WITHOUT WARRANTIES OR CONDITIONS OF ANY KIND, either express or implied.\n",
              "// See the License for the specific language governing permissions and\n",
              "// limitations under the License.\n",
              "\n",
              "/**\n",
              " * @fileoverview Helpers for google.colab Python module.\n",
              " */\n",
              "(function(scope) {\n",
              "function span(text, styleAttributes = {}) {\n",
              "  const element = document.createElement('span');\n",
              "  element.textContent = text;\n",
              "  for (const key of Object.keys(styleAttributes)) {\n",
              "    element.style[key] = styleAttributes[key];\n",
              "  }\n",
              "  return element;\n",
              "}\n",
              "\n",
              "// Max number of bytes which will be uploaded at a time.\n",
              "const MAX_PAYLOAD_SIZE = 100 * 1024;\n",
              "\n",
              "function _uploadFiles(inputId, outputId) {\n",
              "  const steps = uploadFilesStep(inputId, outputId);\n",
              "  const outputElement = document.getElementById(outputId);\n",
              "  // Cache steps on the outputElement to make it available for the next call\n",
              "  // to uploadFilesContinue from Python.\n",
              "  outputElement.steps = steps;\n",
              "\n",
              "  return _uploadFilesContinue(outputId);\n",
              "}\n",
              "\n",
              "// This is roughly an async generator (not supported in the browser yet),\n",
              "// where there are multiple asynchronous steps and the Python side is going\n",
              "// to poll for completion of each step.\n",
              "// This uses a Promise to block the python side on completion of each step,\n",
              "// then passes the result of the previous step as the input to the next step.\n",
              "function _uploadFilesContinue(outputId) {\n",
              "  const outputElement = document.getElementById(outputId);\n",
              "  const steps = outputElement.steps;\n",
              "\n",
              "  const next = steps.next(outputElement.lastPromiseValue);\n",
              "  return Promise.resolve(next.value.promise).then((value) => {\n",
              "    // Cache the last promise value to make it available to the next\n",
              "    // step of the generator.\n",
              "    outputElement.lastPromiseValue = value;\n",
              "    return next.value.response;\n",
              "  });\n",
              "}\n",
              "\n",
              "/**\n",
              " * Generator function which is called between each async step of the upload\n",
              " * process.\n",
              " * @param {string} inputId Element ID of the input file picker element.\n",
              " * @param {string} outputId Element ID of the output display.\n",
              " * @return {!Iterable<!Object>} Iterable of next steps.\n",
              " */\n",
              "function* uploadFilesStep(inputId, outputId) {\n",
              "  const inputElement = document.getElementById(inputId);\n",
              "  inputElement.disabled = false;\n",
              "\n",
              "  const outputElement = document.getElementById(outputId);\n",
              "  outputElement.innerHTML = '';\n",
              "\n",
              "  const pickedPromise = new Promise((resolve) => {\n",
              "    inputElement.addEventListener('change', (e) => {\n",
              "      resolve(e.target.files);\n",
              "    });\n",
              "  });\n",
              "\n",
              "  const cancel = document.createElement('button');\n",
              "  inputElement.parentElement.appendChild(cancel);\n",
              "  cancel.textContent = 'Cancel upload';\n",
              "  const cancelPromise = new Promise((resolve) => {\n",
              "    cancel.onclick = () => {\n",
              "      resolve(null);\n",
              "    };\n",
              "  });\n",
              "\n",
              "  // Wait for the user to pick the files.\n",
              "  const files = yield {\n",
              "    promise: Promise.race([pickedPromise, cancelPromise]),\n",
              "    response: {\n",
              "      action: 'starting',\n",
              "    }\n",
              "  };\n",
              "\n",
              "  cancel.remove();\n",
              "\n",
              "  // Disable the input element since further picks are not allowed.\n",
              "  inputElement.disabled = true;\n",
              "\n",
              "  if (!files) {\n",
              "    return {\n",
              "      response: {\n",
              "        action: 'complete',\n",
              "      }\n",
              "    };\n",
              "  }\n",
              "\n",
              "  for (const file of files) {\n",
              "    const li = document.createElement('li');\n",
              "    li.append(span(file.name, {fontWeight: 'bold'}));\n",
              "    li.append(span(\n",
              "        `(${file.type || 'n/a'}) - ${file.size} bytes, ` +\n",
              "        `last modified: ${\n",
              "            file.lastModifiedDate ? file.lastModifiedDate.toLocaleDateString() :\n",
              "                                    'n/a'} - `));\n",
              "    const percent = span('0% done');\n",
              "    li.appendChild(percent);\n",
              "\n",
              "    outputElement.appendChild(li);\n",
              "\n",
              "    const fileDataPromise = new Promise((resolve) => {\n",
              "      const reader = new FileReader();\n",
              "      reader.onload = (e) => {\n",
              "        resolve(e.target.result);\n",
              "      };\n",
              "      reader.readAsArrayBuffer(file);\n",
              "    });\n",
              "    // Wait for the data to be ready.\n",
              "    let fileData = yield {\n",
              "      promise: fileDataPromise,\n",
              "      response: {\n",
              "        action: 'continue',\n",
              "      }\n",
              "    };\n",
              "\n",
              "    // Use a chunked sending to avoid message size limits. See b/62115660.\n",
              "    let position = 0;\n",
              "    do {\n",
              "      const length = Math.min(fileData.byteLength - position, MAX_PAYLOAD_SIZE);\n",
              "      const chunk = new Uint8Array(fileData, position, length);\n",
              "      position += length;\n",
              "\n",
              "      const base64 = btoa(String.fromCharCode.apply(null, chunk));\n",
              "      yield {\n",
              "        response: {\n",
              "          action: 'append',\n",
              "          file: file.name,\n",
              "          data: base64,\n",
              "        },\n",
              "      };\n",
              "\n",
              "      let percentDone = fileData.byteLength === 0 ?\n",
              "          100 :\n",
              "          Math.round((position / fileData.byteLength) * 100);\n",
              "      percent.textContent = `${percentDone}% done`;\n",
              "\n",
              "    } while (position < fileData.byteLength);\n",
              "  }\n",
              "\n",
              "  // All done.\n",
              "  yield {\n",
              "    response: {\n",
              "      action: 'complete',\n",
              "    }\n",
              "  };\n",
              "}\n",
              "\n",
              "scope.google = scope.google || {};\n",
              "scope.google.colab = scope.google.colab || {};\n",
              "scope.google.colab._files = {\n",
              "  _uploadFiles,\n",
              "  _uploadFilesContinue,\n",
              "};\n",
              "})(self);\n",
              "</script> "
            ]
          },
          "metadata": {}
        },
        {
          "output_type": "stream",
          "name": "stdout",
          "text": [
            "Saving titanic.csv to titanic (30).csv\n"
          ]
        }
      ],
      "source": [
        "import numpy as np\n",
        "import pandas as pd\n",
        "from google.colab import files\n",
        "uploaded = files.upload()\n"
      ]
    },
    {
      "cell_type": "markdown",
      "metadata": {
        "id": "8Flp7ICb5NgL"
      },
      "source": [
        "1. Создайте DataFarame из файла titanic.csv, в качестве индекса используйте столбец \"PassengerId\""
      ]
    },
    {
      "cell_type": "code",
      "execution_count": null,
      "metadata": {
        "id": "5b0q8HsN5NgL",
        "outputId": "2ba0bcfc-7464-4c81-cae0-45f25f85a4c7",
        "colab": {
          "base_uri": "https://localhost:8080/"
        }
      },
      "outputs": [
        {
          "output_type": "stream",
          "name": "stdout",
          "text": [
            "             Survived  Pclass  \\\n",
            "PassengerId                     \n",
            "1                   0       3   \n",
            "2                   1       1   \n",
            "3                   1       3   \n",
            "4                   1       1   \n",
            "5                   0       3   \n",
            "...               ...     ...   \n",
            "887                 0       2   \n",
            "888                 1       1   \n",
            "889                 0       3   \n",
            "890                 1       1   \n",
            "891                 0       3   \n",
            "\n",
            "                                                          Name     Sex   Age  \\\n",
            "PassengerId                                                                    \n",
            "1                                      Braund, Mr. Owen Harris    male  22.0   \n",
            "2            Cumings, Mrs. John Bradley (Florence Briggs Th...  female  38.0   \n",
            "3                                       Heikkinen, Miss. Laina  female  26.0   \n",
            "4                 Futrelle, Mrs. Jacques Heath (Lily May Peel)  female  35.0   \n",
            "5                                     Allen, Mr. William Henry    male  35.0   \n",
            "...                                                        ...     ...   ...   \n",
            "887                                      Montvila, Rev. Juozas    male  27.0   \n",
            "888                               Graham, Miss. Margaret Edith  female  19.0   \n",
            "889                   Johnston, Miss. Catherine Helen \"Carrie\"  female   NaN   \n",
            "890                                      Behr, Mr. Karl Howell    male  26.0   \n",
            "891                                        Dooley, Mr. Patrick    male  32.0   \n",
            "\n",
            "             SibSp  Parch            Ticket     Fare Cabin Embarked  \n",
            "PassengerId                                                          \n",
            "1                1      0         A/5 21171   7.2500   NaN        S  \n",
            "2                1      0          PC 17599  71.2833   C85        C  \n",
            "3                0      0  STON/O2. 3101282   7.9250   NaN        S  \n",
            "4                1      0            113803  53.1000  C123        S  \n",
            "5                0      0            373450   8.0500   NaN        S  \n",
            "...            ...    ...               ...      ...   ...      ...  \n",
            "887              0      0            211536  13.0000   NaN        S  \n",
            "888              0      0            112053  30.0000   B42        S  \n",
            "889              1      2        W./C. 6607  23.4500   NaN        S  \n",
            "890              0      0            111369  30.0000  C148        C  \n",
            "891              0      0            370376   7.7500   NaN        Q  \n",
            "\n",
            "[891 rows x 11 columns]\n"
          ]
        }
      ],
      "source": [
        "# Ваш код здесь\n",
        "df = pd.read_csv('titanic.csv', index_col='PassengerId')\n",
        "print(df)"
      ]
    },
    {
      "cell_type": "markdown",
      "metadata": {
        "id": "SGcLe5Vt5NgM"
      },
      "source": [
        "2. Просмотрите первые 6 строк"
      ]
    },
    {
      "cell_type": "code",
      "execution_count": null,
      "metadata": {
        "id": "QZosdkEh5NgM",
        "outputId": "1d71cb17-c48f-44d1-c65f-86c203e93ddd",
        "colab": {
          "base_uri": "https://localhost:8080/"
        }
      },
      "outputs": [
        {
          "output_type": "stream",
          "name": "stdout",
          "text": [
            "             Survived  Pclass  \\\n",
            "PassengerId                     \n",
            "1                   0       3   \n",
            "2                   1       1   \n",
            "3                   1       3   \n",
            "4                   1       1   \n",
            "5                   0       3   \n",
            "6                   0       3   \n",
            "\n",
            "                                                          Name     Sex   Age  \\\n",
            "PassengerId                                                                    \n",
            "1                                      Braund, Mr. Owen Harris    male  22.0   \n",
            "2            Cumings, Mrs. John Bradley (Florence Briggs Th...  female  38.0   \n",
            "3                                       Heikkinen, Miss. Laina  female  26.0   \n",
            "4                 Futrelle, Mrs. Jacques Heath (Lily May Peel)  female  35.0   \n",
            "5                                     Allen, Mr. William Henry    male  35.0   \n",
            "6                                             Moran, Mr. James    male   NaN   \n",
            "\n",
            "             SibSp  Parch            Ticket     Fare Cabin Embarked  \n",
            "PassengerId                                                          \n",
            "1                1      0         A/5 21171   7.2500   NaN        S  \n",
            "2                1      0          PC 17599  71.2833   C85        C  \n",
            "3                0      0  STON/O2. 3101282   7.9250   NaN        S  \n",
            "4                1      0            113803  53.1000  C123        S  \n",
            "5                0      0            373450   8.0500   NaN        S  \n",
            "6                0      0            330877   8.4583   NaN        Q  \n"
          ]
        }
      ],
      "source": [
        "# Ваш код здесь\n",
        "print(df.head(6))"
      ]
    },
    {
      "cell_type": "markdown",
      "metadata": {
        "id": "P5IdefVi5NgM"
      },
      "source": [
        "3. Выведите описание данных"
      ]
    },
    {
      "cell_type": "code",
      "execution_count": null,
      "metadata": {
        "id": "M0ZfhPup5NgM",
        "outputId": "d00ce8f6-3068-458a-93b6-034b4a237da7",
        "colab": {
          "base_uri": "https://localhost:8080/"
        }
      },
      "outputs": [
        {
          "output_type": "stream",
          "name": "stdout",
          "text": [
            "         Survived      Pclass         Age       SibSp       Parch        Fare\n",
            "count  891.000000  891.000000  714.000000  891.000000  891.000000  891.000000\n",
            "mean     0.383838    2.308642   29.699118    0.523008    0.381594   32.204208\n",
            "std      0.486592    0.836071   14.526497    1.102743    0.806057   49.693429\n",
            "min      0.000000    1.000000    0.420000    0.000000    0.000000    0.000000\n",
            "25%      0.000000    2.000000   20.125000    0.000000    0.000000    7.910400\n",
            "50%      0.000000    3.000000   28.000000    0.000000    0.000000   14.454200\n",
            "75%      1.000000    3.000000   38.000000    1.000000    0.000000   31.000000\n",
            "max      1.000000    3.000000   80.000000    8.000000    6.000000  512.329200\n"
          ]
        }
      ],
      "source": [
        "# Ваш код здесь\n",
        "description = df.describe()\n",
        "print(description)"
      ]
    },
    {
      "cell_type": "markdown",
      "metadata": {
        "id": "txYhMtrN5NgM"
      },
      "source": [
        "4. Сколько мужчин / женщин находилось на борту?"
      ]
    },
    {
      "cell_type": "code",
      "execution_count": null,
      "metadata": {
        "id": "MQtFKPBM5NgM",
        "outputId": "70c2e834-c7d3-4d9b-d211-d2424dcc4197",
        "colab": {
          "base_uri": "https://localhost:8080/"
        }
      },
      "outputs": [
        {
          "output_type": "stream",
          "name": "stdout",
          "text": [
            "Sex\n",
            "male      577\n",
            "female    314\n",
            "Name: count, dtype: int64\n"
          ]
        }
      ],
      "source": [
        "# Ваш код здесь\n",
        "gender_counts = df['Sex'].value_counts()\n",
        "print(gender_counts)"
      ]
    },
    {
      "cell_type": "markdown",
      "metadata": {
        "id": "cnW3RG6i5NgM"
      },
      "source": [
        "4. Выведите распределение переменной Pclass (социально-экономический статус) и это же распределение, только для мужчин / женщин по отдельности. Сколько было мужчин 2-го класса"
      ]
    },
    {
      "cell_type": "code",
      "execution_count": null,
      "metadata": {
        "id": "Chl-SwHf5NgM",
        "outputId": "f4345a89-996a-4f31-cd82-377f643ea425",
        "colab": {
          "base_uri": "https://localhost:8080/"
        }
      },
      "outputs": [
        {
          "output_type": "stream",
          "name": "stdout",
          "text": [
            "Распределение классов:Pclass\n",
            "3    491\n",
            "1    216\n",
            "2    184\n",
            "Name: count, dtype: int64\n",
            "Распределение классов для мужчин:Pclass\n",
            "3    347\n",
            "1    122\n",
            "2    108\n",
            "Name: count, dtype: int64\n",
            "Распределение классов для женщин:Pclass\n",
            "3    144\n",
            "1     94\n",
            "2     76\n",
            "Name: count, dtype: int64\n",
            "Кол-во мужчин во 2 классе: 108\n"
          ]
        }
      ],
      "source": [
        "# Ваш код здесь\n",
        "pclass_distribution = df['Pclass'].value_counts()\n",
        "print(f\"Распределение классов:{pclass_distribution}\")\n",
        "\n",
        "male = df[df['Sex'] == 'male']['Pclass'].value_counts()\n",
        "print(f\"Распределение классов для мужчин:{male}\")\n",
        "\n",
        "female = df[df['Sex'] == 'female']['Pclass'].value_counts()\n",
        "print(f\"Распределение классов для женщин:{female}\")\n",
        "\n",
        "num_males_2nd_class = male.get(2, 0)\n",
        "print(f\"Кол-во мужчин во 2 классе: {num_males_2nd_class}\")"
      ]
    },
    {
      "cell_type": "markdown",
      "metadata": {
        "id": "HdFzPXM05NgN"
      },
      "source": [
        "5. Каковы медиана и среднеквадрати́чное отклонение платежей (Fare)? Округлите до 2 десятичных знаков."
      ]
    },
    {
      "cell_type": "code",
      "execution_count": null,
      "metadata": {
        "id": "RKxRVOVV5NgN",
        "outputId": "e9920f7c-7e6e-45b3-8715-655d212c79e1",
        "colab": {
          "base_uri": "https://localhost:8080/"
        }
      },
      "outputs": [
        {
          "output_type": "stream",
          "name": "stdout",
          "text": [
            "Медиана платежей: 14.45\n",
            "Отклонение платежей: 49.69\n"
          ]
        }
      ],
      "source": [
        "# Ваш код здесь\n",
        "median_fare = round(df['Fare'].median(), 2)\n",
        "std_fare = round(df['Fare'].std(), 2)\n",
        "print(f\"Медиана платежей: {median_fare}\")\n",
        "print(f\"Отклонение платежей: {std_fare}\")"
      ]
    },
    {
      "cell_type": "markdown",
      "metadata": {
        "id": "AnsBEz4V5NgN"
      },
      "source": [
        "6. Правда ли, что люди моложе 30 лет выживали чаще, чем люди старше 60 лет? Каковы доли выживших в обеих группах?"
      ]
    },
    {
      "cell_type": "code",
      "execution_count": null,
      "metadata": {
        "id": "IOLtTYAG5NgN",
        "outputId": "f8661647-85c4-49f2-b11f-edd12eb9d4f8",
        "colab": {
          "base_uri": "https://localhost:8080/"
        }
      },
      "outputs": [
        {
          "output_type": "stream",
          "name": "stdout",
          "text": [
            "Люди моложе 30: 0.41\n",
            "Люди Старше 60: 0.23\n"
          ]
        }
      ],
      "source": [
        "# Ваш код здесь\n",
        "young_group = df[df['Age'] < 30]\n",
        "old_group = df[df['Age'] > 60]\n",
        "young_survival_rate = young_group['Survived'].mean()\n",
        "old_survival_rate = old_group['Survived'].mean()\n",
        "print(f\"Люди моложе 30: {young_survival_rate:.2f}\")\n",
        "print(f\"Люди Старше 60: {old_survival_rate:.2f}\")"
      ]
    },
    {
      "cell_type": "markdown",
      "metadata": {
        "id": "2dmcds815NgN"
      },
      "source": [
        "7. Правда ли, что женщины выживали чаще мужчин? Каковы доли выживших в обеих группах?"
      ]
    },
    {
      "cell_type": "code",
      "execution_count": null,
      "metadata": {
        "id": "h62UqflD5NgN",
        "outputId": "3c8b28a8-882c-472a-a023-22487c5788dd",
        "colab": {
          "base_uri": "https://localhost:8080/"
        }
      },
      "outputs": [
        {
          "output_type": "stream",
          "name": "stdout",
          "text": [
            "Мужчины: 0.19\n",
            "Женщины: 0.74\n"
          ]
        }
      ],
      "source": [
        "# Ваш код здесь\n",
        "male_group = df[df['Sex'] == 'male']\n",
        "female_group = df[df['Sex'] == 'female']\n",
        "male_survival_rate = male_group['Survived'].mean()\n",
        "female_survival_rate = female_group['Survived'].mean()\n",
        "print(f\"Мужчины: {male_survival_rate:.2f}\")\n",
        "print(f\"Женщины: {female_survival_rate:.2f}\")"
      ]
    },
    {
      "cell_type": "markdown",
      "metadata": {
        "id": "OvuKYDYl5NgN"
      },
      "source": [
        "8.  Найдите самое популярное имя среди пассажиров Титаника мужского пола?"
      ]
    },
    {
      "cell_type": "code",
      "execution_count": null,
      "metadata": {
        "id": "UJUD0qcg5NgN",
        "outputId": "bef556ce-aa0d-415b-ceb9-8ebb0d997249",
        "colab": {
          "base_uri": "https://localhost:8080/"
        }
      },
      "outputs": [
        {
          "output_type": "stream",
          "name": "stdout",
          "text": [
            "Популярное имя 'William'\n"
          ]
        }
      ],
      "source": [
        "# Ваш код здесь\n",
        "male_passengers = df[df['Sex'] == 'male'].copy()\n",
        "male_passengers.loc[:, 'First Name'] = male_passengers['Name'].str.extract(r'\\.\\s*([^ ]+)')[0]\n",
        "most_common_name = male_passengers['First Name'].mode()[0]\n",
        "name_count = male_passengers['First Name'].value_counts().loc[most_common_name]\n",
        "print(f\"Популярное имя '{most_common_name}'\")"
      ]
    },
    {
      "cell_type": "markdown",
      "metadata": {
        "id": "85eM1rEK5NgN"
      },
      "source": [
        "\n",
        "\n",
        "9. Как отличается средний возраст мужчин / женщин в зависимости от класса обслуживания? Выберите верные утверждения:\n",
        "\n",
        "    В среднем мужчины 1-го класса старше 40 лет\n",
        "    В среднем женщины 1-го класса старше 40 лет\n",
        "    Мужчины всех классов в среднем старше женщин того же класса\n",
        "    В среднем люди в 1 классе старше, чем во 2-ом, а те старше представителей 3-го класса\n",
        "\n"
      ]
    },
    {
      "cell_type": "code",
      "execution_count": null,
      "metadata": {
        "id": "XXDFLBtT5NgN",
        "outputId": "ae1786d3-ca13-47bd-d3c4-97cec5ed1f90",
        "colab": {
          "base_uri": "https://localhost:8080/"
        }
      },
      "outputs": [
        {
          "output_type": "stream",
          "name": "stdout",
          "text": [
            "   Pclass     Sex        Age\n",
            "0       1  female  34.611765\n",
            "1       1    male  41.281386\n",
            "2       2  female  28.722973\n",
            "3       2    male  30.740707\n",
            "4       3  female  21.750000\n",
            "5       3    male  26.507589\n"
          ]
        }
      ],
      "source": [
        "# Ваш код здесь\n",
        "average_age = df.groupby(['Pclass', 'Sex'])['Age'].mean().reset_index()\n",
        "print(average_age)"
      ]
    },
    {
      "cell_type": "markdown",
      "metadata": {
        "id": "Rg37sJsR5NgN"
      },
      "source": [
        "10. Сравните возраст у спасенных и у погибших пасажиров. Средний возраст погибших выше, верно?"
      ]
    },
    {
      "cell_type": "code",
      "execution_count": null,
      "metadata": {
        "id": "n5ZmCcDP5NgN",
        "outputId": "942216ae-ebac-49b1-eec0-3149d3eebc0a",
        "colab": {
          "base_uri": "https://localhost:8080/"
        }
      },
      "outputs": [
        {
          "output_type": "stream",
          "name": "stdout",
          "text": [
            "Средний возраст спасенных пассажиров: 28.34 лет\n",
            "Средний возраст погибших пассажиров: 30.63 лет\n",
            "Да, средний возраст погибших выше.\n"
          ]
        }
      ],
      "source": [
        "# Ваш код здесь\n",
        "df = df.dropna(subset=['Age'])\n",
        "average_age_survived = df[df['Survived'] == 1]['Age'].mean()\n",
        "average_age_died = df[df['Survived'] == 0]['Age'].mean()\n",
        "print(f\"Средний возраст спасенных пассажиров: {average_age_survived:.2f} лет\")\n",
        "print(f\"Средний возраст погибших пассажиров: {average_age_died:.2f} лет\")\n",
        "if average_age_survived > average_age_died:\n",
        "    print(\"Нет, Средний возраст спасенных выше.\")\n",
        "else:\n",
        "    print(\"Да, средний возраст погибших выше.\")"
      ]
    },
    {
      "cell_type": "markdown",
      "metadata": {
        "id": "vjAkJKRo5NgO"
      },
      "source": [
        "### Дополнительные вопросы для защиты\n",
        "\n",
        "1. Что такое медиана? Рассчитать медиану для предложенного ряда чисел.\n",
        "2. Что такое дисперсия? Рассчитать дисперсию для предложенного ряда чисел.\n",
        "3. Что такое среднеквадратичное отклонение? Рассчитать среднеквадратичное отклонение для предложенного ряда чисел.\n",
        "4. Что такое Series и чем он отличается от DataFrame\n",
        "5. Можно ли изменить индекс в Series после создания объекта?\n",
        "6. Можно ли выполнить операцию сложения над двумя объектами Series, если они имеют:\n",
        "- одинаковые типы данных, одинаковые размеры и одинаковые индексы?\n",
        "- одинаковые типы данных, одинаковые размеры, но разные индексы?,  \n",
        "- одинаковые типы данных, разные размеры и одинаковые индексы?\n",
        "- разные типы данных, одинаковые размеры и одинаковые индексы?\n",
        "- разные типы данных, одинаковые размеры и разные индексы?\n",
        "- разные типы данных, разные размеры и разные индексы?\n",
        "7. Что такое DataFrame и чем он отличается от Series\n",
        "8. Что необходимо сделать, чтобы число строк в DateFrame при его просмотре, по умолчанию составляло 8?\n",
        "9. Чем отличается метод iloc от метода loс\n",
        "10. Можно ли добавить в DateFrame дополнительный Series?\n",
        "11. Требуются ли установка дополнительных библиотек для загрузки с помощью pandas файлов в формате CSV? Excel (.xls)? Json?"
      ]
    }
  ],
  "metadata": {
    "kernelspec": {
      "display_name": "Python 3",
      "language": "python",
      "name": "python3"
    },
    "language_info": {
      "codemirror_mode": {
        "name": "ipython",
        "version": 3
      },
      "file_extension": ".py",
      "mimetype": "text/x-python",
      "name": "python",
      "nbconvert_exporter": "python",
      "pygments_lexer": "ipython3",
      "version": "3.12.2"
    },
    "colab": {
      "provenance": [],
      "include_colab_link": true
    }
  },
  "nbformat": 4,
  "nbformat_minor": 0
}