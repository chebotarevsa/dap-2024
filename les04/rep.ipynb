{
  "nbformat": 4,
  "nbformat_minor": 0,
  "metadata": {
    "colab": {
      "provenance": [],
      "authorship_tag": "ABX9TyPlx/FD4d4YCrDLM1tJ5PAF",
      "include_colab_link": true
    },
    "kernelspec": {
      "name": "python3",
      "display_name": "Python 3"
    },
    "language_info": {
      "name": "python"
    }
  },
  "cells": [
    {
      "cell_type": "markdown",
      "metadata": {
        "id": "view-in-github",
        "colab_type": "text"
      },
      "source": [
        "<a href=\"https://colab.research.google.com/github/cherkashin-py/dap-2024/blob/main/rep.ipynb\" target=\"_parent\"><img src=\"https://colab.research.google.com/assets/colab-badge.svg\" alt=\"Open In Colab\"/></a>"
      ]
    },
    {
      "cell_type": "markdown",
      "source": [
        "# **Лабораторная работа №4. Анализ данных пассажиров \"Титаника\"**"
      ],
      "metadata": {
        "id": "ynUwSPB-iypW"
      }
    },
    {
      "cell_type": "markdown",
      "source": [
        "**Задание 1. Создайте DataFarame из файла titanic.csv, в качестве индекса используйте столбец \"PassengerId\"**"
      ],
      "metadata": {
        "id": "EaYSy8G7jl6V"
      }
    },
    {
      "cell_type": "code",
      "execution_count": 16,
      "metadata": {
        "id": "ClUX94c_gIqZ"
      },
      "outputs": [],
      "source": [
        "import numpy as np\n",
        "import pandas as pd\n",
        "# Загрузка данных из файла и установка индекса \"PassengerId\"\n",
        "file_path = 'titanic.csv'\n",
        "titanic_df = pd.read_csv(file_path, index_col=\"PassengerId\")"
      ]
    },
    {
      "cell_type": "markdown",
      "source": [
        "**Задание 2. Просмотрите первые 6 строк**"
      ],
      "metadata": {
        "id": "urBXe5z3jrrd"
      }
    },
    {
      "cell_type": "code",
      "source": [
        "import numpy as np\n",
        "import pandas as pd\n",
        "# Загрузка данных из файла и установка индекса \"PassengerId\"\n",
        "file_path = 'titanic.csv'\n",
        "titanic_df = pd.read_csv(file_path, index_col=\"PassengerId\")\n",
        "\n",
        "# Просмотр первых 6 строк\n",
        "print(\"Первые 6 строк:\")\n",
        "print(titanic_df.head(6))"
      ],
      "metadata": {
        "colab": {
          "base_uri": "https://localhost:8080/"
        },
        "id": "QMujw6gGgKYw",
        "outputId": "20491c7a-bb42-4461-d3e2-494f2f07e976"
      },
      "execution_count": 17,
      "outputs": [
        {
          "output_type": "stream",
          "name": "stdout",
          "text": [
            "Первые 6 строк:\n",
            "             Survived  Pclass  \\\n",
            "PassengerId                     \n",
            "1                   0       3   \n",
            "2                   1       1   \n",
            "3                   1       3   \n",
            "4                   1       1   \n",
            "5                   0       3   \n",
            "6                   0       3   \n",
            "\n",
            "                                                          Name     Sex   Age  \\\n",
            "PassengerId                                                                    \n",
            "1                                      Braund, Mr. Owen Harris    male  22.0   \n",
            "2            Cumings, Mrs. John Bradley (Florence Briggs Th...  female  38.0   \n",
            "3                                       Heikkinen, Miss. Laina  female  26.0   \n",
            "4                 Futrelle, Mrs. Jacques Heath (Lily May Peel)  female  35.0   \n",
            "5                                     Allen, Mr. William Henry    male  35.0   \n",
            "6                                             Moran, Mr. James    male   NaN   \n",
            "\n",
            "             SibSp  Parch            Ticket     Fare Cabin Embarked  \n",
            "PassengerId                                                          \n",
            "1                1      0         A/5 21171   7.2500   NaN        S  \n",
            "2                1      0          PC 17599  71.2833   C85        C  \n",
            "3                0      0  STON/O2. 3101282   7.9250   NaN        S  \n",
            "4                1      0            113803  53.1000  C123        S  \n",
            "5                0      0            373450   8.0500   NaN        S  \n",
            "6                0      0            330877   8.4583   NaN        Q  \n"
          ]
        }
      ]
    },
    {
      "cell_type": "markdown",
      "source": [
        "**Задание 3. Выведите описание данных**"
      ],
      "metadata": {
        "id": "Ki-Swf_ljwPb"
      }
    },
    {
      "cell_type": "code",
      "source": [
        "import numpy as np\n",
        "import pandas as pd\n",
        "# Загрузка данных из файла и установка индекса \"PassengerId\"\n",
        "file_path = 'titanic.csv'\n",
        "titanic_df = pd.read_csv(file_path, index_col=\"PassengerId\")\n",
        "# Описание данных\n",
        "print(\"\\nОписание данных:\")\n",
        "print(titanic_df.describe())"
      ],
      "metadata": {
        "colab": {
          "base_uri": "https://localhost:8080/"
        },
        "id": "GKvM7uL4hlz5",
        "outputId": "e1c128fa-71fe-46ee-8c15-4375505e75d2"
      },
      "execution_count": 18,
      "outputs": [
        {
          "output_type": "stream",
          "name": "stdout",
          "text": [
            "\n",
            "Описание данных:\n",
            "         Survived      Pclass         Age       SibSp       Parch        Fare\n",
            "count  891.000000  891.000000  714.000000  891.000000  891.000000  891.000000\n",
            "mean     0.383838    2.308642   29.699118    0.523008    0.381594   32.204208\n",
            "std      0.486592    0.836071   14.526497    1.102743    0.806057   49.693429\n",
            "min      0.000000    1.000000    0.420000    0.000000    0.000000    0.000000\n",
            "25%      0.000000    2.000000   20.125000    0.000000    0.000000    7.910400\n",
            "50%      0.000000    3.000000   28.000000    0.000000    0.000000   14.454200\n",
            "75%      1.000000    3.000000   38.000000    1.000000    0.000000   31.000000\n",
            "max      1.000000    3.000000   80.000000    8.000000    6.000000  512.329200\n"
          ]
        }
      ]
    },
    {
      "cell_type": "markdown",
      "source": [
        "**Задание 4.Сколько мужчин / женщин находилось на борту? Выведите распределение переменной Pclass (социально-экономический статус) и это же распределение, только для мужчин / женщин по отдельности. Сколько было мужчин 2-го класса**"
      ],
      "metadata": {
        "id": "JiGMQz_dj0LU"
      }
    },
    {
      "cell_type": "code",
      "source": [
        "import numpy as np\n",
        "import pandas as pd\n",
        "# Загрузка данных из файла и установка индекса \"PassengerId\"\n",
        "file_path = 'titanic.csv'\n",
        "titanic_df = pd.read_csv(file_path, index_col=\"PassengerId\")\n",
        "# Количество мужчин и женщин на борту\n",
        "gender_counts = titanic_df['Sex'].value_counts()\n",
        "print(\"\\nКоличество мужчин и женщин на борту:\")\n",
        "print(gender_counts)\n",
        "# Распределение Pclass\n",
        "pclass_counts = titanic_df['Pclass'].value_counts()\n",
        "print(\"\\nРаспределение Pclass (социально-экономический статус):\")\n",
        "print(pclass_counts)\n",
        "\n",
        "# Распределение Pclass для мужчин и женщин\n",
        "pclass_gender_counts = titanic_df.groupby(['Sex', 'Pclass']).size()\n",
        "print(\"\\nРаспределение Pclass по полу:\")\n",
        "print(pclass_gender_counts)\n",
        "\n",
        "# Количество мужчин 2-го класса\n",
        "men_second_class_count = pclass_gender_counts['male'][2]\n",
        "print(\"\\nКоличество мужчин 2-го класса:\", men_second_class_count)"
      ],
      "metadata": {
        "colab": {
          "base_uri": "https://localhost:8080/"
        },
        "id": "DT4T_n0JhyL6",
        "outputId": "1970df00-15b6-46b0-9fc0-3e8445713fce"
      },
      "execution_count": 20,
      "outputs": [
        {
          "output_type": "stream",
          "name": "stdout",
          "text": [
            "\n",
            "Количество мужчин и женщин на борту:\n",
            "Sex\n",
            "male      577\n",
            "female    314\n",
            "Name: count, dtype: int64\n",
            "\n",
            "Распределение Pclass (социально-экономический статус):\n",
            "Pclass\n",
            "3    491\n",
            "1    216\n",
            "2    184\n",
            "Name: count, dtype: int64\n",
            "\n",
            "Распределение Pclass по полу:\n",
            "Sex     Pclass\n",
            "female  1          94\n",
            "        2          76\n",
            "        3         144\n",
            "male    1         122\n",
            "        2         108\n",
            "        3         347\n",
            "dtype: int64\n",
            "\n",
            "Количество мужчин 2-го класса: 108\n"
          ]
        }
      ]
    },
    {
      "cell_type": "markdown",
      "source": [
        "**Задание 5. Каковы медиана и среднеквадратичное отклонение платежей (Fare)? Округлите до 2 десятичных знаков.**"
      ],
      "metadata": {
        "id": "MafE4Z0Jj4tA"
      }
    },
    {
      "cell_type": "code",
      "source": [
        "import numpy as np\n",
        "import pandas as pd\n",
        "# Загрузка данных из файла и установка индекса \"PassengerId\"\n",
        "file_path = 'titanic.csv'\n",
        "titanic_df = pd.read_csv(file_path, index_col=\"PassengerId\")\n",
        "# Медиана и среднеквадратичное отклонение платежей\n",
        "fare_median = np.round(titanic_df['Fare'].median(), 2)\n",
        "fare_std = np.round(titanic_df['Fare'].std(), 2)\n",
        "print(\"\\nМедиана и среднеквадратичное отклонение платежей:\")\n",
        "print(f\"Медиана: {fare_median}, СКО: {fare_std}\")"
      ],
      "metadata": {
        "colab": {
          "base_uri": "https://localhost:8080/"
        },
        "id": "VDEvin6piAOt",
        "outputId": "546b4054-81b0-4918-80d5-a15c188a6b1a"
      },
      "execution_count": 21,
      "outputs": [
        {
          "output_type": "stream",
          "name": "stdout",
          "text": [
            "\n",
            "Медиана и среднеквадратичное отклонение платежей:\n",
            "Медиана: 14.45, СКО: 49.69\n"
          ]
        }
      ]
    },
    {
      "cell_type": "markdown",
      "source": [
        "**Задание 6. Правда ли, что люди моложе 30 лет выживали чаще, чем люди старше 60 лет? Каковы доли выживших в обеих группах?**"
      ],
      "metadata": {
        "id": "tHM4Zu71kLm3"
      }
    },
    {
      "cell_type": "code",
      "source": [
        "import numpy as np\n",
        "import pandas as pd\n",
        "# Загрузка данных из файла и установка индекса \"PassengerId\"\n",
        "file_path = 'titanic.csv'\n",
        "titanic_df = pd.read_csv(file_path, index_col=\"PassengerId\")\n",
        "# Доли выживших среди моложе 30 и старше 60 лет\n",
        "survival_young = titanic_df[titanic_df['Age'] < 30]['Survived'].mean()\n",
        "survival_old = titanic_df[titanic_df['Age'] > 60]['Survived'].mean()\n",
        "print(\"\\nДоли выживших среди моложе 30 и старше 60 лет:\")\n",
        "print(f\"Моложе 30 лет: {survival_young:.2f}, Старше 60 лет: {survival_old:.2f}\")"
      ],
      "metadata": {
        "colab": {
          "base_uri": "https://localhost:8080/"
        },
        "id": "4pIg92ymiEJj",
        "outputId": "d07ef544-4003-4b30-dda8-50a85794c032"
      },
      "execution_count": 22,
      "outputs": [
        {
          "output_type": "stream",
          "name": "stdout",
          "text": [
            "\n",
            "Доли выживших среди моложе 30 и старше 60 лет:\n",
            "Моложе 30 лет: 0.41, Старше 60 лет: 0.23\n"
          ]
        }
      ]
    },
    {
      "cell_type": "markdown",
      "source": [
        "**Задание 7. Правда ли, что женщины выживали чаще мужчин? Каковы доли выживших в обеих группах?**"
      ],
      "metadata": {
        "id": "-shnv04bkPRo"
      }
    },
    {
      "cell_type": "code",
      "source": [
        "import numpy as np\n",
        "import pandas as pd\n",
        "# Загрузка данных из файла и установка индекса \"PassengerId\"\n",
        "file_path = 'titanic.csv'\n",
        "titanic_df = pd.read_csv(file_path, index_col=\"PassengerId\")\n",
        "# Доли выживших среди мужчин и женщин\n",
        "survival_by_gender = titanic_df.groupby('Sex')['Survived'].mean()\n",
        "print(\"\\nДоли выживших среди мужчин и женщин:\")\n",
        "print(survival_by_gender)"
      ],
      "metadata": {
        "colab": {
          "base_uri": "https://localhost:8080/"
        },
        "id": "gzuNalSAiSBC",
        "outputId": "48daf716-3eae-4085-d676-55c2c11b4759"
      },
      "execution_count": 23,
      "outputs": [
        {
          "output_type": "stream",
          "name": "stdout",
          "text": [
            "\n",
            "Доли выживших среди мужчин и женщин:\n",
            "Sex\n",
            "female    0.742038\n",
            "male      0.188908\n",
            "Name: Survived, dtype: float64\n"
          ]
        }
      ]
    },
    {
      "cell_type": "markdown",
      "source": [
        "**Задание 8. Найдите самое популярное имя среди пассажиров Титаника мужского пола?**"
      ],
      "metadata": {
        "id": "npFxonQ3keB8"
      }
    },
    {
      "cell_type": "code",
      "source": [
        "import numpy as np\n",
        "import pandas as pd\n",
        "# Загрузка данных из файла и установка индекса \"PassengerId\"\n",
        "file_path = 'titanic.csv'\n",
        "titanic_df = pd.read_csv(file_path, index_col=\"PassengerId\")\n",
        "# Самое популярное имя среди пассажиров мужского пола\n",
        "# Извлечение первого имени из полного имени, исключая обращения\n",
        "titanic_df['FirstName'] = titanic_df['Name'].str.extract(r'^[^,]+,\\s+[^.]+\\.\\s+(\\w+)', expand=False)\n",
        "male_names = titanic_df[titanic_df['Sex'] == 'male']['FirstName']\n",
        "popular_male_name = male_names.value_counts().idxmax()\n",
        "print(\"\\nСамое популярное имя среди мужчин:\", popular_male_name)"
      ],
      "metadata": {
        "colab": {
          "base_uri": "https://localhost:8080/"
        },
        "id": "l28zkBwiiZVy",
        "outputId": "330f0f28-95ee-4440-ae6a-7b510b1545e0"
      },
      "execution_count": 25,
      "outputs": [
        {
          "output_type": "stream",
          "name": "stdout",
          "text": [
            "\n",
            "Самое популярное имя среди мужчин: William\n"
          ]
        }
      ]
    },
    {
      "cell_type": "markdown",
      "source": [
        "**Задание 9. Как отличается средний возраст мужчин / женщин в зависимости от класса обслуживания? Выберите верные утверждения:\n",
        "В среднем мужчины 1-го класса старше 40 лет В среднем женщины 1-го класса старше 40 лет Мужчины всех классов в среднем старше женщин того же класса В среднем люди в 1 классе старше, чем во 2-ом, а те старше представителей 3-го класса**"
      ],
      "metadata": {
        "id": "BvP4GSJzlSqN"
      }
    },
    {
      "cell_type": "code",
      "source": [
        "import numpy as np\n",
        "import pandas as pd\n",
        "# Загрузка данных из файла и установка индекса \"PassengerId\"\n",
        "file_path = 'titanic.csv'\n",
        "titanic_df = pd.read_csv(file_path, index_col=\"PassengerId\")\n",
        "# Средний возраст мужчин и женщин по классу\n",
        "mean_age_by_sex_class = titanic_df.groupby(['Pclass', 'Sex'])['Age'].mean()\n",
        "print(\"\\nСредний возраст мужчин и женщин по классу:\")\n",
        "print(mean_age_by_sex_class)\n",
        "\n",
        "# Проверка утверждений о возрасте и выживших\n",
        "print(\"\\nАнализ утверждений:\")\n",
        "print(\"1. Мужчины 1-го класса в среднем старше 40 лет:\", mean_age_by_sex_class[1, 'male'] > 40)\n",
        "print(\"2. Женщины 1-го класса в среднем старше 40 лет:\", mean_age_by_sex_class[1, 'female'] > 40)\n",
        "print(\"3. Мужчины всех классов в среднем старше женщин того же класса:\", all(mean_age_by_sex_class.loc[i, 'male'] > mean_age_by_sex_class.loc[i, 'female'] for i in range(1, 4)))\n",
        "print(\"4. Люди в 1 классе старше, чем во 2-ом, а те старше 3-го:\", all(mean_age_by_sex_class.loc[i].mean() > mean_age_by_sex_class.loc[i+1].mean() for i in range(1, 3)))\n"
      ],
      "metadata": {
        "colab": {
          "base_uri": "https://localhost:8080/"
        },
        "id": "oI0S1G2jlfdz",
        "outputId": "3d5a1ee0-2a97-4c7c-c303-0ed74ae50b43"
      },
      "execution_count": 26,
      "outputs": [
        {
          "output_type": "stream",
          "name": "stdout",
          "text": [
            "\n",
            "Средний возраст мужчин и женщин по классу:\n",
            "Pclass  Sex   \n",
            "1       female    34.611765\n",
            "        male      41.281386\n",
            "2       female    28.722973\n",
            "        male      30.740707\n",
            "3       female    21.750000\n",
            "        male      26.507589\n",
            "Name: Age, dtype: float64\n",
            "\n",
            "Анализ утверждений:\n",
            "1. Мужчины 1-го класса в среднем старше 40 лет: True\n",
            "2. Женщины 1-го класса в среднем старше 40 лет: False\n",
            "3. Мужчины всех классов в среднем старше женщин того же класса: True\n",
            "4. Люди в 1 классе старше, чем во 2-ом, а те старше 3-го: True\n"
          ]
        }
      ]
    },
    {
      "cell_type": "markdown",
      "source": [
        "**Задание 10. Сравните возраст у спасенных и у погибших пасажиров. Средний возраст погибших выше, верно?**"
      ],
      "metadata": {
        "id": "7cSWbiXOlf0Q"
      }
    },
    {
      "cell_type": "code",
      "source": [
        "import numpy as np\n",
        "import pandas as pd\n",
        "# Загрузка данных из файла и установка индекса \"PassengerId\"\n",
        "file_path = 'titanic.csv'\n",
        "titanic_df = pd.read_csv(file_path, index_col=\"PassengerId\")\n",
        "# Средний возраст среди спасенных и погибших\n",
        "mean_age_by_survival = titanic_df.groupby('Survived')['Age'].mean()\n",
        "\n",
        "# Проверка, выше ли средний возраст погибших\n",
        "is_age_higher_for_non_survivors = mean_age_by_survival[0] > mean_age_by_survival[1]\n",
        "\n",
        "print(\"\\nСредний возраст среди спасенных и погибших:\")\n",
        "print(mean_age_by_survival)\n",
        "print(\"\\nСредний возраст погибших выше, верно?\", is_age_higher_for_non_survivors)\n"
      ],
      "metadata": {
        "colab": {
          "base_uri": "https://localhost:8080/"
        },
        "id": "HSbMBWyEl53Y",
        "outputId": "7cdf68d8-fab2-4955-cb74-11cbbdba6290"
      },
      "execution_count": 27,
      "outputs": [
        {
          "output_type": "stream",
          "name": "stdout",
          "text": [
            "\n",
            "Средний возраст среди спасенных и погибших:\n",
            "Survived\n",
            "0    30.626179\n",
            "1    28.343690\n",
            "Name: Age, dtype: float64\n",
            "\n",
            "Средний возраст погибших выше, верно? True\n"
          ]
        }
      ]
    },
    {
      "cell_type": "markdown",
      "source": [
        "**Вывод: Были приобретены навыки работы с набором данных**"
      ],
      "metadata": {
        "id": "cTE44bwpm90G"
      }
    }
  ]
}
