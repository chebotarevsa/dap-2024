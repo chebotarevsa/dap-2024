{
  "cells": [
    {
      "cell_type": "markdown",
      "metadata": {
        "id": "view-in-github",
        "colab_type": "text"
      },
      "source": [
        "<a href=\"https://colab.research.google.com/github/golodenko2209/dap-2024/blob/main/les06/lab.ipynb\" target=\"_parent\"><img src=\"https://colab.research.google.com/assets/colab-badge.svg\" alt=\"Open In Colab\"/></a>"
      ]
    },
    {
      "cell_type": "markdown",
      "metadata": {
        "id": "8PUlp_w_tBS8"
      },
      "source": [
        "# Лабораторная работа №6. Линейная регрессия"
      ]
    },
    {
      "cell_type": "markdown",
      "metadata": {
        "id": "iaqXNA8ptBS_"
      },
      "source": [
        "Выполните следующие задания:\n",
        "\n",
        "1. Откройте в файл в Google Colab (используйте собственный форк репозитория).\n",
        "2. Решите задачи.\n",
        "3. Сохраните результат в ваш репозиторий github в директорию ./les06\n",
        "4. Создайте pull request в репозиторий https://github.com/chebotarevsa/dap-2024. Название pull request должно иметь формат \"<Номер лабораторной работы>  <Номер группы> <ФИО>\"\n",
        "5. Сдайте работу в системе \"Пегас\", в отчет укажите ссылку на pull request"
      ]
    },
    {
      "cell_type": "markdown",
      "metadata": {
        "id": "_c2lG_SbtBTA"
      },
      "source": [
        "Набор данных Diabetes (Диабет) содержит 442 образца с 10-ю признаками: возраст, пол, индекс массы тела, средний показатель давления крови и шесть измерений сыворотки крови. Целевое значение - количественный показатель прогрессирования заболевания через год после анализов."
      ]
    },
    {
      "cell_type": "code",
      "execution_count": null,
      "metadata": {
        "id": "zDzq2BndtBTB"
      },
      "outputs": [],
      "source": [
        "import numpy as np\n",
        "import pandas as pd\n",
        "import matplotlib.pyplot as plt"
      ]
    },
    {
      "cell_type": "markdown",
      "metadata": {
        "id": "M8aPwNmHtBTD"
      },
      "source": [
        "## Извлечение данных"
      ]
    },
    {
      "cell_type": "code",
      "execution_count": null,
      "metadata": {
        "id": "m0_dq-OxtBTD"
      },
      "outputs": [],
      "source": [
        "from sklearn import datasets\n",
        "diabetes = datasets.load_diabetes()"
      ]
    },
    {
      "cell_type": "markdown",
      "metadata": {
        "id": "5pcpE0c9tBTD"
      },
      "source": [
        "1. Выведете описание набора данных и наименование признаков."
      ]
    },
    {
      "cell_type": "code",
      "execution_count": null,
      "metadata": {
        "id": "FjP4Q-LutBTE"
      },
      "outputs": [],
      "source": [
        "# Код"
      ]
    },
    {
      "cell_type": "markdown",
      "metadata": {
        "id": "H5z2dGRJtBTE"
      },
      "source": [
        "### Подготовка данных"
      ]
    },
    {
      "cell_type": "markdown",
      "metadata": {
        "id": "8bTT9pGCtBTF"
      },
      "source": [
        "2. Из загруженного набора данных создайте DataFrame, содержащий как признаки, так и целевое значение. Выведите первые 5 строк набора."
      ]
    },
    {
      "cell_type": "code",
      "execution_count": null,
      "metadata": {
        "id": "hlW2ZePntBTF"
      },
      "outputs": [],
      "source": [
        "# Код"
      ]
    },
    {
      "cell_type": "markdown",
      "metadata": {
        "id": "dPtiy73btBTG"
      },
      "source": [
        "3. Выведете информацию о типах данных в наборе. Имеются ли в наборе категориальные признаки? Имеются ли в наборе данные имеющие значение null?"
      ]
    },
    {
      "cell_type": "code",
      "execution_count": null,
      "metadata": {
        "id": "kjwA1tZ9tBTG"
      },
      "outputs": [],
      "source": [
        "# Код"
      ]
    },
    {
      "cell_type": "markdown",
      "metadata": {
        "id": "92K_1VwktBTH"
      },
      "source": [
        "## Исследование данных"
      ]
    },
    {
      "cell_type": "markdown",
      "metadata": {
        "id": "iKMnUayktBTH"
      },
      "source": [
        "4. Постройте матрицу корреляции."
      ]
    },
    {
      "cell_type": "code",
      "execution_count": null,
      "metadata": {
        "id": "o_d6xGxotBTH"
      },
      "outputs": [],
      "source": [
        "# Код"
      ]
    },
    {
      "cell_type": "markdown",
      "metadata": {
        "id": "ZZ23Huh7tBTI"
      },
      "source": [
        "5. Постройте диаграмму рассеяния целевого значение и признака, коэффициент корреляции которого с  целевым значением, самый высокий."
      ]
    },
    {
      "cell_type": "markdown",
      "metadata": {
        "id": "PiU4Tj3VtBTI"
      },
      "source": []
    },
    {
      "cell_type": "code",
      "execution_count": null,
      "metadata": {
        "id": "J_X8l2ZytBTI"
      },
      "outputs": [],
      "source": [
        "# Код"
      ]
    },
    {
      "cell_type": "markdown",
      "metadata": {
        "id": "tlixHFBetBTI"
      },
      "source": [
        "6. Сформируйте набор признаков (X) из 5 признаков с самым высоким коэффициентом корреляции с целевым значением. Сформируйте набор для целевого значения (y)."
      ]
    },
    {
      "cell_type": "code",
      "execution_count": null,
      "metadata": {
        "id": "kf_R1VWZtBTJ"
      },
      "outputs": [],
      "source": [
        "# Код"
      ]
    },
    {
      "cell_type": "markdown",
      "metadata": {
        "id": "Le7uMGrvtBTJ"
      },
      "source": [
        "## Предсказательная модель"
      ]
    },
    {
      "cell_type": "markdown",
      "metadata": {
        "id": "mFBEP95htBTJ"
      },
      "source": [
        "7. Разделите набор данных на два, одни для обучения модели другой для проверки. Тестовый набор должен содержать 25 процентов данных."
      ]
    },
    {
      "cell_type": "code",
      "execution_count": null,
      "metadata": {
        "id": "pvT2LzeYtBTK"
      },
      "outputs": [],
      "source": [
        "# Код"
      ]
    },
    {
      "cell_type": "markdown",
      "metadata": {
        "id": "0E6gnNcCtBTK"
      },
      "source": [
        "8. Выполните обучение модели."
      ]
    },
    {
      "cell_type": "code",
      "execution_count": null,
      "metadata": {
        "id": "Sn1fgGb1tBTK"
      },
      "outputs": [],
      "source": [
        "# Код"
      ]
    },
    {
      "cell_type": "markdown",
      "metadata": {
        "id": "hr32zuHitBTL"
      },
      "source": [
        "## Проверка модели"
      ]
    },
    {
      "cell_type": "markdown",
      "metadata": {
        "id": "mpFWMo7vtBTL"
      },
      "source": [
        "9. Расчитайте Root mean squared error (RMSE)"
      ]
    },
    {
      "cell_type": "code",
      "execution_count": null,
      "metadata": {
        "id": "e_PGrB2utBTL"
      },
      "outputs": [],
      "source": [
        "# Код"
      ]
    },
    {
      "cell_type": "markdown",
      "metadata": {
        "id": "X24OzP75tBTL"
      },
      "source": [
        "10. Расчитайте R² (коэффициент детерминации)"
      ]
    },
    {
      "cell_type": "code",
      "execution_count": null,
      "metadata": {
        "id": "p2AWuMdrtBTM"
      },
      "outputs": [],
      "source": [
        "# Код"
      ]
    },
    {
      "cell_type": "markdown",
      "metadata": {
        "id": "WVidh76gtBTM"
      },
      "source": [
        "## Вопросы для защиты"
      ]
    },
    {
      "cell_type": "markdown",
      "metadata": {
        "id": "CJouJzDWtBTN"
      },
      "source": [
        "1. Какие типы машинного обучения вы знаете?\n",
        "2. Чем отличается обучение с учителем и без учителя?\n",
        "3. Чем пакетное обучение отличается от динамического?\n",
        "4. Чем обучение на основе образцов отличается от обучения на основе модели?\n",
        "5. Что такое линейная регрессия?\n",
        "6. Что такое градиентный спуск?\n",
        "7. Как правильно обрабатывать категориальные признаки?\n",
        "8. Что такое матрица корреляции?\n",
        "9. Что показывает метрика RMSE?\n",
        "10. Что показывает метрика R²?"
      ]
    }
  ],
  "metadata": {
    "kernelspec": {
      "display_name": "Python 3",
      "language": "python",
      "name": "python3"
    },
    "language_info": {
      "codemirror_mode": {
        "name": "ipython",
        "version": 3
      },
      "file_extension": ".py",
      "mimetype": "text/x-python",
      "name": "python",
      "nbconvert_exporter": "python",
      "pygments_lexer": "ipython3",
      "version": "3.12.2"
    },
    "colab": {
      "provenance": [],
      "include_colab_link": true
    }
  },
  "nbformat": 4,
  "nbformat_minor": 0
}