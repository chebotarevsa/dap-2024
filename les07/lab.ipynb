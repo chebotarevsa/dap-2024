{
  "cells": [
    {
      "cell_type": "markdown",
      "metadata": {
        "id": "S4h-oOKrYMJM"
      },
      "source": [
        "# Лабораторная работа №7. Классификация"
      ]
    },
    {
      "cell_type": "markdown",
      "metadata": {
        "id": "3mJDF5WkYMJO"
      },
      "source": [
        "Выполните следующие задания:\n",
        "\n",
        "1. Откройте в файл в Google Colab (используйте собственный форк репозитория).\n",
        "2. Решите задачи.\n",
        "3. Сохраните результат в виде файла rep.ipynb в ваш репозиторий github в директорию ./les07\n",
        "4. Создайте pull request в репозиторий https://github.com/chebotarevsa/dap-2024. Название pull request должно иметь формат \"<Номер лабораторной работы>  <Номер группы> <ФИО>\"\n",
        "5. Сдайте работу в системе \"Пегас\", в отчет укажите ссылку на pull request"
      ]
    },
    {
      "cell_type": "markdown",
      "metadata": {
        "id": "FU_jDo19YMJP"
      },
      "source": [
        "Используя набор данных titanic.csv постройте модель предсказывающую выжил или погиб пассажир.\n",
        "1.\tPassengerId – Идентификатор пассажира (уникальный номер для каждого пассажира).\n",
        "2.\tSurvived – Выжил (0 – не выжил, 1 – выжил).\n",
        "3.\tPclass – Класс пассажира (1 – первый класс, 2 – второй класс, 3 – третий класс).\n",
        "4.\tName – Имя (полное имя пассажира).\n",
        "5.\tSex – Пол (male – мужчина, female – женщина).\n",
        "6.\tAge – Возраст (числовое значение, может быть дробным).\n",
        "7.\tSibSp – Количество родственников на борту (братьев, сестер или супругов).\n",
        "8.\tParch – Количество родителей или детей на борту.\n",
        "9.\tTicket – Номер билета.\n",
        "10.\tFare – Стоимость билета (в фунтах стерлингов).\n",
        "11.\tCabin – Номер каюты (может быть пропущен, если данные отсутствуют).\n",
        "12.\tEmbarked – Порт посадки (C – Cherbourg, Q – Queenstown, S – Southampton)."
      ]
    },
    {
      "cell_type": "code",
      "execution_count": 26,
      "metadata": {
        "id": "63N5CbWMYMJP",
        "colab": {
          "base_uri": "https://localhost:8080/"
        },
        "outputId": "959810bd-9bc1-49e7-f817-a9f536b87f80"
      },
      "outputs": [
        {
          "output_type": "stream",
          "name": "stdout",
          "text": [
            "Python version: 3.10.12 (main, Nov  6 2024, 20:22:13) [GCC 11.4.0]\n",
            "Numpy version: 1.26.4\n",
            "Pandas version: 2.2.2\n",
            "Matplotlib version: 3.8.0\n"
          ]
        }
      ],
      "source": [
        "import sys\n",
        "import matplotlib as mpl\n",
        "import matplotlib.pyplot as plt\n",
        "import numpy as np\n",
        "import pandas as pd\n",
        "\n",
        "print(f\"Python version: {sys.version}\")\n",
        "print(f\"Numpy version: {np.version.version}\")\n",
        "print(f\"Pandas version: {pd.__version__}\")\n",
        "print(f\"Matplotlib version: {mpl.__version__}\")"
      ]
    },
    {
      "cell_type": "markdown",
      "metadata": {
        "id": "6HSEBOK6YMJQ"
      },
      "source": [
        "## Извлечение данных"
      ]
    },
    {
      "cell_type": "markdown",
      "metadata": {
        "id": "iK2Xt7BoYMJQ"
      },
      "source": [
        "1. Создайте DataFarame из файла titanic.csv, в качестве индекса используйте столбец \"PassengerId\"."
      ]
    },
    {
      "cell_type": "code",
      "execution_count": 27,
      "metadata": {
        "id": "EsedIpkAYMJR"
      },
      "outputs": [],
      "source": [
        "data = pd.read_csv(\"data/titanic.csv\", index_col=\"PassengerId\")"
      ]
    },
    {
      "cell_type": "markdown",
      "metadata": {
        "id": "AMK2K7m2YMJS"
      },
      "source": [
        "2. Выведете первые 7 строк набора."
      ]
    },
    {
      "cell_type": "code",
      "execution_count": 28,
      "metadata": {
        "id": "bzUsPHn8YMJS",
        "colab": {
          "base_uri": "https://localhost:8080/"
        },
        "outputId": "ac7e7f59-8166-43f7-a87b-1d103346357c"
      },
      "outputs": [
        {
          "output_type": "stream",
          "name": "stdout",
          "text": [
            "             Survived  Pclass  \\\n",
            "PassengerId                     \n",
            "1                   0       3   \n",
            "2                   1       1   \n",
            "3                   1       3   \n",
            "4                   1       1   \n",
            "5                   0       3   \n",
            "6                   0       3   \n",
            "7                   0       1   \n",
            "\n",
            "                                                          Name     Sex   Age  \\\n",
            "PassengerId                                                                    \n",
            "1                                      Braund, Mr. Owen Harris    male  22.0   \n",
            "2            Cumings, Mrs. John Bradley (Florence Briggs Th...  female  38.0   \n",
            "3                                       Heikkinen, Miss. Laina  female  26.0   \n",
            "4                 Futrelle, Mrs. Jacques Heath (Lily May Peel)  female  35.0   \n",
            "5                                     Allen, Mr. William Henry    male  35.0   \n",
            "6                                             Moran, Mr. James    male   NaN   \n",
            "7                                      McCarthy, Mr. Timothy J    male  54.0   \n",
            "\n",
            "             SibSp  Parch            Ticket     Fare Cabin Embarked  \n",
            "PassengerId                                                          \n",
            "1                1      0         A/5 21171   7.2500   NaN        S  \n",
            "2                1      0          PC 17599  71.2833   C85        C  \n",
            "3                0      0  STON/O2. 3101282   7.9250   NaN        S  \n",
            "4                1      0            113803  53.1000  C123        S  \n",
            "5                0      0            373450   8.0500   NaN        S  \n",
            "6                0      0            330877   8.4583   NaN        Q  \n",
            "7                0      0             17463  51.8625   E46        S  \n"
          ]
        }
      ],
      "source": [
        "print(data.head(7))"
      ]
    },
    {
      "cell_type": "markdown",
      "metadata": {
        "id": "D2ZPrkSLYMJS"
      },
      "source": [
        "### Подготовка данных"
      ]
    },
    {
      "cell_type": "markdown",
      "metadata": {
        "id": "H2H_pRNZYMJT"
      },
      "source": [
        "3. Выведете информацию о типах данных в наборе. Имеются ли в наборе не числовые признаки? Имеются ли в наборе данные имеющие значение null?\n",
        "    "
      ]
    },
    {
      "cell_type": "code",
      "execution_count": 29,
      "metadata": {
        "id": "d1aplqvgYMJU",
        "colab": {
          "base_uri": "https://localhost:8080/"
        },
        "outputId": "80d48c75-2c07-4840-bd57-9e67de89dd69"
      },
      "outputs": [
        {
          "output_type": "stream",
          "name": "stdout",
          "text": [
            "<class 'pandas.core.frame.DataFrame'>\n",
            "Index: 891 entries, 1 to 891\n",
            "Data columns (total 11 columns):\n",
            " #   Column    Non-Null Count  Dtype  \n",
            "---  ------    --------------  -----  \n",
            " 0   Survived  891 non-null    int64  \n",
            " 1   Pclass    891 non-null    int64  \n",
            " 2   Name      891 non-null    object \n",
            " 3   Sex       891 non-null    object \n",
            " 4   Age       714 non-null    float64\n",
            " 5   SibSp     891 non-null    int64  \n",
            " 6   Parch     891 non-null    int64  \n",
            " 7   Ticket    891 non-null    object \n",
            " 8   Fare      891 non-null    float64\n",
            " 9   Cabin     204 non-null    object \n",
            " 10  Embarked  889 non-null    object \n",
            "dtypes: float64(2), int64(4), object(5)\n",
            "memory usage: 83.5+ KB\n",
            "None\n",
            "Survived    False\n",
            "Pclass      False\n",
            "Name        False\n",
            "Sex         False\n",
            "Age          True\n",
            "SibSp       False\n",
            "Parch       False\n",
            "Ticket      False\n",
            "Fare        False\n",
            "Cabin        True\n",
            "Embarked     True\n",
            "dtype: bool\n"
          ]
        }
      ],
      "source": [
        "print(data.info())  # Имеются не числовые типы\n",
        "print(data.isnull().sum() > 0)  # Проверка на null"
      ]
    },
    {
      "cell_type": "markdown",
      "metadata": {
        "id": "H9NVVYDnYMJU"
      },
      "source": [
        "4. Удалите не числовые признаки, которые по вашему мнению, не могут влиять на заначение выжил или погиб пассажир."
      ]
    },
    {
      "cell_type": "code",
      "execution_count": 30,
      "metadata": {
        "id": "nTZgvL9_YMJU"
      },
      "outputs": [],
      "source": [
        "data.drop([\"Name\", \"Ticket\", \"Cabin\", \"Embarked\"], axis=\"columns\", inplace=True)"
      ]
    },
    {
      "cell_type": "markdown",
      "metadata": {
        "id": "YiXDMeNdYMJV"
      },
      "source": [
        "5. Вместо признака \"Sex\" (я надеюсь вы его не удалили 😂) Создайте два новых признака male и female которые содержат значения 0 или 1."
      ]
    },
    {
      "cell_type": "code",
      "execution_count": 31,
      "metadata": {
        "id": "1XOUvpwpYMJV"
      },
      "outputs": [],
      "source": [
        "data[\"Sex\"] = pd.factorize(data[\"Sex\"])[0]"
      ]
    },
    {
      "cell_type": "markdown",
      "metadata": {
        "id": "l_TWLU6nYMJV"
      },
      "source": [
        "6. Удалите строки, которые содержать хотя бы одно null значение."
      ]
    },
    {
      "cell_type": "code",
      "execution_count": 32,
      "metadata": {
        "id": "L3w3VmWYYMJW"
      },
      "outputs": [],
      "source": [
        "data.dropna(inplace=True)"
      ]
    },
    {
      "cell_type": "markdown",
      "metadata": {
        "id": "8VAzoYlzYMJX"
      },
      "source": [
        "## Исследование данных"
      ]
    },
    {
      "cell_type": "markdown",
      "metadata": {
        "id": "dLy8hp0EYMJX"
      },
      "source": [
        "4. Нормализуйте значения признака \"Fare\"."
      ]
    },
    {
      "cell_type": "code",
      "execution_count": 33,
      "metadata": {
        "id": "Hf5SUfpHYMJX"
      },
      "outputs": [],
      "source": [
        "data = (data-data.min())/(data.max()-data.min())"
      ]
    },
    {
      "cell_type": "markdown",
      "metadata": {
        "id": "OWEpV3yhYMJX"
      },
      "source": [
        "5. Найдите разницу между средними значениями признака \"Fare\" для погибших и выживших пассажиров."
      ]
    },
    {
      "cell_type": "code",
      "execution_count": 48,
      "metadata": {
        "id": "LyWNbPaxYMJX",
        "colab": {
          "base_uri": "https://localhost:8080/"
        },
        "outputId": "40941752-d0bc-4681-f61f-197c28d80965"
      },
      "outputs": [
        {
          "output_type": "stream",
          "name": "stdout",
          "text": [
            "-0.056365611806801684\n"
          ]
        }
      ],
      "source": [
        "dead = data['Survived'] == 0\n",
        "survived = data['Survived'] == 1\n",
        "print(data[dead][\"Fare\"].mean() - data[survived][\"Fare\"].mean())"
      ]
    },
    {
      "cell_type": "markdown",
      "metadata": {
        "id": "2ukx8tg1YMJY"
      },
      "source": [
        "6. Простройте на одной оси координат гистограмы значений признака \"Fare\" для погибших и выживших пассажиров."
      ]
    },
    {
      "cell_type": "code",
      "execution_count": 51,
      "metadata": {
        "id": "0YEsy4KUYMJY",
        "colab": {
          "base_uri": "https://localhost:8080/",
          "height": 489
        },
        "outputId": "954918cf-0c9a-44dc-ee06-6a39bbed045c"
      },
      "outputs": [
        {
          "output_type": "execute_result",
          "data": {
            "text/plain": [
              "Text(0.5, 1.0, 'Распределение worst concave points')"
            ]
          },
          "metadata": {},
          "execution_count": 51
        },
        {
          "output_type": "display_data",
          "data": {
            "text/plain": [
              "<Figure size 640x480 with 1 Axes>"
            ],
            "image/png": "[encoded data removed]"
          },
          "metadata": {}
        }
      ],
      "source": [
        "bins = 20\n",
        "plt.hist(data[dead]['Fare'], bins=bins, edgecolor='black', alpha=0.5, color='red', label='Мертвые')\n",
        "plt.hist(data[survived]['Fare'], bins=bins, edgecolor='black', alpha=0.5, color='green', label='Выжившие')\n",
        "plt.legend(loc='upper right')\n",
        "plt.xlabel('Распределение нормализованной величины')\n",
        "plt.ylabel('Counts')\n",
        "plt.title('Распределение worst concave points')"
      ]
    },
    {
      "cell_type": "markdown",
      "metadata": {
        "id": "jbOi5kCIYMJY"
      },
      "source": [
        "7. Сформируйте набор признаков (X). Сформируйте вектор целевых значений (y)."
      ]
    },
    {
      "cell_type": "code",
      "execution_count": 44,
      "metadata": {
        "id": "b4kIRSQ1YMJY"
      },
      "outputs": [],
      "source": [
        "X = data[[\"Pclass\", \"Sex\", \"Age\", \"SibSp\", \"Parch\", \"Fare\"]]\n",
        "y = data[\"Survived\"]"
      ]
    },
    {
      "cell_type": "markdown",
      "metadata": {
        "id": "K48ELfV9YMJZ"
      },
      "source": [
        "## Предсказательная модель"
      ]
    },
    {
      "cell_type": "markdown",
      "metadata": {
        "id": "7xS4YR8SYMJZ"
      },
      "source": [
        "8. Разделите набор данных на два, одни для обучения модели другой для проверки. Тестовый набор должен содержать 25 процентов данных."
      ]
    },
    {
      "cell_type": "code",
      "execution_count": 46,
      "metadata": {
        "id": "IU6GUqBFYMJZ"
      },
      "outputs": [],
      "source": [
        "from sklearn.model_selection import train_test_split\n",
        "X_train, X_test,y_train,y_test = train_test_split(X, y, train_size=0.25, random_state=42)"
      ]
    },
    {
      "cell_type": "markdown",
      "metadata": {
        "id": "si3GmoXyYMJZ"
      },
      "source": [
        "9. Выполните обучение модели."
      ]
    },
    {
      "cell_type": "code",
      "execution_count": 82,
      "metadata": {
        "id": "MEqrr-i4YMJZ"
      },
      "outputs": [],
      "source": [
        "from sklearn.neighbors import KNeighborsClassifier\n",
        "model = KNeighborsClassifier(n_neighbors=5, algorithm='auto')\n",
        "\n",
        "model.fit(X_train,y_train)\n",
        "y_pred = model.predict(X_test)"
      ]
    },
    {
      "cell_type": "markdown",
      "metadata": {
        "id": "9SRIKx70YMJa"
      },
      "source": [
        "## Проверка модели"
      ]
    },
    {
      "cell_type": "markdown",
      "metadata": {
        "id": "qfRXVjLYYMJa"
      },
      "source": [
        "10. Выведите мартицу ошибок"
      ]
    },
    {
      "cell_type": "code",
      "execution_count": 83,
      "metadata": {
        "id": "iDY_vtZmYMJa",
        "colab": {
          "base_uri": "https://localhost:8080/",
          "height": 112
        },
        "outputId": "658186a7-7a7c-441c-be6b-886d47411ba0"
      },
      "outputs": [
        {
          "output_type": "execute_result",
          "data": {
            "text/plain": [
              "     0    1\n",
              "0  269   49\n",
              "1   55  163"
            ],
            "text/html": [
              "\n",
              "  <div id=\"df-08d58ae3-d328-4bb9-873a-0b7db1601944\" class=\"colab-df-container\">\n",
              "    <div>\n",
              "<style scoped>\n",
              "    .dataframe tbody tr th:only-of-type {\n",
              "        vertical-align: middle;\n",
              "    }\n",
              "\n",
              "    .dataframe tbody tr th {\n",
              "        vertical-align: top;\n",
              "    }\n",
              "\n",
              "    .dataframe thead th {\n",
              "        text-align: right;\n",
              "    }\n",
              "</style>\n",
              "<table border=\"1\" class=\"dataframe\">\n",
              "  <thead>\n",
              "    <tr style=\"text-align: right;\">\n",
              "      <th></th>\n",
              "      <th>0</th>\n",
              "      <th>1</th>\n",
              "    </tr>\n",
              "  </thead>\n",
              "  <tbody>\n",
              "    <tr>\n",
              "      <th>0</th>\n",
              "      <td>269</td>\n",
              "      <td>49</td>\n",
              "    </tr>\n",
              "    <tr>\n",
              "      <th>1</th>\n",
              "      <td>55</td>\n",
              "      <td>163</td>\n",
              "    </tr>\n",
              "  </tbody>\n",
              "</table>\n",
              "</div>\n",
              "    <div class=\"colab-df-buttons\">\n",
              "\n",
              "  <div class=\"colab-df-container\">\n",
              "    <button class=\"colab-df-convert\" onclick=\"convertToInteractive('df-08d58ae3-d328-4bb9-873a-0b7db1601944')\"\n",
              "            title=\"Convert this dataframe to an interactive table.\"\n",
              "            style=\"display:none;\">\n",
              "\n",
              "  <svg xmlns=\"http://www.w3.org/2000/svg\" height=\"24px\" viewBox=\"0 -960 960 960\">\n",
              "    <path d=\"M120-120v-720h720v720H120Zm60-500h600v-160H180v160Zm220 220h160v-160H400v160Zm0 220h160v-160H400v160ZM180-400h160v-160H180v160Zm440 0h160v-160H620v160ZM180-180h160v-160H180v160Zm440 0h160v-160H620v160Z\"/>\n",
              "  </svg>\n",
              "    </button>\n",
              "\n",
              "  <style>\n",
              "    .colab-df-container {\n",
              "      display:flex;\n",
              "      gap: 12px;\n",
              "    }\n",
              "\n",
              "    .colab-df-convert {\n",
              "      background-color: #E8F0FE;\n",
              "      border: none;\n",
              "      border-radius: 50%;\n",
              "      cursor: pointer;\n",
              "      display: none;\n",
              "      fill: #1967D2;\n",
              "      height: 32px;\n",
              "      padding: 0 0 0 0;\n",
              "      width: 32px;\n",
              "    }\n",
              "\n",
              "    .colab-df-convert:hover {\n",
              "      background-color: #E2EBFA;\n",
              "      box-shadow: 0px 1px 2px rgba(60, 64, 67, 0.3), 0px 1px 3px 1px rgba(60, 64, 67, 0.15);\n",
              "      fill: #174EA6;\n",
              "    }\n",
              "\n",
              "    .colab-df-buttons div {\n",
              "      margin-bottom: 4px;\n",
              "    }\n",
              "\n",
              "    [theme=dark] .colab-df-convert {\n",
              "      background-color: #3B4455;\n",
              "      fill: #D2E3FC;\n",
              "    }\n",
              "\n",
              "    [theme=dark] .colab-df-convert:hover {\n",
              "      background-color: #434B5C;\n",
              "      box-shadow: 0px 1px 3px 1px rgba(0, 0, 0, 0.15);\n",
              "      filter: drop-shadow(0px 1px 2px rgba(0, 0, 0, 0.3));\n",
              "      fill: #FFFFFF;\n",
              "    }\n",
              "  </style>\n",
              "\n",
              "    <script>\n",
              "      const buttonEl =\n",
              "        document.querySelector('#df-08d58ae3-d328-4bb9-873a-0b7db1601944 button.colab-df-convert');\n",
              "      buttonEl.style.display =\n",
              "        google.colab.kernel.accessAllowed ? 'block' : 'none';\n",
              "\n",
              "      async function convertToInteractive(key) {\n",
              "        const element = document.querySelector('#df-08d58ae3-d328-4bb9-873a-0b7db1601944');\n",
              "        const dataTable =\n",
              "          await google.colab.kernel.invokeFunction('convertToInteractive',\n",
              "                                                    [key], {});\n",
              "        if (!dataTable) return;\n",
              "\n",
              "        const docLinkHtml = 'Like what you see? Visit the ' +\n",
              "          '<a target=\"_blank\" href=https://colab.research.google.com/notebooks/data_table.ipynb>data table notebook</a>'\n",
              "          + ' to learn more about interactive tables.';\n",
              "        element.innerHTML = '';\n",
              "        dataTable['output_type'] = 'display_data';\n",
              "        await google.colab.output.renderOutput(dataTable, element);\n",
              "        const docLink = document.createElement('div');\n",
              "        docLink.innerHTML = docLinkHtml;\n",
              "        element.appendChild(docLink);\n",
              "      }\n",
              "    </script>\n",
              "  </div>\n",
              "\n",
              "\n",
              "<div id=\"df-fcb183a5-d641-494e-bc27-8ba0707e3d10\">\n",
              "  <button class=\"colab-df-quickchart\" onclick=\"quickchart('df-fcb183a5-d641-494e-bc27-8ba0707e3d10')\"\n",
              "            title=\"Suggest charts\"\n",
              "            style=\"display:none;\">\n",
              "\n",
              "<svg xmlns=\"http://www.w3.org/2000/svg\" height=\"24px\"viewBox=\"0 0 24 24\"\n",
              "     width=\"24px\">\n",
              "    <g>\n",
              "        <path d=\"M19 3H5c-1.1 0-2 .9-2 2v14c0 1.1.9 2 2 2h14c1.1 0 2-.9 2-2V5c0-1.1-.9-2-2-2zM9 17H7v-7h2v7zm4 0h-2V7h2v10zm4 0h-2v-4h2v4z\"/>\n",
              "    </g>\n",
              "</svg>\n",
              "  </button>\n",
              "\n",
              "<style>\n",
              "  .colab-df-quickchart {\n",
              "      --bg-color: #E8F0FE;\n",
              "      --fill-color: #1967D2;\n",
              "      --hover-bg-color: #E2EBFA;\n",
              "      --hover-fill-color: #174EA6;\n",
              "      --disabled-fill-color: #AAA;\n",
              "      --disabled-bg-color: #DDD;\n",
              "  }\n",
              "\n",
              "  [theme=dark] .colab-df-quickchart {\n",
              "      --bg-color: #3B4455;\n",
              "      --fill-color: #D2E3FC;\n",
              "      --hover-bg-color: #434B5C;\n",
              "      --hover-fill-color: #FFFFFF;\n",
              "      --disabled-bg-color: #3B4455;\n",
              "      --disabled-fill-color: #666;\n",
              "  }\n",
              "\n",
              "  .colab-df-quickchart {\n",
              "    background-color: var(--bg-color);\n",
              "    border: none;\n",
              "    border-radius: 50%;\n",
              "    cursor: pointer;\n",
              "    display: none;\n",
              "    fill: var(--fill-color);\n",
              "    height: 32px;\n",
              "    padding: 0;\n",
              "    width: 32px;\n",
              "  }\n",
              "\n",
              "  .colab-df-quickchart:hover {\n",
              "    background-color: var(--hover-bg-color);\n",
              "    box-shadow: 0 1px 2px rgba(60, 64, 67, 0.3), 0 1px 3px 1px rgba(60, 64, 67, 0.15);\n",
              "    fill: var(--button-hover-fill-color);\n",
              "  }\n",
              "\n",
              "  .colab-df-quickchart-complete:disabled,\n",
              "  .colab-df-quickchart-complete:disabled:hover {\n",
              "    background-color: var(--disabled-bg-color);\n",
              "    fill: var(--disabled-fill-color);\n",
              "    box-shadow: none;\n",
              "  }\n",
              "\n",
              "  .colab-df-spinner {\n",
              "    border: 2px solid var(--fill-color);\n",
              "    border-color: transparent;\n",
              "    border-bottom-color: var(--fill-color);\n",
              "    animation:\n",
              "      spin 1s steps(1) infinite;\n",
              "  }\n",
              "\n",
              "  @keyframes spin {\n",
              "    0% {\n",
              "      border-color: transparent;\n",
              "      border-bottom-color: var(--fill-color);\n",
              "      border-left-color: var(--fill-color);\n",
              "    }\n",
              "    20% {\n",
              "      border-color: transparent;\n",
              "      border-left-color: var(--fill-color);\n",
              "      border-top-color: var(--fill-color);\n",
              "    }\n",
              "    30% {\n",
              "      border-color: transparent;\n",
              "      border-left-color: var(--fill-color);\n",
              "      border-top-color: var(--fill-color);\n",
              "      border-right-color: var(--fill-color);\n",
              "    }\n",
              "    40% {\n",
              "      border-color: transparent;\n",
              "      border-right-color: var(--fill-color);\n",
              "      border-top-color: var(--fill-color);\n",
              "    }\n",
              "    60% {\n",
              "      border-color: transparent;\n",
              "      border-right-color: var(--fill-color);\n",
              "    }\n",
              "    80% {\n",
              "      border-color: transparent;\n",
              "      border-right-color: var(--fill-color);\n",
              "      border-bottom-color: var(--fill-color);\n",
              "    }\n",
              "    90% {\n",
              "      border-color: transparent;\n",
              "      border-bottom-color: var(--fill-color);\n",
              "    }\n",
              "  }\n",
              "</style>\n",
              "\n",
              "  <script>\n",
              "    async function quickchart(key) {\n",
              "      const quickchartButtonEl =\n",
              "        document.querySelector('#' + key + ' button');\n",
              "      quickchartButtonEl.disabled = true;  // To prevent multiple clicks.\n",
              "      quickchartButtonEl.classList.add('colab-df-spinner');\n",
              "      try {\n",
              "        const charts = await google.colab.kernel.invokeFunction(\n",
              "            'suggestCharts', [key], {});\n",
              "      } catch (error) {\n",
              "        console.error('Error during call to suggestCharts:', error);\n",
              "      }\n",
              "      quickchartButtonEl.classList.remove('colab-df-spinner');\n",
              "      quickchartButtonEl.classList.add('colab-df-quickchart-complete');\n",
              "    }\n",
              "    (() => {\n",
              "      let quickchartButtonEl =\n",
              "        document.querySelector('#df-fcb183a5-d641-494e-bc27-8ba0707e3d10 button');\n",
              "      quickchartButtonEl.style.display =\n",
              "        google.colab.kernel.accessAllowed ? 'block' : 'none';\n",
              "    })();\n",
              "  </script>\n",
              "</div>\n",
              "    </div>\n",
              "  </div>\n"
            ],
            "application/vnd.google.colaboratory.intrinsic+json": {
              "type": "dataframe",
              "variable_name": "model_matrix_df",
              "summary": "{\n  \"name\": \"model_matrix_df\",\n  \"rows\": 2,\n  \"fields\": [\n    {\n      \"column\": 0,\n      \"properties\": {\n        \"dtype\": \"number\",\n        \"std\": 151,\n        \"min\": 55,\n        \"max\": 269,\n        \"num_unique_values\": 2,\n        \"samples\": [\n          55,\n          269\n        ],\n        \"semantic_type\": \"\",\n        \"description\": \"\"\n      }\n    },\n    {\n      \"column\": 1,\n      \"properties\": {\n        \"dtype\": \"number\",\n        \"std\": 80,\n        \"min\": 49,\n        \"max\": 163,\n        \"num_unique_values\": 2,\n        \"samples\": [\n          163,\n          49\n        ],\n        \"semantic_type\": \"\",\n        \"description\": \"\"\n      }\n    }\n  ]\n}"
            }
          },
          "metadata": {},
          "execution_count": 83
        }
      ],
      "source": [
        "from sklearn.metrics import confusion_matrix\n",
        "model_matrix = confusion_matrix(y_test, y_pred, labels=[0,1])\n",
        "model_matrix_df = pd.DataFrame(model_matrix)\n",
        "model_matrix_df"
      ]
    },
    {
      "cell_type": "markdown",
      "metadata": {
        "id": "6qBFzZfnYMJb"
      },
      "source": [
        "11. Расчитайте accuracy"
      ]
    },
    {
      "cell_type": "code",
      "execution_count": 84,
      "metadata": {
        "id": "WYNrui2-YMJb",
        "colab": {
          "base_uri": "https://localhost:8080/"
        },
        "outputId": "6f8bde26-e26a-406a-ba07-0ee45b597e35"
      },
      "outputs": [
        {
          "output_type": "execute_result",
          "data": {
            "text/plain": [
              "0.81"
            ]
          },
          "metadata": {},
          "execution_count": 84
        }
      ],
      "source": [
        "from sklearn.metrics import accuracy_score\n",
        "model_accuracy = accuracy_score(y_test, y_pred)\n",
        "round(model_accuracy,2)"
      ]
    },
    {
      "cell_type": "markdown",
      "metadata": {
        "id": "Iv8VIjqsYMJb"
      },
      "source": [
        "12. Сделайте вывод о полученном результате"
      ]
    },
    {
      "cell_type": "markdown",
      "metadata": {
        "id": "DhC8RMpyYMJb"
      },
      "source": [
        "Вывод: Точность модели составляет 81%, что указывает на относительно среднюю (в зависимости от критичности ошибок модели) эффективность предсказаний. Это может быть связано с проблемами в данных, недостаточной обученностью модели или нерелевантными признаками."
      ]
    },
    {
      "cell_type": "markdown",
      "metadata": {
        "id": "hvvFuDyyYMJb"
      },
      "source": [
        "## Вопросы для защиты"
      ]
    },
    {
      "cell_type": "markdown",
      "metadata": {
        "id": "T_QJqWokYMJb"
      },
      "source": [
        "1. Сформулируйте задачу классификации.\n",
        "2. Перечислите типы классификации.\n",
        "3. В чем особенность несбалансированной классификации?\n",
        "4. В чем особенность мультиклассовой классификации?\n",
        "5. В чем особенность бинарной классификации?\n",
        "6. В чем особенность классификации по нескольким меткам?\n",
        "7. Чем стратегия \"Один против всех\" отличается от стратегии \"Один против одного\"?\n",
        "8. Что такое матрица ошибок (несоответствий)?\n",
        "9. Как рассчитывается Accuracy?\n",
        "10. Объясните алгоритм классификации K-ближайших соседей."
      ]
    }
  ],
  "metadata": {
    "kernelspec": {
      "display_name": "Python 3",
      "language": "python",
      "name": "python3"
    },
    "language_info": {
      "codemirror_mode": {
        "name": "ipython",
        "version": 3
      },
      "file_extension": ".py",
      "mimetype": "text/x-python",
      "name": "python",
      "nbconvert_exporter": "python",
      "pygments_lexer": "ipython3",
      "version": "3.12.2"
    },
    "colab": {
      "provenance": []
    }
  },
  "nbformat": 4,
  "nbformat_minor": 0
}