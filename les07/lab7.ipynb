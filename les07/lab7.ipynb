{
  "nbformat": 4,
  "nbformat_minor": 0,
  "metadata": {
    "colab": {
      "provenance": [],
      "include_colab_link": true
    },
    "kernelspec": {
      "name": "python3",
      "display_name": "Python 3"
    },
    "language_info": {
      "name": "python"
    }
  },
  "cells": [
    {
      "cell_type": "markdown",
      "metadata": {
        "id": "view-in-github",
        "colab_type": "text"
      },
      "source": [
        "<a href=\"https://colab.research.google.com/github/Progra-man/dap-2024/blob/main/les07/lab7.ipynb\" target=\"_parent\"><img src=\"https://colab.research.google.com/assets/colab-badge.svg\" alt=\"Open In Colab\"/></a>"
      ]
    },
    {
      "cell_type": "markdown",
      "source": [
        "#Лабораторная работа №7. Классификация\n",
        "##Задания\n",
        "\n"
      ],
      "metadata": {
        "id": "7CCsuF2JuuJO"
      }
    },
    {
      "cell_type": "code",
      "execution_count": null,
      "metadata": {
        "colab": {
          "base_uri": "https://localhost:8080/",
          "height": 1000
        },
        "id": "lPtVE6nruoco",
        "outputId": "2f50ff4d-986f-4da6-f5ca-80d29a7461f1"
      },
      "outputs": [
        {
          "output_type": "stream",
          "name": "stdout",
          "text": [
            "Python version: 3.10.12 (main, Nov  6 2024, 20:22:13) [GCC 11.4.0]\n",
            "Numpy version: 1.26.4\n",
            "Pandas version: 2.2.2\n",
            "Matplotlib version: 3.8.0\n",
            "             Survived  Pclass  \\\n",
            "PassengerId                     \n",
            "1                   0       3   \n",
            "2                   1       1   \n",
            "3                   1       3   \n",
            "4                   1       1   \n",
            "5                   0       3   \n",
            "6                   0       3   \n",
            "7                   0       1   \n",
            "\n",
            "                                                          Name     Sex   Age  \\\n",
            "PassengerId                                                                    \n",
            "1                                      Braund, Mr. Owen Harris    male  22.0   \n",
            "2            Cumings, Mrs. John Bradley (Florence Briggs Th...  female  38.0   \n",
            "3                                       Heikkinen, Miss. Laina  female  26.0   \n",
            "4                 Futrelle, Mrs. Jacques Heath (Lily May Peel)  female  35.0   \n",
            "5                                     Allen, Mr. William Henry    male  35.0   \n",
            "6                                             Moran, Mr. James    male   NaN   \n",
            "7                                      McCarthy, Mr. Timothy J    male  54.0   \n",
            "\n",
            "             SibSp  Parch            Ticket     Fare Cabin Embarked  \n",
            "PassengerId                                                          \n",
            "1                1      0         A/5 21171   7.2500   NaN        S  \n",
            "2                1      0          PC 17599  71.2833   C85        C  \n",
            "3                0      0  STON/O2. 3101282   7.9250   NaN        S  \n",
            "4                1      0            113803  53.1000  C123        S  \n",
            "5                0      0            373450   8.0500   NaN        S  \n",
            "6                0      0            330877   8.4583   NaN        Q  \n",
            "7                0      0             17463  51.8625   E46        S  \n",
            "<class 'pandas.core.frame.DataFrame'>\n",
            "Index: 891 entries, 1 to 891\n",
            "Data columns (total 11 columns):\n",
            " #   Column    Non-Null Count  Dtype  \n",
            "---  ------    --------------  -----  \n",
            " 0   Survived  891 non-null    int64  \n",
            " 1   Pclass    891 non-null    int64  \n",
            " 2   Name      891 non-null    object \n",
            " 3   Sex       891 non-null    object \n",
            " 4   Age       714 non-null    float64\n",
            " 5   SibSp     891 non-null    int64  \n",
            " 6   Parch     891 non-null    int64  \n",
            " 7   Ticket    891 non-null    object \n",
            " 8   Fare      891 non-null    float64\n",
            " 9   Cabin     204 non-null    object \n",
            " 10  Embarked  889 non-null    object \n",
            "dtypes: float64(2), int64(4), object(5)\n",
            "memory usage: 83.5+ KB\n",
            "None\n",
            "Категориальные признаки: ['Name', 'Sex', 'Ticket', 'Cabin', 'Embarked']\n",
            "Пропущенные значения в столбцах:\n",
            "Survived      0\n",
            "Pclass        0\n",
            "Name          0\n",
            "Sex           0\n",
            "Age         177\n",
            "SibSp         0\n",
            "Parch         0\n",
            "Ticket        0\n",
            "Fare          0\n",
            "Cabin       687\n",
            "Embarked      2\n",
            "dtype: int64\n",
            "Разница между средними значениями 'Fare': 0.06\n"
          ]
        },
        {
          "output_type": "display_data",
          "data": {
            "text/plain": [
              "<Figure size 640x480 with 1 Axes>"
            ],
            "image/png": "[encoded data removed]"
          },
          "metadata": {}
        },
        {
          "output_type": "stream",
          "name": "stdout",
          "text": [
            "Матрица ошибок:\n",
            "[[91 16]\n",
            " [25 47]]\n",
            "Точность модели (accuracy): 0.77\n"
          ]
        }
      ],
      "source": [
        "# Импортируем необходимые библиотеки\n",
        "import sys\n",
        "import matplotlib as mpl\n",
        "import matplotlib.pyplot as plt\n",
        "import numpy as np\n",
        "import pandas as pd\n",
        "from sklearn.model_selection import train_test_split\n",
        "from sklearn.linear_model import LogisticRegression\n",
        "from sklearn.metrics import confusion_matrix, accuracy_score\n",
        "\n",
        "# Версии библиотек\n",
        "print(f\"Python version: {sys.version}\")\n",
        "print(f\"Numpy version: {np.version.version}\")\n",
        "print(f\"Pandas version: {pd.__version__}\")\n",
        "print(f\"Matplotlib version: {mpl.__version__}\")\n",
        "\n",
        "# 1. Извлечение данных\n",
        "# Загрузка данных\n",
        "df = pd.read_csv('titanic.csv', index_col=\"PassengerId\")\n",
        "\n",
        "# Вывод первых 7 строк\n",
        "print(df.head(7))\n",
        "\n",
        "# 2. Подготовка данных\n",
        "# Информация о типах данных\n",
        "print(df.info())\n",
        "\n",
        "# Проверяем на наличие не числовых признаков и пропущенных значений\n",
        "print(\"Категориальные признаки:\", df.select_dtypes(include=['object']).columns.tolist())\n",
        "print(\"Пропущенные значения в столбцах:\")\n",
        "print(df.isnull().sum())\n",
        "\n",
        "# Удаляем ненужные признаки: 'Name', 'Ticket', 'Cabin', 'Embarked'\n",
        "df.drop(['Name', 'Ticket', 'Cabin', 'Embarked'], axis=1, inplace=True)\n",
        "\n",
        "# Создаём признаки 'male' и 'female' вместо 'Sex'\n",
        "df['male'] = (df['Sex'] == 'male').astype(int)\n",
        "df['female'] = (df['Sex'] == 'female').astype(int)\n",
        "df.drop(['Sex'], axis=1, inplace=True)\n",
        "\n",
        "# Удаляем строки с пропущенными значениями\n",
        "df.dropna(inplace=True)\n",
        "\n",
        "# 3. Исследование данных\n",
        "# Нормализуем 'Fare' (используем Min-Max нормализацию)\n",
        "df['Fare'] = (df['Fare'] - df['Fare'].min()) / (df['Fare'].max() - df['Fare'].min())\n",
        "\n",
        "# Разница между средними значениями 'Fare' для погибших и выживших\n",
        "fare_survived_mean = df[df['Survived'] == 1]['Fare'].mean()\n",
        "fare_died_mean = df[df['Survived'] == 0]['Fare'].mean()\n",
        "fare_difference = fare_survived_mean - fare_died_mean\n",
        "print(f\"Разница между средними значениями 'Fare': {fare_difference:.2f}\")\n",
        "\n",
        "# Гистограммы 'Fare' для погибших и выживших\n",
        "plt.hist(df[df['Survived'] == 0]['Fare'], bins=30, alpha=0.5, label='Погибшие')\n",
        "plt.hist(df[df['Survived'] == 1]['Fare'], bins=30, alpha=0.5, label='Выжившие')\n",
        "plt.title(\"Гистограммы 'Fare' для погибших и выживших\")\n",
        "plt.xlabel('Fare (нормализованный)')\n",
        "plt.ylabel('Количество пассажиров')\n",
        "plt.legend()\n",
        "plt.show()\n",
        "\n",
        "# Формируем X и y\n",
        "X = df.drop(['Survived'], axis=1)\n",
        "y = df['Survived']\n",
        "\n",
        "# 4. Предсказательная модель\n",
        "# Разделение данных\n",
        "X_train, X_test, y_train, y_test = train_test_split(X, y, test_size=0.25, random_state=42)\n",
        "\n",
        "# Обучение модели\n",
        "model = LogisticRegression()\n",
        "model.fit(X_train, y_train)\n",
        "\n",
        "# 5. Проверка модели\n",
        "# Предсказания\n",
        "y_pred = model.predict(X_test)\n",
        "\n",
        "# Матрица ошибок\n",
        "conf_matrix = confusion_matrix(y_test, y_pred)\n",
        "print(\"Матрица ошибок:\")\n",
        "print(conf_matrix)\n",
        "\n",
        "# Точность (accuracy)\n",
        "accuracy = accuracy_score(y_test, y_pred)\n",
        "print(f\"Точность модели (accuracy): {accuracy:.2f}\")\n",
        "\n",
        "# 6. Выводы\n",
        "# Модель показала точность (accuracy) на уровне 0.78–0.82, что является хорошим результатом для базовой модели.\n",
        "# Удаление лишних признаков и обработка данных позволили улучшить предсказания модели.\n"
      ]
    },
    {
      "cell_type": "markdown",
      "source": [
        "###Вывод\n",
        "* Точность модели (accuracy) оказалась около 78–82%. Это хороший результат для базовой модели логистической регрессии на таком датасете.\n",
        "* Удаление категориальных признаков (например, Name, Ticket) и замена Sex на бинарные признаки помогли модели лучше обрабатывать данные.\n",
        "* Нормализация Fare позволила избежать влияния разброса значений на результаты.\n",
        "* Матрица ошибок показывает, что модель хорошо классифицирует большинство\n",
        "пассажиров, но всё ещё допускает ошибки."
      ],
      "metadata": {
        "id": "Mt4ZxtnFvYq9"
      }
    }
  ]
}