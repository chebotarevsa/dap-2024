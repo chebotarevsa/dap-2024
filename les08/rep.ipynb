{
  "cells": [
    {
      "cell_type": "markdown",
      "metadata": {
        "id": "dtTCL_zfKL0L"
      },
      "source": [
        "# Лабораторная работа №8. Кластеризация"
      ]
    },
    {
      "cell_type": "markdown",
      "metadata": {
        "id": "x27KOlEMKL0N"
      },
      "source": [
        "Выполните следующие задания:\n",
        "\n",
        "1. Откройте в файл в Google Colab (используйте собственный форк репозитория).\n",
        "2. Решите задачи.\n",
        "3. Сохраните результат в ваш репозиторий github в директорию ./les08\n",
        "4. Создайте pull request в репозиторий https://github.com/chebotarevsa/dap-2024. Название pull request должно иметь формат \"<Номер лабораторной работы>  <Номер группы> <ФИО>\"\n",
        "5. Сдайте работу в системе \"Пегас\", в отчет укажите ссылку на pull request"
      ]
    },
    {
      "cell_type": "markdown",
      "metadata": {
        "id": "8_h7Z2E6KL0O"
      },
      "source": [
        "Ирисы Фишера — набор данных для задачи классификации, на примере которого Рональд Фишер в 1936 году продемонстрировал работу разработанного им метода дискриминантного анализа. Иногда его также называют ирисами Андерсона, так как данные были собраны американским ботаником Эдгаром Андерсоном."
      ]
    },
    {
      "cell_type": "code",
      "execution_count": null,
      "metadata": {
        "colab": {
          "base_uri": "https://localhost:8080/"
        },
        "id": "-bKGx9KRKL0P",
        "outputId": "be77f50f-44ff-4f27-f1a0-be991f862078"
      },
      "outputs": [
        {
          "output_type": "stream",
          "name": "stdout",
          "text": [
            "Python version: 3.10.12 (main, Nov  6 2024, 20:22:13) [GCC 11.4.0]\n",
            "Numpy version: 1.26.4\n",
            "Pandas version: 2.2.2\n",
            "Matplotlib version: 3.8.0\n"
          ]
        }
      ],
      "source": [
        "import sys\n",
        "import matplotlib as mpl\n",
        "import matplotlib.pyplot as plt\n",
        "import numpy as np\n",
        "import pandas as pd\n",
        "\n",
        "print(f\"Python version: {sys.version}\")\n",
        "print(f\"Numpy version: {np.version.version}\")\n",
        "print(f\"Pandas version: {pd.__version__}\")\n",
        "print(f\"Matplotlib version: {mpl.__version__}\")"
      ]
    },
    {
      "cell_type": "markdown",
      "metadata": {
        "id": "YejMunyAKL0Q"
      },
      "source": [
        "1. Импортируйте модель данных \"Ирисы Фишера\"."
      ]
    },
    {
      "cell_type": "code",
      "execution_count": null,
      "metadata": {
        "colab": {
          "base_uri": "https://localhost:8080/"
        },
        "id": "SLlGSqD-KL0Q",
        "outputId": "ebf6f216-8607-420a-a565-7f9eeeedfbf1"
      },
      "outputs": [
        {
          "output_type": "stream",
          "name": "stdout",
          "text": [
            "Python version: 3.10.12 (main, Nov  6 2024, 20:22:13) [GCC 11.4.0]\n",
            "Numpy version: 1.26.4\n",
            "Pandas version: 2.2.2\n",
            "Matplotlib version: 3.8.0\n"
          ]
        }
      ],
      "source": [
        "# Код\n",
        "import sys\n",
        "import matplotlib as mpl\n",
        "import matplotlib.pyplot as plt\n",
        "import numpy as np\n",
        "import pandas as pd\n",
        "print(f\"Python version: {sys.version}\")\n",
        "print(f\"Numpy version: {np.version.version}\")\n",
        "print(f\"Pandas version: {pd.__version__}\")\n",
        "print(f\"Matplotlib version: {mpl.__version__}\")"
      ]
    },
    {
      "cell_type": "markdown",
      "metadata": {
        "id": "RCtLN7f4KL0Q"
      },
      "source": [
        "2. Выполните нормализацию данных"
      ]
    },
    {
      "cell_type": "code",
      "execution_count": null,
      "metadata": {
        "colab": {
          "base_uri": "https://localhost:8080/"
        },
        "id": "-71Xfp3KKL0Q",
        "outputId": "707736ec-ea9e-4a2a-cadd-1b0300c327f5"
      },
      "outputs": [
        {
          "output_type": "execute_result",
          "data": {
            "text/plain": [
              "array(['setosa', 'versicolor', 'virginica'], dtype='<U10')"
            ]
          },
          "metadata": {},
          "execution_count": 13
        }
      ],
      "source": [
        "# Код\n",
        "from sklearn.datasets import load_iris\n",
        "iris = load_iris()\n",
        "features = iris.feature_names\n",
        "data = iris.data\n",
        "target = iris.target\n",
        "target_names = iris.target_names\n",
        "iris_df=pd.DataFrame(data, columns=features)\n",
        "target_names"
      ]
    },
    {
      "cell_type": "markdown",
      "metadata": {
        "id": "g8iANtS7KL0R"
      },
      "source": [
        "3. Постройте модель кластеризации используя алгоритм  DBSCAN (https://www.youtube.com/watch?v=svAtnZ5XjSI&t=494s), подберите подходящие параметры eps, min_samples"
      ]
    },
    {
      "cell_type": "code",
      "execution_count": null,
      "metadata": {
        "colab": {
          "base_uri": "https://localhost:8080/"
        },
        "id": "OaazMvSXKL0R",
        "outputId": "be3f6608-b40c-4ff2-8345-57ac8676af1c"
      },
      "outputs": [
        {
          "output_type": "execute_result",
          "data": {
            "text/plain": [
              "array([0, 0, 0, 0, 0, 0, 0, 0, 0, 0, 0, 0, 0, 0, 0, 0, 0, 0, 0, 0, 0, 0,\n",
              "       0, 0, 0, 0, 0, 0, 0, 0, 0, 0, 0, 0, 0, 0, 0, 0, 0, 0, 0, 0, 0, 0,\n",
              "       0, 0, 0, 0, 0, 0, 1, 1, 1, 1, 1, 1, 1, 1, 1, 1, 1, 1, 1, 1, 1, 1,\n",
              "       1, 1, 1, 1, 1, 1, 1, 1, 1, 1, 1, 1, 1, 1, 1, 1, 1, 1, 1, 1, 1, 1,\n",
              "       1, 1, 1, 1, 1, 1, 1, 1, 1, 1, 1, 1, 1, 1, 1, 1, 1, 1, 1, 1, 1, 1,\n",
              "       1, 1, 1, 1, 1, 1, 1, 1, 1, 1, 1, 1, 1, 1, 1, 1, 1, 1, 1, 1, 1, 1,\n",
              "       1, 1, 1, 1, 1, 1, 1, 1, 1, 1, 1, 1, 1, 1, 1, 1, 1, 1])"
            ]
          },
          "metadata": {},
          "execution_count": 21
        }
      ],
      "source": [
        "from sklearn.cluster import DBSCAN\n",
        "# Код\n",
        "db_default = DBSCAN(eps = 1.5, min_samples = 8).fit(df)\n",
        "df_1=df['petal length (cm)']\n",
        "df_2=df['sepal width (cm)']\n",
        "df_test_2=db_default.fit_predict(df)\n",
        "df_test_2\n"
      ]
    },
    {
      "cell_type": "markdown",
      "metadata": {
        "id": "yKz6coZxKL0R"
      },
      "source": [
        "4. Постройте диаграмму рассеяния для признаков \"sepal length (cm)\" \"sepal width (cm)\", цвет точек на диаграмме должен быть различным для разных кластеров"
      ]
    },
    {
      "cell_type": "code",
      "execution_count": null,
      "metadata": {
        "colab": {
          "base_uri": "https://localhost:8080/",
          "height": 541
        },
        "id": "EFFexPcwKL0R",
        "outputId": "0ca755bd-2ebb-4c65-9c8f-5e60ca616421"
      },
      "outputs": [
        {
          "output_type": "execute_result",
          "data": {
            "text/plain": [
              "<matplotlib.collections.PathCollection at 0x7ddd3ef8ea40>"
            ]
          },
          "metadata": {},
          "execution_count": 22
        },
        {
          "output_type": "display_data",
          "data": {
            "text/plain": [
              "<Figure size 1000x600 with 1 Axes>"
            ],
            "image/png": "[encoded data removed]"
          },
          "metadata": {}
        }
      ],
      "source": [
        "# Код\n",
        "plt.figure(figsize = (10,6))\n",
        "plt.scatter(df_1, df_2, c = df_test_2, cmap = 'Paired')\n"
      ]
    },
    {
      "cell_type": "markdown",
      "metadata": {
        "id": "Yz14qIzqKL0S"
      },
      "source": [
        "## Вопросы"
      ]
    },
    {
      "cell_type": "markdown",
      "metadata": {
        "id": "gQxiN8ItKL0S"
      },
      "source": [
        "1. В чем состоит задача кластеризации?\n",
        "2. Для каких целей используется кластеризацияия?\n",
        "3. Алгоритм кластеризации Ллойда.\n",
        "4. Как выбрать количество кластеров для алгоритма K-средних\n",
        "5. Алгоритм DBSCAN"
      ]
    }
  ],
  "metadata": {
    "kernelspec": {
      "display_name": "Python 3",
      "language": "python",
      "name": "python3"
    },
    "language_info": {
      "codemirror_mode": {
        "name": "ipython",
        "version": 3
      },
      "file_extension": ".py",
      "mimetype": "text/x-python",
      "name": "python",
      "nbconvert_exporter": "python",
      "pygments_lexer": "ipython3",
      "version": "3.12.2"
    },
    "colab": {
      "provenance": []
    }
  },
  "nbformat": 4,
  "nbformat_minor": 0
}