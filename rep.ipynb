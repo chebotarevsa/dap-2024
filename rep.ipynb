{
  "nbformat": 4,
  "nbformat_minor": 0,
  "metadata": {
    "colab": {
      "provenance": [],
      "authorship_tag": "ABX9TyNXFS/9avEC6oImG5idT+M1",
      "include_colab_link": true
    },
    "kernelspec": {
      "name": "python3",
      "display_name": "Python 3"
    },
    "language_info": {
      "name": "python"
    }
  },
  "cells": [
    {
      "cell_type": "markdown",
      "metadata": {
        "id": "view-in-github",
        "colab_type": "text"
      },
      "source": [
        "<a href=\"https://colab.research.google.com/github/cherkashin-py/dap-2024/blob/main/rep.ipynb\" target=\"_parent\"><img src=\"https://colab.research.google.com/assets/colab-badge.svg\" alt=\"Open In Colab\"/></a>"
      ]
    },
    {
      "cell_type": "markdown",
      "source": [
        "# **Лабораторная работа №7. Классификация**"
      ],
      "metadata": {
        "id": "DyyCaEBj3RWu"
      }
    },
    {
      "cell_type": "markdown",
      "source": [
        "**Задача 1. Создайте DataFrame из файла titanic.csv, в качестве индекса используйте столбец \"PassengerId\".**"
      ],
      "metadata": {
        "id": "UjqEhAFcBlag"
      }
    },
    {
      "cell_type": "code",
      "execution_count": null,
      "metadata": {
        "colab": {
          "base_uri": "https://localhost:8080/"
        },
        "id": "glRBb1056KLa",
        "outputId": "55e277a5-b5e4-45d9-9594-ebad5b5ebf5c"
      },
      "outputs": [
        {
          "output_type": "stream",
          "name": "stdout",
          "text": [
            "Загруженный набор данных (первые 5 строк):\n",
            "             Survived  Pclass  \\\n",
            "PassengerId                     \n",
            "1                   0       3   \n",
            "2                   1       1   \n",
            "3                   1       3   \n",
            "4                   1       1   \n",
            "5                   0       3   \n",
            "\n",
            "                                                          Name     Sex   Age  \\\n",
            "PassengerId                                                                    \n",
            "1                                      Braund, Mr. Owen Harris    male  22.0   \n",
            "2            Cumings, Mrs. John Bradley (Florence Briggs Th...  female  38.0   \n",
            "3                                       Heikkinen, Miss. Laina  female  26.0   \n",
            "4                 Futrelle, Mrs. Jacques Heath (Lily May Peel)  female  35.0   \n",
            "5                                     Allen, Mr. William Henry    male  35.0   \n",
            "\n",
            "             SibSp  Parch            Ticket     Fare Cabin Embarked  \n",
            "PassengerId                                                          \n",
            "1                1      0         A/5 21171   7.2500   NaN        S  \n",
            "2                1      0          PC 17599  71.2833   C85        C  \n",
            "3                0      0  STON/O2. 3101282   7.9250   NaN        S  \n",
            "4                1      0            113803  53.1000  C123        S  \n",
            "5                0      0            373450   8.0500   NaN        S  \n"
          ]
        }
      ],
      "source": [
        "import pandas as pd\n",
        "\n",
        "# Чтение данных из файла\n",
        "data = pd.read_csv('titanic.csv', index_col='PassengerId')\n",
        "\n",
        "# Вывод первых строк для проверки\n",
        "print(\"Загруженный набор данных (первые 5 строк):\")\n",
        "print(data.head())\n"
      ]
    },
    {
      "cell_type": "markdown",
      "source": [
        "**Задача 2. Выведите первые 7 строк набора данных.**"
      ],
      "metadata": {
        "id": "PEC2B1UsBqqn"
      }
    },
    {
      "cell_type": "code",
      "source": [
        "import pandas as pd\n",
        "\n",
        "# Чтение данных из файла\n",
        "data = pd.read_csv('titanic.csv', index_col='PassengerId')\n",
        "\n",
        "# Вывод первых 7 строк\n",
        "print(\"Первые 7 строк набора данных:\")\n",
        "print(data.head(7))\n"
      ],
      "metadata": {
        "colab": {
          "base_uri": "https://localhost:8080/"
        },
        "id": "6HJMwSK861L8",
        "outputId": "79f532a5-831d-480e-c964-15a18869a5f0"
      },
      "execution_count": null,
      "outputs": [
        {
          "output_type": "stream",
          "name": "stdout",
          "text": [
            "Первые 7 строк набора данных:\n",
            "             Survived  Pclass  \\\n",
            "PassengerId                     \n",
            "1                   0       3   \n",
            "2                   1       1   \n",
            "3                   1       3   \n",
            "4                   1       1   \n",
            "5                   0       3   \n",
            "6                   0       3   \n",
            "7                   0       1   \n",
            "\n",
            "                                                          Name     Sex   Age  \\\n",
            "PassengerId                                                                    \n",
            "1                                      Braund, Mr. Owen Harris    male  22.0   \n",
            "2            Cumings, Mrs. John Bradley (Florence Briggs Th...  female  38.0   \n",
            "3                                       Heikkinen, Miss. Laina  female  26.0   \n",
            "4                 Futrelle, Mrs. Jacques Heath (Lily May Peel)  female  35.0   \n",
            "5                                     Allen, Mr. William Henry    male  35.0   \n",
            "6                                             Moran, Mr. James    male   NaN   \n",
            "7                                      McCarthy, Mr. Timothy J    male  54.0   \n",
            "\n",
            "             SibSp  Parch            Ticket     Fare Cabin Embarked  \n",
            "PassengerId                                                          \n",
            "1                1      0         A/5 21171   7.2500   NaN        S  \n",
            "2                1      0          PC 17599  71.2833   C85        C  \n",
            "3                0      0  STON/O2. 3101282   7.9250   NaN        S  \n",
            "4                1      0            113803  53.1000  C123        S  \n",
            "5                0      0            373450   8.0500   NaN        S  \n",
            "6                0      0            330877   8.4583   NaN        Q  \n",
            "7                0      0             17463  51.8625   E46        S  \n"
          ]
        }
      ]
    },
    {
      "cell_type": "markdown",
      "source": [
        "**Задача 3. Выведите информацию о типах данных и проверьте на наличие не числовых признаков и null-значений.**"
      ],
      "metadata": {
        "id": "RueKIfsVBujP"
      }
    },
    {
      "cell_type": "code",
      "source": [
        "# Задача 3: Выведите информацию о типах данных и проверьте на наличие не числовых признаков и null-значений.\n",
        "import pandas as pd\n",
        "\n",
        "# Чтение данных из файла\n",
        "data = pd.read_csv('titanic.csv', index_col='PassengerId')\n",
        "\n",
        "# Вывод информации о наборе данных\n",
        "print(\"Информация о наборе данных:\")\n",
        "print(data.info())\n",
        "\n",
        "# Поиск не числовых признаков\n",
        "non_numeric_cols = data.select_dtypes(include=['object']).columns\n",
        "print(f\"\\nНе числовые признаки: {non_numeric_cols.tolist()}\")\n",
        "\n",
        "# Проверка на null-значения\n",
        "print(f\"Null-значения в столбцах:\\n{data.isnull().sum()}\")\n"
      ],
      "metadata": {
        "colab": {
          "base_uri": "https://localhost:8080/"
        },
        "id": "8yC16sSq6-_e",
        "outputId": "73a37910-f4fe-4cc4-f9ad-a33ed4c165cf"
      },
      "execution_count": null,
      "outputs": [
        {
          "output_type": "stream",
          "name": "stdout",
          "text": [
            "Информация о наборе данных:\n",
            "<class 'pandas.core.frame.DataFrame'>\n",
            "Index: 891 entries, 1 to 891\n",
            "Data columns (total 11 columns):\n",
            " #   Column    Non-Null Count  Dtype  \n",
            "---  ------    --------------  -----  \n",
            " 0   Survived  891 non-null    int64  \n",
            " 1   Pclass    891 non-null    int64  \n",
            " 2   Name      891 non-null    object \n",
            " 3   Sex       891 non-null    object \n",
            " 4   Age       714 non-null    float64\n",
            " 5   SibSp     891 non-null    int64  \n",
            " 6   Parch     891 non-null    int64  \n",
            " 7   Ticket    891 non-null    object \n",
            " 8   Fare      891 non-null    float64\n",
            " 9   Cabin     204 non-null    object \n",
            " 10  Embarked  889 non-null    object \n",
            "dtypes: float64(2), int64(4), object(5)\n",
            "memory usage: 83.5+ KB\n",
            "None\n",
            "\n",
            "Не числовые признаки: ['Name', 'Sex', 'Ticket', 'Cabin', 'Embarked']\n",
            "Null-значения в столбцах:\n",
            "Survived      0\n",
            "Pclass        0\n",
            "Name          0\n",
            "Sex           0\n",
            "Age         177\n",
            "SibSp         0\n",
            "Parch         0\n",
            "Ticket        0\n",
            "Fare          0\n",
            "Cabin       687\n",
            "Embarked      2\n",
            "dtype: int64\n"
          ]
        }
      ]
    },
    {
      "cell_type": "markdown",
      "source": [
        "**Задача 4. Удалите не числовые признаки, которые не влияют на выживаемость.**"
      ],
      "metadata": {
        "id": "wkwrvMJDB1gg"
      }
    },
    {
      "cell_type": "code",
      "source": [
        "import pandas as pd\n",
        "\n",
        "# Чтение данных из файла\n",
        "data = pd.read_csv('titanic.csv', index_col='PassengerId')\n",
        "\n",
        "# Удаление ненужных признаков\n",
        "data = data.drop(columns=['Name', 'Ticket', 'Cabin'])\n",
        "\n",
        "# Вывод первых строк для проверки\n",
        "print(\"Данные после удаления ненужных признаков (первые 5 строк):\")\n",
        "print(data.head())\n"
      ],
      "metadata": {
        "colab": {
          "base_uri": "https://localhost:8080/"
        },
        "id": "JIni6Qxf7HaS",
        "outputId": "4a000ab8-e008-499b-ccd6-a04f9881ec96"
      },
      "execution_count": null,
      "outputs": [
        {
          "output_type": "stream",
          "name": "stdout",
          "text": [
            "Данные после удаления ненужных признаков (первые 5 строк):\n",
            "             Survived  Pclass     Sex   Age  SibSp  Parch     Fare Embarked\n",
            "PassengerId                                                                \n",
            "1                   0       3    male  22.0      1      0   7.2500        S\n",
            "2                   1       1  female  38.0      1      0  71.2833        C\n",
            "3                   1       3  female  26.0      0      0   7.9250        S\n",
            "4                   1       1  female  35.0      1      0  53.1000        S\n",
            "5                   0       3    male  35.0      0      0   8.0500        S\n"
          ]
        }
      ]
    },
    {
      "cell_type": "markdown",
      "source": [
        "**Задача 5. Преобразуйте признак \"Sex\" в бинарные признаки \"male\" и \"female\".**"
      ],
      "metadata": {
        "id": "vEm_tsbHB55H"
      }
    },
    {
      "cell_type": "code",
      "source": [
        "import pandas as pd\n",
        "\n",
        "# Чтение данных из файла\n",
        "data = pd.read_csv('titanic.csv', index_col='PassengerId')\n",
        "\n",
        "# Преобразование признака \"Sex\" в бинарные\n",
        "data['male'] = (data['Sex'] == 'male').astype(int)\n",
        "data['female'] = (data['Sex'] == 'female').astype(int)\n",
        "\n",
        "# Удаление старого признака \"Sex\"\n",
        "data = data.drop(columns=['Sex'])\n",
        "\n",
        "# Вывод первых строк для проверки\n",
        "print(\"Данные после преобразования признака 'Sex':\")\n",
        "print(data.head())\n"
      ],
      "metadata": {
        "colab": {
          "base_uri": "https://localhost:8080/"
        },
        "id": "JOzKYhuE7XHK",
        "outputId": "0dad1da8-f114-46f3-81ef-b39294ecb3bd"
      },
      "execution_count": null,
      "outputs": [
        {
          "output_type": "stream",
          "name": "stdout",
          "text": [
            "Данные после преобразования признака 'Sex':\n",
            "             Survived  Pclass  \\\n",
            "PassengerId                     \n",
            "1                   0       3   \n",
            "2                   1       1   \n",
            "3                   1       3   \n",
            "4                   1       1   \n",
            "5                   0       3   \n",
            "\n",
            "                                                          Name   Age  SibSp  \\\n",
            "PassengerId                                                                   \n",
            "1                                      Braund, Mr. Owen Harris  22.0      1   \n",
            "2            Cumings, Mrs. John Bradley (Florence Briggs Th...  38.0      1   \n",
            "3                                       Heikkinen, Miss. Laina  26.0      0   \n",
            "4                 Futrelle, Mrs. Jacques Heath (Lily May Peel)  35.0      1   \n",
            "5                                     Allen, Mr. William Henry  35.0      0   \n",
            "\n",
            "             Parch            Ticket     Fare Cabin Embarked  male  female  \n",
            "PassengerId                                                                 \n",
            "1                0         A/5 21171   7.2500   NaN        S     1       0  \n",
            "2                0          PC 17599  71.2833   C85        C     0       1  \n",
            "3                0  STON/O2. 3101282   7.9250   NaN        S     0       1  \n",
            "4                0            113803  53.1000  C123        S     0       1  \n",
            "5                0            373450   8.0500   NaN        S     1       0  \n"
          ]
        }
      ]
    },
    {
      "cell_type": "markdown",
      "source": [
        "**Задача 6. Удалите строки, содержащие хотя бы одно null-значение.**"
      ],
      "metadata": {
        "id": "OsXK9adYB_CB"
      }
    },
    {
      "cell_type": "code",
      "source": [
        "import pandas as pd\n",
        "\n",
        "# Чтение данных из файла\n",
        "data = pd.read_csv('titanic.csv', index_col='PassengerId')\n",
        "\n",
        "# Удаление строк с null-значениями\n",
        "data = data.dropna()\n",
        "\n",
        "# Вывод первых строк для проверки\n",
        "print(\"Данные после удаления строк с null-значениями (первые 5 строк):\")\n",
        "print(data.head())\n"
      ],
      "metadata": {
        "colab": {
          "base_uri": "https://localhost:8080/"
        },
        "id": "pwKywxFF7cjo",
        "outputId": "e9068a4e-2098-4b2b-8df0-92987613b6ac"
      },
      "execution_count": null,
      "outputs": [
        {
          "output_type": "stream",
          "name": "stdout",
          "text": [
            "Данные после удаления строк с null-значениями (первые 5 строк):\n",
            "             Survived  Pclass  \\\n",
            "PassengerId                     \n",
            "2                   1       1   \n",
            "4                   1       1   \n",
            "7                   0       1   \n",
            "11                  1       3   \n",
            "12                  1       1   \n",
            "\n",
            "                                                          Name     Sex   Age  \\\n",
            "PassengerId                                                                    \n",
            "2            Cumings, Mrs. John Bradley (Florence Briggs Th...  female  38.0   \n",
            "4                 Futrelle, Mrs. Jacques Heath (Lily May Peel)  female  35.0   \n",
            "7                                      McCarthy, Mr. Timothy J    male  54.0   \n",
            "11                             Sandstrom, Miss. Marguerite Rut  female   4.0   \n",
            "12                                    Bonnell, Miss. Elizabeth  female  58.0   \n",
            "\n",
            "             SibSp  Parch    Ticket     Fare Cabin Embarked  \n",
            "PassengerId                                                  \n",
            "2                1      0  PC 17599  71.2833   C85        C  \n",
            "4                1      0    113803  53.1000  C123        S  \n",
            "7                0      0     17463  51.8625   E46        S  \n",
            "11               1      1   PP 9549  16.7000    G6        S  \n",
            "12               0      0    113783  26.5500  C103        S  \n"
          ]
        }
      ]
    },
    {
      "cell_type": "markdown",
      "source": [
        "**Задача 7. Нормализуйте значения признака \"Fare\".**"
      ],
      "metadata": {
        "id": "zqnFu487CEXy"
      }
    },
    {
      "cell_type": "code",
      "source": [
        "import pandas as pd\n",
        "\n",
        "# Загружаем данные\n",
        "data = pd.read_csv('titanic.csv', index_col='PassengerId')\n",
        "\n",
        "# Нормализация признака \"Fare\"\n",
        "data['Fare'] = (data['Fare'] - data['Fare'].mean()) / data['Fare'].std()\n",
        "print(\"\\nНормализованные значения 'Fare' (первые 7 строк):\")\n",
        "print(data['Fare'].head(7))\n"
      ],
      "metadata": {
        "colab": {
          "base_uri": "https://localhost:8080/"
        },
        "id": "Z_xekGoT8dpe",
        "outputId": "a3dcf065-a872-4745-8780-c05e087e64f1"
      },
      "execution_count": null,
      "outputs": [
        {
          "output_type": "stream",
          "name": "stdout",
          "text": [
            "\n",
            "Нормализованные значения 'Fare' (первые 7 строк):\n",
            "PassengerId\n",
            "1   -0.502163\n",
            "2    0.786404\n",
            "3   -0.488580\n",
            "4    0.420494\n",
            "5   -0.486064\n",
            "6   -0.477848\n",
            "7    0.395591\n",
            "Name: Fare, dtype: float64\n"
          ]
        }
      ]
    },
    {
      "cell_type": "markdown",
      "source": [
        "**Задача 8. Найдите разницу между средними значениями признака \"Fare\" для погибших и выживших пассажиров.**"
      ],
      "metadata": {
        "id": "9jQME4lkCN-Q"
      }
    },
    {
      "cell_type": "code",
      "source": [
        "import pandas as pd\n",
        "\n",
        "# Загружаем данные\n",
        "data = pd.read_csv('titanic.csv', index_col='PassengerId')\n",
        "\n",
        "# Вычисление разницы между средними значениями\n",
        "mean_fare_survived = data[data['Survived'] == 1]['Fare'].mean()\n",
        "mean_fare_not_survived = data[data['Survived'] == 0]['Fare'].mean()\n",
        "print(f\"\\nСредний 'Fare' (выжившие): {mean_fare_survived}\")\n",
        "print(f\"Средний 'Fare' (не выжившие): {mean_fare_not_survived}\")\n",
        "print(f\"Разница: {mean_fare_survived - mean_fare_not_survived}\")\n"
      ],
      "metadata": {
        "colab": {
          "base_uri": "https://localhost:8080/"
        },
        "id": "ZkCl9MtJ8h4s",
        "outputId": "776afb17-d327-4f9b-b5fb-99d12e0fad5a"
      },
      "execution_count": null,
      "outputs": [
        {
          "output_type": "stream",
          "name": "stdout",
          "text": [
            "\n",
            "Средний 'Fare' (выжившие): 48.39540760233918\n",
            "Средний 'Fare' (не выжившие): 22.117886885245902\n",
            "Разница: 26.27752071709328\n"
          ]
        }
      ]
    },
    {
      "cell_type": "markdown",
      "source": [
        "**Задача 9. Простройте на одной оси координат гистограмы значений признака \"Fare\" для погибших и выживших пассажиров.**"
      ],
      "metadata": {
        "id": "eSBCEw0MCVkF"
      }
    },
    {
      "cell_type": "code",
      "source": [
        "import pandas as pd\n",
        "import matplotlib.pyplot as plt\n",
        "\n",
        "# Загружаем данные\n",
        "data = pd.read_csv('titanic.csv', index_col='PassengerId')\n",
        "\n",
        "# Построение гистограмм\n",
        "survived_fare = data[data['Survived'] == 1]['Fare']\n",
        "not_survived_fare = data[data['Survived'] == 0]['Fare']\n",
        "\n",
        "plt.hist(survived_fare, bins=20, alpha=0.5, label='Выжившие', color='green')\n",
        "plt.hist(not_survived_fare, bins=20, alpha=0.5, label='Не выжившие', color='red')\n",
        "plt.xlabel('Fare')\n",
        "plt.ylabel('Частота')\n",
        "plt.legend()\n",
        "plt.title('Гистограммы Fare: Выжившие vs Не выжившие')\n",
        "plt.show()\n"
      ],
      "metadata": {
        "colab": {
          "base_uri": "https://localhost:8080/",
          "height": 472
        },
        "id": "mL3rnPUZ8lP6",
        "outputId": "1ce14298-a42b-4d88-f5c7-91fe5ae3c9c5"
      },
      "execution_count": null,
      "outputs": [
        {
          "output_type": "display_data",
          "data": {
            "text/plain": [
              "<Figure size 640x480 with 1 Axes>"
            ],
            "image/png": "[encoded data removed]"
          },
          "metadata": {}
        }
      ]
    },
    {
      "cell_type": "markdown",
      "source": [
        "**Задача 10. Сформируйте набор признаков (X). Сформируйте вектор целевых значений (y).**"
      ],
      "metadata": {
        "id": "6TsTS3o_Ca0N"
      }
    },
    {
      "cell_type": "code",
      "source": [
        "import pandas as pd\n",
        "\n",
        "# Загружаем данные\n",
        "data = pd.read_csv('titanic.csv', index_col='PassengerId')\n",
        "\n",
        "# Формирование X и y\n",
        "X = data.drop(columns=['Survived'])\n",
        "y = data['Survived']\n",
        "print(\"\\nМатрица признаков (X) и вектор целей (y) сформированы.\")\n",
        "print(f\"Размерность X: {X.shape}, Размерность y: {y.shape}\")\n"
      ],
      "metadata": {
        "colab": {
          "base_uri": "https://localhost:8080/"
        },
        "id": "y5OFV5uN8pqJ",
        "outputId": "5f5b0e41-1985-43e5-ac34-711f39397dac"
      },
      "execution_count": null,
      "outputs": [
        {
          "output_type": "stream",
          "name": "stdout",
          "text": [
            "\n",
            "Матрица признаков (X) и вектор целей (y) сформированы.\n",
            "Размерность X: (891, 10), Размерность y: (891,)\n"
          ]
        }
      ]
    },
    {
      "cell_type": "markdown",
      "source": [
        "**Задача 11. Разделите набор данных на два, одни для обучения модели другой для проверки. Тестовый набор должен содержать 25 процентов данных.**"
      ],
      "metadata": {
        "id": "LK3uEK7OCiy9"
      }
    },
    {
      "cell_type": "code",
      "source": [
        "import pandas as pd\n",
        "import sklearn\n",
        "\n",
        "data = pd.read_csv('titanic.csv', index_col='PassengerId')\n",
        "\n",
        "# Формирование признаков X и целевого значения y\n",
        "X = data.drop(columns=['Survived'])\n",
        "y = data['Survived']\n",
        "\n",
        "# Разделение на обучающий и тестовый наборы\n",
        "X_train, X_test, y_train, y_test = sklearn.model_selection.train_test_split(X, y, test_size=0.25, random_state=42)\n",
        "\n",
        "# Вывод размеров наборов\n",
        "print(f\"Размер обучающей выборки: {X_train.shape}\")\n",
        "print(f\"Размер тестовой выборки: {X_test.shape}\")\n"
      ],
      "metadata": {
        "colab": {
          "base_uri": "https://localhost:8080/"
        },
        "id": "3avrOaFw8sc0",
        "outputId": "faeb9b7b-82e5-475d-b987-d36c42884a3c"
      },
      "execution_count": null,
      "outputs": [
        {
          "output_type": "stream",
          "name": "stdout",
          "text": [
            "Размер обучающей выборки: (668, 10)\n",
            "Размер тестовой выборки: (223, 10)\n"
          ]
        }
      ]
    },
    {
      "cell_type": "markdown",
      "source": [
        "**Задача 12. Выполните обучение модели.**"
      ],
      "metadata": {
        "id": "4m3auh-xCr7e"
      }
    },
    {
      "cell_type": "code",
      "source": [
        "import pandas\n",
        "import sklearn\n",
        "\n",
        "# Загрузка данных\n",
        "data = pandas.read_csv('titanic.csv', index_col='PassengerId')\n",
        "\n",
        "# Удаление ненужных признаков\n",
        "data = data.drop(columns=['Name', 'Ticket', 'Cabin'])\n",
        "\n",
        "# Преобразование категориальных признаков\n",
        "data = pandas.get_dummies(data, columns=['Sex', 'Embarked'], drop_first=True)\n",
        "\n",
        "# Заполнение пропущенных значений\n",
        "data = data.fillna(data.mean())\n",
        "\n",
        "# Формирование признаков X и целевого значения y\n",
        "X = data.drop(columns=['Survived'])\n",
        "y = data['Survived']\n",
        "\n",
        "# Разделение на обучающий и тестовый наборы\n",
        "X_train, X_test, y_train, y_test = sklearn.model_selection.train_test_split(X, y, test_size=0.25, random_state=42)\n",
        "\n",
        "# Создание и обучение модели\n",
        "model = sklearn.linear_model.LogisticRegression(max_iter=200)\n",
        "model.fit(X_train, y_train)\n",
        "\n",
        "# Вывод коэффициентов модели\n",
        "print(\"Коэффициенты модели:\")\n",
        "print(pandas.DataFrame(model.coef_, columns=X_train.columns))\n"
      ],
      "metadata": {
        "colab": {
          "base_uri": "https://localhost:8080/"
        },
        "id": "LciVYu8O8wmF",
        "outputId": "50efc339-5380-4dfc-f98c-d532b830d49a"
      },
      "execution_count": null,
      "outputs": [
        {
          "output_type": "stream",
          "name": "stdout",
          "text": [
            "Коэффициенты модели:\n",
            "    Pclass       Age     SibSp     Parch      Fare  Sex_male  Embarked_Q  \\\n",
            "0 -0.93658 -0.033682 -0.267778 -0.119613  0.003393 -2.553328   -0.113763   \n",
            "\n",
            "   Embarked_S  \n",
            "0   -0.438764  \n"
          ]
        }
      ]
    },
    {
      "cell_type": "markdown",
      "source": [
        "**Задача 13. Выведите мартицу ошибок**"
      ],
      "metadata": {
        "id": "L-uKEEADDVP4"
      }
    },
    {
      "cell_type": "code",
      "source": [
        "import pandas\n",
        "import sklearn\n",
        "\n",
        "# Загрузка данных\n",
        "data = pandas.read_csv('titanic.csv', index_col='PassengerId')\n",
        "\n",
        "# Удаление нечисловых признаков\n",
        "data = data.drop(columns=['Name', 'Ticket', 'Cabin', 'Embarked'])\n",
        "\n",
        "# Преобразование признака \"Sex\" в числовой\n",
        "data['Sex'] = data['Sex'].map({'male': 1, 'female': 0})\n",
        "\n",
        "# Удаление строк с пропущенными значениями\n",
        "data = data.dropna()\n",
        "\n",
        "# Формирование признаков X и целевого значения y\n",
        "X = data.drop(columns=['Survived'])\n",
        "y = data['Survived']\n",
        "\n",
        "# Разделение на обучающий и тестовый наборы\n",
        "X_train, X_test, y_train, y_test = sklearn.model_selection.train_test_split(X, y, test_size=0.25, random_state=42)\n",
        "\n",
        "# Создание и обучение модели\n",
        "model = sklearn.linear_model.LogisticRegression(max_iter=200)\n",
        "model.fit(X_train, y_train)\n",
        "\n",
        "# Предсказания модели\n",
        "y_pred = model.predict(X_test)\n",
        "\n",
        "# Вычисление матрицы ошибок\n",
        "conf_matrix = sklearn.metrics.confusion_matrix(y_test, y_pred)\n",
        "\n",
        "# Преобразование в DataFrame для удобного отображения\n",
        "conf_matrix_df = pandas.DataFrame(conf_matrix, columns=['Predicted 0', 'Predicted 1'], index=['Actual 0', 'Actual 1'])\n",
        "\n",
        "# Вывод матрицы ошибок\n",
        "print(\"Матрица ошибок:\")\n",
        "print(conf_matrix_df)\n"
      ],
      "metadata": {
        "colab": {
          "base_uri": "https://localhost:8080/"
        },
        "id": "wnPUKVGd82LJ",
        "outputId": "33b22bf8-1ad6-4963-869a-76017b295902"
      },
      "execution_count": null,
      "outputs": [
        {
          "output_type": "stream",
          "name": "stdout",
          "text": [
            "Матрица ошибок:\n",
            "          Predicted 0  Predicted 1\n",
            "Actual 0           91           16\n",
            "Actual 1           25           47\n"
          ]
        }
      ]
    },
    {
      "cell_type": "markdown",
      "source": [
        "**Задача 14. Расчитайте accuracy**"
      ],
      "metadata": {
        "id": "0VsNBfgvDkAJ"
      }
    },
    {
      "cell_type": "code",
      "source": [
        "import pandas\n",
        "import sklearn\n",
        "\n",
        "# Загрузка данных\n",
        "data = pandas.read_csv('titanic.csv', index_col='PassengerId')\n",
        "\n",
        "# Удаление текстовых столбцов\n",
        "data = data.drop(columns=['Name', 'Ticket', 'Cabin', 'Embarked'])\n",
        "\n",
        "# Преобразование признака \"Sex\" в числовой\n",
        "data['Sex'] = data['Sex'].map({'male': 1, 'female': 0})\n",
        "\n",
        "# Удаление строк с пропущенными значениями\n",
        "data = data.dropna()\n",
        "\n",
        "# Формирование признаков X и целевого значения y\n",
        "X = data.drop(columns=['Survived'])\n",
        "y = data['Survived']\n",
        "\n",
        "# Разделение на обучающий и тестовый наборы\n",
        "X_train, X_test, y_train, y_test = sklearn.model_selection.train_test_split(X, y, test_size=0.25, random_state=42)\n",
        "\n",
        "# Создание и обучение модели\n",
        "model = sklearn.linear_model.LogisticRegression(max_iter=200)\n",
        "model.fit(X_train, y_train)\n",
        "\n",
        "# Предсказания модели\n",
        "y_pred = model.predict(X_test)\n",
        "\n",
        "# Вычисление точности\n",
        "accuracy = sklearn.metrics.accuracy_score(y_test, y_pred)\n",
        "\n",
        "# Вывод точности\n",
        "print(f\"Точность модели (accuracy): {accuracy:.2f}\")\n"
      ],
      "metadata": {
        "colab": {
          "base_uri": "https://localhost:8080/"
        },
        "id": "EnijSJ5Y88jH",
        "outputId": "daa93368-b557-47d0-f39f-fc411cddde30"
      },
      "execution_count": null,
      "outputs": [
        {
          "output_type": "stream",
          "name": "stdout",
          "text": [
            "Точность модели (accuracy): 0.77\n"
          ]
        }
      ]
    },
    {
      "cell_type": "markdown",
      "source": [
        "**Вывод: После обучения модели логистической регрессии и её проверки на тестовых данных была получена точность (accuracy), равная 0.77, что указывает на среднюю точность. Модель справляется с задачей, но качество предсказаний можно улучшить.**"
      ],
      "metadata": {
        "id": "MsNHzFZ0F92d"
      }
    }
  ]
}