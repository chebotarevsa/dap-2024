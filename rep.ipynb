{
  "nbformat": 4,
  "nbformat_minor": 0,
  "metadata": {
    "colab": {
      "provenance": [],
      "authorship_tag": "ABX9TyPvbVMcI9uui/jvm3BfT8Xw",
      "include_colab_link": true
    },
    "kernelspec": {
      "name": "python3",
      "display_name": "Python 3"
    },
    "language_info": {
      "name": "python"
    }
  },
  "cells": [
    {
      "cell_type": "markdown",
      "metadata": {
        "id": "view-in-github",
        "colab_type": "text"
      },
      "source": [
        "<a href=\"https://colab.research.google.com/github/suuizee/dap-2024/blob/main/rep.ipynb\" target=\"_parent\"><img src=\"https://colab.research.google.com/assets/colab-badge.svg\" alt=\"Open In Colab\"/></a>"
      ]
    },
    {
      "cell_type": "code",
      "execution_count": null,
      "metadata": {
        "id": "7RVt20BfDdr9"
      },
      "outputs": [],
      "source": [
        "{{\n",
        "  \"nbformat\": 4,\n",
        "  \"nbformat_minor\": 0,\n",
        "  \"metadata\": {\n",
        "    \"colab\": {\n",
        "      \"provenance\": [],\n",
        "      \"authorship_tag\": \"ABX9TyPBzj5oE9I5eR8BHh9/Jj78\",\n",
        "      \"include_colab_link\": true\n",
        "    },\n",
        "    \"kernelspec\": {\n",
        "      \"name\": \"python3\",\n",
        "      \"display_name\": \"Python 3\"\n",
        "    },\n",
        "    \"language_info\": {\n",
        "      \"name\": \"python\"\n",
        "    }\n",
        "  },\n",
        "  \"cells\": [\n",
        "    {\n",
        "      \"cell_type\": \"markdown\",\n",
        "      \"metadata\": {\n",
        "        \"id\": \"view-in-github\",\n",
        "        \"colab_type\": \"text\"\n",
        "      },\n",
        "      \"source\": [\n",
        "        \"<a href=\\\"https://colab.research.google.com/github/un4va1lablxx/DAwP-2024/blob/main/rep.ipynb\\\" target=\\\"_parent\\\"><img src=\\\"https://colab.research.google.com/assets/colab-badge.svg\\\" alt=\\\"Open In Colab\\\"/></a>\"\n",
        "      ]\n",
        "    },\n",
        "    {\n",
        "      \"cell_type\": \"markdown\",\n",
        "      \"source\": [\n",
        "        \"## Отчет о выполнении лабораторной работы 1\\n\",\n",
        "        \"\\n\",\n",
        "        \"### Ход работы\\n\",\n",
        "        \"\\n\",\n",
        "        \"1. Создана учетная запись на сервисе [GitHub](https://github.com).\\n\",\n",
        "        \"2. Выполнен [форк репозитория](https://github.com/suuizee/dap-2024).\\n\",\n",
        "        \"3. Создана учетная запись в [Google Collab](https://colab.research.google.com/).\\n\",\n",
        "        \"4. Настроена интеграция с Google Collab.\\n\",\n",
        "        \"5. С помощью Markdown-разметки выполнен отчет в Google Collab.\\n\",\n",
        "        \"6. Присвоив отчету название ***rep.ipynb***, отчет был сохранен в репозиторий GitHub по директории ***./les01***.\\n\",\n",
        "        \"7. Создан pull-request в репозиторий [преподавателя](https://github.com/chebotarevsa/dap-2024) в формате: _<Номер лабораторной работы> <Номер группы> <ФИО>_.\\n\",\n",
        "        \"8. Создан отчет в системе [Пегас](https://pegas.bsuedu.ru/mod/assign/view.php?id=1730202).\"\n",
        "      ],\n",
        "      \"metadata\": {\n",
        "        \"id\": \"Xz7jdJCishp9\"\n",
        "      }\n",
        "    }\n",
        "  ]\n",
        "}"
      ]
    }
  ]
}