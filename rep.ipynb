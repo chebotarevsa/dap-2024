{
  "nbformat": 4,
  "nbformat_minor": 0,
  "metadata": {
    "colab": {
      "provenance": [],
      "authorship_tag": "ABX9TyPxBdTqykUhZxas3NyPkcWb",
      "include_colab_link": true
    },
    "kernelspec": {
      "name": "python3",
      "display_name": "Python 3"
    },
    "language_info": {
      "name": "python"
    }
  },
  "cells": [
    {
      "cell_type": "markdown",
      "metadata": {
        "id": "view-in-github",
        "colab_type": "text"
      },
      "source": [
        "<a href=\"https://colab.research.google.com/github/cherkashin-py/dap-2024/blob/main/rep.ipynb\" target=\"_parent\"><img src=\"https://colab.research.google.com/assets/colab-badge.svg\" alt=\"Open In Colab\"/></a>"
      ]
    },
    {
      "cell_type": "markdown",
      "source": [
        "#**Лабораторная работа №2. Основы Python**\n",
        "**Цель работы:** Научиться основным элементам языка программирования Python и их применению в решении задач\n",
        "## Ход работы\n",
        "\n",
        "Задача 1.\n"
      ],
      "metadata": {
        "id": "xgQRs9fKR8Zf"
      }
    },
    {
      "cell_type": "code",
      "source": [
        "class Solution:\n",
        "    def twoSum(self, nums, target):\n",
        "        for i in range(len(nums)): # Проходим по каждому элементу списка nums с индексом i\n",
        "            for j in range(i + 1, len(nums)): # Для текущего элемента nums[i], проходим по всем последующим элементам с индексом j\n",
        "                if nums[i] + nums[j] == target: # Проверяем, равна ли сумма nums[i] и nums[j] целевому значению target\n",
        "                    return [i, j]\n",
        "\n",
        "nums = [5, 7, 11, 15]\n",
        "target = 26\n",
        "\n",
        "solution = Solution()\n",
        "result = solution.twoSum(nums, target)\n",
        "print(result)\n"
      ],
      "metadata": {
        "id": "bGg31dVXR9pJ",
        "colab": {
          "base_uri": "https://localhost:8080/"
        },
        "outputId": "b7c88077-e539-4137-e99e-e9e839f67f22"
      },
      "execution_count": 1,
      "outputs": [
        {
          "output_type": "stream",
          "name": "stdout",
          "text": [
            "[2, 3]\n"
          ]
        }
      ]
    },
    {
      "cell_type": "markdown",
      "source": [
        "Задача 2."
      ],
      "metadata": {
        "id": "hav11hUSXQHi"
      }
    },
    {
      "cell_type": "code",
      "source": [
        "class Solution(object):\n",
        "    def isPalindrome(self, x):\n",
        "        return str(x) == str(x)[::-1]\n",
        "\n",
        "solution = Solution()\n",
        "print(solution.isPalindrome(121))\n",
        "print(solution.isPalindrome(-121))\n",
        "print(solution.isPalindrome(256))"
      ],
      "metadata": {
        "colab": {
          "base_uri": "https://localhost:8080/"
        },
        "id": "HnI6NvnGXs7W",
        "outputId": "57cab40f-a7f5-4935-8ad7-5b96c4be1057"
      },
      "execution_count": 2,
      "outputs": [
        {
          "output_type": "stream",
          "name": "stdout",
          "text": [
            "True\n",
            "False\n",
            "False\n"
          ]
        }
      ]
    },
    {
      "cell_type": "markdown",
      "source": [
        "Задача 3."
      ],
      "metadata": {
        "id": "xQYY9_R0Xvth"
      }
    },
    {
      "cell_type": "code",
      "source": [
        "class Solution:\n",
        "    def romanToInt(self, s):\n",
        "        roman_to_int = {\n",
        "            'I': 1,\n",
        "            'V': 5,\n",
        "            'X': 10,\n",
        "            'L': 50,\n",
        "            'C': 100,\n",
        "            'D': 500,\n",
        "            'M': 1000\n",
        "        }\n",
        "\n",
        "        sum = 0\n",
        "\n",
        "        for i in range(len(s)): #Проход по каждому символу строки\n",
        "            value = roman_to_int[s[i]]\n",
        "            if i + 1 < len(s) and roman_to_int[s[i + 1]] > value: # Если текущий символ меньше следующего, вычитаем его значение из общей суммы\n",
        "                sum -= value\n",
        "            else:\n",
        "                sum += value\n",
        "        return sum\n",
        "\n",
        "solution = Solution()\n",
        "print(solution.romanToInt(\"XVI\"))\n",
        "print(solution.romanToInt(\"MCMX\"))"
      ],
      "metadata": {
        "colab": {
          "base_uri": "https://localhost:8080/"
        },
        "id": "u0bgz3VbXxPM",
        "outputId": "f7efeed0-db2f-4521-e120-1944ecb5e864"
      },
      "execution_count": 9,
      "outputs": [
        {
          "output_type": "stream",
          "name": "stdout",
          "text": [
            "16\n",
            "1910\n"
          ]
        }
      ]
    },
    {
      "cell_type": "markdown",
      "source": [
        "Задача 4."
      ],
      "metadata": {
        "id": "KN6kns0uYDXQ"
      }
    },
    {
      "cell_type": "code",
      "source": [
        "class Solution(object):\n",
        "    def longestCommonPrefix(self, strs):\n",
        "        prefix = strs[0] #Префикс, равный первому слову\n",
        "\n",
        "        for string in strs[1:]:\n",
        "            while not string.startswith(prefix):\n",
        "                prefix = prefix[:-1]\n",
        "                if not prefix:\n",
        "                    return \"\"\n",
        "        return prefix\n",
        "\n",
        "solution = Solution()\n",
        "print(solution.longestCommonPrefix([\"house\", \"horse\", \"home\"]))\n",
        "print(solution.longestCommonPrefix([\"car\", \"horse\", \"video\"]))\n",
        ""
      ],
      "metadata": {
        "colab": {
          "base_uri": "https://localhost:8080/"
        },
        "id": "5LVv27snYI2q",
        "outputId": "d5e75903-731f-42fb-8e23-6c7929454a57"
      },
      "execution_count": 4,
      "outputs": [
        {
          "output_type": "stream",
          "name": "stdout",
          "text": [
            "ho\n",
            "\n"
          ]
        }
      ]
    },
    {
      "cell_type": "markdown",
      "source": [
        "Задача 5."
      ],
      "metadata": {
        "id": "froTXoAwei5o"
      }
    },
    {
      "cell_type": "code",
      "source": [
        "class ListNode:\n",
        "    def __init__(self, val=0, next=None):\n",
        "        self.val = val\n",
        "        self.next = next\n",
        "\n",
        "class Solution:\n",
        "    def mergeTwoLists(self, list1, list2):\n",
        "        head = ListNode()\n",
        "        current = head\n",
        "\n",
        "        while list1 and list2:\n",
        "            if list1.val < list2.val:\n",
        "                current.next = list1\n",
        "                list1 = list1.next\n",
        "            else:\n",
        "                current.next = list2\n",
        "                list2 = list2.next\n",
        "            current = current.next\n",
        "\n",
        "        if list1:\n",
        "            current.next = list1\n",
        "        elif list2:\n",
        "            current.next = list2\n",
        "\n",
        "        return head.next\n",
        "\n",
        "def print_list(node):\n",
        "    if node is None:\n",
        "        print(\"Empty List\")\n",
        "        return\n",
        "    while node:\n",
        "        if node.next:\n",
        "            print(node.val, end=\" -> \")\n",
        "        else:\n",
        "            print(node.val, end=\"\")\n",
        "        node = node.next\n",
        "    print()\n",
        "\n",
        "list1 = ListNode(1, ListNode(2, ListNode(4)))\n",
        "list2 = ListNode(1, ListNode(3, ListNode(4)))\n",
        "\n",
        "solution = Solution()\n",
        "merged_list = solution.mergeTwoLists(list1, list2)\n",
        "\n",
        "print_list(merged_list)\n"
      ],
      "metadata": {
        "colab": {
          "base_uri": "https://localhost:8080/"
        },
        "id": "lRLbz0a6ejBA",
        "outputId": "81432d7a-2a03-492e-c919-91fb5dfba9df"
      },
      "execution_count": 13,
      "outputs": [
        {
          "output_type": "stream",
          "name": "stdout",
          "text": [
            "1 -> 1 -> 2 -> 3 -> 4 -> 4\n"
          ]
        }
      ]
    },
    {
      "cell_type": "markdown",
      "source": [
        "Задача 6."
      ],
      "metadata": {
        "id": "XwdXuzeTYLhT"
      }
    },
    {
      "cell_type": "code",
      "source": [
        "class Solution:\n",
        "    def lengthOfLongestSubstring(self, s):\n",
        "        last_seen = {}\n",
        "        start = 0\n",
        "        max_length = 0\n",
        "\n",
        "        for i in range(len(s)):\n",
        "            if s[i] in last_seen and last_seen[s[i]] >= start: # Если текущий символ уже встречался и его последний индекс больше или равен началу текущей подстроки\n",
        "                start = last_seen[s[i]] + 1 # Сдвигаем начало текущей подстроки после последнего индекса\n",
        "\n",
        "            last_seen[s[i]] = i\n",
        "\n",
        "            max_length = max(max_length, i - start + 1)\n",
        "\n",
        "        return max_length\n",
        "\n",
        "solution = Solution()\n",
        "print(solution.lengthOfLongestSubstring(\"abcabcbb\"))\n",
        "print(solution.lengthOfLongestSubstring(\"bbbbb\"))\n",
        "print(solution.lengthOfLongestSubstring(\"pwwkew\"))"
      ],
      "metadata": {
        "colab": {
          "base_uri": "https://localhost:8080/"
        },
        "id": "PaUuesNlYMes",
        "outputId": "0dc9c729-83ef-4ba7-ba44-08860b1dcdbd"
      },
      "execution_count": 5,
      "outputs": [
        {
          "output_type": "stream",
          "name": "stdout",
          "text": [
            "3\n",
            "1\n",
            "3\n"
          ]
        }
      ]
    },
    {
      "cell_type": "markdown",
      "source": [
        "# **Вывод:**  \n",
        "Был изучен материал по основным элементам языка программирования Python и получены навыки применения их в решении задач"
      ],
      "metadata": {
        "id": "YmCGO8ixtMWd"
      }
    }
  ]
}