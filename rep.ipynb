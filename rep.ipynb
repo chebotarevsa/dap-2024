{
  "nbformat": 4,
  "nbformat_minor": 0,
  "metadata": {
    "colab": {
      "provenance": [],
      "authorship_tag": "ABX9TyNqD79xMuQBO+IKRzmGrFOq",
      "include_colab_link": true
    },
    "kernelspec": {
      "name": "python3",
      "display_name": "Python 3"
    },
    "language_info": {
      "name": "python"
    }
  },
  "cells": [
    {
      "cell_type": "markdown",
      "metadata": {
        "id": "view-in-github",
        "colab_type": "text"
      },
      "source": [
        "<a href=\"https://colab.research.google.com/github/cherkashin-py/dap-2024/blob/main/rep.ipynb\" target=\"_parent\"><img src=\"https://colab.research.google.com/assets/colab-badge.svg\" alt=\"Open In Colab\"/></a>"
      ]
    },
    {
      "cell_type": "markdown",
      "source": [
        "# Лабораторная работа №1. Подготовка среды для анализа данных\n",
        "\n",
        "\n",
        "\n",
        "1.   Была создана учетная запись в сервисе [GitHub](https://github.com/).\n",
        "2.   Был выполнен [форк репозитория](https://github.com/ill0wl/dap-2024).\n",
        "3.   Была создана учётная запись в [Google Colab](https://colab.research.google.com/).\n",
        "4.   Была настроена интеграция Google Colab и GitHub, а также создан отчёт о выполненой работе с разметкой Markdown (заголовки, списки, форматированный текст, ссылки).\n",
        "5.   Отчёт переименован под именем rep.ipynb и сохранён в репозиторий GitHub\n",
        "6.   Был создан pull-request, имеющий формат \"<Номер лабораторной работы> <Номер группы> <ФИО>\""
      ],
      "metadata": {
        "id": "FQwgYXVUifPk"
      }
    }
  ]
}