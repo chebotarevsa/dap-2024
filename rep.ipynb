{
  "nbformat": 4,
  "nbformat_minor": 0,
  "metadata": {
    "colab": {
      "provenance": [],
      "authorship_tag": "ABX9TyMcx7Hq254di6uxdt8xlxxt",
      "include_colab_link": true
    },
    "kernelspec": {
      "name": "python3",
      "display_name": "Python 3"
    },
    "language_info": {
      "name": "python"
    }
  },
  "cells": [
    {
      "cell_type": "markdown",
      "metadata": {
        "id": "view-in-github",
        "colab_type": "text"
      },
      "source": [
        "<a href=\"https://colab.research.google.com/github/cherkashin-py/dap-2024/blob/main/rep.ipynb\" target=\"_parent\"><img src=\"https://colab.research.google.com/assets/colab-badge.svg\" alt=\"Open In Colab\"/></a>"
      ]
    },
    {
      "cell_type": "markdown",
      "source": [
        "# **Лабораторная работа №3. NumPy**\n",
        "\n",
        "Цель работы: Научиться основным элементам библиотеки NumPy и их применению в решении задач\n",
        "\n"
      ],
      "metadata": {
        "id": "DEslgl_OxbKd"
      }
    },
    {
      "cell_type": "markdown",
      "source": [
        "Задача 1. Создать массив 10x10 со случайными значениями, найти минимум и максимум (низкая)"
      ],
      "metadata": {
        "id": "zUaRGZyNyNt4"
      }
    },
    {
      "cell_type": "code",
      "source": [
        "import numpy as np\n",
        "\n",
        "# Создаем массив 10x10 со случайными значениями\n",
        "array = np.random.randint(-50, 50, size=(10, 10))\n",
        "\n",
        "# Находим минимум и максимум\n",
        "min_value = np.min(array)\n",
        "max_value = np.max(array)\n",
        "\n",
        "print(\"Массив 10x10:\\n\", array)\n",
        "print(\"Минимальное значение:\", min_value)\n",
        "print(\"Максимальное значение:\", max_value)"
      ],
      "metadata": {
        "colab": {
          "base_uri": "https://localhost:8080/"
        },
        "id": "bhQw16RDyC6Z",
        "outputId": "d4db9ecf-d9a2-4fb1-e81c-71a4c024934d"
      },
      "execution_count": 19,
      "outputs": [
        {
          "output_type": "stream",
          "name": "stdout",
          "text": [
            "Массив 10x10:\n",
            " [[-17  31 -35   7  18  40 -34  -7  34 -38]\n",
            " [-11  -5  46  32 -10  16 -47 -44 -17  48]\n",
            " [-28 -14  44  16  39  18  10 -12 -42 -41]\n",
            " [-26  25  42 -30  35 -20  40   8  43  27]\n",
            " [-45 -32  -6  -3   1 -21 -42 -26  16 -31]\n",
            " [ 35  12  -3  45   9  -3  31 -23 -26  16]\n",
            " [-15 -45  19  17  45 -28  36  31   7  40]\n",
            " [  2 -28  25   0   2 -22  46  31  22 -24]\n",
            " [-21 -17  32  39  12  -7   5  32   8 -42]\n",
            " [-34  11 -10  31 -21  22 -21  30 -41  37]]\n",
            "Минимальное значение: -47\n",
            "Максимальное значение: 48\n"
          ]
        }
      ]
    },
    {
      "cell_type": "markdown",
      "source": [
        "Задача 2. Создать 8x8 матрицу и заполнить её единицами и нулями в шахматном порядке"
      ],
      "metadata": {
        "id": "Cfg61i2syPQ8"
      }
    },
    {
      "cell_type": "code",
      "source": [
        "import numpy as np\n",
        "\n",
        "# Создаем 8x8 матрицу и заполняем ее в шахматном порядке\n",
        "chessboard = np.zeros((8, 8), dtype=int)\n",
        "chessboard[1::2, ::2] = 1  # Заполняем единицами на четных столбцах для нечетных строк\n",
        "chessboard[::2, 1::2] = 1  # Заполняем единицами на нечетных столбцах для четных строк\n",
        "\n",
        "print(chessboard)"
      ],
      "metadata": {
        "colab": {
          "base_uri": "https://localhost:8080/"
        },
        "id": "Kr4fmcNkyXbH",
        "outputId": "f42cba05-648c-4b76-921a-7a74dc4afe5c"
      },
      "execution_count": 5,
      "outputs": [
        {
          "output_type": "stream",
          "name": "stdout",
          "text": [
            "[[0 1 0 1 0 1 0 1]\n",
            " [1 0 1 0 1 0 1 0]\n",
            " [0 1 0 1 0 1 0 1]\n",
            " [1 0 1 0 1 0 1 0]\n",
            " [0 1 0 1 0 1 0 1]\n",
            " [1 0 1 0 1 0 1 0]\n",
            " [0 1 0 1 0 1 0 1]\n",
            " [1 0 1 0 1 0 1 0]]\n"
          ]
        }
      ]
    },
    {
      "cell_type": "markdown",
      "source": [
        "Задача 3. Дан массив из 11 элементов, поменять знак у элементов, значения которых между 3 и 8"
      ],
      "metadata": {
        "id": "254oJI7HzHl6"
      }
    },
    {
      "cell_type": "code",
      "source": [
        "import numpy as np\n",
        "\n",
        "z = np.arange(11)\n",
        "print(\"Исходный массив:\", z)\n",
        "z[(z > 3) & (z < 8)] *= -1\n",
        "print(\"Измененный массив:\", z)"
      ],
      "metadata": {
        "colab": {
          "base_uri": "https://localhost:8080/"
        },
        "id": "n99vvdCJzM_4",
        "outputId": "a0f3b330-ba83-4921-de46-eac6a98cf5eb"
      },
      "execution_count": 21,
      "outputs": [
        {
          "output_type": "stream",
          "name": "stdout",
          "text": [
            "Исходный массив: [ 0  1  2  3  4  5  6  7  8  9 10]\n",
            "Измененный массив: [ 0  1  2  3 -4 -5 -6 -7  8  9 10]\n"
          ]
        }
      ]
    },
    {
      "cell_type": "markdown",
      "source": [
        "Задача 4. Найти среднее заначение строки матрицы и вычесть его из каждого элемента строки"
      ],
      "metadata": {
        "id": "U8B0qcGXzcjy"
      }
    },
    {
      "cell_type": "code",
      "source": [
        "import numpy as np\n",
        "\n",
        "z = np.random.randint(0, 100, size=(5, 10))\n",
        "print(\"Исходная матрица:\\n\", z)\n",
        "\n",
        "# Находим среднее значение каждой строки\n",
        "row_means = np.mean(z, axis=1)\n",
        "\n",
        "# Вычитаем среднее значение из каждой строки\n",
        "adjusted_z = z - row_means[:, np.newaxis]\n",
        "\n",
        "print(\"Матрица после вычитания среднего значения:\\n\", adjusted_z)\n"
      ],
      "metadata": {
        "colab": {
          "base_uri": "https://localhost:8080/"
        },
        "id": "mrqYtu5Dzg-O",
        "outputId": "7ea69119-cf56-4d2d-f4f5-99378f177e81"
      },
      "execution_count": 23,
      "outputs": [
        {
          "output_type": "stream",
          "name": "stdout",
          "text": [
            "Исходная матрица:\n",
            " [[56 88 94 65 41 32 50 55 94 63]\n",
            " [69 58 10 78 71 68 45 12 37 61]\n",
            " [31 94 76 69  1 47 86 18 85 11]\n",
            " [14 29 12 20 32 82  5 94 98 71]\n",
            " [ 5 96  8  3  0  9 32 33 97 23]]\n",
            "Матрица после вычитания среднего значения:\n",
            " [[ -7.8  24.2  30.2   1.2 -22.8 -31.8 -13.8  -8.8  30.2  -0.8]\n",
            " [ 18.1   7.1 -40.9  27.1  20.1  17.1  -5.9 -38.9 -13.9  10.1]\n",
            " [-20.8  42.2  24.2  17.2 -50.8  -4.8  34.2 -33.8  33.2 -40.8]\n",
            " [-31.7 -16.7 -33.7 -25.7 -13.7  36.3 -40.7  48.3  52.3  25.3]\n",
            " [-25.6  65.4 -22.6 -27.6 -30.6 -21.6   1.4   2.4  66.4  -7.6]]\n"
          ]
        }
      ]
    },
    {
      "cell_type": "markdown",
      "source": [
        "Задача 5. Поменяйте 1 и 2 строки матрицы"
      ],
      "metadata": {
        "id": "JSKYeUlO0hWB"
      }
    },
    {
      "cell_type": "code",
      "source": [
        "import numpy as np\n",
        "\n",
        "z = np.arange(25).reshape(5, 5)\n",
        "print(\"Исходная матрица:\\n\", z)\n",
        "\n",
        "# Меняем 1-ю и 2-ю строки местами\n",
        "z[[0, 1]] = z[[1, 0]]\n",
        "print(\"Матрица после замены строк:\\n\", z)\n"
      ],
      "metadata": {
        "colab": {
          "base_uri": "https://localhost:8080/"
        },
        "id": "3rmwNSnr0kQD",
        "outputId": "478f4a90-b87d-42a0-d16c-6dc419b75c6d"
      },
      "execution_count": 25,
      "outputs": [
        {
          "output_type": "stream",
          "name": "stdout",
          "text": [
            "Исходная матрица:\n",
            " [[ 0  1  2  3  4]\n",
            " [ 5  6  7  8  9]\n",
            " [10 11 12 13 14]\n",
            " [15 16 17 18 19]\n",
            " [20 21 22 23 24]]\n",
            "Матрица после замены строк:\n",
            " [[ 5  6  7  8  9]\n",
            " [ 0  1  2  3  4]\n",
            " [10 11 12 13 14]\n",
            " [15 16 17 18 19]\n",
            " [20 21 22 23 24]]\n"
          ]
        }
      ]
    },
    {
      "cell_type": "markdown",
      "source": [
        "Задача 6. Дан массив 10x2 подеставлющий собой точки в декартовой системе координат, преобразовать в полярную"
      ],
      "metadata": {
        "id": "PrbLTBuv05wQ"
      }
    },
    {
      "cell_type": "code",
      "source": [
        "import numpy as np\n",
        "\n",
        "z = np.random.randint(0, 100, size=(10, 2))\n",
        "print(\"Декартовые координаты:\\n\", z)\n",
        "\n",
        "# Преобразуем в полярные координаты\n",
        "r = np.sqrt(z[:, 0]**2 + z[:, 1]**2)  # Радиус\n",
        "theta = np.arctan2(z[:, 1], z[:, 0])  # Угол в радианах\n",
        "\n",
        "# Собираем полярные координаты в один массив\n",
        "polar_coordinates = np.column_stack((r, theta))\n",
        "\n",
        "print(\"Полярные координаты (радиус, угол):\\n\", polar_coordinates)\n"
      ],
      "metadata": {
        "colab": {
          "base_uri": "https://localhost:8080/"
        },
        "id": "vg7U1zRZ1KnY",
        "outputId": "1be4cba6-3a79-472b-f680-fdd9d93cac05"
      },
      "execution_count": 27,
      "outputs": [
        {
          "output_type": "stream",
          "name": "stdout",
          "text": [
            "Декартовые координаты:\n",
            " [[72 61]\n",
            " [21 44]\n",
            " [49 41]\n",
            " [11 93]\n",
            " [31 10]\n",
            " [74 92]\n",
            " [31  3]\n",
            " [55  8]\n",
            " [77 43]\n",
            " [73 71]]\n",
            "Полярные координаты (радиус, угол):\n",
            " [[9.43663075e+01 7.02879209e-01]\n",
            " [4.87544870e+01 1.12549528e+00]\n",
            " [6.38905314e+01 6.96742282e-01]\n",
            " [9.36482781e+01 1.45306375e+00]\n",
            " [3.25729949e+01 3.12042122e-01]\n",
            " [1.18067777e+02 8.93409888e-01]\n",
            " [3.11448230e+01 9.64737752e-02]\n",
            " [5.55787729e+01 1.44441578e-01]\n",
            " [8.81929702e+01 5.09301144e-01]\n",
            " [1.01833197e+02 7.71510167e-01]]\n"
          ]
        }
      ]
    },
    {
      "cell_type": "markdown",
      "source": [
        "Задача 7. Заменить максимальный элемент массива на ноль"
      ],
      "metadata": {
        "id": "6IAXwlsj1guI"
      }
    },
    {
      "cell_type": "code",
      "source": [
        "import numpy as np\n",
        "\n",
        "z = np.random.randint(0, 100, size=10)\n",
        "print(\"Исходный массив:\", z)\n",
        "max_index = np.argmax(z)\n",
        "z[max_index] = 0\n",
        "\n",
        "print(\"Измененный массив:\", z)\n"
      ],
      "metadata": {
        "colab": {
          "base_uri": "https://localhost:8080/"
        },
        "id": "OG_5n_CD1ksn",
        "outputId": "105f9717-2fca-4455-a817-33d0bed0b7c4"
      },
      "execution_count": 29,
      "outputs": [
        {
          "output_type": "stream",
          "name": "stdout",
          "text": [
            "Исходный массив: [85 20 42 57 56 89 40 93 15 68]\n",
            "Измененный массив: [85 20 42 57 56 89 40  0 15 68]\n"
          ]
        }
      ]
    },
    {
      "cell_type": "markdown",
      "source": [
        "Задача 8. Дан массив, добавить 1 к каждому элементу с индексом, заданным в другом массиве. Добавление производиться только 1 раз"
      ],
      "metadata": {
        "id": "QQ1CrEr511n1"
      }
    },
    {
      "cell_type": "code",
      "source": [
        "import numpy as np\n",
        "\n",
        "z = np.ones(10)\n",
        "print(\"Исходный массив:\", z)\n",
        "\n",
        "# Генерация массива индексов\n",
        "i = np.random.randint(0, len(z), 20)\n",
        "print(\"Сгенерированные индексы:\", i)\n",
        "\n",
        "# Получаем уникальные индексы\n",
        "unique_indices = np.unique(i)\n",
        "\n",
        "# Добавляем 1 к элементам по уникальным индексам\n",
        "z[unique_indices] += 1\n",
        "print(\"Измененный массив:\", z)\n"
      ],
      "metadata": {
        "colab": {
          "base_uri": "https://localhost:8080/"
        },
        "id": "ZjehKih02A6s",
        "outputId": "c81c0eb0-8148-48a5-ea46-c9cc9ed277ad"
      },
      "execution_count": 32,
      "outputs": [
        {
          "output_type": "stream",
          "name": "stdout",
          "text": [
            "Исходный массив: [1. 1. 1. 1. 1. 1. 1. 1. 1. 1.]\n",
            "Сгенерированные индексы: [3 4 3 4 2 0 5 3 6 2 2 3 0 2 2 3 2 5 8 5]\n",
            "Измененный массив: [2. 1. 2. 2. 2. 2. 2. 1. 2. 1.]\n"
          ]
        }
      ]
    },
    {
      "cell_type": "markdown",
      "source": [
        "Задача 9. Дан вектор [1, 2, 3, 4, 5], построить новый вектор с тремя нулями между каждым значением"
      ],
      "metadata": {
        "id": "_dwnzN4P215I"
      }
    },
    {
      "cell_type": "code",
      "source": [
        "import numpy as np\n",
        "\n",
        "z = np.array([1, 2, 3, 4, 5])\n",
        "\n",
        "# Создаем новый вектор с тремя нулями между каждым значением\n",
        "new_length = len(z) + (len(z) - 1) * 3  # Длина нового вектора\n",
        "new_vector = np.zeros(new_length)         # Создаем массив нулей\n",
        "\n",
        "# Заполняем новый вектор значениями из исходного\n",
        "new_vector[::4] = z  # Каждое 4-е значение - это элемент из z\n",
        "\n",
        "print(\"Новый вектор:\", new_vector)\n"
      ],
      "metadata": {
        "colab": {
          "base_uri": "https://localhost:8080/"
        },
        "id": "V6mMV7l83DJl",
        "outputId": "e1d0434f-95c7-4585-a38a-236bde108ff3"
      },
      "execution_count": 33,
      "outputs": [
        {
          "output_type": "stream",
          "name": "stdout",
          "text": [
            "Новый вектор: [1. 0. 0. 0. 2. 0. 0. 0. 3. 0. 0. 0. 4. 0. 0. 0. 5.]\n"
          ]
        }
      ]
    },
    {
      "cell_type": "markdown",
      "source": [
        "Задача 10. Найти ближайшее к заданному значению число в заданном массиве"
      ],
      "metadata": {
        "id": "VT1b3rcE3Mi2"
      }
    },
    {
      "cell_type": "code",
      "source": [
        "import numpy as np\n",
        "\n",
        "z = np.arange(100)\n",
        "\n",
        "# Генерируем случайное число в диапазоне от 0 до 100\n",
        "v = np.random.uniform(0, 100)\n",
        "\n",
        "print(\"Заданное число:\", v)\n",
        "\n",
        "# Находим индекс ближайшего числа в массиве z\n",
        "index = np.argmin(np.abs(z - v))\n",
        "\n",
        "# Находим ближайшее значение\n",
        "closest_value = z[index]\n",
        "\n",
        "print(\"Ближайшее число в массиве:\", closest_value)\n"
      ],
      "metadata": {
        "colab": {
          "base_uri": "https://localhost:8080/"
        },
        "id": "kRNFc-Lv3PkJ",
        "outputId": "47cb7dc3-728b-49a4-b64d-7502c19c0842"
      },
      "execution_count": 40,
      "outputs": [
        {
          "output_type": "stream",
          "name": "stdout",
          "text": [
            "Заданное число: 51.60688031714577\n",
            "Ближайшее число в массиве: 52\n"
          ]
        }
      ]
    },
    {
      "cell_type": "markdown",
      "source": [
        "# **Вывод:**\n",
        "Были изученые основные элементы библиотеки NumPy и их применение в решении задач"
      ],
      "metadata": {
        "id": "G15nIa9w4fud"
      }
    }
  ]
}